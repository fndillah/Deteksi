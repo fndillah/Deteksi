{
  "nbformat": 4,
  "nbformat_minor": 0,
  "metadata": {
    "colab": {
      "provenance": []
    },
    "kernelspec": {
      "name": "python3",
      "display_name": "Python 3"
    },
    "language_info": {
      "name": "python"
    }
  },
  "cells": [
    {
      "cell_type": "markdown",
      "source": [
        "**Import Library**"
      ],
      "metadata": {
        "id": "tTR4iVBYVIgr"
      }
    },
    {
      "cell_type": "code",
      "execution_count": null,
      "metadata": {
        "id": "1Syobu1mN8Vh"
      },
      "outputs": [],
      "source": [
        "import numpy as np\n",
        "import pandas as pd\n",
        "import seaborn as sns\n",
        "import matplotlib.pyplot as plt\n",
        "from scipy import stats\n",
        "from sklearn.preprocessing import StandardScaler\n",
        "from sklearn.model_selection import train_test_split"
      ]
    },
    {
      "cell_type": "code",
      "source": [
        "diabetes_df=pd.read_csv(\"diabetes.csv\")"
      ],
      "metadata": {
        "id": "mPCAk3-STVtC"
      },
      "execution_count": null,
      "outputs": []
    },
    {
      "cell_type": "code",
      "source": [
        "diabetes_df.head()"
      ],
      "metadata": {
        "colab": {
          "base_uri": "https://localhost:8080/",
          "height": 206
        },
        "id": "pApRVee8UMCz",
        "outputId": "f2292fe9-8a93-4d2b-990c-048003e054b4"
      },
      "execution_count": null,
      "outputs": [
        {
          "output_type": "execute_result",
          "data": {
            "text/plain": [
              "   Pregnancies  Glucose  BloodPressure  SkinThickness  Insulin   BMI  \\\n",
              "0            6      148             72             35        0  33.6   \n",
              "1            1       85             66             29        0  26.6   \n",
              "2            8      183             64              0        0  23.3   \n",
              "3            1       89             66             23       94  28.1   \n",
              "4            0      137             40             35      168  43.1   \n",
              "\n",
              "   DiabetesPedigreeFunction  Age  Outcome  \n",
              "0                     0.627   50        1  \n",
              "1                     0.351   31        0  \n",
              "2                     0.672   32        1  \n",
              "3                     0.167   21        0  \n",
              "4                     2.288   33        1  "
            ],
            "text/html": [
              "\n",
              "  <div id=\"df-88a9d4d0-3a4f-4c4c-b1d5-1f6af72cbda2\" class=\"colab-df-container\">\n",
              "    <div>\n",
              "<style scoped>\n",
              "    .dataframe tbody tr th:only-of-type {\n",
              "        vertical-align: middle;\n",
              "    }\n",
              "\n",
              "    .dataframe tbody tr th {\n",
              "        vertical-align: top;\n",
              "    }\n",
              "\n",
              "    .dataframe thead th {\n",
              "        text-align: right;\n",
              "    }\n",
              "</style>\n",
              "<table border=\"1\" class=\"dataframe\">\n",
              "  <thead>\n",
              "    <tr style=\"text-align: right;\">\n",
              "      <th></th>\n",
              "      <th>Pregnancies</th>\n",
              "      <th>Glucose</th>\n",
              "      <th>BloodPressure</th>\n",
              "      <th>SkinThickness</th>\n",
              "      <th>Insulin</th>\n",
              "      <th>BMI</th>\n",
              "      <th>DiabetesPedigreeFunction</th>\n",
              "      <th>Age</th>\n",
              "      <th>Outcome</th>\n",
              "    </tr>\n",
              "  </thead>\n",
              "  <tbody>\n",
              "    <tr>\n",
              "      <th>0</th>\n",
              "      <td>6</td>\n",
              "      <td>148</td>\n",
              "      <td>72</td>\n",
              "      <td>35</td>\n",
              "      <td>0</td>\n",
              "      <td>33.6</td>\n",
              "      <td>0.627</td>\n",
              "      <td>50</td>\n",
              "      <td>1</td>\n",
              "    </tr>\n",
              "    <tr>\n",
              "      <th>1</th>\n",
              "      <td>1</td>\n",
              "      <td>85</td>\n",
              "      <td>66</td>\n",
              "      <td>29</td>\n",
              "      <td>0</td>\n",
              "      <td>26.6</td>\n",
              "      <td>0.351</td>\n",
              "      <td>31</td>\n",
              "      <td>0</td>\n",
              "    </tr>\n",
              "    <tr>\n",
              "      <th>2</th>\n",
              "      <td>8</td>\n",
              "      <td>183</td>\n",
              "      <td>64</td>\n",
              "      <td>0</td>\n",
              "      <td>0</td>\n",
              "      <td>23.3</td>\n",
              "      <td>0.672</td>\n",
              "      <td>32</td>\n",
              "      <td>1</td>\n",
              "    </tr>\n",
              "    <tr>\n",
              "      <th>3</th>\n",
              "      <td>1</td>\n",
              "      <td>89</td>\n",
              "      <td>66</td>\n",
              "      <td>23</td>\n",
              "      <td>94</td>\n",
              "      <td>28.1</td>\n",
              "      <td>0.167</td>\n",
              "      <td>21</td>\n",
              "      <td>0</td>\n",
              "    </tr>\n",
              "    <tr>\n",
              "      <th>4</th>\n",
              "      <td>0</td>\n",
              "      <td>137</td>\n",
              "      <td>40</td>\n",
              "      <td>35</td>\n",
              "      <td>168</td>\n",
              "      <td>43.1</td>\n",
              "      <td>2.288</td>\n",
              "      <td>33</td>\n",
              "      <td>1</td>\n",
              "    </tr>\n",
              "  </tbody>\n",
              "</table>\n",
              "</div>\n",
              "    <div class=\"colab-df-buttons\">\n",
              "\n",
              "  <div class=\"colab-df-container\">\n",
              "    <button class=\"colab-df-convert\" onclick=\"convertToInteractive('df-88a9d4d0-3a4f-4c4c-b1d5-1f6af72cbda2')\"\n",
              "            title=\"Convert this dataframe to an interactive table.\"\n",
              "            style=\"display:none;\">\n",
              "\n",
              "  <svg xmlns=\"http://www.w3.org/2000/svg\" height=\"24px\" viewBox=\"0 -960 960 960\">\n",
              "    <path d=\"M120-120v-720h720v720H120Zm60-500h600v-160H180v160Zm220 220h160v-160H400v160Zm0 220h160v-160H400v160ZM180-400h160v-160H180v160Zm440 0h160v-160H620v160ZM180-180h160v-160H180v160Zm440 0h160v-160H620v160Z\"/>\n",
              "  </svg>\n",
              "    </button>\n",
              "\n",
              "  <style>\n",
              "    .colab-df-container {\n",
              "      display:flex;\n",
              "      gap: 12px;\n",
              "    }\n",
              "\n",
              "    .colab-df-convert {\n",
              "      background-color: #E8F0FE;\n",
              "      border: none;\n",
              "      border-radius: 50%;\n",
              "      cursor: pointer;\n",
              "      display: none;\n",
              "      fill: #1967D2;\n",
              "      height: 32px;\n",
              "      padding: 0 0 0 0;\n",
              "      width: 32px;\n",
              "    }\n",
              "\n",
              "    .colab-df-convert:hover {\n",
              "      background-color: #E2EBFA;\n",
              "      box-shadow: 0px 1px 2px rgba(60, 64, 67, 0.3), 0px 1px 3px 1px rgba(60, 64, 67, 0.15);\n",
              "      fill: #174EA6;\n",
              "    }\n",
              "\n",
              "    .colab-df-buttons div {\n",
              "      margin-bottom: 4px;\n",
              "    }\n",
              "\n",
              "    [theme=dark] .colab-df-convert {\n",
              "      background-color: #3B4455;\n",
              "      fill: #D2E3FC;\n",
              "    }\n",
              "\n",
              "    [theme=dark] .colab-df-convert:hover {\n",
              "      background-color: #434B5C;\n",
              "      box-shadow: 0px 1px 3px 1px rgba(0, 0, 0, 0.15);\n",
              "      filter: drop-shadow(0px 1px 2px rgba(0, 0, 0, 0.3));\n",
              "      fill: #FFFFFF;\n",
              "    }\n",
              "  </style>\n",
              "\n",
              "    <script>\n",
              "      const buttonEl =\n",
              "        document.querySelector('#df-88a9d4d0-3a4f-4c4c-b1d5-1f6af72cbda2 button.colab-df-convert');\n",
              "      buttonEl.style.display =\n",
              "        google.colab.kernel.accessAllowed ? 'block' : 'none';\n",
              "\n",
              "      async function convertToInteractive(key) {\n",
              "        const element = document.querySelector('#df-88a9d4d0-3a4f-4c4c-b1d5-1f6af72cbda2');\n",
              "        const dataTable =\n",
              "          await google.colab.kernel.invokeFunction('convertToInteractive',\n",
              "                                                    [key], {});\n",
              "        if (!dataTable) return;\n",
              "\n",
              "        const docLinkHtml = 'Like what you see? Visit the ' +\n",
              "          '<a target=\"_blank\" href=https://colab.research.google.com/notebooks/data_table.ipynb>data table notebook</a>'\n",
              "          + ' to learn more about interactive tables.';\n",
              "        element.innerHTML = '';\n",
              "        dataTable['output_type'] = 'display_data';\n",
              "        await google.colab.output.renderOutput(dataTable, element);\n",
              "        const docLink = document.createElement('div');\n",
              "        docLink.innerHTML = docLinkHtml;\n",
              "        element.appendChild(docLink);\n",
              "      }\n",
              "    </script>\n",
              "  </div>\n",
              "\n",
              "\n",
              "<div id=\"df-0cd44a8f-6bfa-49a6-b9aa-1a81c01affe6\">\n",
              "  <button class=\"colab-df-quickchart\" onclick=\"quickchart('df-0cd44a8f-6bfa-49a6-b9aa-1a81c01affe6')\"\n",
              "            title=\"Suggest charts\"\n",
              "            style=\"display:none;\">\n",
              "\n",
              "<svg xmlns=\"http://www.w3.org/2000/svg\" height=\"24px\"viewBox=\"0 0 24 24\"\n",
              "     width=\"24px\">\n",
              "    <g>\n",
              "        <path d=\"M19 3H5c-1.1 0-2 .9-2 2v14c0 1.1.9 2 2 2h14c1.1 0 2-.9 2-2V5c0-1.1-.9-2-2-2zM9 17H7v-7h2v7zm4 0h-2V7h2v10zm4 0h-2v-4h2v4z\"/>\n",
              "    </g>\n",
              "</svg>\n",
              "  </button>\n",
              "\n",
              "<style>\n",
              "  .colab-df-quickchart {\n",
              "      --bg-color: #E8F0FE;\n",
              "      --fill-color: #1967D2;\n",
              "      --hover-bg-color: #E2EBFA;\n",
              "      --hover-fill-color: #174EA6;\n",
              "      --disabled-fill-color: #AAA;\n",
              "      --disabled-bg-color: #DDD;\n",
              "  }\n",
              "\n",
              "  [theme=dark] .colab-df-quickchart {\n",
              "      --bg-color: #3B4455;\n",
              "      --fill-color: #D2E3FC;\n",
              "      --hover-bg-color: #434B5C;\n",
              "      --hover-fill-color: #FFFFFF;\n",
              "      --disabled-bg-color: #3B4455;\n",
              "      --disabled-fill-color: #666;\n",
              "  }\n",
              "\n",
              "  .colab-df-quickchart {\n",
              "    background-color: var(--bg-color);\n",
              "    border: none;\n",
              "    border-radius: 50%;\n",
              "    cursor: pointer;\n",
              "    display: none;\n",
              "    fill: var(--fill-color);\n",
              "    height: 32px;\n",
              "    padding: 0;\n",
              "    width: 32px;\n",
              "  }\n",
              "\n",
              "  .colab-df-quickchart:hover {\n",
              "    background-color: var(--hover-bg-color);\n",
              "    box-shadow: 0 1px 2px rgba(60, 64, 67, 0.3), 0 1px 3px 1px rgba(60, 64, 67, 0.15);\n",
              "    fill: var(--button-hover-fill-color);\n",
              "  }\n",
              "\n",
              "  .colab-df-quickchart-complete:disabled,\n",
              "  .colab-df-quickchart-complete:disabled:hover {\n",
              "    background-color: var(--disabled-bg-color);\n",
              "    fill: var(--disabled-fill-color);\n",
              "    box-shadow: none;\n",
              "  }\n",
              "\n",
              "  .colab-df-spinner {\n",
              "    border: 2px solid var(--fill-color);\n",
              "    border-color: transparent;\n",
              "    border-bottom-color: var(--fill-color);\n",
              "    animation:\n",
              "      spin 1s steps(1) infinite;\n",
              "  }\n",
              "\n",
              "  @keyframes spin {\n",
              "    0% {\n",
              "      border-color: transparent;\n",
              "      border-bottom-color: var(--fill-color);\n",
              "      border-left-color: var(--fill-color);\n",
              "    }\n",
              "    20% {\n",
              "      border-color: transparent;\n",
              "      border-left-color: var(--fill-color);\n",
              "      border-top-color: var(--fill-color);\n",
              "    }\n",
              "    30% {\n",
              "      border-color: transparent;\n",
              "      border-left-color: var(--fill-color);\n",
              "      border-top-color: var(--fill-color);\n",
              "      border-right-color: var(--fill-color);\n",
              "    }\n",
              "    40% {\n",
              "      border-color: transparent;\n",
              "      border-right-color: var(--fill-color);\n",
              "      border-top-color: var(--fill-color);\n",
              "    }\n",
              "    60% {\n",
              "      border-color: transparent;\n",
              "      border-right-color: var(--fill-color);\n",
              "    }\n",
              "    80% {\n",
              "      border-color: transparent;\n",
              "      border-right-color: var(--fill-color);\n",
              "      border-bottom-color: var(--fill-color);\n",
              "    }\n",
              "    90% {\n",
              "      border-color: transparent;\n",
              "      border-bottom-color: var(--fill-color);\n",
              "    }\n",
              "  }\n",
              "</style>\n",
              "\n",
              "  <script>\n",
              "    async function quickchart(key) {\n",
              "      const quickchartButtonEl =\n",
              "        document.querySelector('#' + key + ' button');\n",
              "      quickchartButtonEl.disabled = true;  // To prevent multiple clicks.\n",
              "      quickchartButtonEl.classList.add('colab-df-spinner');\n",
              "      try {\n",
              "        const charts = await google.colab.kernel.invokeFunction(\n",
              "            'suggestCharts', [key], {});\n",
              "      } catch (error) {\n",
              "        console.error('Error during call to suggestCharts:', error);\n",
              "      }\n",
              "      quickchartButtonEl.classList.remove('colab-df-spinner');\n",
              "      quickchartButtonEl.classList.add('colab-df-quickchart-complete');\n",
              "    }\n",
              "    (() => {\n",
              "      let quickchartButtonEl =\n",
              "        document.querySelector('#df-0cd44a8f-6bfa-49a6-b9aa-1a81c01affe6 button');\n",
              "      quickchartButtonEl.style.display =\n",
              "        google.colab.kernel.accessAllowed ? 'block' : 'none';\n",
              "    })();\n",
              "  </script>\n",
              "</div>\n",
              "    </div>\n",
              "  </div>\n"
            ],
            "application/vnd.google.colaboratory.intrinsic+json": {
              "type": "dataframe",
              "variable_name": "diabetes_df",
              "summary": "{\n  \"name\": \"diabetes_df\",\n  \"rows\": 768,\n  \"fields\": [\n    {\n      \"column\": \"Pregnancies\",\n      \"properties\": {\n        \"dtype\": \"number\",\n        \"std\": 3,\n        \"min\": 0,\n        \"max\": 17,\n        \"num_unique_values\": 17,\n        \"samples\": [\n          6,\n          1,\n          3\n        ],\n        \"semantic_type\": \"\",\n        \"description\": \"\"\n      }\n    },\n    {\n      \"column\": \"Glucose\",\n      \"properties\": {\n        \"dtype\": \"number\",\n        \"std\": 31,\n        \"min\": 0,\n        \"max\": 199,\n        \"num_unique_values\": 136,\n        \"samples\": [\n          151,\n          101,\n          112\n        ],\n        \"semantic_type\": \"\",\n        \"description\": \"\"\n      }\n    },\n    {\n      \"column\": \"BloodPressure\",\n      \"properties\": {\n        \"dtype\": \"number\",\n        \"std\": 19,\n        \"min\": 0,\n        \"max\": 122,\n        \"num_unique_values\": 47,\n        \"samples\": [\n          86,\n          46,\n          85\n        ],\n        \"semantic_type\": \"\",\n        \"description\": \"\"\n      }\n    },\n    {\n      \"column\": \"SkinThickness\",\n      \"properties\": {\n        \"dtype\": \"number\",\n        \"std\": 15,\n        \"min\": 0,\n        \"max\": 99,\n        \"num_unique_values\": 51,\n        \"samples\": [\n          7,\n          12,\n          48\n        ],\n        \"semantic_type\": \"\",\n        \"description\": \"\"\n      }\n    },\n    {\n      \"column\": \"Insulin\",\n      \"properties\": {\n        \"dtype\": \"number\",\n        \"std\": 115,\n        \"min\": 0,\n        \"max\": 846,\n        \"num_unique_values\": 186,\n        \"samples\": [\n          52,\n          41,\n          183\n        ],\n        \"semantic_type\": \"\",\n        \"description\": \"\"\n      }\n    },\n    {\n      \"column\": \"BMI\",\n      \"properties\": {\n        \"dtype\": \"number\",\n        \"std\": 7.884160320375446,\n        \"min\": 0.0,\n        \"max\": 67.1,\n        \"num_unique_values\": 248,\n        \"samples\": [\n          19.9,\n          31.0,\n          38.1\n        ],\n        \"semantic_type\": \"\",\n        \"description\": \"\"\n      }\n    },\n    {\n      \"column\": \"DiabetesPedigreeFunction\",\n      \"properties\": {\n        \"dtype\": \"number\",\n        \"std\": 0.3313285950127749,\n        \"min\": 0.078,\n        \"max\": 2.42,\n        \"num_unique_values\": 517,\n        \"samples\": [\n          1.731,\n          0.426,\n          0.138\n        ],\n        \"semantic_type\": \"\",\n        \"description\": \"\"\n      }\n    },\n    {\n      \"column\": \"Age\",\n      \"properties\": {\n        \"dtype\": \"number\",\n        \"std\": 11,\n        \"min\": 21,\n        \"max\": 81,\n        \"num_unique_values\": 52,\n        \"samples\": [\n          60,\n          47,\n          72\n        ],\n        \"semantic_type\": \"\",\n        \"description\": \"\"\n      }\n    },\n    {\n      \"column\": \"Outcome\",\n      \"properties\": {\n        \"dtype\": \"number\",\n        \"std\": 0,\n        \"min\": 0,\n        \"max\": 1,\n        \"num_unique_values\": 2,\n        \"samples\": [\n          0,\n          1\n        ],\n        \"semantic_type\": \"\",\n        \"description\": \"\"\n      }\n    }\n  ]\n}"
            }
          },
          "metadata": {},
          "execution_count": 47
        }
      ]
    },
    {
      "cell_type": "code",
      "source": [
        "diabetes_df.shape"
      ],
      "metadata": {
        "colab": {
          "base_uri": "https://localhost:8080/"
        },
        "id": "2Ba8a2AxUhw_",
        "outputId": "5299edb6-8595-4c2f-a64e-a0d888570c5c"
      },
      "execution_count": null,
      "outputs": [
        {
          "output_type": "execute_result",
          "data": {
            "text/plain": [
              "(768, 9)"
            ]
          },
          "metadata": {},
          "execution_count": 6
        }
      ]
    },
    {
      "cell_type": "markdown",
      "source": [
        "**EDA**"
      ],
      "metadata": {
        "id": "A-s_D1eSUvFL"
      }
    },
    {
      "cell_type": "code",
      "source": [
        "diabetes_df.info()"
      ],
      "metadata": {
        "colab": {
          "base_uri": "https://localhost:8080/"
        },
        "id": "K3ODWPzgUvUR",
        "outputId": "9604c4a0-e7bb-4af6-d21c-7b898f00dfcb"
      },
      "execution_count": null,
      "outputs": [
        {
          "output_type": "stream",
          "name": "stdout",
          "text": [
            "<class 'pandas.core.frame.DataFrame'>\n",
            "RangeIndex: 768 entries, 0 to 767\n",
            "Data columns (total 9 columns):\n",
            " #   Column                    Non-Null Count  Dtype  \n",
            "---  ------                    --------------  -----  \n",
            " 0   Pregnancies               768 non-null    int64  \n",
            " 1   Glucose                   768 non-null    int64  \n",
            " 2   BloodPressure             768 non-null    int64  \n",
            " 3   SkinThickness             768 non-null    int64  \n",
            " 4   Insulin                   768 non-null    int64  \n",
            " 5   BMI                       768 non-null    float64\n",
            " 6   DiabetesPedigreeFunction  768 non-null    float64\n",
            " 7   Age                       768 non-null    int64  \n",
            " 8   Outcome                   768 non-null    int64  \n",
            "dtypes: float64(2), int64(7)\n",
            "memory usage: 54.1 KB\n"
          ]
        }
      ]
    },
    {
      "cell_type": "code",
      "source": [
        "statistics_description = diabetes_df.describe()\n",
        "(statistics_description)"
      ],
      "metadata": {
        "id": "T3RJ5Fd0iblk",
        "colab": {
          "base_uri": "https://localhost:8080/",
          "height": 320
        },
        "outputId": "8311398c-1ed5-45e8-b68a-87c167c5302d"
      },
      "execution_count": null,
      "outputs": [
        {
          "output_type": "execute_result",
          "data": {
            "text/plain": [
              "       Pregnancies     Glucose  BloodPressure  SkinThickness     Insulin  \\\n",
              "count   768.000000  768.000000     768.000000     768.000000  768.000000   \n",
              "mean      3.845052  120.894531      69.105469      20.536458   79.799479   \n",
              "std       3.369578   31.972618      19.355807      15.952218  115.244002   \n",
              "min       0.000000    0.000000       0.000000       0.000000    0.000000   \n",
              "25%       1.000000   99.000000      62.000000       0.000000    0.000000   \n",
              "50%       3.000000  117.000000      72.000000      23.000000   30.500000   \n",
              "75%       6.000000  140.250000      80.000000      32.000000  127.250000   \n",
              "max      17.000000  199.000000     122.000000      99.000000  846.000000   \n",
              "\n",
              "              BMI  DiabetesPedigreeFunction         Age     Outcome  \n",
              "count  768.000000                768.000000  768.000000  768.000000  \n",
              "mean    31.992578                  0.471876   33.240885    0.348958  \n",
              "std      7.884160                  0.331329   11.760232    0.476951  \n",
              "min      0.000000                  0.078000   21.000000    0.000000  \n",
              "25%     27.300000                  0.243750   24.000000    0.000000  \n",
              "50%     32.000000                  0.372500   29.000000    0.000000  \n",
              "75%     36.600000                  0.626250   41.000000    1.000000  \n",
              "max     67.100000                  2.420000   81.000000    1.000000  "
            ],
            "text/html": [
              "\n",
              "  <div id=\"df-822d2d80-85fe-46e6-b6c9-566605f0646e\" class=\"colab-df-container\">\n",
              "    <div>\n",
              "<style scoped>\n",
              "    .dataframe tbody tr th:only-of-type {\n",
              "        vertical-align: middle;\n",
              "    }\n",
              "\n",
              "    .dataframe tbody tr th {\n",
              "        vertical-align: top;\n",
              "    }\n",
              "\n",
              "    .dataframe thead th {\n",
              "        text-align: right;\n",
              "    }\n",
              "</style>\n",
              "<table border=\"1\" class=\"dataframe\">\n",
              "  <thead>\n",
              "    <tr style=\"text-align: right;\">\n",
              "      <th></th>\n",
              "      <th>Pregnancies</th>\n",
              "      <th>Glucose</th>\n",
              "      <th>BloodPressure</th>\n",
              "      <th>SkinThickness</th>\n",
              "      <th>Insulin</th>\n",
              "      <th>BMI</th>\n",
              "      <th>DiabetesPedigreeFunction</th>\n",
              "      <th>Age</th>\n",
              "      <th>Outcome</th>\n",
              "    </tr>\n",
              "  </thead>\n",
              "  <tbody>\n",
              "    <tr>\n",
              "      <th>count</th>\n",
              "      <td>768.000000</td>\n",
              "      <td>768.000000</td>\n",
              "      <td>768.000000</td>\n",
              "      <td>768.000000</td>\n",
              "      <td>768.000000</td>\n",
              "      <td>768.000000</td>\n",
              "      <td>768.000000</td>\n",
              "      <td>768.000000</td>\n",
              "      <td>768.000000</td>\n",
              "    </tr>\n",
              "    <tr>\n",
              "      <th>mean</th>\n",
              "      <td>3.845052</td>\n",
              "      <td>120.894531</td>\n",
              "      <td>69.105469</td>\n",
              "      <td>20.536458</td>\n",
              "      <td>79.799479</td>\n",
              "      <td>31.992578</td>\n",
              "      <td>0.471876</td>\n",
              "      <td>33.240885</td>\n",
              "      <td>0.348958</td>\n",
              "    </tr>\n",
              "    <tr>\n",
              "      <th>std</th>\n",
              "      <td>3.369578</td>\n",
              "      <td>31.972618</td>\n",
              "      <td>19.355807</td>\n",
              "      <td>15.952218</td>\n",
              "      <td>115.244002</td>\n",
              "      <td>7.884160</td>\n",
              "      <td>0.331329</td>\n",
              "      <td>11.760232</td>\n",
              "      <td>0.476951</td>\n",
              "    </tr>\n",
              "    <tr>\n",
              "      <th>min</th>\n",
              "      <td>0.000000</td>\n",
              "      <td>0.000000</td>\n",
              "      <td>0.000000</td>\n",
              "      <td>0.000000</td>\n",
              "      <td>0.000000</td>\n",
              "      <td>0.000000</td>\n",
              "      <td>0.078000</td>\n",
              "      <td>21.000000</td>\n",
              "      <td>0.000000</td>\n",
              "    </tr>\n",
              "    <tr>\n",
              "      <th>25%</th>\n",
              "      <td>1.000000</td>\n",
              "      <td>99.000000</td>\n",
              "      <td>62.000000</td>\n",
              "      <td>0.000000</td>\n",
              "      <td>0.000000</td>\n",
              "      <td>27.300000</td>\n",
              "      <td>0.243750</td>\n",
              "      <td>24.000000</td>\n",
              "      <td>0.000000</td>\n",
              "    </tr>\n",
              "    <tr>\n",
              "      <th>50%</th>\n",
              "      <td>3.000000</td>\n",
              "      <td>117.000000</td>\n",
              "      <td>72.000000</td>\n",
              "      <td>23.000000</td>\n",
              "      <td>30.500000</td>\n",
              "      <td>32.000000</td>\n",
              "      <td>0.372500</td>\n",
              "      <td>29.000000</td>\n",
              "      <td>0.000000</td>\n",
              "    </tr>\n",
              "    <tr>\n",
              "      <th>75%</th>\n",
              "      <td>6.000000</td>\n",
              "      <td>140.250000</td>\n",
              "      <td>80.000000</td>\n",
              "      <td>32.000000</td>\n",
              "      <td>127.250000</td>\n",
              "      <td>36.600000</td>\n",
              "      <td>0.626250</td>\n",
              "      <td>41.000000</td>\n",
              "      <td>1.000000</td>\n",
              "    </tr>\n",
              "    <tr>\n",
              "      <th>max</th>\n",
              "      <td>17.000000</td>\n",
              "      <td>199.000000</td>\n",
              "      <td>122.000000</td>\n",
              "      <td>99.000000</td>\n",
              "      <td>846.000000</td>\n",
              "      <td>67.100000</td>\n",
              "      <td>2.420000</td>\n",
              "      <td>81.000000</td>\n",
              "      <td>1.000000</td>\n",
              "    </tr>\n",
              "  </tbody>\n",
              "</table>\n",
              "</div>\n",
              "    <div class=\"colab-df-buttons\">\n",
              "\n",
              "  <div class=\"colab-df-container\">\n",
              "    <button class=\"colab-df-convert\" onclick=\"convertToInteractive('df-822d2d80-85fe-46e6-b6c9-566605f0646e')\"\n",
              "            title=\"Convert this dataframe to an interactive table.\"\n",
              "            style=\"display:none;\">\n",
              "\n",
              "  <svg xmlns=\"http://www.w3.org/2000/svg\" height=\"24px\" viewBox=\"0 -960 960 960\">\n",
              "    <path d=\"M120-120v-720h720v720H120Zm60-500h600v-160H180v160Zm220 220h160v-160H400v160Zm0 220h160v-160H400v160ZM180-400h160v-160H180v160Zm440 0h160v-160H620v160ZM180-180h160v-160H180v160Zm440 0h160v-160H620v160Z\"/>\n",
              "  </svg>\n",
              "    </button>\n",
              "\n",
              "  <style>\n",
              "    .colab-df-container {\n",
              "      display:flex;\n",
              "      gap: 12px;\n",
              "    }\n",
              "\n",
              "    .colab-df-convert {\n",
              "      background-color: #E8F0FE;\n",
              "      border: none;\n",
              "      border-radius: 50%;\n",
              "      cursor: pointer;\n",
              "      display: none;\n",
              "      fill: #1967D2;\n",
              "      height: 32px;\n",
              "      padding: 0 0 0 0;\n",
              "      width: 32px;\n",
              "    }\n",
              "\n",
              "    .colab-df-convert:hover {\n",
              "      background-color: #E2EBFA;\n",
              "      box-shadow: 0px 1px 2px rgba(60, 64, 67, 0.3), 0px 1px 3px 1px rgba(60, 64, 67, 0.15);\n",
              "      fill: #174EA6;\n",
              "    }\n",
              "\n",
              "    .colab-df-buttons div {\n",
              "      margin-bottom: 4px;\n",
              "    }\n",
              "\n",
              "    [theme=dark] .colab-df-convert {\n",
              "      background-color: #3B4455;\n",
              "      fill: #D2E3FC;\n",
              "    }\n",
              "\n",
              "    [theme=dark] .colab-df-convert:hover {\n",
              "      background-color: #434B5C;\n",
              "      box-shadow: 0px 1px 3px 1px rgba(0, 0, 0, 0.15);\n",
              "      filter: drop-shadow(0px 1px 2px rgba(0, 0, 0, 0.3));\n",
              "      fill: #FFFFFF;\n",
              "    }\n",
              "  </style>\n",
              "\n",
              "    <script>\n",
              "      const buttonEl =\n",
              "        document.querySelector('#df-822d2d80-85fe-46e6-b6c9-566605f0646e button.colab-df-convert');\n",
              "      buttonEl.style.display =\n",
              "        google.colab.kernel.accessAllowed ? 'block' : 'none';\n",
              "\n",
              "      async function convertToInteractive(key) {\n",
              "        const element = document.querySelector('#df-822d2d80-85fe-46e6-b6c9-566605f0646e');\n",
              "        const dataTable =\n",
              "          await google.colab.kernel.invokeFunction('convertToInteractive',\n",
              "                                                    [key], {});\n",
              "        if (!dataTable) return;\n",
              "\n",
              "        const docLinkHtml = 'Like what you see? Visit the ' +\n",
              "          '<a target=\"_blank\" href=https://colab.research.google.com/notebooks/data_table.ipynb>data table notebook</a>'\n",
              "          + ' to learn more about interactive tables.';\n",
              "        element.innerHTML = '';\n",
              "        dataTable['output_type'] = 'display_data';\n",
              "        await google.colab.output.renderOutput(dataTable, element);\n",
              "        const docLink = document.createElement('div');\n",
              "        docLink.innerHTML = docLinkHtml;\n",
              "        element.appendChild(docLink);\n",
              "      }\n",
              "    </script>\n",
              "  </div>\n",
              "\n",
              "\n",
              "<div id=\"df-2ccff739-f476-4ea1-9173-de6d9d646eb1\">\n",
              "  <button class=\"colab-df-quickchart\" onclick=\"quickchart('df-2ccff739-f476-4ea1-9173-de6d9d646eb1')\"\n",
              "            title=\"Suggest charts\"\n",
              "            style=\"display:none;\">\n",
              "\n",
              "<svg xmlns=\"http://www.w3.org/2000/svg\" height=\"24px\"viewBox=\"0 0 24 24\"\n",
              "     width=\"24px\">\n",
              "    <g>\n",
              "        <path d=\"M19 3H5c-1.1 0-2 .9-2 2v14c0 1.1.9 2 2 2h14c1.1 0 2-.9 2-2V5c0-1.1-.9-2-2-2zM9 17H7v-7h2v7zm4 0h-2V7h2v10zm4 0h-2v-4h2v4z\"/>\n",
              "    </g>\n",
              "</svg>\n",
              "  </button>\n",
              "\n",
              "<style>\n",
              "  .colab-df-quickchart {\n",
              "      --bg-color: #E8F0FE;\n",
              "      --fill-color: #1967D2;\n",
              "      --hover-bg-color: #E2EBFA;\n",
              "      --hover-fill-color: #174EA6;\n",
              "      --disabled-fill-color: #AAA;\n",
              "      --disabled-bg-color: #DDD;\n",
              "  }\n",
              "\n",
              "  [theme=dark] .colab-df-quickchart {\n",
              "      --bg-color: #3B4455;\n",
              "      --fill-color: #D2E3FC;\n",
              "      --hover-bg-color: #434B5C;\n",
              "      --hover-fill-color: #FFFFFF;\n",
              "      --disabled-bg-color: #3B4455;\n",
              "      --disabled-fill-color: #666;\n",
              "  }\n",
              "\n",
              "  .colab-df-quickchart {\n",
              "    background-color: var(--bg-color);\n",
              "    border: none;\n",
              "    border-radius: 50%;\n",
              "    cursor: pointer;\n",
              "    display: none;\n",
              "    fill: var(--fill-color);\n",
              "    height: 32px;\n",
              "    padding: 0;\n",
              "    width: 32px;\n",
              "  }\n",
              "\n",
              "  .colab-df-quickchart:hover {\n",
              "    background-color: var(--hover-bg-color);\n",
              "    box-shadow: 0 1px 2px rgba(60, 64, 67, 0.3), 0 1px 3px 1px rgba(60, 64, 67, 0.15);\n",
              "    fill: var(--button-hover-fill-color);\n",
              "  }\n",
              "\n",
              "  .colab-df-quickchart-complete:disabled,\n",
              "  .colab-df-quickchart-complete:disabled:hover {\n",
              "    background-color: var(--disabled-bg-color);\n",
              "    fill: var(--disabled-fill-color);\n",
              "    box-shadow: none;\n",
              "  }\n",
              "\n",
              "  .colab-df-spinner {\n",
              "    border: 2px solid var(--fill-color);\n",
              "    border-color: transparent;\n",
              "    border-bottom-color: var(--fill-color);\n",
              "    animation:\n",
              "      spin 1s steps(1) infinite;\n",
              "  }\n",
              "\n",
              "  @keyframes spin {\n",
              "    0% {\n",
              "      border-color: transparent;\n",
              "      border-bottom-color: var(--fill-color);\n",
              "      border-left-color: var(--fill-color);\n",
              "    }\n",
              "    20% {\n",
              "      border-color: transparent;\n",
              "      border-left-color: var(--fill-color);\n",
              "      border-top-color: var(--fill-color);\n",
              "    }\n",
              "    30% {\n",
              "      border-color: transparent;\n",
              "      border-left-color: var(--fill-color);\n",
              "      border-top-color: var(--fill-color);\n",
              "      border-right-color: var(--fill-color);\n",
              "    }\n",
              "    40% {\n",
              "      border-color: transparent;\n",
              "      border-right-color: var(--fill-color);\n",
              "      border-top-color: var(--fill-color);\n",
              "    }\n",
              "    60% {\n",
              "      border-color: transparent;\n",
              "      border-right-color: var(--fill-color);\n",
              "    }\n",
              "    80% {\n",
              "      border-color: transparent;\n",
              "      border-right-color: var(--fill-color);\n",
              "      border-bottom-color: var(--fill-color);\n",
              "    }\n",
              "    90% {\n",
              "      border-color: transparent;\n",
              "      border-bottom-color: var(--fill-color);\n",
              "    }\n",
              "  }\n",
              "</style>\n",
              "\n",
              "  <script>\n",
              "    async function quickchart(key) {\n",
              "      const quickchartButtonEl =\n",
              "        document.querySelector('#' + key + ' button');\n",
              "      quickchartButtonEl.disabled = true;  // To prevent multiple clicks.\n",
              "      quickchartButtonEl.classList.add('colab-df-spinner');\n",
              "      try {\n",
              "        const charts = await google.colab.kernel.invokeFunction(\n",
              "            'suggestCharts', [key], {});\n",
              "      } catch (error) {\n",
              "        console.error('Error during call to suggestCharts:', error);\n",
              "      }\n",
              "      quickchartButtonEl.classList.remove('colab-df-spinner');\n",
              "      quickchartButtonEl.classList.add('colab-df-quickchart-complete');\n",
              "    }\n",
              "    (() => {\n",
              "      let quickchartButtonEl =\n",
              "        document.querySelector('#df-2ccff739-f476-4ea1-9173-de6d9d646eb1 button');\n",
              "      quickchartButtonEl.style.display =\n",
              "        google.colab.kernel.accessAllowed ? 'block' : 'none';\n",
              "    })();\n",
              "  </script>\n",
              "</div>\n",
              "    </div>\n",
              "  </div>\n"
            ],
            "application/vnd.google.colaboratory.intrinsic+json": {
              "type": "dataframe",
              "variable_name": "statistics_description",
              "summary": "{\n  \"name\": \"statistics_description\",\n  \"rows\": 8,\n  \"fields\": [\n    {\n      \"column\": \"Pregnancies\",\n      \"properties\": {\n        \"dtype\": \"number\",\n        \"std\": 269.85223453356366,\n        \"min\": 0.0,\n        \"max\": 768.0,\n        \"num_unique_values\": 8,\n        \"samples\": [\n          3.8450520833333335,\n          3.0,\n          768.0\n        ],\n        \"semantic_type\": \"\",\n        \"description\": \"\"\n      }\n    },\n    {\n      \"column\": \"Glucose\",\n      \"properties\": {\n        \"dtype\": \"number\",\n        \"std\": 243.73802348295857,\n        \"min\": 0.0,\n        \"max\": 768.0,\n        \"num_unique_values\": 8,\n        \"samples\": [\n          120.89453125,\n          117.0,\n          768.0\n        ],\n        \"semantic_type\": \"\",\n        \"description\": \"\"\n      }\n    },\n    {\n      \"column\": \"BloodPressure\",\n      \"properties\": {\n        \"dtype\": \"number\",\n        \"std\": 252.8525053581062,\n        \"min\": 0.0,\n        \"max\": 768.0,\n        \"num_unique_values\": 8,\n        \"samples\": [\n          69.10546875,\n          72.0,\n          768.0\n        ],\n        \"semantic_type\": \"\",\n        \"description\": \"\"\n      }\n    },\n    {\n      \"column\": \"SkinThickness\",\n      \"properties\": {\n        \"dtype\": \"number\",\n        \"std\": 263.7684730531098,\n        \"min\": 0.0,\n        \"max\": 768.0,\n        \"num_unique_values\": 7,\n        \"samples\": [\n          768.0,\n          20.536458333333332,\n          32.0\n        ],\n        \"semantic_type\": \"\",\n        \"description\": \"\"\n      }\n    },\n    {\n      \"column\": \"Insulin\",\n      \"properties\": {\n        \"dtype\": \"number\",\n        \"std\": 350.26059167945886,\n        \"min\": 0.0,\n        \"max\": 846.0,\n        \"num_unique_values\": 7,\n        \"samples\": [\n          768.0,\n          79.79947916666667,\n          127.25\n        ],\n        \"semantic_type\": \"\",\n        \"description\": \"\"\n      }\n    },\n    {\n      \"column\": \"BMI\",\n      \"properties\": {\n        \"dtype\": \"number\",\n        \"std\": 262.05117817552093,\n        \"min\": 0.0,\n        \"max\": 768.0,\n        \"num_unique_values\": 8,\n        \"samples\": [\n          31.992578124999998,\n          32.0,\n          768.0\n        ],\n        \"semantic_type\": \"\",\n        \"description\": \"\"\n      }\n    },\n    {\n      \"column\": \"DiabetesPedigreeFunction\",\n      \"properties\": {\n        \"dtype\": \"number\",\n        \"std\": 271.3005221658502,\n        \"min\": 0.078,\n        \"max\": 768.0,\n        \"num_unique_values\": 8,\n        \"samples\": [\n          0.47187630208333325,\n          0.3725,\n          768.0\n        ],\n        \"semantic_type\": \"\",\n        \"description\": \"\"\n      }\n    },\n    {\n      \"column\": \"Age\",\n      \"properties\": {\n        \"dtype\": \"number\",\n        \"std\": 260.1941178528413,\n        \"min\": 11.760231540678685,\n        \"max\": 768.0,\n        \"num_unique_values\": 8,\n        \"samples\": [\n          33.240885416666664,\n          29.0,\n          768.0\n        ],\n        \"semantic_type\": \"\",\n        \"description\": \"\"\n      }\n    },\n    {\n      \"column\": \"Outcome\",\n      \"properties\": {\n        \"dtype\": \"number\",\n        \"std\": 271.3865920388932,\n        \"min\": 0.0,\n        \"max\": 768.0,\n        \"num_unique_values\": 5,\n        \"samples\": [\n          0.3489583333333333,\n          1.0,\n          0.47695137724279896\n        ],\n        \"semantic_type\": \"\",\n        \"description\": \"\"\n      }\n    }\n  ]\n}"
            }
          },
          "metadata": {},
          "execution_count": 8
        }
      ]
    },
    {
      "cell_type": "code",
      "source": [
        "sns.countplot(x='Outcome', data=diabetes_df)\n",
        "plt.title('Distribution of Outcome')\n",
        "plt.show()"
      ],
      "metadata": {
        "colab": {
          "base_uri": "https://localhost:8080/",
          "height": 472
        },
        "id": "3Yln7ezzVzyF",
        "outputId": "62fa8a6c-d992-4226-fb77-dc9120bcf62f"
      },
      "execution_count": null,
      "outputs": [
        {
          "output_type": "display_data",
          "data": {
            "text/plain": [
              "<Figure size 640x480 with 1 Axes>"
            ],
            "image/png": "[encoded data removed]"
          },
          "metadata": {}
        }
      ]
    },
    {
      "cell_type": "code",
      "source": [
        "#correlation_matrix = diabetes_df.corr()\n",
        "#plt.figure(figsize=(9, 5))\n",
        "#sns.heatmap(correlation_matrix, annot=True, cmap='coolwarm', fmt=\".2f\")\n",
        "#plt.title('Correlation Matrix')\n",
        "#plt.show()"
      ],
      "metadata": {
        "id": "z3mMCgIkWiTE"
      },
      "execution_count": null,
      "outputs": []
    },
    {
      "cell_type": "markdown",
      "source": [
        "**Handling Missing Value**"
      ],
      "metadata": {
        "id": "1hwz7kPNd30S"
      }
    },
    {
      "cell_type": "code",
      "source": [
        "diabetes_df.fillna(diabetes_df.mean(), inplace=True)"
      ],
      "metadata": {
        "id": "O-KCp6qseiwS"
      },
      "execution_count": null,
      "outputs": []
    },
    {
      "cell_type": "markdown",
      "source": [],
      "metadata": {
        "id": "f79kP3Gu8TsE"
      }
    },
    {
      "cell_type": "code",
      "source": [
        "diabetes_df.isnull().sum()"
      ],
      "metadata": {
        "colab": {
          "base_uri": "https://localhost:8080/"
        },
        "id": "7mKsAibFeD1f",
        "outputId": "77a4f658-ddcf-49d8-9bc6-048f29d9fa9e"
      },
      "execution_count": null,
      "outputs": [
        {
          "output_type": "execute_result",
          "data": {
            "text/plain": [
              "Pregnancies                 0\n",
              "Glucose                     0\n",
              "BloodPressure               0\n",
              "SkinThickness               0\n",
              "Insulin                     0\n",
              "BMI                         0\n",
              "DiabetesPedigreeFunction    0\n",
              "Age                         0\n",
              "Outcome                     0\n",
              "dtype: int64"
            ]
          },
          "metadata": {},
          "execution_count": 12
        }
      ]
    },
    {
      "cell_type": "markdown",
      "source": [
        "**Handling Data Duplikat**"
      ],
      "metadata": {
        "id": "htWk_Y6ueRCW"
      }
    },
    {
      "cell_type": "code",
      "source": [
        "diabetes_df.drop_duplicates(inplace=True)"
      ],
      "metadata": {
        "id": "l45kgWsxeUni"
      },
      "execution_count": null,
      "outputs": []
    },
    {
      "cell_type": "code",
      "source": [
        "diabetes_df.duplicated().sum()"
      ],
      "metadata": {
        "colab": {
          "base_uri": "https://localhost:8080/"
        },
        "id": "HoDqksXCeYEy",
        "outputId": "a0a77879-9d7f-4637-d54b-06571190ab4d"
      },
      "execution_count": null,
      "outputs": [
        {
          "output_type": "execute_result",
          "data": {
            "text/plain": [
              "0"
            ]
          },
          "metadata": {},
          "execution_count": 14
        }
      ]
    },
    {
      "cell_type": "markdown",
      "source": [
        "**Handling Outlier**"
      ],
      "metadata": {
        "id": "qBSPyD81e86u"
      }
    },
    {
      "cell_type": "code",
      "source": [
        "z_scores = stats.zscore(diabetes_df)"
      ],
      "metadata": {
        "id": "smTBBkFbe-qb"
      },
      "execution_count": null,
      "outputs": []
    },
    {
      "cell_type": "code",
      "source": [
        "threshold = 3"
      ],
      "metadata": {
        "id": "dCKKG_iKfHEg"
      },
      "execution_count": null,
      "outputs": []
    },
    {
      "cell_type": "code",
      "source": [
        "outlier_indices = (abs(z_scores) > threshold).any(axis=1)"
      ],
      "metadata": {
        "id": "fY3S9yXFfKhz"
      },
      "execution_count": null,
      "outputs": []
    },
    {
      "cell_type": "code",
      "source": [
        "diabetes_df = diabetes_df[~outlier_indices]"
      ],
      "metadata": {
        "id": "cFdKogxDfPFR"
      },
      "execution_count": null,
      "outputs": []
    },
    {
      "cell_type": "code",
      "source": [
        "\"Jumlah outlier yang dihapus:\", sum(outlier_indices)"
      ],
      "metadata": {
        "colab": {
          "base_uri": "https://localhost:8080/"
        },
        "id": "ztcTHQqffS4I",
        "outputId": "aaa455c9-674d-4cf2-a31c-b40b0e3c4515"
      },
      "execution_count": null,
      "outputs": [
        {
          "output_type": "execute_result",
          "data": {
            "text/plain": [
              "('Jumlah outlier yang dihapus:', 80)"
            ]
          },
          "metadata": {},
          "execution_count": 19
        }
      ]
    },
    {
      "cell_type": "markdown",
      "source": [
        "**Data Setelah Pembersihan**"
      ],
      "metadata": {
        "id": "Xwbv1Qp7gAPj"
      }
    },
    {
      "cell_type": "code",
      "source": [
        "diabetes_df.head()"
      ],
      "metadata": {
        "colab": {
          "base_uri": "https://localhost:8080/",
          "height": 226
        },
        "id": "6QtQFxUagDF2",
        "outputId": "4cab293f-04c6-4ed2-abff-07ed6e6b64e9"
      },
      "execution_count": null,
      "outputs": [
        {
          "output_type": "execute_result",
          "data": {
            "text/plain": [
              "   Pregnancies  Glucose  BloodPressure  SkinThickness  Insulin   BMI  \\\n",
              "0            6      148             72             35        0  33.6   \n",
              "1            1       85             66             29        0  26.6   \n",
              "2            8      183             64              0        0  23.3   \n",
              "3            1       89             66             23       94  28.1   \n",
              "5            5      116             74              0        0  25.6   \n",
              "\n",
              "   DiabetesPedigreeFunction  Age  Outcome  \n",
              "0                     0.627   50        1  \n",
              "1                     0.351   31        0  \n",
              "2                     0.672   32        1  \n",
              "3                     0.167   21        0  \n",
              "5                     0.201   30        0  "
            ],
            "text/html": [
              "\n",
              "  <div id=\"df-a43f7cf2-c7a2-408f-bc6b-cab328b23751\" class=\"colab-df-container\">\n",
              "    <div>\n",
              "<style scoped>\n",
              "    .dataframe tbody tr th:only-of-type {\n",
              "        vertical-align: middle;\n",
              "    }\n",
              "\n",
              "    .dataframe tbody tr th {\n",
              "        vertical-align: top;\n",
              "    }\n",
              "\n",
              "    .dataframe thead th {\n",
              "        text-align: right;\n",
              "    }\n",
              "</style>\n",
              "<table border=\"1\" class=\"dataframe\">\n",
              "  <thead>\n",
              "    <tr style=\"text-align: right;\">\n",
              "      <th></th>\n",
              "      <th>Pregnancies</th>\n",
              "      <th>Glucose</th>\n",
              "      <th>BloodPressure</th>\n",
              "      <th>SkinThickness</th>\n",
              "      <th>Insulin</th>\n",
              "      <th>BMI</th>\n",
              "      <th>DiabetesPedigreeFunction</th>\n",
              "      <th>Age</th>\n",
              "      <th>Outcome</th>\n",
              "    </tr>\n",
              "  </thead>\n",
              "  <tbody>\n",
              "    <tr>\n",
              "      <th>0</th>\n",
              "      <td>6</td>\n",
              "      <td>148</td>\n",
              "      <td>72</td>\n",
              "      <td>35</td>\n",
              "      <td>0</td>\n",
              "      <td>33.6</td>\n",
              "      <td>0.627</td>\n",
              "      <td>50</td>\n",
              "      <td>1</td>\n",
              "    </tr>\n",
              "    <tr>\n",
              "      <th>1</th>\n",
              "      <td>1</td>\n",
              "      <td>85</td>\n",
              "      <td>66</td>\n",
              "      <td>29</td>\n",
              "      <td>0</td>\n",
              "      <td>26.6</td>\n",
              "      <td>0.351</td>\n",
              "      <td>31</td>\n",
              "      <td>0</td>\n",
              "    </tr>\n",
              "    <tr>\n",
              "      <th>2</th>\n",
              "      <td>8</td>\n",
              "      <td>183</td>\n",
              "      <td>64</td>\n",
              "      <td>0</td>\n",
              "      <td>0</td>\n",
              "      <td>23.3</td>\n",
              "      <td>0.672</td>\n",
              "      <td>32</td>\n",
              "      <td>1</td>\n",
              "    </tr>\n",
              "    <tr>\n",
              "      <th>3</th>\n",
              "      <td>1</td>\n",
              "      <td>89</td>\n",
              "      <td>66</td>\n",
              "      <td>23</td>\n",
              "      <td>94</td>\n",
              "      <td>28.1</td>\n",
              "      <td>0.167</td>\n",
              "      <td>21</td>\n",
              "      <td>0</td>\n",
              "    </tr>\n",
              "    <tr>\n",
              "      <th>5</th>\n",
              "      <td>5</td>\n",
              "      <td>116</td>\n",
              "      <td>74</td>\n",
              "      <td>0</td>\n",
              "      <td>0</td>\n",
              "      <td>25.6</td>\n",
              "      <td>0.201</td>\n",
              "      <td>30</td>\n",
              "      <td>0</td>\n",
              "    </tr>\n",
              "  </tbody>\n",
              "</table>\n",
              "</div>\n",
              "    <div class=\"colab-df-buttons\">\n",
              "\n",
              "  <div class=\"colab-df-container\">\n",
              "    <button class=\"colab-df-convert\" onclick=\"convertToInteractive('df-a43f7cf2-c7a2-408f-bc6b-cab328b23751')\"\n",
              "            title=\"Convert this dataframe to an interactive table.\"\n",
              "            style=\"display:none;\">\n",
              "\n",
              "  <svg xmlns=\"http://www.w3.org/2000/svg\" height=\"24px\" viewBox=\"0 -960 960 960\">\n",
              "    <path d=\"M120-120v-720h720v720H120Zm60-500h600v-160H180v160Zm220 220h160v-160H400v160Zm0 220h160v-160H400v160ZM180-400h160v-160H180v160Zm440 0h160v-160H620v160ZM180-180h160v-160H180v160Zm440 0h160v-160H620v160Z\"/>\n",
              "  </svg>\n",
              "    </button>\n",
              "\n",
              "  <style>\n",
              "    .colab-df-container {\n",
              "      display:flex;\n",
              "      gap: 12px;\n",
              "    }\n",
              "\n",
              "    .colab-df-convert {\n",
              "      background-color: #E8F0FE;\n",
              "      border: none;\n",
              "      border-radius: 50%;\n",
              "      cursor: pointer;\n",
              "      display: none;\n",
              "      fill: #1967D2;\n",
              "      height: 32px;\n",
              "      padding: 0 0 0 0;\n",
              "      width: 32px;\n",
              "    }\n",
              "\n",
              "    .colab-df-convert:hover {\n",
              "      background-color: #E2EBFA;\n",
              "      box-shadow: 0px 1px 2px rgba(60, 64, 67, 0.3), 0px 1px 3px 1px rgba(60, 64, 67, 0.15);\n",
              "      fill: #174EA6;\n",
              "    }\n",
              "\n",
              "    .colab-df-buttons div {\n",
              "      margin-bottom: 4px;\n",
              "    }\n",
              "\n",
              "    [theme=dark] .colab-df-convert {\n",
              "      background-color: #3B4455;\n",
              "      fill: #D2E3FC;\n",
              "    }\n",
              "\n",
              "    [theme=dark] .colab-df-convert:hover {\n",
              "      background-color: #434B5C;\n",
              "      box-shadow: 0px 1px 3px 1px rgba(0, 0, 0, 0.15);\n",
              "      filter: drop-shadow(0px 1px 2px rgba(0, 0, 0, 0.3));\n",
              "      fill: #FFFFFF;\n",
              "    }\n",
              "  </style>\n",
              "\n",
              "    <script>\n",
              "      const buttonEl =\n",
              "        document.querySelector('#df-a43f7cf2-c7a2-408f-bc6b-cab328b23751 button.colab-df-convert');\n",
              "      buttonEl.style.display =\n",
              "        google.colab.kernel.accessAllowed ? 'block' : 'none';\n",
              "\n",
              "      async function convertToInteractive(key) {\n",
              "        const element = document.querySelector('#df-a43f7cf2-c7a2-408f-bc6b-cab328b23751');\n",
              "        const dataTable =\n",
              "          await google.colab.kernel.invokeFunction('convertToInteractive',\n",
              "                                                    [key], {});\n",
              "        if (!dataTable) return;\n",
              "\n",
              "        const docLinkHtml = 'Like what you see? Visit the ' +\n",
              "          '<a target=\"_blank\" href=https://colab.research.google.com/notebooks/data_table.ipynb>data table notebook</a>'\n",
              "          + ' to learn more about interactive tables.';\n",
              "        element.innerHTML = '';\n",
              "        dataTable['output_type'] = 'display_data';\n",
              "        await google.colab.output.renderOutput(dataTable, element);\n",
              "        const docLink = document.createElement('div');\n",
              "        docLink.innerHTML = docLinkHtml;\n",
              "        element.appendChild(docLink);\n",
              "      }\n",
              "    </script>\n",
              "  </div>\n",
              "\n",
              "\n",
              "<div id=\"df-87648774-cc6b-4747-ab02-30d2a475821d\">\n",
              "  <button class=\"colab-df-quickchart\" onclick=\"quickchart('df-87648774-cc6b-4747-ab02-30d2a475821d')\"\n",
              "            title=\"Suggest charts\"\n",
              "            style=\"display:none;\">\n",
              "\n",
              "<svg xmlns=\"http://www.w3.org/2000/svg\" height=\"24px\"viewBox=\"0 0 24 24\"\n",
              "     width=\"24px\">\n",
              "    <g>\n",
              "        <path d=\"M19 3H5c-1.1 0-2 .9-2 2v14c0 1.1.9 2 2 2h14c1.1 0 2-.9 2-2V5c0-1.1-.9-2-2-2zM9 17H7v-7h2v7zm4 0h-2V7h2v10zm4 0h-2v-4h2v4z\"/>\n",
              "    </g>\n",
              "</svg>\n",
              "  </button>\n",
              "\n",
              "<style>\n",
              "  .colab-df-quickchart {\n",
              "      --bg-color: #E8F0FE;\n",
              "      --fill-color: #1967D2;\n",
              "      --hover-bg-color: #E2EBFA;\n",
              "      --hover-fill-color: #174EA6;\n",
              "      --disabled-fill-color: #AAA;\n",
              "      --disabled-bg-color: #DDD;\n",
              "  }\n",
              "\n",
              "  [theme=dark] .colab-df-quickchart {\n",
              "      --bg-color: #3B4455;\n",
              "      --fill-color: #D2E3FC;\n",
              "      --hover-bg-color: #434B5C;\n",
              "      --hover-fill-color: #FFFFFF;\n",
              "      --disabled-bg-color: #3B4455;\n",
              "      --disabled-fill-color: #666;\n",
              "  }\n",
              "\n",
              "  .colab-df-quickchart {\n",
              "    background-color: var(--bg-color);\n",
              "    border: none;\n",
              "    border-radius: 50%;\n",
              "    cursor: pointer;\n",
              "    display: none;\n",
              "    fill: var(--fill-color);\n",
              "    height: 32px;\n",
              "    padding: 0;\n",
              "    width: 32px;\n",
              "  }\n",
              "\n",
              "  .colab-df-quickchart:hover {\n",
              "    background-color: var(--hover-bg-color);\n",
              "    box-shadow: 0 1px 2px rgba(60, 64, 67, 0.3), 0 1px 3px 1px rgba(60, 64, 67, 0.15);\n",
              "    fill: var(--button-hover-fill-color);\n",
              "  }\n",
              "\n",
              "  .colab-df-quickchart-complete:disabled,\n",
              "  .colab-df-quickchart-complete:disabled:hover {\n",
              "    background-color: var(--disabled-bg-color);\n",
              "    fill: var(--disabled-fill-color);\n",
              "    box-shadow: none;\n",
              "  }\n",
              "\n",
              "  .colab-df-spinner {\n",
              "    border: 2px solid var(--fill-color);\n",
              "    border-color: transparent;\n",
              "    border-bottom-color: var(--fill-color);\n",
              "    animation:\n",
              "      spin 1s steps(1) infinite;\n",
              "  }\n",
              "\n",
              "  @keyframes spin {\n",
              "    0% {\n",
              "      border-color: transparent;\n",
              "      border-bottom-color: var(--fill-color);\n",
              "      border-left-color: var(--fill-color);\n",
              "    }\n",
              "    20% {\n",
              "      border-color: transparent;\n",
              "      border-left-color: var(--fill-color);\n",
              "      border-top-color: var(--fill-color);\n",
              "    }\n",
              "    30% {\n",
              "      border-color: transparent;\n",
              "      border-left-color: var(--fill-color);\n",
              "      border-top-color: var(--fill-color);\n",
              "      border-right-color: var(--fill-color);\n",
              "    }\n",
              "    40% {\n",
              "      border-color: transparent;\n",
              "      border-right-color: var(--fill-color);\n",
              "      border-top-color: var(--fill-color);\n",
              "    }\n",
              "    60% {\n",
              "      border-color: transparent;\n",
              "      border-right-color: var(--fill-color);\n",
              "    }\n",
              "    80% {\n",
              "      border-color: transparent;\n",
              "      border-right-color: var(--fill-color);\n",
              "      border-bottom-color: var(--fill-color);\n",
              "    }\n",
              "    90% {\n",
              "      border-color: transparent;\n",
              "      border-bottom-color: var(--fill-color);\n",
              "    }\n",
              "  }\n",
              "</style>\n",
              "\n",
              "  <script>\n",
              "    async function quickchart(key) {\n",
              "      const quickchartButtonEl =\n",
              "        document.querySelector('#' + key + ' button');\n",
              "      quickchartButtonEl.disabled = true;  // To prevent multiple clicks.\n",
              "      quickchartButtonEl.classList.add('colab-df-spinner');\n",
              "      try {\n",
              "        const charts = await google.colab.kernel.invokeFunction(\n",
              "            'suggestCharts', [key], {});\n",
              "      } catch (error) {\n",
              "        console.error('Error during call to suggestCharts:', error);\n",
              "      }\n",
              "      quickchartButtonEl.classList.remove('colab-df-spinner');\n",
              "      quickchartButtonEl.classList.add('colab-df-quickchart-complete');\n",
              "    }\n",
              "    (() => {\n",
              "      let quickchartButtonEl =\n",
              "        document.querySelector('#df-87648774-cc6b-4747-ab02-30d2a475821d button');\n",
              "      quickchartButtonEl.style.display =\n",
              "        google.colab.kernel.accessAllowed ? 'block' : 'none';\n",
              "    })();\n",
              "  </script>\n",
              "</div>\n",
              "    </div>\n",
              "  </div>\n"
            ],
            "application/vnd.google.colaboratory.intrinsic+json": {
              "type": "dataframe",
              "variable_name": "diabetes_df",
              "summary": "{\n  \"name\": \"diabetes_df\",\n  \"rows\": 688,\n  \"fields\": [\n    {\n      \"column\": \"Pregnancies\",\n      \"properties\": {\n        \"dtype\": \"number\",\n        \"std\": 3,\n        \"min\": 0,\n        \"max\": 13,\n        \"num_unique_values\": 14,\n        \"samples\": [\n          9,\n          13,\n          6\n        ],\n        \"semantic_type\": \"\",\n        \"description\": \"\"\n      }\n    },\n    {\n      \"column\": \"Glucose\",\n      \"properties\": {\n        \"dtype\": \"number\",\n        \"std\": 30,\n        \"min\": 44,\n        \"max\": 199,\n        \"num_unique_values\": 133,\n        \"samples\": [\n          129,\n          160,\n          90\n        ],\n        \"semantic_type\": \"\",\n        \"description\": \"\"\n      }\n    },\n    {\n      \"column\": \"BloodPressure\",\n      \"properties\": {\n        \"dtype\": \"number\",\n        \"std\": 12,\n        \"min\": 24,\n        \"max\": 122,\n        \"num_unique_values\": 45,\n        \"samples\": [\n          100,\n          44,\n          65\n        ],\n        \"semantic_type\": \"\",\n        \"description\": \"\"\n      }\n    },\n    {\n      \"column\": \"SkinThickness\",\n      \"properties\": {\n        \"dtype\": \"number\",\n        \"std\": 15,\n        \"min\": 0,\n        \"max\": 60,\n        \"num_unique_values\": 49,\n        \"samples\": [\n          36,\n          8,\n          48\n        ],\n        \"semantic_type\": \"\",\n        \"description\": \"\"\n      }\n    },\n    {\n      \"column\": \"Insulin\",\n      \"properties\": {\n        \"dtype\": \"number\",\n        \"std\": 90,\n        \"min\": 0,\n        \"max\": 415,\n        \"num_unique_values\": 166,\n        \"samples\": [\n          85,\n          326,\n          370\n        ],\n        \"semantic_type\": \"\",\n        \"description\": \"\"\n      }\n    },\n    {\n      \"column\": \"BMI\",\n      \"properties\": {\n        \"dtype\": \"number\",\n        \"std\": 6.6188905598410965,\n        \"min\": 18.2,\n        \"max\": 55.0,\n        \"num_unique_values\": 237,\n        \"samples\": [\n          26.8,\n          35.4,\n          26.3\n        ],\n        \"semantic_type\": \"\",\n        \"description\": \"\"\n      }\n    },\n    {\n      \"column\": \"DiabetesPedigreeFunction\",\n      \"properties\": {\n        \"dtype\": \"number\",\n        \"std\": 0.28452706463736277,\n        \"min\": 0.078,\n        \"max\": 1.461,\n        \"num_unique_values\": 473,\n        \"samples\": [\n          0.189,\n          0.261,\n          0.271\n        ],\n        \"semantic_type\": \"\",\n        \"description\": \"\"\n      }\n    },\n    {\n      \"column\": \"Age\",\n      \"properties\": {\n        \"dtype\": \"number\",\n        \"std\": 11,\n        \"min\": 21,\n        \"max\": 68,\n        \"num_unique_values\": 48,\n        \"samples\": [\n          42,\n          49,\n          58\n        ],\n        \"semantic_type\": \"\",\n        \"description\": \"\"\n      }\n    },\n    {\n      \"column\": \"Outcome\",\n      \"properties\": {\n        \"dtype\": \"number\",\n        \"std\": 0,\n        \"min\": 0,\n        \"max\": 1,\n        \"num_unique_values\": 2,\n        \"samples\": [\n          0,\n          1\n        ],\n        \"semantic_type\": \"\",\n        \"description\": \"\"\n      }\n    }\n  ]\n}"
            }
          },
          "metadata": {},
          "execution_count": 20
        }
      ]
    },
    {
      "cell_type": "code",
      "source": [
        "diabetes_df.shape"
      ],
      "metadata": {
        "colab": {
          "base_uri": "https://localhost:8080/"
        },
        "id": "fxFTd3qQgdHt",
        "outputId": "b6fc4a7a-b7e2-4247-abd4-f0d0fb5567c7"
      },
      "execution_count": null,
      "outputs": [
        {
          "output_type": "execute_result",
          "data": {
            "text/plain": [
              "(688, 9)"
            ]
          },
          "metadata": {},
          "execution_count": 21
        }
      ]
    },
    {
      "cell_type": "markdown",
      "source": [
        "**Split Data**"
      ],
      "metadata": {
        "id": "r7o6E--0gr8D"
      }
    },
    {
      "cell_type": "code",
      "source": [
        "training_df, testing_df = train_test_split(diabetes_df)"
      ],
      "metadata": {
        "id": "TZAtlzaBgtM0"
      },
      "execution_count": null,
      "outputs": []
    },
    {
      "cell_type": "code",
      "source": [
        "\"Ukuran set pelatihan (training set):\", training_df.shape"
      ],
      "metadata": {
        "colab": {
          "base_uri": "https://localhost:8080/"
        },
        "id": "lXeRSIhnlKeU",
        "outputId": "c08891ba-4a34-49d1-a7f9-b44b59c1acdd"
      },
      "execution_count": null,
      "outputs": [
        {
          "output_type": "execute_result",
          "data": {
            "text/plain": [
              "('Ukuran set pelatihan (training set):', (516, 9))"
            ]
          },
          "metadata": {},
          "execution_count": 23
        }
      ]
    },
    {
      "cell_type": "code",
      "source": [
        "\"Ukuran set pengujian (testing set):\", testing_df.shape"
      ],
      "metadata": {
        "colab": {
          "base_uri": "https://localhost:8080/"
        },
        "id": "vSTirKbnlmFg",
        "outputId": "c560551c-7751-4b76-ddd6-37eb91ac61c2"
      },
      "execution_count": null,
      "outputs": [
        {
          "output_type": "execute_result",
          "data": {
            "text/plain": [
              "('Ukuran set pengujian (testing set):', (172, 9))"
            ]
          },
          "metadata": {},
          "execution_count": 24
        }
      ]
    },
    {
      "cell_type": "markdown",
      "source": [
        "**Simpan Data ke Dalam File CSV**"
      ],
      "metadata": {
        "id": "nqwvnNyxnVSI"
      }
    },
    {
      "cell_type": "code",
      "source": [
        "# training_df.to_csv(\"training_data.csv\", index=False)"
      ],
      "metadata": {
        "id": "EVvUkqURnajc"
      },
      "execution_count": null,
      "outputs": []
    },
    {
      "cell_type": "code",
      "source": [
        "# testing_df.to_csv(\"testing_data.csv\", index=False)"
      ],
      "metadata": {
        "id": "RTNHZKCsnnUI"
      },
      "execution_count": null,
      "outputs": []
    },
    {
      "cell_type": "markdown",
      "source": [
        "**Evaluation**"
      ],
      "metadata": {
        "id": "iJif2zTmz4qT"
      }
    },
    {
      "cell_type": "code",
      "source": [
        "# function untuk melakukan perhitungan seluruh metric evaluasi -> https://scikit-learn.org/stable/modules/model_evaluation.html#classification-metrics\n",
        "from sklearn.metrics import make_scorer, accuracy_score, precision_score, recall_score, f1_score\n",
        "from sklearn.metrics import confusion_matrix, classification_report\n",
        "\n",
        "def get_metrics(true_labels, predicted_labels):\n",
        "    acc=np.round(accuracy_score(true_labels, predicted_labels),4)\n",
        "    prec=np.round(precision_score(true_labels, predicted_labels,average='weighted'),4)\n",
        "    recall=np.round(recall_score(true_labels, predicted_labels,average='weighted'),4)\n",
        "    f1=np.round(f1_score(true_labels, predicted_labels,average='weighted'),4)\n",
        "    return [acc,prec,recall,f1]"
      ],
      "metadata": {
        "id": "Mscq4eFqz3nd"
      },
      "execution_count": null,
      "outputs": []
    },
    {
      "cell_type": "markdown",
      "source": [
        "**Insight Decision Tree**"
      ],
      "metadata": {
        "id": "MkuZPo08x7yk"
      }
    },
    {
      "cell_type": "code",
      "source": [
        "X=diabetes_df.iloc[:,0:-1]\n",
        "X.head(2)"
      ],
      "metadata": {
        "colab": {
          "base_uri": "https://localhost:8080/",
          "height": 112
        },
        "id": "f5JGqJwK2pZz",
        "outputId": "dee1ae11-de7e-415d-d26b-363357421079"
      },
      "execution_count": null,
      "outputs": [
        {
          "output_type": "execute_result",
          "data": {
            "text/plain": [
              "   Pregnancies  Glucose  BloodPressure  SkinThickness  Insulin   BMI  \\\n",
              "0            6      148             72             35        0  33.6   \n",
              "1            1       85             66             29        0  26.6   \n",
              "\n",
              "   DiabetesPedigreeFunction  Age  \n",
              "0                     0.627   50  \n",
              "1                     0.351   31  "
            ],
            "text/html": [
              "\n",
              "  <div id=\"df-f21bee0d-cc53-4414-b8f4-0d98267f24e0\" class=\"colab-df-container\">\n",
              "    <div>\n",
              "<style scoped>\n",
              "    .dataframe tbody tr th:only-of-type {\n",
              "        vertical-align: middle;\n",
              "    }\n",
              "\n",
              "    .dataframe tbody tr th {\n",
              "        vertical-align: top;\n",
              "    }\n",
              "\n",
              "    .dataframe thead th {\n",
              "        text-align: right;\n",
              "    }\n",
              "</style>\n",
              "<table border=\"1\" class=\"dataframe\">\n",
              "  <thead>\n",
              "    <tr style=\"text-align: right;\">\n",
              "      <th></th>\n",
              "      <th>Pregnancies</th>\n",
              "      <th>Glucose</th>\n",
              "      <th>BloodPressure</th>\n",
              "      <th>SkinThickness</th>\n",
              "      <th>Insulin</th>\n",
              "      <th>BMI</th>\n",
              "      <th>DiabetesPedigreeFunction</th>\n",
              "      <th>Age</th>\n",
              "    </tr>\n",
              "  </thead>\n",
              "  <tbody>\n",
              "    <tr>\n",
              "      <th>0</th>\n",
              "      <td>6</td>\n",
              "      <td>148</td>\n",
              "      <td>72</td>\n",
              "      <td>35</td>\n",
              "      <td>0</td>\n",
              "      <td>33.6</td>\n",
              "      <td>0.627</td>\n",
              "      <td>50</td>\n",
              "    </tr>\n",
              "    <tr>\n",
              "      <th>1</th>\n",
              "      <td>1</td>\n",
              "      <td>85</td>\n",
              "      <td>66</td>\n",
              "      <td>29</td>\n",
              "      <td>0</td>\n",
              "      <td>26.6</td>\n",
              "      <td>0.351</td>\n",
              "      <td>31</td>\n",
              "    </tr>\n",
              "  </tbody>\n",
              "</table>\n",
              "</div>\n",
              "    <div class=\"colab-df-buttons\">\n",
              "\n",
              "  <div class=\"colab-df-container\">\n",
              "    <button class=\"colab-df-convert\" onclick=\"convertToInteractive('df-f21bee0d-cc53-4414-b8f4-0d98267f24e0')\"\n",
              "            title=\"Convert this dataframe to an interactive table.\"\n",
              "            style=\"display:none;\">\n",
              "\n",
              "  <svg xmlns=\"http://www.w3.org/2000/svg\" height=\"24px\" viewBox=\"0 -960 960 960\">\n",
              "    <path d=\"M120-120v-720h720v720H120Zm60-500h600v-160H180v160Zm220 220h160v-160H400v160Zm0 220h160v-160H400v160ZM180-400h160v-160H180v160Zm440 0h160v-160H620v160ZM180-180h160v-160H180v160Zm440 0h160v-160H620v160Z\"/>\n",
              "  </svg>\n",
              "    </button>\n",
              "\n",
              "  <style>\n",
              "    .colab-df-container {\n",
              "      display:flex;\n",
              "      gap: 12px;\n",
              "    }\n",
              "\n",
              "    .colab-df-convert {\n",
              "      background-color: #E8F0FE;\n",
              "      border: none;\n",
              "      border-radius: 50%;\n",
              "      cursor: pointer;\n",
              "      display: none;\n",
              "      fill: #1967D2;\n",
              "      height: 32px;\n",
              "      padding: 0 0 0 0;\n",
              "      width: 32px;\n",
              "    }\n",
              "\n",
              "    .colab-df-convert:hover {\n",
              "      background-color: #E2EBFA;\n",
              "      box-shadow: 0px 1px 2px rgba(60, 64, 67, 0.3), 0px 1px 3px 1px rgba(60, 64, 67, 0.15);\n",
              "      fill: #174EA6;\n",
              "    }\n",
              "\n",
              "    .colab-df-buttons div {\n",
              "      margin-bottom: 4px;\n",
              "    }\n",
              "\n",
              "    [theme=dark] .colab-df-convert {\n",
              "      background-color: #3B4455;\n",
              "      fill: #D2E3FC;\n",
              "    }\n",
              "\n",
              "    [theme=dark] .colab-df-convert:hover {\n",
              "      background-color: #434B5C;\n",
              "      box-shadow: 0px 1px 3px 1px rgba(0, 0, 0, 0.15);\n",
              "      filter: drop-shadow(0px 1px 2px rgba(0, 0, 0, 0.3));\n",
              "      fill: #FFFFFF;\n",
              "    }\n",
              "  </style>\n",
              "\n",
              "    <script>\n",
              "      const buttonEl =\n",
              "        document.querySelector('#df-f21bee0d-cc53-4414-b8f4-0d98267f24e0 button.colab-df-convert');\n",
              "      buttonEl.style.display =\n",
              "        google.colab.kernel.accessAllowed ? 'block' : 'none';\n",
              "\n",
              "      async function convertToInteractive(key) {\n",
              "        const element = document.querySelector('#df-f21bee0d-cc53-4414-b8f4-0d98267f24e0');\n",
              "        const dataTable =\n",
              "          await google.colab.kernel.invokeFunction('convertToInteractive',\n",
              "                                                    [key], {});\n",
              "        if (!dataTable) return;\n",
              "\n",
              "        const docLinkHtml = 'Like what you see? Visit the ' +\n",
              "          '<a target=\"_blank\" href=https://colab.research.google.com/notebooks/data_table.ipynb>data table notebook</a>'\n",
              "          + ' to learn more about interactive tables.';\n",
              "        element.innerHTML = '';\n",
              "        dataTable['output_type'] = 'display_data';\n",
              "        await google.colab.output.renderOutput(dataTable, element);\n",
              "        const docLink = document.createElement('div');\n",
              "        docLink.innerHTML = docLinkHtml;\n",
              "        element.appendChild(docLink);\n",
              "      }\n",
              "    </script>\n",
              "  </div>\n",
              "\n",
              "\n",
              "<div id=\"df-943fab42-e598-4721-befb-cc1fe658446d\">\n",
              "  <button class=\"colab-df-quickchart\" onclick=\"quickchart('df-943fab42-e598-4721-befb-cc1fe658446d')\"\n",
              "            title=\"Suggest charts\"\n",
              "            style=\"display:none;\">\n",
              "\n",
              "<svg xmlns=\"http://www.w3.org/2000/svg\" height=\"24px\"viewBox=\"0 0 24 24\"\n",
              "     width=\"24px\">\n",
              "    <g>\n",
              "        <path d=\"M19 3H5c-1.1 0-2 .9-2 2v14c0 1.1.9 2 2 2h14c1.1 0 2-.9 2-2V5c0-1.1-.9-2-2-2zM9 17H7v-7h2v7zm4 0h-2V7h2v10zm4 0h-2v-4h2v4z\"/>\n",
              "    </g>\n",
              "</svg>\n",
              "  </button>\n",
              "\n",
              "<style>\n",
              "  .colab-df-quickchart {\n",
              "      --bg-color: #E8F0FE;\n",
              "      --fill-color: #1967D2;\n",
              "      --hover-bg-color: #E2EBFA;\n",
              "      --hover-fill-color: #174EA6;\n",
              "      --disabled-fill-color: #AAA;\n",
              "      --disabled-bg-color: #DDD;\n",
              "  }\n",
              "\n",
              "  [theme=dark] .colab-df-quickchart {\n",
              "      --bg-color: #3B4455;\n",
              "      --fill-color: #D2E3FC;\n",
              "      --hover-bg-color: #434B5C;\n",
              "      --hover-fill-color: #FFFFFF;\n",
              "      --disabled-bg-color: #3B4455;\n",
              "      --disabled-fill-color: #666;\n",
              "  }\n",
              "\n",
              "  .colab-df-quickchart {\n",
              "    background-color: var(--bg-color);\n",
              "    border: none;\n",
              "    border-radius: 50%;\n",
              "    cursor: pointer;\n",
              "    display: none;\n",
              "    fill: var(--fill-color);\n",
              "    height: 32px;\n",
              "    padding: 0;\n",
              "    width: 32px;\n",
              "  }\n",
              "\n",
              "  .colab-df-quickchart:hover {\n",
              "    background-color: var(--hover-bg-color);\n",
              "    box-shadow: 0 1px 2px rgba(60, 64, 67, 0.3), 0 1px 3px 1px rgba(60, 64, 67, 0.15);\n",
              "    fill: var(--button-hover-fill-color);\n",
              "  }\n",
              "\n",
              "  .colab-df-quickchart-complete:disabled,\n",
              "  .colab-df-quickchart-complete:disabled:hover {\n",
              "    background-color: var(--disabled-bg-color);\n",
              "    fill: var(--disabled-fill-color);\n",
              "    box-shadow: none;\n",
              "  }\n",
              "\n",
              "  .colab-df-spinner {\n",
              "    border: 2px solid var(--fill-color);\n",
              "    border-color: transparent;\n",
              "    border-bottom-color: var(--fill-color);\n",
              "    animation:\n",
              "      spin 1s steps(1) infinite;\n",
              "  }\n",
              "\n",
              "  @keyframes spin {\n",
              "    0% {\n",
              "      border-color: transparent;\n",
              "      border-bottom-color: var(--fill-color);\n",
              "      border-left-color: var(--fill-color);\n",
              "    }\n",
              "    20% {\n",
              "      border-color: transparent;\n",
              "      border-left-color: var(--fill-color);\n",
              "      border-top-color: var(--fill-color);\n",
              "    }\n",
              "    30% {\n",
              "      border-color: transparent;\n",
              "      border-left-color: var(--fill-color);\n",
              "      border-top-color: var(--fill-color);\n",
              "      border-right-color: var(--fill-color);\n",
              "    }\n",
              "    40% {\n",
              "      border-color: transparent;\n",
              "      border-right-color: var(--fill-color);\n",
              "      border-top-color: var(--fill-color);\n",
              "    }\n",
              "    60% {\n",
              "      border-color: transparent;\n",
              "      border-right-color: var(--fill-color);\n",
              "    }\n",
              "    80% {\n",
              "      border-color: transparent;\n",
              "      border-right-color: var(--fill-color);\n",
              "      border-bottom-color: var(--fill-color);\n",
              "    }\n",
              "    90% {\n",
              "      border-color: transparent;\n",
              "      border-bottom-color: var(--fill-color);\n",
              "    }\n",
              "  }\n",
              "</style>\n",
              "\n",
              "  <script>\n",
              "    async function quickchart(key) {\n",
              "      const quickchartButtonEl =\n",
              "        document.querySelector('#' + key + ' button');\n",
              "      quickchartButtonEl.disabled = true;  // To prevent multiple clicks.\n",
              "      quickchartButtonEl.classList.add('colab-df-spinner');\n",
              "      try {\n",
              "        const charts = await google.colab.kernel.invokeFunction(\n",
              "            'suggestCharts', [key], {});\n",
              "      } catch (error) {\n",
              "        console.error('Error during call to suggestCharts:', error);\n",
              "      }\n",
              "      quickchartButtonEl.classList.remove('colab-df-spinner');\n",
              "      quickchartButtonEl.classList.add('colab-df-quickchart-complete');\n",
              "    }\n",
              "    (() => {\n",
              "      let quickchartButtonEl =\n",
              "        document.querySelector('#df-943fab42-e598-4721-befb-cc1fe658446d button');\n",
              "      quickchartButtonEl.style.display =\n",
              "        google.colab.kernel.accessAllowed ? 'block' : 'none';\n",
              "    })();\n",
              "  </script>\n",
              "</div>\n",
              "    </div>\n",
              "  </div>\n"
            ],
            "application/vnd.google.colaboratory.intrinsic+json": {
              "type": "dataframe",
              "variable_name": "X",
              "summary": "{\n  \"name\": \"X\",\n  \"rows\": 688,\n  \"fields\": [\n    {\n      \"column\": \"Pregnancies\",\n      \"properties\": {\n        \"dtype\": \"number\",\n        \"std\": 3,\n        \"min\": 0,\n        \"max\": 13,\n        \"num_unique_values\": 14,\n        \"samples\": [\n          9,\n          13,\n          6\n        ],\n        \"semantic_type\": \"\",\n        \"description\": \"\"\n      }\n    },\n    {\n      \"column\": \"Glucose\",\n      \"properties\": {\n        \"dtype\": \"number\",\n        \"std\": 30,\n        \"min\": 44,\n        \"max\": 199,\n        \"num_unique_values\": 133,\n        \"samples\": [\n          129,\n          160,\n          90\n        ],\n        \"semantic_type\": \"\",\n        \"description\": \"\"\n      }\n    },\n    {\n      \"column\": \"BloodPressure\",\n      \"properties\": {\n        \"dtype\": \"number\",\n        \"std\": 12,\n        \"min\": 24,\n        \"max\": 122,\n        \"num_unique_values\": 45,\n        \"samples\": [\n          100,\n          44,\n          65\n        ],\n        \"semantic_type\": \"\",\n        \"description\": \"\"\n      }\n    },\n    {\n      \"column\": \"SkinThickness\",\n      \"properties\": {\n        \"dtype\": \"number\",\n        \"std\": 15,\n        \"min\": 0,\n        \"max\": 60,\n        \"num_unique_values\": 49,\n        \"samples\": [\n          36,\n          8,\n          48\n        ],\n        \"semantic_type\": \"\",\n        \"description\": \"\"\n      }\n    },\n    {\n      \"column\": \"Insulin\",\n      \"properties\": {\n        \"dtype\": \"number\",\n        \"std\": 90,\n        \"min\": 0,\n        \"max\": 415,\n        \"num_unique_values\": 166,\n        \"samples\": [\n          85,\n          326,\n          370\n        ],\n        \"semantic_type\": \"\",\n        \"description\": \"\"\n      }\n    },\n    {\n      \"column\": \"BMI\",\n      \"properties\": {\n        \"dtype\": \"number\",\n        \"std\": 6.6188905598410965,\n        \"min\": 18.2,\n        \"max\": 55.0,\n        \"num_unique_values\": 237,\n        \"samples\": [\n          26.8,\n          35.4,\n          26.3\n        ],\n        \"semantic_type\": \"\",\n        \"description\": \"\"\n      }\n    },\n    {\n      \"column\": \"DiabetesPedigreeFunction\",\n      \"properties\": {\n        \"dtype\": \"number\",\n        \"std\": 0.28452706463736277,\n        \"min\": 0.078,\n        \"max\": 1.461,\n        \"num_unique_values\": 473,\n        \"samples\": [\n          0.189,\n          0.261,\n          0.271\n        ],\n        \"semantic_type\": \"\",\n        \"description\": \"\"\n      }\n    },\n    {\n      \"column\": \"Age\",\n      \"properties\": {\n        \"dtype\": \"number\",\n        \"std\": 11,\n        \"min\": 21,\n        \"max\": 68,\n        \"num_unique_values\": 48,\n        \"samples\": [\n          42,\n          49,\n          58\n        ],\n        \"semantic_type\": \"\",\n        \"description\": \"\"\n      }\n    }\n  ]\n}"
            }
          },
          "metadata": {},
          "execution_count": 28
        }
      ]
    },
    {
      "cell_type": "code",
      "source": [
        "\n",
        "y=diabetes_df.iloc[:,-1]\n",
        "y.head(2)\n",
        "X_train, X_test, y_train, y_test = train_test_split(X, y, test_size=0.2, random_state=20,stratify=y)\n",
        "# fit model Decision Tree -> https://scikit-learn.org/stable/modules/generated/sklearn.tree.DecisionTreeClassifier.html\n",
        "from sklearn.tree import DecisionTreeClassifier\n",
        "dt = DecisionTreeClassifier(random_state=0)\n",
        "dt.fit(X_train, y_train)"
      ],
      "metadata": {
        "colab": {
          "base_uri": "https://localhost:8080/",
          "height": 74
        },
        "id": "UTTmmGJ2yZFJ",
        "outputId": "56a1e3a6-f54b-49aa-a0d0-c83a268ec3c1"
      },
      "execution_count": null,
      "outputs": [
        {
          "output_type": "execute_result",
          "data": {
            "text/plain": [
              "DecisionTreeClassifier(random_state=0)"
            ],
            "text/html": [
              "<style>#sk-container-id-1 {color: black;background-color: white;}#sk-container-id-1 pre{padding: 0;}#sk-container-id-1 div.sk-toggleable {background-color: white;}#sk-container-id-1 label.sk-toggleable__label {cursor: pointer;display: block;width: 100%;margin-bottom: 0;padding: 0.3em;box-sizing: border-box;text-align: center;}#sk-container-id-1 label.sk-toggleable__label-arrow:before {content: \"▸\";float: left;margin-right: 0.25em;color: #696969;}#sk-container-id-1 label.sk-toggleable__label-arrow:hover:before {color: black;}#sk-container-id-1 div.sk-estimator:hover label.sk-toggleable__label-arrow:before {color: black;}#sk-container-id-1 div.sk-toggleable__content {max-height: 0;max-width: 0;overflow: hidden;text-align: left;background-color: #f0f8ff;}#sk-container-id-1 div.sk-toggleable__content pre {margin: 0.2em;color: black;border-radius: 0.25em;background-color: #f0f8ff;}#sk-container-id-1 input.sk-toggleable__control:checked~div.sk-toggleable__content {max-height: 200px;max-width: 100%;overflow: auto;}#sk-container-id-1 input.sk-toggleable__control:checked~label.sk-toggleable__label-arrow:before {content: \"▾\";}#sk-container-id-1 div.sk-estimator input.sk-toggleable__control:checked~label.sk-toggleable__label {background-color: #d4ebff;}#sk-container-id-1 div.sk-label input.sk-toggleable__control:checked~label.sk-toggleable__label {background-color: #d4ebff;}#sk-container-id-1 input.sk-hidden--visually {border: 0;clip: rect(1px 1px 1px 1px);clip: rect(1px, 1px, 1px, 1px);height: 1px;margin: -1px;overflow: hidden;padding: 0;position: absolute;width: 1px;}#sk-container-id-1 div.sk-estimator {font-family: monospace;background-color: #f0f8ff;border: 1px dotted black;border-radius: 0.25em;box-sizing: border-box;margin-bottom: 0.5em;}#sk-container-id-1 div.sk-estimator:hover {background-color: #d4ebff;}#sk-container-id-1 div.sk-parallel-item::after {content: \"\";width: 100%;border-bottom: 1px solid gray;flex-grow: 1;}#sk-container-id-1 div.sk-label:hover label.sk-toggleable__label {background-color: #d4ebff;}#sk-container-id-1 div.sk-serial::before {content: \"\";position: absolute;border-left: 1px solid gray;box-sizing: border-box;top: 0;bottom: 0;left: 50%;z-index: 0;}#sk-container-id-1 div.sk-serial {display: flex;flex-direction: column;align-items: center;background-color: white;padding-right: 0.2em;padding-left: 0.2em;position: relative;}#sk-container-id-1 div.sk-item {position: relative;z-index: 1;}#sk-container-id-1 div.sk-parallel {display: flex;align-items: stretch;justify-content: center;background-color: white;position: relative;}#sk-container-id-1 div.sk-item::before, #sk-container-id-1 div.sk-parallel-item::before {content: \"\";position: absolute;border-left: 1px solid gray;box-sizing: border-box;top: 0;bottom: 0;left: 50%;z-index: -1;}#sk-container-id-1 div.sk-parallel-item {display: flex;flex-direction: column;z-index: 1;position: relative;background-color: white;}#sk-container-id-1 div.sk-parallel-item:first-child::after {align-self: flex-end;width: 50%;}#sk-container-id-1 div.sk-parallel-item:last-child::after {align-self: flex-start;width: 50%;}#sk-container-id-1 div.sk-parallel-item:only-child::after {width: 0;}#sk-container-id-1 div.sk-dashed-wrapped {border: 1px dashed gray;margin: 0 0.4em 0.5em 0.4em;box-sizing: border-box;padding-bottom: 0.4em;background-color: white;}#sk-container-id-1 div.sk-label label {font-family: monospace;font-weight: bold;display: inline-block;line-height: 1.2em;}#sk-container-id-1 div.sk-label-container {text-align: center;}#sk-container-id-1 div.sk-container {/* jupyter's `normalize.less` sets `[hidden] { display: none; }` but bootstrap.min.css set `[hidden] { display: none !important; }` so we also need the `!important` here to be able to override the default hidden behavior on the sphinx rendered scikit-learn.org. See: https://github.com/scikit-learn/scikit-learn/issues/21755 */display: inline-block !important;position: relative;}#sk-container-id-1 div.sk-text-repr-fallback {display: none;}</style><div id=\"sk-container-id-1\" class=\"sk-top-container\"><div class=\"sk-text-repr-fallback\"><pre>DecisionTreeClassifier(random_state=0)</pre><b>In a Jupyter environment, please rerun this cell to show the HTML representation or trust the notebook. <br />On GitHub, the HTML representation is unable to render, please try loading this page with nbviewer.org.</b></div><div class=\"sk-container\" hidden><div class=\"sk-item\"><div class=\"sk-estimator sk-toggleable\"><input class=\"sk-toggleable__control sk-hidden--visually\" id=\"sk-estimator-id-1\" type=\"checkbox\" checked><label for=\"sk-estimator-id-1\" class=\"sk-toggleable__label sk-toggleable__label-arrow\">DecisionTreeClassifier</label><div class=\"sk-toggleable__content\"><pre>DecisionTreeClassifier(random_state=0)</pre></div></div></div></div></div>"
            ]
          },
          "metadata": {},
          "execution_count": 29
        }
      ]
    },
    {
      "cell_type": "code",
      "source": [
        "# predict model ke data test\n",
        "y_pred_dt=dt.predict(X_test)"
      ],
      "metadata": {
        "id": "QrJLpJYNzU8J"
      },
      "execution_count": null,
      "outputs": []
    },
    {
      "cell_type": "code",
      "source": [
        "# evaluation score untuk model Decision Tree\n",
        "#[accuracy, precision, recall, f1]\n",
        "get_metrics(y_test,y_pred_dt)"
      ],
      "metadata": {
        "colab": {
          "base_uri": "https://localhost:8080/"
        },
        "id": "R3pVJvk1zv8J",
        "outputId": "4936e513-135e-4eeb-d89f-33a57901d8c3"
      },
      "execution_count": null,
      "outputs": [
        {
          "output_type": "execute_result",
          "data": {
            "text/plain": [
              "[0.7319, 0.7279, 0.7319, 0.7295]"
            ]
          },
          "metadata": {},
          "execution_count": 31
        }
      ]
    },
    {
      "cell_type": "code",
      "source": [
        "hasil=['dt']+get_metrics(y_test,y_pred_dt)"
      ],
      "metadata": {
        "id": "oh7cot-5zZ8R"
      },
      "execution_count": null,
      "outputs": []
    },
    {
      "cell_type": "code",
      "source": [
        "!pip install graphviz\n",
        "!apt-get install graphviz"
      ],
      "metadata": {
        "colab": {
          "base_uri": "https://localhost:8080/"
        },
        "id": "CVw_48jAzcPg",
        "outputId": "43297f8a-14da-4f3c-854b-483ec2ba21e4"
      },
      "execution_count": null,
      "outputs": [
        {
          "output_type": "stream",
          "name": "stdout",
          "text": [
            "Requirement already satisfied: graphviz in /usr/local/lib/python3.10/dist-packages (0.20.3)\n",
            "Reading package lists... Done\n",
            "Building dependency tree... Done\n",
            "Reading state information... Done\n",
            "graphviz is already the newest version (2.42.2-6).\n",
            "0 upgraded, 0 newly installed, 0 to remove and 45 not upgraded.\n"
          ]
        }
      ]
    },
    {
      "cell_type": "code",
      "source": [
        "import graphviz\n",
        "from sklearn import model_selection, tree\n",
        "from sklearn import tree\n",
        "from sklearn.tree import export_text\n",
        "dot_data = tree.export_graphviz(dt, out_file=None)\n",
        "graph = graphviz.Source(dot_data)\n",
        "graph.render(\"Diabetes\")\n",
        "var_names = ['Pregnancies','Glucose','BloodPressure','SkinThickness','Insulin','BMI','DiabetesPedigreeFunction','Age']\n",
        "categories = ['0', '1']\n",
        "dot_data = tree.export_graphviz(dt, out_file=None,\n",
        "                         feature_names = var_names,\n",
        "                         class_names=categories,\n",
        "                         filled=True, rounded=True,\n",
        "                         special_characters=True)\n",
        "graph = graphviz.Source(dot_data)\n",
        "graph"
      ],
      "metadata": {
        "colab": {
          "base_uri": "https://localhost:8080/",
          "height": 1000
        },
        "id": "LF9FaNG50pnk",
        "outputId": "462134a0-6f0b-4bf4-ccce-dfa2efdacabf"
      },
      "execution_count": null,
      "outputs": [
        {
          "output_type": "execute_result",
          "data": {
            "image/svg+xml": "<?xml version=\"1.0\" encoding=\"UTF-8\" standalone=\"no\"?>\n<!DOCTYPE svg PUBLIC \"-//W3C//DTD SVG 1.1//EN\"\n \"http://www.w3.org/Graphics/SVG/1.1/DTD/svg11.dtd\">\n<!-- Generated by graphviz version 2.43.0 (0)\n -->\n<!-- Title: Tree Pages: 1 -->\n<svg width=\"4162pt\" height=\"1623pt\"\n viewBox=\"0.00 0.00 4161.50 1623.00\" xmlns=\"http://www.w3.org/2000/svg\" xmlns:xlink=\"http://www.w3.org/1999/xlink\">\n<g id=\"graph0\" class=\"graph\" transform=\"scale(1 1) rotate(0) translate(4 1619)\">\n<title>Tree</title>\n<polygon fill=\"white\" stroke=\"transparent\" points=\"-4,4 -4,-1619 4157.5,-1619 4157.5,4 -4,4\"/>\n<!-- 0 -->\n<g id=\"node1\" class=\"node\">\n<title>0</title>\n<path fill=\"#f2bf9a\" stroke=\"black\" d=\"M1825.5,-1615C1825.5,-1615 1724.5,-1615 1724.5,-1615 1718.5,-1615 1712.5,-1609 1712.5,-1603 1712.5,-1603 1712.5,-1544 1712.5,-1544 1712.5,-1538 1718.5,-1532 1724.5,-1532 1724.5,-1532 1825.5,-1532 1825.5,-1532 1831.5,-1532 1837.5,-1538 1837.5,-1544 1837.5,-1544 1837.5,-1603 1837.5,-1603 1837.5,-1609 1831.5,-1615 1825.5,-1615\"/>\n<text text-anchor=\"start\" x=\"1725\" y=\"-1599.8\" font-family=\"Helvetica,sans-Serif\" font-size=\"14.00\">Glucose ≤ 127.5</text>\n<text text-anchor=\"start\" x=\"1739.5\" y=\"-1584.8\" font-family=\"Helvetica,sans-Serif\" font-size=\"14.00\">gini = 0.442</text>\n<text text-anchor=\"start\" x=\"1730\" y=\"-1569.8\" font-family=\"Helvetica,sans-Serif\" font-size=\"14.00\">samples = 550</text>\n<text text-anchor=\"start\" x=\"1720.5\" y=\"-1554.8\" font-family=\"Helvetica,sans-Serif\" font-size=\"14.00\">value = [369, 181]</text>\n<text text-anchor=\"start\" x=\"1747.5\" y=\"-1539.8\" font-family=\"Helvetica,sans-Serif\" font-size=\"14.00\">class = 0</text>\n</g>\n<!-- 1 -->\n<g id=\"node2\" class=\"node\">\n<title>1</title>\n<path fill=\"#eb9d64\" stroke=\"black\" d=\"M1396.5,-1496C1396.5,-1496 1303.5,-1496 1303.5,-1496 1297.5,-1496 1291.5,-1490 1291.5,-1484 1291.5,-1484 1291.5,-1425 1291.5,-1425 1291.5,-1419 1297.5,-1413 1303.5,-1413 1303.5,-1413 1396.5,-1413 1396.5,-1413 1402.5,-1413 1408.5,-1419 1408.5,-1425 1408.5,-1425 1408.5,-1484 1408.5,-1484 1408.5,-1490 1402.5,-1496 1396.5,-1496\"/>\n<text text-anchor=\"start\" x=\"1317\" y=\"-1480.8\" font-family=\"Helvetica,sans-Serif\" font-size=\"14.00\">Age ≤ 28.5</text>\n<text text-anchor=\"start\" x=\"1314.5\" y=\"-1465.8\" font-family=\"Helvetica,sans-Serif\" font-size=\"14.00\">gini = 0.295</text>\n<text text-anchor=\"start\" x=\"1305\" y=\"-1450.8\" font-family=\"Helvetica,sans-Serif\" font-size=\"14.00\">samples = 356</text>\n<text text-anchor=\"start\" x=\"1299.5\" y=\"-1435.8\" font-family=\"Helvetica,sans-Serif\" font-size=\"14.00\">value = [292, 64]</text>\n<text text-anchor=\"start\" x=\"1322.5\" y=\"-1420.8\" font-family=\"Helvetica,sans-Serif\" font-size=\"14.00\">class = 0</text>\n</g>\n<!-- 0&#45;&gt;1 -->\n<g id=\"edge1\" class=\"edge\">\n<title>0&#45;&gt;1</title>\n<path fill=\"none\" stroke=\"black\" d=\"M1712.29,-1555.24C1633.79,-1533.63 1499.81,-1496.74 1418.64,-1474.4\"/>\n<polygon fill=\"black\" stroke=\"black\" points=\"1419.09,-1470.89 1408.52,-1471.61 1417.23,-1477.64 1419.09,-1470.89\"/>\n<text text-anchor=\"middle\" x=\"1420.87\" y=\"-1489.65\" font-family=\"Helvetica,sans-Serif\" font-size=\"14.00\">True</text>\n</g>\n<!-- 88 -->\n<g id=\"node89\" class=\"node\">\n<title>88</title>\n<path fill=\"#bbddf6\" stroke=\"black\" d=\"M2044.5,-1496C2044.5,-1496 1951.5,-1496 1951.5,-1496 1945.5,-1496 1939.5,-1490 1939.5,-1484 1939.5,-1484 1939.5,-1425 1939.5,-1425 1939.5,-1419 1945.5,-1413 1951.5,-1413 1951.5,-1413 2044.5,-1413 2044.5,-1413 2050.5,-1413 2056.5,-1419 2056.5,-1425 2056.5,-1425 2056.5,-1484 2056.5,-1484 2056.5,-1490 2050.5,-1496 2044.5,-1496\"/>\n<text text-anchor=\"start\" x=\"1964.5\" y=\"-1480.8\" font-family=\"Helvetica,sans-Serif\" font-size=\"14.00\">BMI ≤ 30.2</text>\n<text text-anchor=\"start\" x=\"1962.5\" y=\"-1465.8\" font-family=\"Helvetica,sans-Serif\" font-size=\"14.00\">gini = 0.479</text>\n<text text-anchor=\"start\" x=\"1953\" y=\"-1450.8\" font-family=\"Helvetica,sans-Serif\" font-size=\"14.00\">samples = 194</text>\n<text text-anchor=\"start\" x=\"1947.5\" y=\"-1435.8\" font-family=\"Helvetica,sans-Serif\" font-size=\"14.00\">value = [77, 117]</text>\n<text text-anchor=\"start\" x=\"1970.5\" y=\"-1420.8\" font-family=\"Helvetica,sans-Serif\" font-size=\"14.00\">class = 1</text>\n</g>\n<!-- 0&#45;&gt;88 -->\n<g id=\"edge88\" class=\"edge\">\n<title>0&#45;&gt;88</title>\n<path fill=\"none\" stroke=\"black\" d=\"M1837.71,-1539.6C1866.55,-1524.47 1900.81,-1506.49 1930.24,-1491.05\"/>\n<polygon fill=\"black\" stroke=\"black\" points=\"1931.97,-1494.09 1939.2,-1486.35 1928.72,-1487.9 1931.97,-1494.09\"/>\n<text text-anchor=\"middle\" x=\"1931.76\" y=\"-1506.52\" font-family=\"Helvetica,sans-Serif\" font-size=\"14.00\">False</text>\n</g>\n<!-- 2 -->\n<g id=\"node3\" class=\"node\">\n<title>2</title>\n<path fill=\"#e88d4c\" stroke=\"black\" d=\"M1205.5,-1377C1205.5,-1377 1112.5,-1377 1112.5,-1377 1106.5,-1377 1100.5,-1371 1100.5,-1365 1100.5,-1365 1100.5,-1306 1100.5,-1306 1100.5,-1300 1106.5,-1294 1112.5,-1294 1112.5,-1294 1205.5,-1294 1205.5,-1294 1211.5,-1294 1217.5,-1300 1217.5,-1306 1217.5,-1306 1217.5,-1365 1217.5,-1365 1217.5,-1371 1211.5,-1377 1205.5,-1377\"/>\n<text text-anchor=\"start\" x=\"1125.5\" y=\"-1361.8\" font-family=\"Helvetica,sans-Serif\" font-size=\"14.00\">BMI ≤ 45.4</text>\n<text text-anchor=\"start\" x=\"1123.5\" y=\"-1346.8\" font-family=\"Helvetica,sans-Serif\" font-size=\"14.00\">gini = 0.163</text>\n<text text-anchor=\"start\" x=\"1114\" y=\"-1331.8\" font-family=\"Helvetica,sans-Serif\" font-size=\"14.00\">samples = 201</text>\n<text text-anchor=\"start\" x=\"1108.5\" y=\"-1316.8\" font-family=\"Helvetica,sans-Serif\" font-size=\"14.00\">value = [183, 18]</text>\n<text text-anchor=\"start\" x=\"1131.5\" y=\"-1301.8\" font-family=\"Helvetica,sans-Serif\" font-size=\"14.00\">class = 0</text>\n</g>\n<!-- 1&#45;&gt;2 -->\n<g id=\"edge2\" class=\"edge\">\n<title>1&#45;&gt;2</title>\n<path fill=\"none\" stroke=\"black\" d=\"M1291.4,-1417.6C1270.87,-1405.03 1247.65,-1390.8 1226.46,-1377.82\"/>\n<polygon fill=\"black\" stroke=\"black\" points=\"1228.18,-1374.77 1217.82,-1372.53 1224.52,-1380.74 1228.18,-1374.77\"/>\n</g>\n<!-- 37 -->\n<g id=\"node38\" class=\"node\">\n<title>37</title>\n<path fill=\"#f0b68d\" stroke=\"black\" d=\"M1396.5,-1377C1396.5,-1377 1303.5,-1377 1303.5,-1377 1297.5,-1377 1291.5,-1371 1291.5,-1365 1291.5,-1365 1291.5,-1306 1291.5,-1306 1291.5,-1300 1297.5,-1294 1303.5,-1294 1303.5,-1294 1396.5,-1294 1396.5,-1294 1402.5,-1294 1408.5,-1300 1408.5,-1306 1408.5,-1306 1408.5,-1365 1408.5,-1365 1408.5,-1371 1402.5,-1377 1396.5,-1377\"/>\n<text text-anchor=\"start\" x=\"1306\" y=\"-1361.8\" font-family=\"Helvetica,sans-Serif\" font-size=\"14.00\">Insulin ≤ 203.5</text>\n<text text-anchor=\"start\" x=\"1314.5\" y=\"-1346.8\" font-family=\"Helvetica,sans-Serif\" font-size=\"14.00\">gini = 0.417</text>\n<text text-anchor=\"start\" x=\"1305\" y=\"-1331.8\" font-family=\"Helvetica,sans-Serif\" font-size=\"14.00\">samples = 155</text>\n<text text-anchor=\"start\" x=\"1299.5\" y=\"-1316.8\" font-family=\"Helvetica,sans-Serif\" font-size=\"14.00\">value = [109, 46]</text>\n<text text-anchor=\"start\" x=\"1322.5\" y=\"-1301.8\" font-family=\"Helvetica,sans-Serif\" font-size=\"14.00\">class = 0</text>\n</g>\n<!-- 1&#45;&gt;37 -->\n<g id=\"edge37\" class=\"edge\">\n<title>1&#45;&gt;37</title>\n<path fill=\"none\" stroke=\"black\" d=\"M1350,-1412.91C1350,-1404.65 1350,-1395.86 1350,-1387.3\"/>\n<polygon fill=\"black\" stroke=\"black\" points=\"1353.5,-1387.02 1350,-1377.02 1346.5,-1387.02 1353.5,-1387.02\"/>\n</g>\n<!-- 3 -->\n<g id=\"node4\" class=\"node\">\n<title>3</title>\n<path fill=\"#e78b49\" stroke=\"black\" d=\"M814.5,-1258C814.5,-1258 621.5,-1258 621.5,-1258 615.5,-1258 609.5,-1252 609.5,-1246 609.5,-1246 609.5,-1187 609.5,-1187 609.5,-1181 615.5,-1175 621.5,-1175 621.5,-1175 814.5,-1175 814.5,-1175 820.5,-1175 826.5,-1181 826.5,-1187 826.5,-1187 826.5,-1246 826.5,-1246 826.5,-1252 820.5,-1258 814.5,-1258\"/>\n<text text-anchor=\"start\" x=\"617.5\" y=\"-1242.8\" font-family=\"Helvetica,sans-Serif\" font-size=\"14.00\">DiabetesPedigreeFunction ≤ 0.67</text>\n<text text-anchor=\"start\" x=\"686\" y=\"-1227.8\" font-family=\"Helvetica,sans-Serif\" font-size=\"14.00\">gini = 0.14</text>\n<text text-anchor=\"start\" x=\"673\" y=\"-1212.8\" font-family=\"Helvetica,sans-Serif\" font-size=\"14.00\">samples = 198</text>\n<text text-anchor=\"start\" x=\"667.5\" y=\"-1197.8\" font-family=\"Helvetica,sans-Serif\" font-size=\"14.00\">value = [183, 15]</text>\n<text text-anchor=\"start\" x=\"690.5\" y=\"-1182.8\" font-family=\"Helvetica,sans-Serif\" font-size=\"14.00\">class = 0</text>\n</g>\n<!-- 2&#45;&gt;3 -->\n<g id=\"edge3\" class=\"edge\">\n<title>2&#45;&gt;3</title>\n<path fill=\"none\" stroke=\"black\" d=\"M1100.44,-1318.96C1033.43,-1301.19 921.97,-1271.61 836.61,-1248.97\"/>\n<polygon fill=\"black\" stroke=\"black\" points=\"837.43,-1245.56 826.86,-1246.38 835.63,-1252.33 837.43,-1245.56\"/>\n</g>\n<!-- 36 -->\n<g id=\"node37\" class=\"node\">\n<title>36</title>\n<path fill=\"#399de5\" stroke=\"black\" d=\"M1194.5,-1250.5C1194.5,-1250.5 1123.5,-1250.5 1123.5,-1250.5 1117.5,-1250.5 1111.5,-1244.5 1111.5,-1238.5 1111.5,-1238.5 1111.5,-1194.5 1111.5,-1194.5 1111.5,-1188.5 1117.5,-1182.5 1123.5,-1182.5 1123.5,-1182.5 1194.5,-1182.5 1194.5,-1182.5 1200.5,-1182.5 1206.5,-1188.5 1206.5,-1194.5 1206.5,-1194.5 1206.5,-1238.5 1206.5,-1238.5 1206.5,-1244.5 1200.5,-1250.5 1194.5,-1250.5\"/>\n<text text-anchor=\"start\" x=\"1131\" y=\"-1235.3\" font-family=\"Helvetica,sans-Serif\" font-size=\"14.00\">gini = 0.0</text>\n<text text-anchor=\"start\" x=\"1121.5\" y=\"-1220.3\" font-family=\"Helvetica,sans-Serif\" font-size=\"14.00\">samples = 3</text>\n<text text-anchor=\"start\" x=\"1119.5\" y=\"-1205.3\" font-family=\"Helvetica,sans-Serif\" font-size=\"14.00\">value = [0, 3]</text>\n<text text-anchor=\"start\" x=\"1131.5\" y=\"-1190.3\" font-family=\"Helvetica,sans-Serif\" font-size=\"14.00\">class = 1</text>\n</g>\n<!-- 2&#45;&gt;36 -->\n<g id=\"edge36\" class=\"edge\">\n<title>2&#45;&gt;36</title>\n<path fill=\"none\" stroke=\"black\" d=\"M1159,-1293.91C1159,-1283.2 1159,-1271.62 1159,-1260.78\"/>\n<polygon fill=\"black\" stroke=\"black\" points=\"1162.5,-1260.67 1159,-1250.67 1155.5,-1260.67 1162.5,-1260.67\"/>\n</g>\n<!-- 4 -->\n<g id=\"node5\" class=\"node\">\n<title>4</title>\n<path fill=\"#e68742\" stroke=\"black\" d=\"M500.5,-1139C500.5,-1139 399.5,-1139 399.5,-1139 393.5,-1139 387.5,-1133 387.5,-1127 387.5,-1127 387.5,-1068 387.5,-1068 387.5,-1062 393.5,-1056 399.5,-1056 399.5,-1056 500.5,-1056 500.5,-1056 506.5,-1056 512.5,-1062 512.5,-1068 512.5,-1068 512.5,-1127 512.5,-1127 512.5,-1133 506.5,-1139 500.5,-1139\"/>\n<text text-anchor=\"start\" x=\"395.5\" y=\"-1123.8\" font-family=\"Helvetica,sans-Serif\" font-size=\"14.00\">Pregnancies ≤ 7.0</text>\n<text text-anchor=\"start\" x=\"414.5\" y=\"-1108.8\" font-family=\"Helvetica,sans-Serif\" font-size=\"14.00\">gini = 0.081</text>\n<text text-anchor=\"start\" x=\"405\" y=\"-1093.8\" font-family=\"Helvetica,sans-Serif\" font-size=\"14.00\">samples = 166</text>\n<text text-anchor=\"start\" x=\"403\" y=\"-1078.8\" font-family=\"Helvetica,sans-Serif\" font-size=\"14.00\">value = [159, 7]</text>\n<text text-anchor=\"start\" x=\"422.5\" y=\"-1063.8\" font-family=\"Helvetica,sans-Serif\" font-size=\"14.00\">class = 0</text>\n</g>\n<!-- 3&#45;&gt;4 -->\n<g id=\"edge4\" class=\"edge\">\n<title>3&#45;&gt;4</title>\n<path fill=\"none\" stroke=\"black\" d=\"M625.02,-1174.91C591.17,-1160.13 553.46,-1143.67 521.73,-1129.82\"/>\n<polygon fill=\"black\" stroke=\"black\" points=\"523.08,-1126.59 512.52,-1125.79 520.28,-1133 523.08,-1126.59\"/>\n</g>\n<!-- 21 -->\n<g id=\"node22\" class=\"node\">\n<title>21</title>\n<path fill=\"#eeab7b\" stroke=\"black\" d=\"M757,-1139C757,-1139 679,-1139 679,-1139 673,-1139 667,-1133 667,-1127 667,-1127 667,-1068 667,-1068 667,-1062 673,-1056 679,-1056 679,-1056 757,-1056 757,-1056 763,-1056 769,-1062 769,-1068 769,-1068 769,-1127 769,-1127 769,-1133 763,-1139 757,-1139\"/>\n<text text-anchor=\"start\" x=\"684.5\" y=\"-1123.8\" font-family=\"Helvetica,sans-Serif\" font-size=\"14.00\">BMI ≤ 32.7</text>\n<text text-anchor=\"start\" x=\"682.5\" y=\"-1108.8\" font-family=\"Helvetica,sans-Serif\" font-size=\"14.00\">gini = 0.375</text>\n<text text-anchor=\"start\" x=\"677\" y=\"-1093.8\" font-family=\"Helvetica,sans-Serif\" font-size=\"14.00\">samples = 32</text>\n<text text-anchor=\"start\" x=\"675\" y=\"-1078.8\" font-family=\"Helvetica,sans-Serif\" font-size=\"14.00\">value = [24, 8]</text>\n<text text-anchor=\"start\" x=\"690.5\" y=\"-1063.8\" font-family=\"Helvetica,sans-Serif\" font-size=\"14.00\">class = 0</text>\n</g>\n<!-- 3&#45;&gt;21 -->\n<g id=\"edge21\" class=\"edge\">\n<title>3&#45;&gt;21</title>\n<path fill=\"none\" stroke=\"black\" d=\"M718,-1174.91C718,-1166.65 718,-1157.86 718,-1149.3\"/>\n<polygon fill=\"black\" stroke=\"black\" points=\"721.5,-1149.02 718,-1139.02 714.5,-1149.02 721.5,-1149.02\"/>\n</g>\n<!-- 5 -->\n<g id=\"node6\" class=\"node\">\n<title>5</title>\n<path fill=\"#e68640\" stroke=\"black\" d=\"M372,-1020C372,-1020 286,-1020 286,-1020 280,-1020 274,-1014 274,-1008 274,-1008 274,-949 274,-949 274,-943 280,-937 286,-937 286,-937 372,-937 372,-937 378,-937 384,-943 384,-949 384,-949 384,-1008 384,-1008 384,-1014 378,-1020 372,-1020\"/>\n<text text-anchor=\"start\" x=\"295.5\" y=\"-1004.8\" font-family=\"Helvetica,sans-Serif\" font-size=\"14.00\">BMI ≤ 31.4</text>\n<text text-anchor=\"start\" x=\"297\" y=\"-989.8\" font-family=\"Helvetica,sans-Serif\" font-size=\"14.00\">gini = 0.07</text>\n<text text-anchor=\"start\" x=\"284\" y=\"-974.8\" font-family=\"Helvetica,sans-Serif\" font-size=\"14.00\">samples = 165</text>\n<text text-anchor=\"start\" x=\"282\" y=\"-959.8\" font-family=\"Helvetica,sans-Serif\" font-size=\"14.00\">value = [159, 6]</text>\n<text text-anchor=\"start\" x=\"301.5\" y=\"-944.8\" font-family=\"Helvetica,sans-Serif\" font-size=\"14.00\">class = 0</text>\n</g>\n<!-- 4&#45;&gt;5 -->\n<g id=\"edge5\" class=\"edge\">\n<title>4&#45;&gt;5</title>\n<path fill=\"none\" stroke=\"black\" d=\"M408.02,-1055.91C398.45,-1046.65 388.19,-1036.73 378.34,-1027.21\"/>\n<polygon fill=\"black\" stroke=\"black\" points=\"380.53,-1024.46 370.91,-1020.02 375.66,-1029.49 380.53,-1024.46\"/>\n</g>\n<!-- 20 -->\n<g id=\"node21\" class=\"node\">\n<title>20</title>\n<path fill=\"#399de5\" stroke=\"black\" d=\"M485.5,-1012.5C485.5,-1012.5 414.5,-1012.5 414.5,-1012.5 408.5,-1012.5 402.5,-1006.5 402.5,-1000.5 402.5,-1000.5 402.5,-956.5 402.5,-956.5 402.5,-950.5 408.5,-944.5 414.5,-944.5 414.5,-944.5 485.5,-944.5 485.5,-944.5 491.5,-944.5 497.5,-950.5 497.5,-956.5 497.5,-956.5 497.5,-1000.5 497.5,-1000.5 497.5,-1006.5 491.5,-1012.5 485.5,-1012.5\"/>\n<text text-anchor=\"start\" x=\"422\" y=\"-997.3\" font-family=\"Helvetica,sans-Serif\" font-size=\"14.00\">gini = 0.0</text>\n<text text-anchor=\"start\" x=\"412.5\" y=\"-982.3\" font-family=\"Helvetica,sans-Serif\" font-size=\"14.00\">samples = 1</text>\n<text text-anchor=\"start\" x=\"410.5\" y=\"-967.3\" font-family=\"Helvetica,sans-Serif\" font-size=\"14.00\">value = [0, 1]</text>\n<text text-anchor=\"start\" x=\"422.5\" y=\"-952.3\" font-family=\"Helvetica,sans-Serif\" font-size=\"14.00\">class = 1</text>\n</g>\n<!-- 4&#45;&gt;20 -->\n<g id=\"edge20\" class=\"edge\">\n<title>4&#45;&gt;20</title>\n<path fill=\"none\" stroke=\"black\" d=\"M450,-1055.91C450,-1045.2 450,-1033.62 450,-1022.78\"/>\n<polygon fill=\"black\" stroke=\"black\" points=\"453.5,-1022.67 450,-1012.67 446.5,-1022.67 453.5,-1022.67\"/>\n</g>\n<!-- 6 -->\n<g id=\"node7\" class=\"node\">\n<title>6</title>\n<path fill=\"#e58139\" stroke=\"black\" d=\"M252,-893.5C252,-893.5 174,-893.5 174,-893.5 168,-893.5 162,-887.5 162,-881.5 162,-881.5 162,-837.5 162,-837.5 162,-831.5 168,-825.5 174,-825.5 174,-825.5 252,-825.5 252,-825.5 258,-825.5 264,-831.5 264,-837.5 264,-837.5 264,-881.5 264,-881.5 264,-887.5 258,-893.5 252,-893.5\"/>\n<text text-anchor=\"start\" x=\"185\" y=\"-878.3\" font-family=\"Helvetica,sans-Serif\" font-size=\"14.00\">gini = 0.0</text>\n<text text-anchor=\"start\" x=\"172\" y=\"-863.3\" font-family=\"Helvetica,sans-Serif\" font-size=\"14.00\">samples = 96</text>\n<text text-anchor=\"start\" x=\"170\" y=\"-848.3\" font-family=\"Helvetica,sans-Serif\" font-size=\"14.00\">value = [96, 0]</text>\n<text text-anchor=\"start\" x=\"185.5\" y=\"-833.3\" font-family=\"Helvetica,sans-Serif\" font-size=\"14.00\">class = 0</text>\n</g>\n<!-- 5&#45;&gt;6 -->\n<g id=\"edge6\" class=\"edge\">\n<title>5&#45;&gt;6</title>\n<path fill=\"none\" stroke=\"black\" d=\"M288.75,-936.91C277.16,-925.21 264.51,-912.46 252.94,-900.78\"/>\n<polygon fill=\"black\" stroke=\"black\" points=\"255.41,-898.3 245.88,-893.67 250.44,-903.23 255.41,-898.3\"/>\n</g>\n<!-- 7 -->\n<g id=\"node8\" class=\"node\">\n<title>7</title>\n<path fill=\"#e78d4c\" stroke=\"black\" d=\"M372,-901C372,-901 294,-901 294,-901 288,-901 282,-895 282,-889 282,-889 282,-830 282,-830 282,-824 288,-818 294,-818 294,-818 372,-818 372,-818 378,-818 384,-824 384,-830 384,-830 384,-889 384,-889 384,-895 378,-901 372,-901\"/>\n<text text-anchor=\"start\" x=\"296\" y=\"-885.8\" font-family=\"Helvetica,sans-Serif\" font-size=\"14.00\">BMI ≤ 33.65</text>\n<text text-anchor=\"start\" x=\"297.5\" y=\"-870.8\" font-family=\"Helvetica,sans-Serif\" font-size=\"14.00\">gini = 0.159</text>\n<text text-anchor=\"start\" x=\"292\" y=\"-855.8\" font-family=\"Helvetica,sans-Serif\" font-size=\"14.00\">samples = 69</text>\n<text text-anchor=\"start\" x=\"290\" y=\"-840.8\" font-family=\"Helvetica,sans-Serif\" font-size=\"14.00\">value = [63, 6]</text>\n<text text-anchor=\"start\" x=\"305.5\" y=\"-825.8\" font-family=\"Helvetica,sans-Serif\" font-size=\"14.00\">class = 0</text>\n</g>\n<!-- 5&#45;&gt;7 -->\n<g id=\"edge7\" class=\"edge\">\n<title>5&#45;&gt;7</title>\n<path fill=\"none\" stroke=\"black\" d=\"M330.39,-936.91C330.67,-928.56 330.98,-919.67 331.27,-911.02\"/>\n<polygon fill=\"black\" stroke=\"black\" points=\"334.77,-911.13 331.61,-901.02 327.77,-910.9 334.77,-911.13\"/>\n</g>\n<!-- 8 -->\n<g id=\"node9\" class=\"node\">\n<title>8</title>\n<path fill=\"#eeae80\" stroke=\"black\" d=\"M236,-782C236,-782 144,-782 144,-782 138,-782 132,-776 132,-770 132,-770 132,-711 132,-711 132,-705 138,-699 144,-699 144,-699 236,-699 236,-699 242,-699 248,-705 248,-711 248,-711 248,-770 248,-770 248,-776 242,-782 236,-782\"/>\n<text text-anchor=\"start\" x=\"140\" y=\"-766.8\" font-family=\"Helvetica,sans-Serif\" font-size=\"14.00\">Glucose ≤ 100.0</text>\n<text text-anchor=\"start\" x=\"154.5\" y=\"-751.8\" font-family=\"Helvetica,sans-Serif\" font-size=\"14.00\">gini = 0.388</text>\n<text text-anchor=\"start\" x=\"149\" y=\"-736.8\" font-family=\"Helvetica,sans-Serif\" font-size=\"14.00\">samples = 19</text>\n<text text-anchor=\"start\" x=\"147\" y=\"-721.8\" font-family=\"Helvetica,sans-Serif\" font-size=\"14.00\">value = [14, 5]</text>\n<text text-anchor=\"start\" x=\"162.5\" y=\"-706.8\" font-family=\"Helvetica,sans-Serif\" font-size=\"14.00\">class = 0</text>\n</g>\n<!-- 7&#45;&gt;8 -->\n<g id=\"edge8\" class=\"edge\">\n<title>7&#45;&gt;8</title>\n<path fill=\"none\" stroke=\"black\" d=\"M283.39,-817.91C271.74,-808.38 259.24,-798.15 247.29,-788.37\"/>\n<polygon fill=\"black\" stroke=\"black\" points=\"249.48,-785.64 239.53,-782.02 245.05,-791.06 249.48,-785.64\"/>\n</g>\n<!-- 15 -->\n<g id=\"node16\" class=\"node\">\n<title>15</title>\n<path fill=\"#e6843d\" stroke=\"black\" d=\"M400,-782C400,-782 278,-782 278,-782 272,-782 266,-776 266,-770 266,-770 266,-711 266,-711 266,-705 272,-699 278,-699 278,-699 400,-699 400,-699 406,-699 412,-705 412,-711 412,-711 412,-770 412,-770 412,-776 406,-782 400,-782\"/>\n<text text-anchor=\"start\" x=\"274\" y=\"-766.8\" font-family=\"Helvetica,sans-Serif\" font-size=\"14.00\">BloodPressure ≤ 82.5</text>\n<text text-anchor=\"start\" x=\"303.5\" y=\"-751.8\" font-family=\"Helvetica,sans-Serif\" font-size=\"14.00\">gini = 0.039</text>\n<text text-anchor=\"start\" x=\"298\" y=\"-736.8\" font-family=\"Helvetica,sans-Serif\" font-size=\"14.00\">samples = 50</text>\n<text text-anchor=\"start\" x=\"296\" y=\"-721.8\" font-family=\"Helvetica,sans-Serif\" font-size=\"14.00\">value = [49, 1]</text>\n<text text-anchor=\"start\" x=\"311.5\" y=\"-706.8\" font-family=\"Helvetica,sans-Serif\" font-size=\"14.00\">class = 0</text>\n</g>\n<!-- 7&#45;&gt;15 -->\n<g id=\"edge15\" class=\"edge\">\n<title>7&#45;&gt;15</title>\n<path fill=\"none\" stroke=\"black\" d=\"M335.08,-817.91C335.51,-809.56 335.97,-800.67 336.41,-792.02\"/>\n<polygon fill=\"black\" stroke=\"black\" points=\"339.91,-792.19 336.92,-782.02 332.91,-791.83 339.91,-792.19\"/>\n</g>\n<!-- 9 -->\n<g id=\"node10\" class=\"node\">\n<title>9</title>\n<path fill=\"#e58139\" stroke=\"black\" d=\"M90,-655.5C90,-655.5 12,-655.5 12,-655.5 6,-655.5 0,-649.5 0,-643.5 0,-643.5 0,-599.5 0,-599.5 0,-593.5 6,-587.5 12,-587.5 12,-587.5 90,-587.5 90,-587.5 96,-587.5 102,-593.5 102,-599.5 102,-599.5 102,-643.5 102,-643.5 102,-649.5 96,-655.5 90,-655.5\"/>\n<text text-anchor=\"start\" x=\"23\" y=\"-640.3\" font-family=\"Helvetica,sans-Serif\" font-size=\"14.00\">gini = 0.0</text>\n<text text-anchor=\"start\" x=\"10\" y=\"-625.3\" font-family=\"Helvetica,sans-Serif\" font-size=\"14.00\">samples = 10</text>\n<text text-anchor=\"start\" x=\"8\" y=\"-610.3\" font-family=\"Helvetica,sans-Serif\" font-size=\"14.00\">value = [10, 0]</text>\n<text text-anchor=\"start\" x=\"23.5\" y=\"-595.3\" font-family=\"Helvetica,sans-Serif\" font-size=\"14.00\">class = 0</text>\n</g>\n<!-- 8&#45;&gt;9 -->\n<g id=\"edge9\" class=\"edge\">\n<title>8&#45;&gt;9</title>\n<path fill=\"none\" stroke=\"black\" d=\"M141.77,-698.91C127.62,-686.99 112.15,-673.98 98.07,-662.12\"/>\n<polygon fill=\"black\" stroke=\"black\" points=\"100.31,-659.43 90.4,-655.67 95.8,-664.78 100.31,-659.43\"/>\n</g>\n<!-- 10 -->\n<g id=\"node11\" class=\"node\">\n<title>10</title>\n<path fill=\"#d7ebfa\" stroke=\"black\" d=\"M254,-663C254,-663 132,-663 132,-663 126,-663 120,-657 120,-651 120,-651 120,-592 120,-592 120,-586 126,-580 132,-580 132,-580 254,-580 254,-580 260,-580 266,-586 266,-592 266,-592 266,-651 266,-651 266,-657 260,-663 254,-663\"/>\n<text text-anchor=\"start\" x=\"128\" y=\"-647.8\" font-family=\"Helvetica,sans-Serif\" font-size=\"14.00\">BloodPressure ≤ 61.0</text>\n<text text-anchor=\"start\" x=\"157.5\" y=\"-632.8\" font-family=\"Helvetica,sans-Serif\" font-size=\"14.00\">gini = 0.494</text>\n<text text-anchor=\"start\" x=\"155.5\" y=\"-617.8\" font-family=\"Helvetica,sans-Serif\" font-size=\"14.00\">samples = 9</text>\n<text text-anchor=\"start\" x=\"153.5\" y=\"-602.8\" font-family=\"Helvetica,sans-Serif\" font-size=\"14.00\">value = [4, 5]</text>\n<text text-anchor=\"start\" x=\"165.5\" y=\"-587.8\" font-family=\"Helvetica,sans-Serif\" font-size=\"14.00\">class = 1</text>\n</g>\n<!-- 8&#45;&gt;10 -->\n<g id=\"edge10\" class=\"edge\">\n<title>8&#45;&gt;10</title>\n<path fill=\"none\" stroke=\"black\" d=\"M191.04,-698.91C191.25,-690.56 191.48,-681.67 191.7,-673.02\"/>\n<polygon fill=\"black\" stroke=\"black\" points=\"195.2,-673.11 191.96,-663.02 188.21,-672.93 195.2,-673.11\"/>\n</g>\n<!-- 11 -->\n<g id=\"node12\" class=\"node\">\n<title>11</title>\n<path fill=\"#e58139\" stroke=\"black\" d=\"M118.5,-536.5C118.5,-536.5 47.5,-536.5 47.5,-536.5 41.5,-536.5 35.5,-530.5 35.5,-524.5 35.5,-524.5 35.5,-480.5 35.5,-480.5 35.5,-474.5 41.5,-468.5 47.5,-468.5 47.5,-468.5 118.5,-468.5 118.5,-468.5 124.5,-468.5 130.5,-474.5 130.5,-480.5 130.5,-480.5 130.5,-524.5 130.5,-524.5 130.5,-530.5 124.5,-536.5 118.5,-536.5\"/>\n<text text-anchor=\"start\" x=\"55\" y=\"-521.3\" font-family=\"Helvetica,sans-Serif\" font-size=\"14.00\">gini = 0.0</text>\n<text text-anchor=\"start\" x=\"45.5\" y=\"-506.3\" font-family=\"Helvetica,sans-Serif\" font-size=\"14.00\">samples = 3</text>\n<text text-anchor=\"start\" x=\"43.5\" y=\"-491.3\" font-family=\"Helvetica,sans-Serif\" font-size=\"14.00\">value = [3, 0]</text>\n<text text-anchor=\"start\" x=\"55.5\" y=\"-476.3\" font-family=\"Helvetica,sans-Serif\" font-size=\"14.00\">class = 0</text>\n</g>\n<!-- 10&#45;&gt;11 -->\n<g id=\"edge11\" class=\"edge\">\n<title>10&#45;&gt;11</title>\n<path fill=\"none\" stroke=\"black\" d=\"M154.84,-579.91C143.94,-568.32 132.07,-555.7 121.18,-544.11\"/>\n<polygon fill=\"black\" stroke=\"black\" points=\"123.58,-541.56 114.18,-536.67 118.48,-546.35 123.58,-541.56\"/>\n</g>\n<!-- 12 -->\n<g id=\"node13\" class=\"node\">\n<title>12</title>\n<path fill=\"#61b1ea\" stroke=\"black\" d=\"M233.5,-544C233.5,-544 160.5,-544 160.5,-544 154.5,-544 148.5,-538 148.5,-532 148.5,-532 148.5,-473 148.5,-473 148.5,-467 154.5,-461 160.5,-461 160.5,-461 233.5,-461 233.5,-461 239.5,-461 245.5,-467 245.5,-473 245.5,-473 245.5,-532 245.5,-532 245.5,-538 239.5,-544 233.5,-544\"/>\n<text text-anchor=\"start\" x=\"156.5\" y=\"-528.8\" font-family=\"Helvetica,sans-Serif\" font-size=\"14.00\">Insulin ≤ 97.0</text>\n<text text-anchor=\"start\" x=\"161.5\" y=\"-513.8\" font-family=\"Helvetica,sans-Serif\" font-size=\"14.00\">gini = 0.278</text>\n<text text-anchor=\"start\" x=\"159.5\" y=\"-498.8\" font-family=\"Helvetica,sans-Serif\" font-size=\"14.00\">samples = 6</text>\n<text text-anchor=\"start\" x=\"157.5\" y=\"-483.8\" font-family=\"Helvetica,sans-Serif\" font-size=\"14.00\">value = [1, 5]</text>\n<text text-anchor=\"start\" x=\"169.5\" y=\"-468.8\" font-family=\"Helvetica,sans-Serif\" font-size=\"14.00\">class = 1</text>\n</g>\n<!-- 10&#45;&gt;12 -->\n<g id=\"edge12\" class=\"edge\">\n<title>10&#45;&gt;12</title>\n<path fill=\"none\" stroke=\"black\" d=\"M194.39,-579.91C194.67,-571.56 194.98,-562.67 195.27,-554.02\"/>\n<polygon fill=\"black\" stroke=\"black\" points=\"198.77,-554.13 195.61,-544.02 191.77,-553.9 198.77,-554.13\"/>\n</g>\n<!-- 13 -->\n<g id=\"node14\" class=\"node\">\n<title>13</title>\n<path fill=\"#399de5\" stroke=\"black\" d=\"M176.5,-417.5C176.5,-417.5 105.5,-417.5 105.5,-417.5 99.5,-417.5 93.5,-411.5 93.5,-405.5 93.5,-405.5 93.5,-361.5 93.5,-361.5 93.5,-355.5 99.5,-349.5 105.5,-349.5 105.5,-349.5 176.5,-349.5 176.5,-349.5 182.5,-349.5 188.5,-355.5 188.5,-361.5 188.5,-361.5 188.5,-405.5 188.5,-405.5 188.5,-411.5 182.5,-417.5 176.5,-417.5\"/>\n<text text-anchor=\"start\" x=\"113\" y=\"-402.3\" font-family=\"Helvetica,sans-Serif\" font-size=\"14.00\">gini = 0.0</text>\n<text text-anchor=\"start\" x=\"103.5\" y=\"-387.3\" font-family=\"Helvetica,sans-Serif\" font-size=\"14.00\">samples = 5</text>\n<text text-anchor=\"start\" x=\"101.5\" y=\"-372.3\" font-family=\"Helvetica,sans-Serif\" font-size=\"14.00\">value = [0, 5]</text>\n<text text-anchor=\"start\" x=\"113.5\" y=\"-357.3\" font-family=\"Helvetica,sans-Serif\" font-size=\"14.00\">class = 1</text>\n</g>\n<!-- 12&#45;&gt;13 -->\n<g id=\"edge13\" class=\"edge\">\n<title>12&#45;&gt;13</title>\n<path fill=\"none\" stroke=\"black\" d=\"M177.57,-460.91C172.29,-449.87 166.56,-437.9 161.23,-426.77\"/>\n<polygon fill=\"black\" stroke=\"black\" points=\"164.35,-425.18 156.87,-417.67 158.04,-428.2 164.35,-425.18\"/>\n</g>\n<!-- 14 -->\n<g id=\"node15\" class=\"node\">\n<title>14</title>\n<path fill=\"#e58139\" stroke=\"black\" d=\"M289.5,-417.5C289.5,-417.5 218.5,-417.5 218.5,-417.5 212.5,-417.5 206.5,-411.5 206.5,-405.5 206.5,-405.5 206.5,-361.5 206.5,-361.5 206.5,-355.5 212.5,-349.5 218.5,-349.5 218.5,-349.5 289.5,-349.5 289.5,-349.5 295.5,-349.5 301.5,-355.5 301.5,-361.5 301.5,-361.5 301.5,-405.5 301.5,-405.5 301.5,-411.5 295.5,-417.5 289.5,-417.5\"/>\n<text text-anchor=\"start\" x=\"226\" y=\"-402.3\" font-family=\"Helvetica,sans-Serif\" font-size=\"14.00\">gini = 0.0</text>\n<text text-anchor=\"start\" x=\"216.5\" y=\"-387.3\" font-family=\"Helvetica,sans-Serif\" font-size=\"14.00\">samples = 1</text>\n<text text-anchor=\"start\" x=\"214.5\" y=\"-372.3\" font-family=\"Helvetica,sans-Serif\" font-size=\"14.00\">value = [1, 0]</text>\n<text text-anchor=\"start\" x=\"226.5\" y=\"-357.3\" font-family=\"Helvetica,sans-Serif\" font-size=\"14.00\">class = 0</text>\n</g>\n<!-- 12&#45;&gt;14 -->\n<g id=\"edge14\" class=\"edge\">\n<title>12&#45;&gt;14</title>\n<path fill=\"none\" stroke=\"black\" d=\"M216.78,-460.91C222.15,-449.87 227.99,-437.9 233.41,-426.77\"/>\n<polygon fill=\"black\" stroke=\"black\" points=\"236.61,-428.19 237.84,-417.67 230.32,-425.12 236.61,-428.19\"/>\n</g>\n<!-- 16 -->\n<g id=\"node17\" class=\"node\">\n<title>16</title>\n<path fill=\"#e58139\" stroke=\"black\" d=\"M376,-655.5C376,-655.5 298,-655.5 298,-655.5 292,-655.5 286,-649.5 286,-643.5 286,-643.5 286,-599.5 286,-599.5 286,-593.5 292,-587.5 298,-587.5 298,-587.5 376,-587.5 376,-587.5 382,-587.5 388,-593.5 388,-599.5 388,-599.5 388,-643.5 388,-643.5 388,-649.5 382,-655.5 376,-655.5\"/>\n<text text-anchor=\"start\" x=\"309\" y=\"-640.3\" font-family=\"Helvetica,sans-Serif\" font-size=\"14.00\">gini = 0.0</text>\n<text text-anchor=\"start\" x=\"296\" y=\"-625.3\" font-family=\"Helvetica,sans-Serif\" font-size=\"14.00\">samples = 44</text>\n<text text-anchor=\"start\" x=\"294\" y=\"-610.3\" font-family=\"Helvetica,sans-Serif\" font-size=\"14.00\">value = [44, 0]</text>\n<text text-anchor=\"start\" x=\"309.5\" y=\"-595.3\" font-family=\"Helvetica,sans-Serif\" font-size=\"14.00\">class = 0</text>\n</g>\n<!-- 15&#45;&gt;16 -->\n<g id=\"edge16\" class=\"edge\">\n<title>15&#45;&gt;16</title>\n<path fill=\"none\" stroke=\"black\" d=\"M338.31,-698.91C338.12,-688.2 337.93,-676.62 337.74,-665.78\"/>\n<polygon fill=\"black\" stroke=\"black\" points=\"341.24,-665.61 337.57,-655.67 334.24,-665.73 341.24,-665.61\"/>\n</g>\n<!-- 17 -->\n<g id=\"node18\" class=\"node\">\n<title>17</title>\n<path fill=\"#ea9a61\" stroke=\"black\" d=\"M491.5,-663C491.5,-663 418.5,-663 418.5,-663 412.5,-663 406.5,-657 406.5,-651 406.5,-651 406.5,-592 406.5,-592 406.5,-586 412.5,-580 418.5,-580 418.5,-580 491.5,-580 491.5,-580 497.5,-580 503.5,-586 503.5,-592 503.5,-592 503.5,-651 503.5,-651 503.5,-657 497.5,-663 491.5,-663\"/>\n<text text-anchor=\"start\" x=\"414.5\" y=\"-647.8\" font-family=\"Helvetica,sans-Serif\" font-size=\"14.00\">Insulin ≤ 38.0</text>\n<text text-anchor=\"start\" x=\"419.5\" y=\"-632.8\" font-family=\"Helvetica,sans-Serif\" font-size=\"14.00\">gini = 0.278</text>\n<text text-anchor=\"start\" x=\"417.5\" y=\"-617.8\" font-family=\"Helvetica,sans-Serif\" font-size=\"14.00\">samples = 6</text>\n<text text-anchor=\"start\" x=\"415.5\" y=\"-602.8\" font-family=\"Helvetica,sans-Serif\" font-size=\"14.00\">value = [5, 1]</text>\n<text text-anchor=\"start\" x=\"427.5\" y=\"-587.8\" font-family=\"Helvetica,sans-Serif\" font-size=\"14.00\">class = 0</text>\n</g>\n<!-- 15&#45;&gt;17 -->\n<g id=\"edge17\" class=\"edge\">\n<title>15&#45;&gt;17</title>\n<path fill=\"none\" stroke=\"black\" d=\"M379.25,-698.91C388.42,-689.65 398.26,-679.73 407.7,-670.21\"/>\n<polygon fill=\"black\" stroke=\"black\" points=\"410.27,-672.59 414.83,-663.02 405.3,-667.66 410.27,-672.59\"/>\n</g>\n<!-- 18 -->\n<g id=\"node19\" class=\"node\">\n<title>18</title>\n<path fill=\"#399de5\" stroke=\"black\" d=\"M382.5,-536.5C382.5,-536.5 311.5,-536.5 311.5,-536.5 305.5,-536.5 299.5,-530.5 299.5,-524.5 299.5,-524.5 299.5,-480.5 299.5,-480.5 299.5,-474.5 305.5,-468.5 311.5,-468.5 311.5,-468.5 382.5,-468.5 382.5,-468.5 388.5,-468.5 394.5,-474.5 394.5,-480.5 394.5,-480.5 394.5,-524.5 394.5,-524.5 394.5,-530.5 388.5,-536.5 382.5,-536.5\"/>\n<text text-anchor=\"start\" x=\"319\" y=\"-521.3\" font-family=\"Helvetica,sans-Serif\" font-size=\"14.00\">gini = 0.0</text>\n<text text-anchor=\"start\" x=\"309.5\" y=\"-506.3\" font-family=\"Helvetica,sans-Serif\" font-size=\"14.00\">samples = 1</text>\n<text text-anchor=\"start\" x=\"307.5\" y=\"-491.3\" font-family=\"Helvetica,sans-Serif\" font-size=\"14.00\">value = [0, 1]</text>\n<text text-anchor=\"start\" x=\"319.5\" y=\"-476.3\" font-family=\"Helvetica,sans-Serif\" font-size=\"14.00\">class = 1</text>\n</g>\n<!-- 17&#45;&gt;18 -->\n<g id=\"edge18\" class=\"edge\">\n<title>17&#45;&gt;18</title>\n<path fill=\"none\" stroke=\"black\" d=\"M417.53,-579.91C406.83,-568.32 395.18,-555.7 384.49,-544.11\"/>\n<polygon fill=\"black\" stroke=\"black\" points=\"386.97,-541.64 377.62,-536.67 381.83,-546.39 386.97,-541.64\"/>\n</g>\n<!-- 19 -->\n<g id=\"node20\" class=\"node\">\n<title>19</title>\n<path fill=\"#e58139\" stroke=\"black\" d=\"M495.5,-536.5C495.5,-536.5 424.5,-536.5 424.5,-536.5 418.5,-536.5 412.5,-530.5 412.5,-524.5 412.5,-524.5 412.5,-480.5 412.5,-480.5 412.5,-474.5 418.5,-468.5 424.5,-468.5 424.5,-468.5 495.5,-468.5 495.5,-468.5 501.5,-468.5 507.5,-474.5 507.5,-480.5 507.5,-480.5 507.5,-524.5 507.5,-524.5 507.5,-530.5 501.5,-536.5 495.5,-536.5\"/>\n<text text-anchor=\"start\" x=\"432\" y=\"-521.3\" font-family=\"Helvetica,sans-Serif\" font-size=\"14.00\">gini = 0.0</text>\n<text text-anchor=\"start\" x=\"422.5\" y=\"-506.3\" font-family=\"Helvetica,sans-Serif\" font-size=\"14.00\">samples = 5</text>\n<text text-anchor=\"start\" x=\"420.5\" y=\"-491.3\" font-family=\"Helvetica,sans-Serif\" font-size=\"14.00\">value = [5, 0]</text>\n<text text-anchor=\"start\" x=\"432.5\" y=\"-476.3\" font-family=\"Helvetica,sans-Serif\" font-size=\"14.00\">class = 0</text>\n</g>\n<!-- 17&#45;&gt;19 -->\n<g id=\"edge19\" class=\"edge\">\n<title>17&#45;&gt;19</title>\n<path fill=\"none\" stroke=\"black\" d=\"M456.73,-579.91C457.19,-569.2 457.69,-557.62 458.15,-546.78\"/>\n<polygon fill=\"black\" stroke=\"black\" points=\"461.65,-546.81 458.58,-536.67 454.66,-546.51 461.65,-546.81\"/>\n</g>\n<!-- 22 -->\n<g id=\"node23\" class=\"node\">\n<title>22</title>\n<path fill=\"#e78a47\" stroke=\"black\" d=\"M728,-1020C728,-1020 528,-1020 528,-1020 522,-1020 516,-1014 516,-1008 516,-1008 516,-949 516,-949 516,-943 522,-937 528,-937 528,-937 728,-937 728,-937 734,-937 740,-943 740,-949 740,-949 740,-1008 740,-1008 740,-1014 734,-1020 728,-1020\"/>\n<text text-anchor=\"start\" x=\"524\" y=\"-1004.8\" font-family=\"Helvetica,sans-Serif\" font-size=\"14.00\">DiabetesPedigreeFunction ≤ 0.686</text>\n<text text-anchor=\"start\" x=\"592.5\" y=\"-989.8\" font-family=\"Helvetica,sans-Serif\" font-size=\"14.00\">gini = 0.124</text>\n<text text-anchor=\"start\" x=\"587\" y=\"-974.8\" font-family=\"Helvetica,sans-Serif\" font-size=\"14.00\">samples = 15</text>\n<text text-anchor=\"start\" x=\"585\" y=\"-959.8\" font-family=\"Helvetica,sans-Serif\" font-size=\"14.00\">value = [14, 1]</text>\n<text text-anchor=\"start\" x=\"600.5\" y=\"-944.8\" font-family=\"Helvetica,sans-Serif\" font-size=\"14.00\">class = 0</text>\n</g>\n<!-- 21&#45;&gt;22 -->\n<g id=\"edge22\" class=\"edge\">\n<title>21&#45;&gt;22</title>\n<path fill=\"none\" stroke=\"black\" d=\"M686.77,-1055.91C679.86,-1046.92 672.47,-1037.32 665.35,-1028.05\"/>\n<polygon fill=\"black\" stroke=\"black\" points=\"668.04,-1025.81 659.17,-1020.02 662.49,-1030.08 668.04,-1025.81\"/>\n</g>\n<!-- 25 -->\n<g id=\"node26\" class=\"node\">\n<title>25</title>\n<path fill=\"#f7d9c4\" stroke=\"black\" d=\"M848,-1020C848,-1020 770,-1020 770,-1020 764,-1020 758,-1014 758,-1008 758,-1008 758,-949 758,-949 758,-943 764,-937 770,-937 770,-937 848,-937 848,-937 854,-937 860,-943 860,-949 860,-949 860,-1008 860,-1008 860,-1014 854,-1020 848,-1020\"/>\n<text text-anchor=\"start\" x=\"772\" y=\"-1004.8\" font-family=\"Helvetica,sans-Serif\" font-size=\"14.00\">BMI ≤ 34.85</text>\n<text text-anchor=\"start\" x=\"773.5\" y=\"-989.8\" font-family=\"Helvetica,sans-Serif\" font-size=\"14.00\">gini = 0.484</text>\n<text text-anchor=\"start\" x=\"768\" y=\"-974.8\" font-family=\"Helvetica,sans-Serif\" font-size=\"14.00\">samples = 17</text>\n<text text-anchor=\"start\" x=\"766\" y=\"-959.8\" font-family=\"Helvetica,sans-Serif\" font-size=\"14.00\">value = [10, 7]</text>\n<text text-anchor=\"start\" x=\"781.5\" y=\"-944.8\" font-family=\"Helvetica,sans-Serif\" font-size=\"14.00\">class = 0</text>\n</g>\n<!-- 21&#45;&gt;25 -->\n<g id=\"edge25\" class=\"edge\">\n<title>21&#45;&gt;25</title>\n<path fill=\"none\" stroke=\"black\" d=\"M749.57,-1055.91C756.56,-1046.92 764.03,-1037.32 771.24,-1028.05\"/>\n<polygon fill=\"black\" stroke=\"black\" points=\"774.11,-1030.06 777.48,-1020.02 768.58,-1025.77 774.11,-1030.06\"/>\n</g>\n<!-- 23 -->\n<g id=\"node24\" class=\"node\">\n<title>23</title>\n<path fill=\"#399de5\" stroke=\"black\" d=\"M546.5,-893.5C546.5,-893.5 475.5,-893.5 475.5,-893.5 469.5,-893.5 463.5,-887.5 463.5,-881.5 463.5,-881.5 463.5,-837.5 463.5,-837.5 463.5,-831.5 469.5,-825.5 475.5,-825.5 475.5,-825.5 546.5,-825.5 546.5,-825.5 552.5,-825.5 558.5,-831.5 558.5,-837.5 558.5,-837.5 558.5,-881.5 558.5,-881.5 558.5,-887.5 552.5,-893.5 546.5,-893.5\"/>\n<text text-anchor=\"start\" x=\"483\" y=\"-878.3\" font-family=\"Helvetica,sans-Serif\" font-size=\"14.00\">gini = 0.0</text>\n<text text-anchor=\"start\" x=\"473.5\" y=\"-863.3\" font-family=\"Helvetica,sans-Serif\" font-size=\"14.00\">samples = 1</text>\n<text text-anchor=\"start\" x=\"471.5\" y=\"-848.3\" font-family=\"Helvetica,sans-Serif\" font-size=\"14.00\">value = [0, 1]</text>\n<text text-anchor=\"start\" x=\"483.5\" y=\"-833.3\" font-family=\"Helvetica,sans-Serif\" font-size=\"14.00\">class = 1</text>\n</g>\n<!-- 22&#45;&gt;23 -->\n<g id=\"edge23\" class=\"edge\">\n<title>22&#45;&gt;23</title>\n<path fill=\"none\" stroke=\"black\" d=\"M587.41,-936.91C575.71,-925.21 562.96,-912.46 551.28,-900.78\"/>\n<polygon fill=\"black\" stroke=\"black\" points=\"553.71,-898.26 544.17,-893.67 548.76,-903.21 553.71,-898.26\"/>\n</g>\n<!-- 24 -->\n<g id=\"node25\" class=\"node\">\n<title>24</title>\n<path fill=\"#e58139\" stroke=\"black\" d=\"M667,-893.5C667,-893.5 589,-893.5 589,-893.5 583,-893.5 577,-887.5 577,-881.5 577,-881.5 577,-837.5 577,-837.5 577,-831.5 583,-825.5 589,-825.5 589,-825.5 667,-825.5 667,-825.5 673,-825.5 679,-831.5 679,-837.5 679,-837.5 679,-881.5 679,-881.5 679,-887.5 673,-893.5 667,-893.5\"/>\n<text text-anchor=\"start\" x=\"600\" y=\"-878.3\" font-family=\"Helvetica,sans-Serif\" font-size=\"14.00\">gini = 0.0</text>\n<text text-anchor=\"start\" x=\"587\" y=\"-863.3\" font-family=\"Helvetica,sans-Serif\" font-size=\"14.00\">samples = 14</text>\n<text text-anchor=\"start\" x=\"585\" y=\"-848.3\" font-family=\"Helvetica,sans-Serif\" font-size=\"14.00\">value = [14, 0]</text>\n<text text-anchor=\"start\" x=\"600.5\" y=\"-833.3\" font-family=\"Helvetica,sans-Serif\" font-size=\"14.00\">class = 0</text>\n</g>\n<!-- 22&#45;&gt;24 -->\n<g id=\"edge24\" class=\"edge\">\n<title>22&#45;&gt;24</title>\n<path fill=\"none\" stroke=\"black\" d=\"M628,-936.91C628,-926.2 628,-914.62 628,-903.78\"/>\n<polygon fill=\"black\" stroke=\"black\" points=\"631.5,-903.67 628,-893.67 624.5,-903.67 631.5,-903.67\"/>\n</g>\n<!-- 26 -->\n<g id=\"node27\" class=\"node\">\n<title>26</title>\n<path fill=\"#399de5\" stroke=\"black\" d=\"M780.5,-893.5C780.5,-893.5 709.5,-893.5 709.5,-893.5 703.5,-893.5 697.5,-887.5 697.5,-881.5 697.5,-881.5 697.5,-837.5 697.5,-837.5 697.5,-831.5 703.5,-825.5 709.5,-825.5 709.5,-825.5 780.5,-825.5 780.5,-825.5 786.5,-825.5 792.5,-831.5 792.5,-837.5 792.5,-837.5 792.5,-881.5 792.5,-881.5 792.5,-887.5 786.5,-893.5 780.5,-893.5\"/>\n<text text-anchor=\"start\" x=\"717\" y=\"-878.3\" font-family=\"Helvetica,sans-Serif\" font-size=\"14.00\">gini = 0.0</text>\n<text text-anchor=\"start\" x=\"707.5\" y=\"-863.3\" font-family=\"Helvetica,sans-Serif\" font-size=\"14.00\">samples = 4</text>\n<text text-anchor=\"start\" x=\"705.5\" y=\"-848.3\" font-family=\"Helvetica,sans-Serif\" font-size=\"14.00\">value = [0, 4]</text>\n<text text-anchor=\"start\" x=\"717.5\" y=\"-833.3\" font-family=\"Helvetica,sans-Serif\" font-size=\"14.00\">class = 1</text>\n</g>\n<!-- 25&#45;&gt;26 -->\n<g id=\"edge26\" class=\"edge\">\n<title>25&#45;&gt;26</title>\n<path fill=\"none\" stroke=\"black\" d=\"M786.8,-936.91C780.76,-925.87 774.21,-913.9 768.12,-902.77\"/>\n<polygon fill=\"black\" stroke=\"black\" points=\"771.01,-900.76 763.14,-893.67 764.87,-904.12 771.01,-900.76\"/>\n</g>\n<!-- 27 -->\n<g id=\"node28\" class=\"node\">\n<title>27</title>\n<path fill=\"#eda774\" stroke=\"black\" d=\"M901,-901C901,-901 823,-901 823,-901 817,-901 811,-895 811,-889 811,-889 811,-830 811,-830 811,-824 817,-818 823,-818 823,-818 901,-818 901,-818 907,-818 913,-824 913,-830 913,-830 913,-889 913,-889 913,-895 907,-901 901,-901\"/>\n<text text-anchor=\"start\" x=\"829\" y=\"-885.8\" font-family=\"Helvetica,sans-Serif\" font-size=\"14.00\">Age ≤ 22.0</text>\n<text text-anchor=\"start\" x=\"826.5\" y=\"-870.8\" font-family=\"Helvetica,sans-Serif\" font-size=\"14.00\">gini = 0.355</text>\n<text text-anchor=\"start\" x=\"821\" y=\"-855.8\" font-family=\"Helvetica,sans-Serif\" font-size=\"14.00\">samples = 13</text>\n<text text-anchor=\"start\" x=\"819\" y=\"-840.8\" font-family=\"Helvetica,sans-Serif\" font-size=\"14.00\">value = [10, 3]</text>\n<text text-anchor=\"start\" x=\"834.5\" y=\"-825.8\" font-family=\"Helvetica,sans-Serif\" font-size=\"14.00\">class = 0</text>\n</g>\n<!-- 25&#45;&gt;27 -->\n<g id=\"edge27\" class=\"edge\">\n<title>25&#45;&gt;27</title>\n<path fill=\"none\" stroke=\"black\" d=\"M827.39,-936.91C831.29,-928.29 835.46,-919.09 839.5,-910.17\"/>\n<polygon fill=\"black\" stroke=\"black\" points=\"842.71,-911.57 843.64,-901.02 836.33,-908.69 842.71,-911.57\"/>\n</g>\n<!-- 28 -->\n<g id=\"node29\" class=\"node\">\n<title>28</title>\n<path fill=\"#399de5\" stroke=\"black\" d=\"M758.5,-774.5C758.5,-774.5 687.5,-774.5 687.5,-774.5 681.5,-774.5 675.5,-768.5 675.5,-762.5 675.5,-762.5 675.5,-718.5 675.5,-718.5 675.5,-712.5 681.5,-706.5 687.5,-706.5 687.5,-706.5 758.5,-706.5 758.5,-706.5 764.5,-706.5 770.5,-712.5 770.5,-718.5 770.5,-718.5 770.5,-762.5 770.5,-762.5 770.5,-768.5 764.5,-774.5 758.5,-774.5\"/>\n<text text-anchor=\"start\" x=\"695\" y=\"-759.3\" font-family=\"Helvetica,sans-Serif\" font-size=\"14.00\">gini = 0.0</text>\n<text text-anchor=\"start\" x=\"685.5\" y=\"-744.3\" font-family=\"Helvetica,sans-Serif\" font-size=\"14.00\">samples = 1</text>\n<text text-anchor=\"start\" x=\"683.5\" y=\"-729.3\" font-family=\"Helvetica,sans-Serif\" font-size=\"14.00\">value = [0, 1]</text>\n<text text-anchor=\"start\" x=\"695.5\" y=\"-714.3\" font-family=\"Helvetica,sans-Serif\" font-size=\"14.00\">class = 1</text>\n</g>\n<!-- 27&#45;&gt;28 -->\n<g id=\"edge28\" class=\"edge\">\n<title>27&#45;&gt;28</title>\n<path fill=\"none\" stroke=\"black\" d=\"M813.77,-817.91C799.62,-805.99 784.15,-792.98 770.07,-781.12\"/>\n<polygon fill=\"black\" stroke=\"black\" points=\"772.31,-778.43 762.4,-774.67 767.8,-783.78 772.31,-778.43\"/>\n</g>\n<!-- 29 -->\n<g id=\"node30\" class=\"node\">\n<title>29</title>\n<path fill=\"#ea9a61\" stroke=\"black\" d=\"M923,-782C923,-782 801,-782 801,-782 795,-782 789,-776 789,-770 789,-770 789,-711 789,-711 789,-705 795,-699 801,-699 801,-699 923,-699 923,-699 929,-699 935,-705 935,-711 935,-711 935,-770 935,-770 935,-776 929,-782 923,-782\"/>\n<text text-anchor=\"start\" x=\"797\" y=\"-766.8\" font-family=\"Helvetica,sans-Serif\" font-size=\"14.00\">BloodPressure ≤ 64.5</text>\n<text text-anchor=\"start\" x=\"826.5\" y=\"-751.8\" font-family=\"Helvetica,sans-Serif\" font-size=\"14.00\">gini = 0.278</text>\n<text text-anchor=\"start\" x=\"821\" y=\"-736.8\" font-family=\"Helvetica,sans-Serif\" font-size=\"14.00\">samples = 12</text>\n<text text-anchor=\"start\" x=\"819\" y=\"-721.8\" font-family=\"Helvetica,sans-Serif\" font-size=\"14.00\">value = [10, 2]</text>\n<text text-anchor=\"start\" x=\"834.5\" y=\"-706.8\" font-family=\"Helvetica,sans-Serif\" font-size=\"14.00\">class = 0</text>\n</g>\n<!-- 27&#45;&gt;29 -->\n<g id=\"edge29\" class=\"edge\">\n<title>27&#45;&gt;29</title>\n<path fill=\"none\" stroke=\"black\" d=\"M862,-817.91C862,-809.65 862,-800.86 862,-792.3\"/>\n<polygon fill=\"black\" stroke=\"black\" points=\"865.5,-792.02 862,-782.02 858.5,-792.02 865.5,-792.02\"/>\n</g>\n<!-- 30 -->\n<g id=\"node31\" class=\"node\">\n<title>30</title>\n<path fill=\"#f6d5bd\" stroke=\"black\" d=\"M784,-663C784,-663 662,-663 662,-663 656,-663 650,-657 650,-651 650,-651 650,-592 650,-592 650,-586 656,-580 662,-580 662,-580 784,-580 784,-580 790,-580 796,-586 796,-592 796,-592 796,-651 796,-651 796,-657 790,-663 784,-663\"/>\n<text text-anchor=\"start\" x=\"658\" y=\"-647.8\" font-family=\"Helvetica,sans-Serif\" font-size=\"14.00\">BloodPressure ≤ 61.0</text>\n<text text-anchor=\"start\" x=\"691\" y=\"-632.8\" font-family=\"Helvetica,sans-Serif\" font-size=\"14.00\">gini = 0.48</text>\n<text text-anchor=\"start\" x=\"685.5\" y=\"-617.8\" font-family=\"Helvetica,sans-Serif\" font-size=\"14.00\">samples = 5</text>\n<text text-anchor=\"start\" x=\"683.5\" y=\"-602.8\" font-family=\"Helvetica,sans-Serif\" font-size=\"14.00\">value = [3, 2]</text>\n<text text-anchor=\"start\" x=\"695.5\" y=\"-587.8\" font-family=\"Helvetica,sans-Serif\" font-size=\"14.00\">class = 0</text>\n</g>\n<!-- 29&#45;&gt;30 -->\n<g id=\"edge30\" class=\"edge\">\n<title>29&#45;&gt;30</title>\n<path fill=\"none\" stroke=\"black\" d=\"M813.77,-698.91C802.56,-689.47 790.53,-679.34 779.01,-669.65\"/>\n<polygon fill=\"black\" stroke=\"black\" points=\"781.04,-666.78 771.14,-663.02 776.54,-672.14 781.04,-666.78\"/>\n</g>\n<!-- 35 -->\n<g id=\"node36\" class=\"node\">\n<title>35</title>\n<path fill=\"#e58139\" stroke=\"black\" d=\"M897.5,-655.5C897.5,-655.5 826.5,-655.5 826.5,-655.5 820.5,-655.5 814.5,-649.5 814.5,-643.5 814.5,-643.5 814.5,-599.5 814.5,-599.5 814.5,-593.5 820.5,-587.5 826.5,-587.5 826.5,-587.5 897.5,-587.5 897.5,-587.5 903.5,-587.5 909.5,-593.5 909.5,-599.5 909.5,-599.5 909.5,-643.5 909.5,-643.5 909.5,-649.5 903.5,-655.5 897.5,-655.5\"/>\n<text text-anchor=\"start\" x=\"834\" y=\"-640.3\" font-family=\"Helvetica,sans-Serif\" font-size=\"14.00\">gini = 0.0</text>\n<text text-anchor=\"start\" x=\"824.5\" y=\"-625.3\" font-family=\"Helvetica,sans-Serif\" font-size=\"14.00\">samples = 7</text>\n<text text-anchor=\"start\" x=\"822.5\" y=\"-610.3\" font-family=\"Helvetica,sans-Serif\" font-size=\"14.00\">value = [7, 0]</text>\n<text text-anchor=\"start\" x=\"834.5\" y=\"-595.3\" font-family=\"Helvetica,sans-Serif\" font-size=\"14.00\">class = 0</text>\n</g>\n<!-- 29&#45;&gt;35 -->\n<g id=\"edge35\" class=\"edge\">\n<title>29&#45;&gt;35</title>\n<path fill=\"none\" stroke=\"black\" d=\"M862,-698.91C862,-688.2 862,-676.62 862,-665.78\"/>\n<polygon fill=\"black\" stroke=\"black\" points=\"865.5,-665.67 862,-655.67 858.5,-665.67 865.5,-665.67\"/>\n</g>\n<!-- 31 -->\n<g id=\"node32\" class=\"node\">\n<title>31</title>\n<path fill=\"#e58139\" stroke=\"black\" d=\"M624.5,-536.5C624.5,-536.5 553.5,-536.5 553.5,-536.5 547.5,-536.5 541.5,-530.5 541.5,-524.5 541.5,-524.5 541.5,-480.5 541.5,-480.5 541.5,-474.5 547.5,-468.5 553.5,-468.5 553.5,-468.5 624.5,-468.5 624.5,-468.5 630.5,-468.5 636.5,-474.5 636.5,-480.5 636.5,-480.5 636.5,-524.5 636.5,-524.5 636.5,-530.5 630.5,-536.5 624.5,-536.5\"/>\n<text text-anchor=\"start\" x=\"561\" y=\"-521.3\" font-family=\"Helvetica,sans-Serif\" font-size=\"14.00\">gini = 0.0</text>\n<text text-anchor=\"start\" x=\"551.5\" y=\"-506.3\" font-family=\"Helvetica,sans-Serif\" font-size=\"14.00\">samples = 2</text>\n<text text-anchor=\"start\" x=\"549.5\" y=\"-491.3\" font-family=\"Helvetica,sans-Serif\" font-size=\"14.00\">value = [2, 0]</text>\n<text text-anchor=\"start\" x=\"561.5\" y=\"-476.3\" font-family=\"Helvetica,sans-Serif\" font-size=\"14.00\">class = 0</text>\n</g>\n<!-- 30&#45;&gt;31 -->\n<g id=\"edge31\" class=\"edge\">\n<title>30&#45;&gt;31</title>\n<path fill=\"none\" stroke=\"black\" d=\"M676.51,-579.91C662.99,-568.1 648.23,-555.22 634.75,-543.45\"/>\n<polygon fill=\"black\" stroke=\"black\" points=\"636.82,-540.61 626.99,-536.67 632.22,-545.88 636.82,-540.61\"/>\n</g>\n<!-- 32 -->\n<g id=\"node33\" class=\"node\">\n<title>32</title>\n<path fill=\"#9ccef2\" stroke=\"black\" d=\"M787.5,-544C787.5,-544 666.5,-544 666.5,-544 660.5,-544 654.5,-538 654.5,-532 654.5,-532 654.5,-473 654.5,-473 654.5,-467 660.5,-461 666.5,-461 666.5,-461 787.5,-461 787.5,-461 793.5,-461 799.5,-467 799.5,-473 799.5,-473 799.5,-532 799.5,-532 799.5,-538 793.5,-544 787.5,-544\"/>\n<text text-anchor=\"start\" x=\"662.5\" y=\"-528.8\" font-family=\"Helvetica,sans-Serif\" font-size=\"14.00\">SkinThickness ≤ 24.0</text>\n<text text-anchor=\"start\" x=\"691.5\" y=\"-513.8\" font-family=\"Helvetica,sans-Serif\" font-size=\"14.00\">gini = 0.444</text>\n<text text-anchor=\"start\" x=\"689.5\" y=\"-498.8\" font-family=\"Helvetica,sans-Serif\" font-size=\"14.00\">samples = 3</text>\n<text text-anchor=\"start\" x=\"687.5\" y=\"-483.8\" font-family=\"Helvetica,sans-Serif\" font-size=\"14.00\">value = [1, 2]</text>\n<text text-anchor=\"start\" x=\"699.5\" y=\"-468.8\" font-family=\"Helvetica,sans-Serif\" font-size=\"14.00\">class = 1</text>\n</g>\n<!-- 30&#45;&gt;32 -->\n<g id=\"edge32\" class=\"edge\">\n<title>30&#45;&gt;32</title>\n<path fill=\"none\" stroke=\"black\" d=\"M724.39,-579.91C724.67,-571.56 724.98,-562.67 725.27,-554.02\"/>\n<polygon fill=\"black\" stroke=\"black\" points=\"728.77,-554.13 725.61,-544.02 721.77,-553.9 728.77,-554.13\"/>\n</g>\n<!-- 33 -->\n<g id=\"node34\" class=\"node\">\n<title>33</title>\n<path fill=\"#e58139\" stroke=\"black\" d=\"M653.5,-417.5C653.5,-417.5 582.5,-417.5 582.5,-417.5 576.5,-417.5 570.5,-411.5 570.5,-405.5 570.5,-405.5 570.5,-361.5 570.5,-361.5 570.5,-355.5 576.5,-349.5 582.5,-349.5 582.5,-349.5 653.5,-349.5 653.5,-349.5 659.5,-349.5 665.5,-355.5 665.5,-361.5 665.5,-361.5 665.5,-405.5 665.5,-405.5 665.5,-411.5 659.5,-417.5 653.5,-417.5\"/>\n<text text-anchor=\"start\" x=\"590\" y=\"-402.3\" font-family=\"Helvetica,sans-Serif\" font-size=\"14.00\">gini = 0.0</text>\n<text text-anchor=\"start\" x=\"580.5\" y=\"-387.3\" font-family=\"Helvetica,sans-Serif\" font-size=\"14.00\">samples = 1</text>\n<text text-anchor=\"start\" x=\"578.5\" y=\"-372.3\" font-family=\"Helvetica,sans-Serif\" font-size=\"14.00\">value = [1, 0]</text>\n<text text-anchor=\"start\" x=\"590.5\" y=\"-357.3\" font-family=\"Helvetica,sans-Serif\" font-size=\"14.00\">class = 0</text>\n</g>\n<!-- 32&#45;&gt;33 -->\n<g id=\"edge33\" class=\"edge\">\n<title>32&#45;&gt;33</title>\n<path fill=\"none\" stroke=\"black\" d=\"M689.18,-460.91C678.39,-449.32 666.63,-436.7 655.83,-425.11\"/>\n<polygon fill=\"black\" stroke=\"black\" points=\"658.28,-422.6 648.9,-417.67 653.15,-427.37 658.28,-422.6\"/>\n</g>\n<!-- 34 -->\n<g id=\"node35\" class=\"node\">\n<title>34</title>\n<path fill=\"#399de5\" stroke=\"black\" d=\"M766.5,-417.5C766.5,-417.5 695.5,-417.5 695.5,-417.5 689.5,-417.5 683.5,-411.5 683.5,-405.5 683.5,-405.5 683.5,-361.5 683.5,-361.5 683.5,-355.5 689.5,-349.5 695.5,-349.5 695.5,-349.5 766.5,-349.5 766.5,-349.5 772.5,-349.5 778.5,-355.5 778.5,-361.5 778.5,-361.5 778.5,-405.5 778.5,-405.5 778.5,-411.5 772.5,-417.5 766.5,-417.5\"/>\n<text text-anchor=\"start\" x=\"703\" y=\"-402.3\" font-family=\"Helvetica,sans-Serif\" font-size=\"14.00\">gini = 0.0</text>\n<text text-anchor=\"start\" x=\"693.5\" y=\"-387.3\" font-family=\"Helvetica,sans-Serif\" font-size=\"14.00\">samples = 2</text>\n<text text-anchor=\"start\" x=\"691.5\" y=\"-372.3\" font-family=\"Helvetica,sans-Serif\" font-size=\"14.00\">value = [0, 2]</text>\n<text text-anchor=\"start\" x=\"703.5\" y=\"-357.3\" font-family=\"Helvetica,sans-Serif\" font-size=\"14.00\">class = 1</text>\n</g>\n<!-- 32&#45;&gt;34 -->\n<g id=\"edge34\" class=\"edge\">\n<title>32&#45;&gt;34</title>\n<path fill=\"none\" stroke=\"black\" d=\"M728.39,-460.91C728.75,-450.2 729.15,-438.62 729.52,-427.78\"/>\n<polygon fill=\"black\" stroke=\"black\" points=\"733.02,-427.78 729.87,-417.67 726.03,-427.54 733.02,-427.78\"/>\n</g>\n<!-- 38 -->\n<g id=\"node39\" class=\"node\">\n<title>38</title>\n<path fill=\"#efaf82\" stroke=\"black\" d=\"M1362.5,-1258C1362.5,-1258 1269.5,-1258 1269.5,-1258 1263.5,-1258 1257.5,-1252 1257.5,-1246 1257.5,-1246 1257.5,-1187 1257.5,-1187 1257.5,-1181 1263.5,-1175 1269.5,-1175 1269.5,-1175 1362.5,-1175 1362.5,-1175 1368.5,-1175 1374.5,-1181 1374.5,-1187 1374.5,-1187 1374.5,-1246 1374.5,-1246 1374.5,-1252 1368.5,-1258 1362.5,-1258\"/>\n<text text-anchor=\"start\" x=\"1279\" y=\"-1242.8\" font-family=\"Helvetica,sans-Serif\" font-size=\"14.00\">BMI ≤ 26.35</text>\n<text text-anchor=\"start\" x=\"1280.5\" y=\"-1227.8\" font-family=\"Helvetica,sans-Serif\" font-size=\"14.00\">gini = 0.393</text>\n<text text-anchor=\"start\" x=\"1271\" y=\"-1212.8\" font-family=\"Helvetica,sans-Serif\" font-size=\"14.00\">samples = 149</text>\n<text text-anchor=\"start\" x=\"1265.5\" y=\"-1197.8\" font-family=\"Helvetica,sans-Serif\" font-size=\"14.00\">value = [109, 40]</text>\n<text text-anchor=\"start\" x=\"1288.5\" y=\"-1182.8\" font-family=\"Helvetica,sans-Serif\" font-size=\"14.00\">class = 0</text>\n</g>\n<!-- 37&#45;&gt;38 -->\n<g id=\"edge38\" class=\"edge\">\n<title>37&#45;&gt;38</title>\n<path fill=\"none\" stroke=\"black\" d=\"M1338.2,-1293.91C1335.75,-1285.47 1333.14,-1276.48 1330.6,-1267.74\"/>\n<polygon fill=\"black\" stroke=\"black\" points=\"1333.93,-1266.65 1327.78,-1258.02 1327.2,-1268.6 1333.93,-1266.65\"/>\n</g>\n<!-- 87 -->\n<g id=\"node88\" class=\"node\">\n<title>87</title>\n<path fill=\"#399de5\" stroke=\"black\" d=\"M1475.5,-1250.5C1475.5,-1250.5 1404.5,-1250.5 1404.5,-1250.5 1398.5,-1250.5 1392.5,-1244.5 1392.5,-1238.5 1392.5,-1238.5 1392.5,-1194.5 1392.5,-1194.5 1392.5,-1188.5 1398.5,-1182.5 1404.5,-1182.5 1404.5,-1182.5 1475.5,-1182.5 1475.5,-1182.5 1481.5,-1182.5 1487.5,-1188.5 1487.5,-1194.5 1487.5,-1194.5 1487.5,-1238.5 1487.5,-1238.5 1487.5,-1244.5 1481.5,-1250.5 1475.5,-1250.5\"/>\n<text text-anchor=\"start\" x=\"1412\" y=\"-1235.3\" font-family=\"Helvetica,sans-Serif\" font-size=\"14.00\">gini = 0.0</text>\n<text text-anchor=\"start\" x=\"1402.5\" y=\"-1220.3\" font-family=\"Helvetica,sans-Serif\" font-size=\"14.00\">samples = 6</text>\n<text text-anchor=\"start\" x=\"1400.5\" y=\"-1205.3\" font-family=\"Helvetica,sans-Serif\" font-size=\"14.00\">value = [0, 6]</text>\n<text text-anchor=\"start\" x=\"1412.5\" y=\"-1190.3\" font-family=\"Helvetica,sans-Serif\" font-size=\"14.00\">class = 1</text>\n</g>\n<!-- 37&#45;&gt;87 -->\n<g id=\"edge87\" class=\"edge\">\n<title>37&#45;&gt;87</title>\n<path fill=\"none\" stroke=\"black\" d=\"M1381.23,-1293.91C1389.97,-1282.54 1399.48,-1270.18 1408.25,-1258.77\"/>\n<polygon fill=\"black\" stroke=\"black\" points=\"1411.16,-1260.73 1414.49,-1250.67 1405.62,-1256.46 1411.16,-1260.73\"/>\n</g>\n<!-- 39 -->\n<g id=\"node40\" class=\"node\">\n<title>39</title>\n<path fill=\"#e58139\" stroke=\"black\" d=\"M1264,-1131.5C1264,-1131.5 1186,-1131.5 1186,-1131.5 1180,-1131.5 1174,-1125.5 1174,-1119.5 1174,-1119.5 1174,-1075.5 1174,-1075.5 1174,-1069.5 1180,-1063.5 1186,-1063.5 1186,-1063.5 1264,-1063.5 1264,-1063.5 1270,-1063.5 1276,-1069.5 1276,-1075.5 1276,-1075.5 1276,-1119.5 1276,-1119.5 1276,-1125.5 1270,-1131.5 1264,-1131.5\"/>\n<text text-anchor=\"start\" x=\"1197\" y=\"-1116.3\" font-family=\"Helvetica,sans-Serif\" font-size=\"14.00\">gini = 0.0</text>\n<text text-anchor=\"start\" x=\"1184\" y=\"-1101.3\" font-family=\"Helvetica,sans-Serif\" font-size=\"14.00\">samples = 26</text>\n<text text-anchor=\"start\" x=\"1182\" y=\"-1086.3\" font-family=\"Helvetica,sans-Serif\" font-size=\"14.00\">value = [26, 0]</text>\n<text text-anchor=\"start\" x=\"1197.5\" y=\"-1071.3\" font-family=\"Helvetica,sans-Serif\" font-size=\"14.00\">class = 0</text>\n</g>\n<!-- 38&#45;&gt;39 -->\n<g id=\"edge39\" class=\"edge\">\n<title>38&#45;&gt;39</title>\n<path fill=\"none\" stroke=\"black\" d=\"M1284.43,-1174.91C1275.59,-1163.54 1265.97,-1151.18 1257.1,-1139.77\"/>\n<polygon fill=\"black\" stroke=\"black\" points=\"1259.7,-1137.41 1250.8,-1131.67 1254.17,-1141.71 1259.7,-1137.41\"/>\n</g>\n<!-- 40 -->\n<g id=\"node41\" class=\"node\">\n<title>40</title>\n<path fill=\"#f2be98\" stroke=\"black\" d=\"M1506,-1139C1506,-1139 1306,-1139 1306,-1139 1300,-1139 1294,-1133 1294,-1127 1294,-1127 1294,-1068 1294,-1068 1294,-1062 1300,-1056 1306,-1056 1306,-1056 1506,-1056 1506,-1056 1512,-1056 1518,-1062 1518,-1068 1518,-1068 1518,-1127 1518,-1127 1518,-1133 1512,-1139 1506,-1139\"/>\n<text text-anchor=\"start\" x=\"1302\" y=\"-1123.8\" font-family=\"Helvetica,sans-Serif\" font-size=\"14.00\">DiabetesPedigreeFunction ≤ 0.558</text>\n<text text-anchor=\"start\" x=\"1370.5\" y=\"-1108.8\" font-family=\"Helvetica,sans-Serif\" font-size=\"14.00\">gini = 0.439</text>\n<text text-anchor=\"start\" x=\"1361\" y=\"-1093.8\" font-family=\"Helvetica,sans-Serif\" font-size=\"14.00\">samples = 123</text>\n<text text-anchor=\"start\" x=\"1359\" y=\"-1078.8\" font-family=\"Helvetica,sans-Serif\" font-size=\"14.00\">value = [83, 40]</text>\n<text text-anchor=\"start\" x=\"1378.5\" y=\"-1063.8\" font-family=\"Helvetica,sans-Serif\" font-size=\"14.00\">class = 0</text>\n</g>\n<!-- 38&#45;&gt;40 -->\n<g id=\"edge40\" class=\"edge\">\n<title>38&#45;&gt;40</title>\n<path fill=\"none\" stroke=\"black\" d=\"M1347.23,-1174.91C1354.14,-1165.92 1361.53,-1156.32 1368.65,-1147.05\"/>\n<polygon fill=\"black\" stroke=\"black\" points=\"1371.51,-1149.08 1374.83,-1139.02 1365.96,-1144.81 1371.51,-1149.08\"/>\n</g>\n<!-- 41 -->\n<g id=\"node42\" class=\"node\">\n<title>41</title>\n<path fill=\"#eda977\" stroke=\"black\" d=\"M1410,-1020C1410,-1020 1210,-1020 1210,-1020 1204,-1020 1198,-1014 1198,-1008 1198,-1008 1198,-949 1198,-949 1198,-943 1204,-937 1210,-937 1210,-937 1410,-937 1410,-937 1416,-937 1422,-943 1422,-949 1422,-949 1422,-1008 1422,-1008 1422,-1014 1416,-1020 1410,-1020\"/>\n<text text-anchor=\"start\" x=\"1206\" y=\"-1004.8\" font-family=\"Helvetica,sans-Serif\" font-size=\"14.00\">DiabetesPedigreeFunction ≤ 0.381</text>\n<text text-anchor=\"start\" x=\"1274.5\" y=\"-989.8\" font-family=\"Helvetica,sans-Serif\" font-size=\"14.00\">gini = 0.364</text>\n<text text-anchor=\"start\" x=\"1269\" y=\"-974.8\" font-family=\"Helvetica,sans-Serif\" font-size=\"14.00\">samples = 92</text>\n<text text-anchor=\"start\" x=\"1263\" y=\"-959.8\" font-family=\"Helvetica,sans-Serif\" font-size=\"14.00\">value = [70, 22]</text>\n<text text-anchor=\"start\" x=\"1282.5\" y=\"-944.8\" font-family=\"Helvetica,sans-Serif\" font-size=\"14.00\">class = 0</text>\n</g>\n<!-- 40&#45;&gt;41 -->\n<g id=\"edge41\" class=\"edge\">\n<title>40&#45;&gt;41</title>\n<path fill=\"none\" stroke=\"black\" d=\"M1372.69,-1055.91C1365.25,-1046.83 1357.28,-1037.12 1349.61,-1027.77\"/>\n<polygon fill=\"black\" stroke=\"black\" points=\"1352.3,-1025.53 1343.25,-1020.02 1346.89,-1029.97 1352.3,-1025.53\"/>\n</g>\n<!-- 68 -->\n<g id=\"node69\" class=\"node\">\n<title>68</title>\n<path fill=\"#c8e4f8\" stroke=\"black\" d=\"M1553.5,-1020C1553.5,-1020 1452.5,-1020 1452.5,-1020 1446.5,-1020 1440.5,-1014 1440.5,-1008 1440.5,-1008 1440.5,-949 1440.5,-949 1440.5,-943 1446.5,-937 1452.5,-937 1452.5,-937 1553.5,-937 1553.5,-937 1559.5,-937 1565.5,-943 1565.5,-949 1565.5,-949 1565.5,-1008 1565.5,-1008 1565.5,-1014 1559.5,-1020 1553.5,-1020\"/>\n<text text-anchor=\"start\" x=\"1448.5\" y=\"-1004.8\" font-family=\"Helvetica,sans-Serif\" font-size=\"14.00\">Pregnancies ≤ 4.5</text>\n<text text-anchor=\"start\" x=\"1467.5\" y=\"-989.8\" font-family=\"Helvetica,sans-Serif\" font-size=\"14.00\">gini = 0.487</text>\n<text text-anchor=\"start\" x=\"1462\" y=\"-974.8\" font-family=\"Helvetica,sans-Serif\" font-size=\"14.00\">samples = 31</text>\n<text text-anchor=\"start\" x=\"1456\" y=\"-959.8\" font-family=\"Helvetica,sans-Serif\" font-size=\"14.00\">value = [13, 18]</text>\n<text text-anchor=\"start\" x=\"1475.5\" y=\"-944.8\" font-family=\"Helvetica,sans-Serif\" font-size=\"14.00\">class = 1</text>\n</g>\n<!-- 40&#45;&gt;68 -->\n<g id=\"edge68\" class=\"edge\">\n<title>40&#45;&gt;68</title>\n<path fill=\"none\" stroke=\"black\" d=\"M1439.65,-1055.91C1447.18,-1046.83 1455.23,-1037.12 1462.98,-1027.77\"/>\n<polygon fill=\"black\" stroke=\"black\" points=\"1465.72,-1029.95 1469.41,-1020.02 1460.33,-1025.49 1465.72,-1029.95\"/>\n</g>\n<!-- 42 -->\n<g id=\"node43\" class=\"node\">\n<title>42</title>\n<path fill=\"#f0b68d\" stroke=\"black\" d=\"M1232,-901C1232,-901 1110,-901 1110,-901 1104,-901 1098,-895 1098,-889 1098,-889 1098,-830 1098,-830 1098,-824 1104,-818 1110,-818 1110,-818 1232,-818 1232,-818 1238,-818 1244,-824 1244,-830 1244,-830 1244,-889 1244,-889 1244,-895 1238,-901 1232,-901\"/>\n<text text-anchor=\"start\" x=\"1106\" y=\"-885.8\" font-family=\"Helvetica,sans-Serif\" font-size=\"14.00\">BloodPressure ≤ 84.0</text>\n<text text-anchor=\"start\" x=\"1135.5\" y=\"-870.8\" font-family=\"Helvetica,sans-Serif\" font-size=\"14.00\">gini = 0.418</text>\n<text text-anchor=\"start\" x=\"1130\" y=\"-855.8\" font-family=\"Helvetica,sans-Serif\" font-size=\"14.00\">samples = 74</text>\n<text text-anchor=\"start\" x=\"1124\" y=\"-840.8\" font-family=\"Helvetica,sans-Serif\" font-size=\"14.00\">value = [52, 22]</text>\n<text text-anchor=\"start\" x=\"1143.5\" y=\"-825.8\" font-family=\"Helvetica,sans-Serif\" font-size=\"14.00\">class = 0</text>\n</g>\n<!-- 41&#45;&gt;42 -->\n<g id=\"edge42\" class=\"edge\">\n<title>41&#45;&gt;42</title>\n<path fill=\"none\" stroke=\"black\" d=\"M1261.77,-936.91C1250.56,-927.47 1238.53,-917.34 1227.01,-907.65\"/>\n<polygon fill=\"black\" stroke=\"black\" points=\"1229.04,-904.78 1219.14,-901.02 1224.54,-910.14 1229.04,-904.78\"/>\n</g>\n<!-- 67 -->\n<g id=\"node68\" class=\"node\">\n<title>67</title>\n<path fill=\"#e58139\" stroke=\"black\" d=\"M1352,-893.5C1352,-893.5 1274,-893.5 1274,-893.5 1268,-893.5 1262,-887.5 1262,-881.5 1262,-881.5 1262,-837.5 1262,-837.5 1262,-831.5 1268,-825.5 1274,-825.5 1274,-825.5 1352,-825.5 1352,-825.5 1358,-825.5 1364,-831.5 1364,-837.5 1364,-837.5 1364,-881.5 1364,-881.5 1364,-887.5 1358,-893.5 1352,-893.5\"/>\n<text text-anchor=\"start\" x=\"1285\" y=\"-878.3\" font-family=\"Helvetica,sans-Serif\" font-size=\"14.00\">gini = 0.0</text>\n<text text-anchor=\"start\" x=\"1272\" y=\"-863.3\" font-family=\"Helvetica,sans-Serif\" font-size=\"14.00\">samples = 18</text>\n<text text-anchor=\"start\" x=\"1270\" y=\"-848.3\" font-family=\"Helvetica,sans-Serif\" font-size=\"14.00\">value = [18, 0]</text>\n<text text-anchor=\"start\" x=\"1285.5\" y=\"-833.3\" font-family=\"Helvetica,sans-Serif\" font-size=\"14.00\">class = 0</text>\n</g>\n<!-- 41&#45;&gt;67 -->\n<g id=\"edge67\" class=\"edge\">\n<title>41&#45;&gt;67</title>\n<path fill=\"none\" stroke=\"black\" d=\"M1311.04,-936.91C1311.32,-926.2 1311.61,-914.62 1311.89,-903.78\"/>\n<polygon fill=\"black\" stroke=\"black\" points=\"1315.39,-903.75 1312.15,-893.67 1308.39,-903.57 1315.39,-903.75\"/>\n</g>\n<!-- 43 -->\n<g id=\"node44\" class=\"node\">\n<title>43</title>\n<path fill=\"#f4ccaf\" stroke=\"black\" d=\"M1118,-782C1118,-782 1026,-782 1026,-782 1020,-782 1014,-776 1014,-770 1014,-770 1014,-711 1014,-711 1014,-705 1020,-699 1026,-699 1026,-699 1118,-699 1118,-699 1124,-699 1130,-705 1130,-711 1130,-711 1130,-770 1130,-770 1130,-776 1124,-782 1118,-782\"/>\n<text text-anchor=\"start\" x=\"1022\" y=\"-766.8\" font-family=\"Helvetica,sans-Serif\" font-size=\"14.00\">Glucose ≤ 110.5</text>\n<text text-anchor=\"start\" x=\"1036.5\" y=\"-751.8\" font-family=\"Helvetica,sans-Serif\" font-size=\"14.00\">gini = 0.468</text>\n<text text-anchor=\"start\" x=\"1031\" y=\"-736.8\" font-family=\"Helvetica,sans-Serif\" font-size=\"14.00\">samples = 59</text>\n<text text-anchor=\"start\" x=\"1025\" y=\"-721.8\" font-family=\"Helvetica,sans-Serif\" font-size=\"14.00\">value = [37, 22]</text>\n<text text-anchor=\"start\" x=\"1044.5\" y=\"-706.8\" font-family=\"Helvetica,sans-Serif\" font-size=\"14.00\">class = 0</text>\n</g>\n<!-- 42&#45;&gt;43 -->\n<g id=\"edge43\" class=\"edge\">\n<title>42&#45;&gt;43</title>\n<path fill=\"none\" stroke=\"black\" d=\"M1136.65,-817.91C1128.97,-808.83 1120.76,-799.12 1112.84,-789.77\"/>\n<polygon fill=\"black\" stroke=\"black\" points=\"1115.42,-787.39 1106.29,-782.02 1110.07,-791.92 1115.42,-787.39\"/>\n</g>\n<!-- 66 -->\n<g id=\"node67\" class=\"node\">\n<title>66</title>\n<path fill=\"#e58139\" stroke=\"black\" d=\"M1238,-774.5C1238,-774.5 1160,-774.5 1160,-774.5 1154,-774.5 1148,-768.5 1148,-762.5 1148,-762.5 1148,-718.5 1148,-718.5 1148,-712.5 1154,-706.5 1160,-706.5 1160,-706.5 1238,-706.5 1238,-706.5 1244,-706.5 1250,-712.5 1250,-718.5 1250,-718.5 1250,-762.5 1250,-762.5 1250,-768.5 1244,-774.5 1238,-774.5\"/>\n<text text-anchor=\"start\" x=\"1171\" y=\"-759.3\" font-family=\"Helvetica,sans-Serif\" font-size=\"14.00\">gini = 0.0</text>\n<text text-anchor=\"start\" x=\"1158\" y=\"-744.3\" font-family=\"Helvetica,sans-Serif\" font-size=\"14.00\">samples = 15</text>\n<text text-anchor=\"start\" x=\"1156\" y=\"-729.3\" font-family=\"Helvetica,sans-Serif\" font-size=\"14.00\">value = [15, 0]</text>\n<text text-anchor=\"start\" x=\"1171.5\" y=\"-714.3\" font-family=\"Helvetica,sans-Serif\" font-size=\"14.00\">class = 0</text>\n</g>\n<!-- 42&#45;&gt;66 -->\n<g id=\"edge66\" class=\"edge\">\n<title>42&#45;&gt;66</title>\n<path fill=\"none\" stroke=\"black\" d=\"M1180.71,-817.91C1183.3,-807.09 1186.11,-795.38 1188.72,-784.44\"/>\n<polygon fill=\"black\" stroke=\"black\" points=\"1192.14,-785.21 1191.06,-774.67 1185.33,-783.58 1192.14,-785.21\"/>\n</g>\n<!-- 44 -->\n<g id=\"node45\" class=\"node\">\n<title>44</title>\n<path fill=\"#edaa79\" stroke=\"black\" d=\"M1060.5,-663C1060.5,-663 939.5,-663 939.5,-663 933.5,-663 927.5,-657 927.5,-651 927.5,-651 927.5,-592 927.5,-592 927.5,-586 933.5,-580 939.5,-580 939.5,-580 1060.5,-580 1060.5,-580 1066.5,-580 1072.5,-586 1072.5,-592 1072.5,-592 1072.5,-651 1072.5,-651 1072.5,-657 1066.5,-663 1060.5,-663\"/>\n<text text-anchor=\"start\" x=\"935.5\" y=\"-647.8\" font-family=\"Helvetica,sans-Serif\" font-size=\"14.00\">SkinThickness ≤ 34.5</text>\n<text text-anchor=\"start\" x=\"964.5\" y=\"-632.8\" font-family=\"Helvetica,sans-Serif\" font-size=\"14.00\">gini = 0.369</text>\n<text text-anchor=\"start\" x=\"959\" y=\"-617.8\" font-family=\"Helvetica,sans-Serif\" font-size=\"14.00\">samples = 41</text>\n<text text-anchor=\"start\" x=\"953\" y=\"-602.8\" font-family=\"Helvetica,sans-Serif\" font-size=\"14.00\">value = [31, 10]</text>\n<text text-anchor=\"start\" x=\"972.5\" y=\"-587.8\" font-family=\"Helvetica,sans-Serif\" font-size=\"14.00\">class = 0</text>\n</g>\n<!-- 43&#45;&gt;44 -->\n<g id=\"edge44\" class=\"edge\">\n<title>43&#45;&gt;44</title>\n<path fill=\"none\" stroke=\"black\" d=\"M1047.02,-698.91C1041.6,-690.1 1035.82,-680.7 1030.22,-671.61\"/>\n<polygon fill=\"black\" stroke=\"black\" points=\"1033.16,-669.7 1024.94,-663.02 1027.2,-673.37 1033.16,-669.7\"/>\n</g>\n<!-- 59 -->\n<g id=\"node60\" class=\"node\">\n<title>59</title>\n<path fill=\"#9ccef2\" stroke=\"black\" d=\"M1195,-663C1195,-663 1103,-663 1103,-663 1097,-663 1091,-657 1091,-651 1091,-651 1091,-592 1091,-592 1091,-586 1097,-580 1103,-580 1103,-580 1195,-580 1195,-580 1201,-580 1207,-586 1207,-592 1207,-592 1207,-651 1207,-651 1207,-657 1201,-663 1195,-663\"/>\n<text text-anchor=\"start\" x=\"1099\" y=\"-647.8\" font-family=\"Helvetica,sans-Serif\" font-size=\"14.00\">Glucose ≤ 119.5</text>\n<text text-anchor=\"start\" x=\"1113.5\" y=\"-632.8\" font-family=\"Helvetica,sans-Serif\" font-size=\"14.00\">gini = 0.444</text>\n<text text-anchor=\"start\" x=\"1108\" y=\"-617.8\" font-family=\"Helvetica,sans-Serif\" font-size=\"14.00\">samples = 18</text>\n<text text-anchor=\"start\" x=\"1106\" y=\"-602.8\" font-family=\"Helvetica,sans-Serif\" font-size=\"14.00\">value = [6, 12]</text>\n<text text-anchor=\"start\" x=\"1121.5\" y=\"-587.8\" font-family=\"Helvetica,sans-Serif\" font-size=\"14.00\">class = 1</text>\n</g>\n<!-- 43&#45;&gt;59 -->\n<g id=\"edge59\" class=\"edge\">\n<title>43&#45;&gt;59</title>\n<path fill=\"none\" stroke=\"black\" d=\"M1098.71,-698.91C1104.51,-690.1 1110.7,-680.7 1116.68,-671.61\"/>\n<polygon fill=\"black\" stroke=\"black\" points=\"1119.76,-673.3 1122.33,-663.02 1113.91,-669.45 1119.76,-673.3\"/>\n</g>\n<!-- 45 -->\n<g id=\"node46\" class=\"node\">\n<title>45</title>\n<path fill=\"#f2c09c\" stroke=\"black\" d=\"M919,-544C919,-544 833,-544 833,-544 827,-544 821,-538 821,-532 821,-532 821,-473 821,-473 821,-467 827,-461 833,-461 833,-461 919,-461 919,-461 925,-461 931,-467 931,-473 931,-473 931,-532 931,-532 931,-538 925,-544 919,-544\"/>\n<text text-anchor=\"start\" x=\"830\" y=\"-528.8\" font-family=\"Helvetica,sans-Serif\" font-size=\"14.00\">Glucose ≤ 93.5</text>\n<text text-anchor=\"start\" x=\"840.5\" y=\"-513.8\" font-family=\"Helvetica,sans-Serif\" font-size=\"14.00\">gini = 0.444</text>\n<text text-anchor=\"start\" x=\"835\" y=\"-498.8\" font-family=\"Helvetica,sans-Serif\" font-size=\"14.00\">samples = 30</text>\n<text text-anchor=\"start\" x=\"829\" y=\"-483.8\" font-family=\"Helvetica,sans-Serif\" font-size=\"14.00\">value = [20, 10]</text>\n<text text-anchor=\"start\" x=\"848.5\" y=\"-468.8\" font-family=\"Helvetica,sans-Serif\" font-size=\"14.00\">class = 0</text>\n</g>\n<!-- 44&#45;&gt;45 -->\n<g id=\"edge45\" class=\"edge\">\n<title>44&#45;&gt;45</title>\n<path fill=\"none\" stroke=\"black\" d=\"M956.98,-579.91C947.07,-570.56 936.45,-560.54 926.27,-550.93\"/>\n<polygon fill=\"black\" stroke=\"black\" points=\"928.62,-548.34 918.95,-544.02 923.82,-553.43 928.62,-548.34\"/>\n</g>\n<!-- 58 -->\n<g id=\"node59\" class=\"node\">\n<title>58</title>\n<path fill=\"#e58139\" stroke=\"black\" d=\"M1039,-536.5C1039,-536.5 961,-536.5 961,-536.5 955,-536.5 949,-530.5 949,-524.5 949,-524.5 949,-480.5 949,-480.5 949,-474.5 955,-468.5 961,-468.5 961,-468.5 1039,-468.5 1039,-468.5 1045,-468.5 1051,-474.5 1051,-480.5 1051,-480.5 1051,-524.5 1051,-524.5 1051,-530.5 1045,-536.5 1039,-536.5\"/>\n<text text-anchor=\"start\" x=\"972\" y=\"-521.3\" font-family=\"Helvetica,sans-Serif\" font-size=\"14.00\">gini = 0.0</text>\n<text text-anchor=\"start\" x=\"959\" y=\"-506.3\" font-family=\"Helvetica,sans-Serif\" font-size=\"14.00\">samples = 11</text>\n<text text-anchor=\"start\" x=\"957\" y=\"-491.3\" font-family=\"Helvetica,sans-Serif\" font-size=\"14.00\">value = [11, 0]</text>\n<text text-anchor=\"start\" x=\"972.5\" y=\"-476.3\" font-family=\"Helvetica,sans-Serif\" font-size=\"14.00\">class = 0</text>\n</g>\n<!-- 44&#45;&gt;58 -->\n<g id=\"edge58\" class=\"edge\">\n<title>44&#45;&gt;58</title>\n<path fill=\"none\" stroke=\"black\" d=\"M1000,-579.91C1000,-569.2 1000,-557.62 1000,-546.78\"/>\n<polygon fill=\"black\" stroke=\"black\" points=\"1003.5,-546.67 1000,-536.67 996.5,-546.67 1003.5,-546.67\"/>\n</g>\n<!-- 46 -->\n<g id=\"node47\" class=\"node\">\n<title>46</title>\n<path fill=\"#e78c4b\" stroke=\"black\" d=\"M919.5,-425C919.5,-425 810.5,-425 810.5,-425 804.5,-425 798.5,-419 798.5,-413 798.5,-413 798.5,-354 798.5,-354 798.5,-348 804.5,-342 810.5,-342 810.5,-342 919.5,-342 919.5,-342 925.5,-342 931.5,-348 931.5,-354 931.5,-354 931.5,-413 931.5,-413 931.5,-419 925.5,-425 919.5,-425\"/>\n<text text-anchor=\"start\" x=\"806.5\" y=\"-409.8\" font-family=\"Helvetica,sans-Serif\" font-size=\"14.00\">Pregnancies ≤ 11.5</text>\n<text text-anchor=\"start\" x=\"829.5\" y=\"-394.8\" font-family=\"Helvetica,sans-Serif\" font-size=\"14.00\">gini = 0.153</text>\n<text text-anchor=\"start\" x=\"824\" y=\"-379.8\" font-family=\"Helvetica,sans-Serif\" font-size=\"14.00\">samples = 12</text>\n<text text-anchor=\"start\" x=\"822\" y=\"-364.8\" font-family=\"Helvetica,sans-Serif\" font-size=\"14.00\">value = [11, 1]</text>\n<text text-anchor=\"start\" x=\"837.5\" y=\"-349.8\" font-family=\"Helvetica,sans-Serif\" font-size=\"14.00\">class = 0</text>\n</g>\n<!-- 45&#45;&gt;46 -->\n<g id=\"edge46\" class=\"edge\">\n<title>45&#45;&gt;46</title>\n<path fill=\"none\" stroke=\"black\" d=\"M872.18,-460.91C871.4,-452.56 870.56,-443.67 869.75,-435.02\"/>\n<polygon fill=\"black\" stroke=\"black\" points=\"873.23,-434.65 868.81,-425.02 866.26,-435.3 873.23,-434.65\"/>\n</g>\n<!-- 49 -->\n<g id=\"node50\" class=\"node\">\n<title>49</title>\n<path fill=\"#ffffff\" stroke=\"black\" d=\"M1162,-425C1162,-425 962,-425 962,-425 956,-425 950,-419 950,-413 950,-413 950,-354 950,-354 950,-348 956,-342 962,-342 962,-342 1162,-342 1162,-342 1168,-342 1174,-348 1174,-354 1174,-354 1174,-413 1174,-413 1174,-419 1168,-425 1162,-425\"/>\n<text text-anchor=\"start\" x=\"958\" y=\"-409.8\" font-family=\"Helvetica,sans-Serif\" font-size=\"14.00\">DiabetesPedigreeFunction ≤ 0.252</text>\n<text text-anchor=\"start\" x=\"1034\" y=\"-394.8\" font-family=\"Helvetica,sans-Serif\" font-size=\"14.00\">gini = 0.5</text>\n<text text-anchor=\"start\" x=\"1021\" y=\"-379.8\" font-family=\"Helvetica,sans-Serif\" font-size=\"14.00\">samples = 18</text>\n<text text-anchor=\"start\" x=\"1022.5\" y=\"-364.8\" font-family=\"Helvetica,sans-Serif\" font-size=\"14.00\">value = [9, 9]</text>\n<text text-anchor=\"start\" x=\"1034.5\" y=\"-349.8\" font-family=\"Helvetica,sans-Serif\" font-size=\"14.00\">class = 0</text>\n</g>\n<!-- 45&#45;&gt;49 -->\n<g id=\"edge49\" class=\"edge\">\n<title>45&#45;&gt;49</title>\n<path fill=\"none\" stroke=\"black\" d=\"M931.15,-466.58C934.14,-464.69 937.11,-462.82 940,-461 955.62,-451.16 972.37,-440.64 988.31,-430.64\"/>\n<polygon fill=\"black\" stroke=\"black\" points=\"990.46,-433.42 997.07,-425.14 986.74,-427.49 990.46,-433.42\"/>\n</g>\n<!-- 47 -->\n<g id=\"node48\" class=\"node\">\n<title>47</title>\n<path fill=\"#e58139\" stroke=\"black\" d=\"M796,-298.5C796,-298.5 718,-298.5 718,-298.5 712,-298.5 706,-292.5 706,-286.5 706,-286.5 706,-242.5 706,-242.5 706,-236.5 712,-230.5 718,-230.5 718,-230.5 796,-230.5 796,-230.5 802,-230.5 808,-236.5 808,-242.5 808,-242.5 808,-286.5 808,-286.5 808,-292.5 802,-298.5 796,-298.5\"/>\n<text text-anchor=\"start\" x=\"729\" y=\"-283.3\" font-family=\"Helvetica,sans-Serif\" font-size=\"14.00\">gini = 0.0</text>\n<text text-anchor=\"start\" x=\"716\" y=\"-268.3\" font-family=\"Helvetica,sans-Serif\" font-size=\"14.00\">samples = 11</text>\n<text text-anchor=\"start\" x=\"714\" y=\"-253.3\" font-family=\"Helvetica,sans-Serif\" font-size=\"14.00\">value = [11, 0]</text>\n<text text-anchor=\"start\" x=\"729.5\" y=\"-238.3\" font-family=\"Helvetica,sans-Serif\" font-size=\"14.00\">class = 0</text>\n</g>\n<!-- 46&#45;&gt;47 -->\n<g id=\"edge47\" class=\"edge\">\n<title>46&#45;&gt;47</title>\n<path fill=\"none\" stroke=\"black\" d=\"M827.53,-341.91C816.83,-330.32 805.18,-317.7 794.49,-306.11\"/>\n<polygon fill=\"black\" stroke=\"black\" points=\"796.97,-303.64 787.62,-298.67 791.83,-308.39 796.97,-303.64\"/>\n</g>\n<!-- 48 -->\n<g id=\"node49\" class=\"node\">\n<title>48</title>\n<path fill=\"#399de5\" stroke=\"black\" d=\"M909.5,-298.5C909.5,-298.5 838.5,-298.5 838.5,-298.5 832.5,-298.5 826.5,-292.5 826.5,-286.5 826.5,-286.5 826.5,-242.5 826.5,-242.5 826.5,-236.5 832.5,-230.5 838.5,-230.5 838.5,-230.5 909.5,-230.5 909.5,-230.5 915.5,-230.5 921.5,-236.5 921.5,-242.5 921.5,-242.5 921.5,-286.5 921.5,-286.5 921.5,-292.5 915.5,-298.5 909.5,-298.5\"/>\n<text text-anchor=\"start\" x=\"846\" y=\"-283.3\" font-family=\"Helvetica,sans-Serif\" font-size=\"14.00\">gini = 0.0</text>\n<text text-anchor=\"start\" x=\"836.5\" y=\"-268.3\" font-family=\"Helvetica,sans-Serif\" font-size=\"14.00\">samples = 1</text>\n<text text-anchor=\"start\" x=\"834.5\" y=\"-253.3\" font-family=\"Helvetica,sans-Serif\" font-size=\"14.00\">value = [0, 1]</text>\n<text text-anchor=\"start\" x=\"846.5\" y=\"-238.3\" font-family=\"Helvetica,sans-Serif\" font-size=\"14.00\">class = 1</text>\n</g>\n<!-- 46&#45;&gt;48 -->\n<g id=\"edge48\" class=\"edge\">\n<title>46&#45;&gt;48</title>\n<path fill=\"none\" stroke=\"black\" d=\"M868.12,-341.91C868.95,-331.2 869.84,-319.62 870.67,-308.78\"/>\n<polygon fill=\"black\" stroke=\"black\" points=\"874.17,-308.91 871.45,-298.67 867.19,-308.37 874.17,-308.91\"/>\n</g>\n<!-- 50 -->\n<g id=\"node51\" class=\"node\">\n<title>50</title>\n<path fill=\"#efb083\" stroke=\"black\" d=\"M1071,-306C1071,-306 987,-306 987,-306 981,-306 975,-300 975,-294 975,-294 975,-235 975,-235 975,-229 981,-223 987,-223 987,-223 1071,-223 1071,-223 1077,-223 1083,-229 1083,-235 1083,-235 1083,-294 1083,-294 1083,-300 1077,-306 1071,-306\"/>\n<text text-anchor=\"start\" x=\"983\" y=\"-290.8\" font-family=\"Helvetica,sans-Serif\" font-size=\"14.00\">Glucose ≤ 97.0</text>\n<text text-anchor=\"start\" x=\"993.5\" y=\"-275.8\" font-family=\"Helvetica,sans-Serif\" font-size=\"14.00\">gini = 0.397</text>\n<text text-anchor=\"start\" x=\"988\" y=\"-260.8\" font-family=\"Helvetica,sans-Serif\" font-size=\"14.00\">samples = 11</text>\n<text text-anchor=\"start\" x=\"989.5\" y=\"-245.8\" font-family=\"Helvetica,sans-Serif\" font-size=\"14.00\">value = [8, 3]</text>\n<text text-anchor=\"start\" x=\"1001.5\" y=\"-230.8\" font-family=\"Helvetica,sans-Serif\" font-size=\"14.00\">class = 0</text>\n</g>\n<!-- 49&#45;&gt;50 -->\n<g id=\"edge50\" class=\"edge\">\n<title>49&#45;&gt;50</title>\n<path fill=\"none\" stroke=\"black\" d=\"M1050.55,-341.91C1048.17,-333.47 1045.63,-324.48 1043.17,-315.74\"/>\n<polygon fill=\"black\" stroke=\"black\" points=\"1046.51,-314.7 1040.43,-306.02 1039.78,-316.6 1046.51,-314.7\"/>\n</g>\n<!-- 55 -->\n<g id=\"node56\" class=\"node\">\n<title>55</title>\n<path fill=\"#5aade9\" stroke=\"black\" d=\"M1313,-306C1313,-306 1113,-306 1113,-306 1107,-306 1101,-300 1101,-294 1101,-294 1101,-235 1101,-235 1101,-229 1107,-223 1113,-223 1113,-223 1313,-223 1313,-223 1319,-223 1325,-229 1325,-235 1325,-235 1325,-294 1325,-294 1325,-300 1319,-306 1313,-306\"/>\n<text text-anchor=\"start\" x=\"1109\" y=\"-290.8\" font-family=\"Helvetica,sans-Serif\" font-size=\"14.00\">DiabetesPedigreeFunction ≤ 0.379</text>\n<text text-anchor=\"start\" x=\"1177.5\" y=\"-275.8\" font-family=\"Helvetica,sans-Serif\" font-size=\"14.00\">gini = 0.245</text>\n<text text-anchor=\"start\" x=\"1175.5\" y=\"-260.8\" font-family=\"Helvetica,sans-Serif\" font-size=\"14.00\">samples = 7</text>\n<text text-anchor=\"start\" x=\"1173.5\" y=\"-245.8\" font-family=\"Helvetica,sans-Serif\" font-size=\"14.00\">value = [1, 6]</text>\n<text text-anchor=\"start\" x=\"1185.5\" y=\"-230.8\" font-family=\"Helvetica,sans-Serif\" font-size=\"14.00\">class = 1</text>\n</g>\n<!-- 49&#45;&gt;55 -->\n<g id=\"edge55\" class=\"edge\">\n<title>49&#45;&gt;55</title>\n<path fill=\"none\" stroke=\"black\" d=\"M1114.39,-341.91C1126.69,-332.38 1139.89,-322.15 1152.51,-312.37\"/>\n<polygon fill=\"black\" stroke=\"black\" points=\"1154.94,-314.91 1160.7,-306.02 1150.66,-309.38 1154.94,-314.91\"/>\n</g>\n<!-- 51 -->\n<g id=\"node52\" class=\"node\">\n<title>51</title>\n<path fill=\"#399de5\" stroke=\"black\" d=\"M937.5,-179.5C937.5,-179.5 866.5,-179.5 866.5,-179.5 860.5,-179.5 854.5,-173.5 854.5,-167.5 854.5,-167.5 854.5,-123.5 854.5,-123.5 854.5,-117.5 860.5,-111.5 866.5,-111.5 866.5,-111.5 937.5,-111.5 937.5,-111.5 943.5,-111.5 949.5,-117.5 949.5,-123.5 949.5,-123.5 949.5,-167.5 949.5,-167.5 949.5,-173.5 943.5,-179.5 937.5,-179.5\"/>\n<text text-anchor=\"start\" x=\"874\" y=\"-164.3\" font-family=\"Helvetica,sans-Serif\" font-size=\"14.00\">gini = 0.0</text>\n<text text-anchor=\"start\" x=\"864.5\" y=\"-149.3\" font-family=\"Helvetica,sans-Serif\" font-size=\"14.00\">samples = 2</text>\n<text text-anchor=\"start\" x=\"862.5\" y=\"-134.3\" font-family=\"Helvetica,sans-Serif\" font-size=\"14.00\">value = [0, 2]</text>\n<text text-anchor=\"start\" x=\"874.5\" y=\"-119.3\" font-family=\"Helvetica,sans-Serif\" font-size=\"14.00\">class = 1</text>\n</g>\n<!-- 50&#45;&gt;51 -->\n<g id=\"edge51\" class=\"edge\">\n<title>50&#45;&gt;51</title>\n<path fill=\"none\" stroke=\"black\" d=\"M984.94,-222.91C972.12,-211.1 958.14,-198.22 945.36,-186.45\"/>\n<polygon fill=\"black\" stroke=\"black\" points=\"947.73,-183.87 938,-179.67 942.98,-189.02 947.73,-183.87\"/>\n</g>\n<!-- 52 -->\n<g id=\"node53\" class=\"node\">\n<title>52</title>\n<path fill=\"#e89152\" stroke=\"black\" d=\"M1102,-187C1102,-187 980,-187 980,-187 974,-187 968,-181 968,-175 968,-175 968,-116 968,-116 968,-110 974,-104 980,-104 980,-104 1102,-104 1102,-104 1108,-104 1114,-110 1114,-116 1114,-116 1114,-175 1114,-175 1114,-181 1108,-187 1102,-187\"/>\n<text text-anchor=\"start\" x=\"976\" y=\"-171.8\" font-family=\"Helvetica,sans-Serif\" font-size=\"14.00\">BloodPressure ≤ 79.0</text>\n<text text-anchor=\"start\" x=\"1005.5\" y=\"-156.8\" font-family=\"Helvetica,sans-Serif\" font-size=\"14.00\">gini = 0.198</text>\n<text text-anchor=\"start\" x=\"1003.5\" y=\"-141.8\" font-family=\"Helvetica,sans-Serif\" font-size=\"14.00\">samples = 9</text>\n<text text-anchor=\"start\" x=\"1001.5\" y=\"-126.8\" font-family=\"Helvetica,sans-Serif\" font-size=\"14.00\">value = [8, 1]</text>\n<text text-anchor=\"start\" x=\"1013.5\" y=\"-111.8\" font-family=\"Helvetica,sans-Serif\" font-size=\"14.00\">class = 0</text>\n</g>\n<!-- 50&#45;&gt;52 -->\n<g id=\"edge52\" class=\"edge\">\n<title>50&#45;&gt;52</title>\n<path fill=\"none\" stroke=\"black\" d=\"M1033.16,-222.91C1034.02,-214.56 1034.93,-205.67 1035.82,-197.02\"/>\n<polygon fill=\"black\" stroke=\"black\" points=\"1039.31,-197.33 1036.84,-187.02 1032.34,-196.61 1039.31,-197.33\"/>\n</g>\n<!-- 53 -->\n<g id=\"node54\" class=\"node\">\n<title>53</title>\n<path fill=\"#e58139\" stroke=\"black\" d=\"M1020.5,-68C1020.5,-68 949.5,-68 949.5,-68 943.5,-68 937.5,-62 937.5,-56 937.5,-56 937.5,-12 937.5,-12 937.5,-6 943.5,0 949.5,0 949.5,0 1020.5,0 1020.5,0 1026.5,0 1032.5,-6 1032.5,-12 1032.5,-12 1032.5,-56 1032.5,-56 1032.5,-62 1026.5,-68 1020.5,-68\"/>\n<text text-anchor=\"start\" x=\"957\" y=\"-52.8\" font-family=\"Helvetica,sans-Serif\" font-size=\"14.00\">gini = 0.0</text>\n<text text-anchor=\"start\" x=\"947.5\" y=\"-37.8\" font-family=\"Helvetica,sans-Serif\" font-size=\"14.00\">samples = 8</text>\n<text text-anchor=\"start\" x=\"945.5\" y=\"-22.8\" font-family=\"Helvetica,sans-Serif\" font-size=\"14.00\">value = [8, 0]</text>\n<text text-anchor=\"start\" x=\"957.5\" y=\"-7.8\" font-family=\"Helvetica,sans-Serif\" font-size=\"14.00\">class = 0</text>\n</g>\n<!-- 52&#45;&gt;53 -->\n<g id=\"edge53\" class=\"edge\">\n<title>52&#45;&gt;53</title>\n<path fill=\"none\" stroke=\"black\" d=\"M1020.15,-103.73C1015.76,-95.15 1011.13,-86.09 1006.71,-77.46\"/>\n<polygon fill=\"black\" stroke=\"black\" points=\"1009.7,-75.61 1002.03,-68.3 1003.47,-78.8 1009.7,-75.61\"/>\n</g>\n<!-- 54 -->\n<g id=\"node55\" class=\"node\">\n<title>54</title>\n<path fill=\"#399de5\" stroke=\"black\" d=\"M1133.5,-68C1133.5,-68 1062.5,-68 1062.5,-68 1056.5,-68 1050.5,-62 1050.5,-56 1050.5,-56 1050.5,-12 1050.5,-12 1050.5,-6 1056.5,0 1062.5,0 1062.5,0 1133.5,0 1133.5,0 1139.5,0 1145.5,-6 1145.5,-12 1145.5,-12 1145.5,-56 1145.5,-56 1145.5,-62 1139.5,-68 1133.5,-68\"/>\n<text text-anchor=\"start\" x=\"1070\" y=\"-52.8\" font-family=\"Helvetica,sans-Serif\" font-size=\"14.00\">gini = 0.0</text>\n<text text-anchor=\"start\" x=\"1060.5\" y=\"-37.8\" font-family=\"Helvetica,sans-Serif\" font-size=\"14.00\">samples = 1</text>\n<text text-anchor=\"start\" x=\"1058.5\" y=\"-22.8\" font-family=\"Helvetica,sans-Serif\" font-size=\"14.00\">value = [0, 1]</text>\n<text text-anchor=\"start\" x=\"1070.5\" y=\"-7.8\" font-family=\"Helvetica,sans-Serif\" font-size=\"14.00\">class = 1</text>\n</g>\n<!-- 52&#45;&gt;54 -->\n<g id=\"edge54\" class=\"edge\">\n<title>52&#45;&gt;54</title>\n<path fill=\"none\" stroke=\"black\" d=\"M1062.22,-103.73C1066.74,-95.06 1071.51,-85.9 1076.04,-77.18\"/>\n<polygon fill=\"black\" stroke=\"black\" points=\"1079.15,-78.79 1080.67,-68.3 1072.94,-75.55 1079.15,-78.79\"/>\n</g>\n<!-- 56 -->\n<g id=\"node57\" class=\"node\">\n<title>56</title>\n<path fill=\"#399de5\" stroke=\"black\" d=\"M1237.5,-179.5C1237.5,-179.5 1166.5,-179.5 1166.5,-179.5 1160.5,-179.5 1154.5,-173.5 1154.5,-167.5 1154.5,-167.5 1154.5,-123.5 1154.5,-123.5 1154.5,-117.5 1160.5,-111.5 1166.5,-111.5 1166.5,-111.5 1237.5,-111.5 1237.5,-111.5 1243.5,-111.5 1249.5,-117.5 1249.5,-123.5 1249.5,-123.5 1249.5,-167.5 1249.5,-167.5 1249.5,-173.5 1243.5,-179.5 1237.5,-179.5\"/>\n<text text-anchor=\"start\" x=\"1174\" y=\"-164.3\" font-family=\"Helvetica,sans-Serif\" font-size=\"14.00\">gini = 0.0</text>\n<text text-anchor=\"start\" x=\"1164.5\" y=\"-149.3\" font-family=\"Helvetica,sans-Serif\" font-size=\"14.00\">samples = 6</text>\n<text text-anchor=\"start\" x=\"1162.5\" y=\"-134.3\" font-family=\"Helvetica,sans-Serif\" font-size=\"14.00\">value = [0, 6]</text>\n<text text-anchor=\"start\" x=\"1174.5\" y=\"-119.3\" font-family=\"Helvetica,sans-Serif\" font-size=\"14.00\">class = 1</text>\n</g>\n<!-- 55&#45;&gt;56 -->\n<g id=\"edge56\" class=\"edge\">\n<title>55&#45;&gt;56</title>\n<path fill=\"none\" stroke=\"black\" d=\"M1209.18,-222.91C1208.18,-212.2 1207.09,-200.62 1206.07,-189.78\"/>\n<polygon fill=\"black\" stroke=\"black\" points=\"1209.54,-189.3 1205.12,-179.67 1202.57,-189.95 1209.54,-189.3\"/>\n</g>\n<!-- 57 -->\n<g id=\"node58\" class=\"node\">\n<title>57</title>\n<path fill=\"#e58139\" stroke=\"black\" d=\"M1350.5,-179.5C1350.5,-179.5 1279.5,-179.5 1279.5,-179.5 1273.5,-179.5 1267.5,-173.5 1267.5,-167.5 1267.5,-167.5 1267.5,-123.5 1267.5,-123.5 1267.5,-117.5 1273.5,-111.5 1279.5,-111.5 1279.5,-111.5 1350.5,-111.5 1350.5,-111.5 1356.5,-111.5 1362.5,-117.5 1362.5,-123.5 1362.5,-123.5 1362.5,-167.5 1362.5,-167.5 1362.5,-173.5 1356.5,-179.5 1350.5,-179.5\"/>\n<text text-anchor=\"start\" x=\"1287\" y=\"-164.3\" font-family=\"Helvetica,sans-Serif\" font-size=\"14.00\">gini = 0.0</text>\n<text text-anchor=\"start\" x=\"1277.5\" y=\"-149.3\" font-family=\"Helvetica,sans-Serif\" font-size=\"14.00\">samples = 1</text>\n<text text-anchor=\"start\" x=\"1275.5\" y=\"-134.3\" font-family=\"Helvetica,sans-Serif\" font-size=\"14.00\">value = [1, 0]</text>\n<text text-anchor=\"start\" x=\"1287.5\" y=\"-119.3\" font-family=\"Helvetica,sans-Serif\" font-size=\"14.00\">class = 0</text>\n</g>\n<!-- 55&#45;&gt;57 -->\n<g id=\"edge57\" class=\"edge\">\n<title>55&#45;&gt;57</title>\n<path fill=\"none\" stroke=\"black\" d=\"M1248.39,-222.91C1258.39,-211.43 1269.28,-198.94 1279.31,-187.44\"/>\n<polygon fill=\"black\" stroke=\"black\" points=\"1282.15,-189.5 1286.09,-179.67 1276.88,-184.9 1282.15,-189.5\"/>\n</g>\n<!-- 60 -->\n<g id=\"node61\" class=\"node\">\n<title>60</title>\n<path fill=\"#399de5\" stroke=\"black\" d=\"M1152.5,-536.5C1152.5,-536.5 1081.5,-536.5 1081.5,-536.5 1075.5,-536.5 1069.5,-530.5 1069.5,-524.5 1069.5,-524.5 1069.5,-480.5 1069.5,-480.5 1069.5,-474.5 1075.5,-468.5 1081.5,-468.5 1081.5,-468.5 1152.5,-468.5 1152.5,-468.5 1158.5,-468.5 1164.5,-474.5 1164.5,-480.5 1164.5,-480.5 1164.5,-524.5 1164.5,-524.5 1164.5,-530.5 1158.5,-536.5 1152.5,-536.5\"/>\n<text text-anchor=\"start\" x=\"1089\" y=\"-521.3\" font-family=\"Helvetica,sans-Serif\" font-size=\"14.00\">gini = 0.0</text>\n<text text-anchor=\"start\" x=\"1079.5\" y=\"-506.3\" font-family=\"Helvetica,sans-Serif\" font-size=\"14.00\">samples = 7</text>\n<text text-anchor=\"start\" x=\"1077.5\" y=\"-491.3\" font-family=\"Helvetica,sans-Serif\" font-size=\"14.00\">value = [0, 7]</text>\n<text text-anchor=\"start\" x=\"1089.5\" y=\"-476.3\" font-family=\"Helvetica,sans-Serif\" font-size=\"14.00\">class = 1</text>\n</g>\n<!-- 59&#45;&gt;60 -->\n<g id=\"edge60\" class=\"edge\">\n<title>59&#45;&gt;60</title>\n<path fill=\"none\" stroke=\"black\" d=\"M1137.9,-579.91C1134.94,-569.09 1131.74,-557.38 1128.74,-546.44\"/>\n<polygon fill=\"black\" stroke=\"black\" points=\"1132.09,-545.39 1126.07,-536.67 1125.33,-547.24 1132.09,-545.39\"/>\n</g>\n<!-- 61 -->\n<g id=\"node62\" class=\"node\">\n<title>61</title>\n<path fill=\"#fbeade\" stroke=\"black\" d=\"M1287,-544C1287,-544 1195,-544 1195,-544 1189,-544 1183,-538 1183,-532 1183,-532 1183,-473 1183,-473 1183,-467 1189,-461 1195,-461 1195,-461 1287,-461 1287,-461 1293,-461 1299,-467 1299,-473 1299,-473 1299,-532 1299,-532 1299,-538 1293,-544 1287,-544\"/>\n<text text-anchor=\"start\" x=\"1191\" y=\"-528.8\" font-family=\"Helvetica,sans-Serif\" font-size=\"14.00\">Glucose ≤ 123.5</text>\n<text text-anchor=\"start\" x=\"1205.5\" y=\"-513.8\" font-family=\"Helvetica,sans-Serif\" font-size=\"14.00\">gini = 0.496</text>\n<text text-anchor=\"start\" x=\"1200\" y=\"-498.8\" font-family=\"Helvetica,sans-Serif\" font-size=\"14.00\">samples = 11</text>\n<text text-anchor=\"start\" x=\"1201.5\" y=\"-483.8\" font-family=\"Helvetica,sans-Serif\" font-size=\"14.00\">value = [6, 5]</text>\n<text text-anchor=\"start\" x=\"1213.5\" y=\"-468.8\" font-family=\"Helvetica,sans-Serif\" font-size=\"14.00\">class = 0</text>\n</g>\n<!-- 59&#45;&gt;61 -->\n<g id=\"edge61\" class=\"edge\">\n<title>59&#45;&gt;61</title>\n<path fill=\"none\" stroke=\"black\" d=\"M1180.92,-579.91C1187.98,-570.92 1195.54,-561.32 1202.82,-552.05\"/>\n<polygon fill=\"black\" stroke=\"black\" points=\"1205.71,-554.05 1209.14,-544.02 1200.2,-549.72 1205.71,-554.05\"/>\n</g>\n<!-- 62 -->\n<g id=\"node63\" class=\"node\">\n<title>62</title>\n<path fill=\"#e58139\" stroke=\"black\" d=\"M1275.5,-417.5C1275.5,-417.5 1204.5,-417.5 1204.5,-417.5 1198.5,-417.5 1192.5,-411.5 1192.5,-405.5 1192.5,-405.5 1192.5,-361.5 1192.5,-361.5 1192.5,-355.5 1198.5,-349.5 1204.5,-349.5 1204.5,-349.5 1275.5,-349.5 1275.5,-349.5 1281.5,-349.5 1287.5,-355.5 1287.5,-361.5 1287.5,-361.5 1287.5,-405.5 1287.5,-405.5 1287.5,-411.5 1281.5,-417.5 1275.5,-417.5\"/>\n<text text-anchor=\"start\" x=\"1212\" y=\"-402.3\" font-family=\"Helvetica,sans-Serif\" font-size=\"14.00\">gini = 0.0</text>\n<text text-anchor=\"start\" x=\"1202.5\" y=\"-387.3\" font-family=\"Helvetica,sans-Serif\" font-size=\"14.00\">samples = 4</text>\n<text text-anchor=\"start\" x=\"1200.5\" y=\"-372.3\" font-family=\"Helvetica,sans-Serif\" font-size=\"14.00\">value = [4, 0]</text>\n<text text-anchor=\"start\" x=\"1212.5\" y=\"-357.3\" font-family=\"Helvetica,sans-Serif\" font-size=\"14.00\">class = 0</text>\n</g>\n<!-- 61&#45;&gt;62 -->\n<g id=\"edge62\" class=\"edge\">\n<title>61&#45;&gt;62</title>\n<path fill=\"none\" stroke=\"black\" d=\"M1240.65,-460.91C1240.56,-450.2 1240.46,-438.62 1240.37,-427.78\"/>\n<polygon fill=\"black\" stroke=\"black\" points=\"1243.87,-427.64 1240.28,-417.67 1236.87,-427.7 1243.87,-427.64\"/>\n</g>\n<!-- 63 -->\n<g id=\"node64\" class=\"node\">\n<title>63</title>\n<path fill=\"#88c4ef\" stroke=\"black\" d=\"M1518,-425C1518,-425 1318,-425 1318,-425 1312,-425 1306,-419 1306,-413 1306,-413 1306,-354 1306,-354 1306,-348 1312,-342 1318,-342 1318,-342 1518,-342 1518,-342 1524,-342 1530,-348 1530,-354 1530,-354 1530,-413 1530,-413 1530,-419 1524,-425 1518,-425\"/>\n<text text-anchor=\"start\" x=\"1314\" y=\"-409.8\" font-family=\"Helvetica,sans-Serif\" font-size=\"14.00\">DiabetesPedigreeFunction ≤ 0.152</text>\n<text text-anchor=\"start\" x=\"1382.5\" y=\"-394.8\" font-family=\"Helvetica,sans-Serif\" font-size=\"14.00\">gini = 0.408</text>\n<text text-anchor=\"start\" x=\"1380.5\" y=\"-379.8\" font-family=\"Helvetica,sans-Serif\" font-size=\"14.00\">samples = 7</text>\n<text text-anchor=\"start\" x=\"1378.5\" y=\"-364.8\" font-family=\"Helvetica,sans-Serif\" font-size=\"14.00\">value = [2, 5]</text>\n<text text-anchor=\"start\" x=\"1390.5\" y=\"-349.8\" font-family=\"Helvetica,sans-Serif\" font-size=\"14.00\">class = 1</text>\n</g>\n<!-- 61&#45;&gt;63 -->\n<g id=\"edge63\" class=\"edge\">\n<title>61&#45;&gt;63</title>\n<path fill=\"none\" stroke=\"black\" d=\"M1299.45,-462.87C1315.05,-452.55 1332.07,-441.3 1348.22,-430.62\"/>\n<polygon fill=\"black\" stroke=\"black\" points=\"1350.16,-433.54 1356.58,-425.1 1346.3,-427.7 1350.16,-433.54\"/>\n</g>\n<!-- 64 -->\n<g id=\"node65\" class=\"node\">\n<title>64</title>\n<path fill=\"#e58139\" stroke=\"black\" d=\"M1444.5,-298.5C1444.5,-298.5 1373.5,-298.5 1373.5,-298.5 1367.5,-298.5 1361.5,-292.5 1361.5,-286.5 1361.5,-286.5 1361.5,-242.5 1361.5,-242.5 1361.5,-236.5 1367.5,-230.5 1373.5,-230.5 1373.5,-230.5 1444.5,-230.5 1444.5,-230.5 1450.5,-230.5 1456.5,-236.5 1456.5,-242.5 1456.5,-242.5 1456.5,-286.5 1456.5,-286.5 1456.5,-292.5 1450.5,-298.5 1444.5,-298.5\"/>\n<text text-anchor=\"start\" x=\"1381\" y=\"-283.3\" font-family=\"Helvetica,sans-Serif\" font-size=\"14.00\">gini = 0.0</text>\n<text text-anchor=\"start\" x=\"1371.5\" y=\"-268.3\" font-family=\"Helvetica,sans-Serif\" font-size=\"14.00\">samples = 2</text>\n<text text-anchor=\"start\" x=\"1369.5\" y=\"-253.3\" font-family=\"Helvetica,sans-Serif\" font-size=\"14.00\">value = [2, 0]</text>\n<text text-anchor=\"start\" x=\"1381.5\" y=\"-238.3\" font-family=\"Helvetica,sans-Serif\" font-size=\"14.00\">class = 0</text>\n</g>\n<!-- 63&#45;&gt;64 -->\n<g id=\"edge64\" class=\"edge\">\n<title>63&#45;&gt;64</title>\n<path fill=\"none\" stroke=\"black\" d=\"M1414.88,-341.91C1414.05,-331.2 1413.16,-319.62 1412.33,-308.78\"/>\n<polygon fill=\"black\" stroke=\"black\" points=\"1415.81,-308.37 1411.55,-298.67 1408.83,-308.91 1415.81,-308.37\"/>\n</g>\n<!-- 65 -->\n<g id=\"node66\" class=\"node\">\n<title>65</title>\n<path fill=\"#399de5\" stroke=\"black\" d=\"M1557.5,-298.5C1557.5,-298.5 1486.5,-298.5 1486.5,-298.5 1480.5,-298.5 1474.5,-292.5 1474.5,-286.5 1474.5,-286.5 1474.5,-242.5 1474.5,-242.5 1474.5,-236.5 1480.5,-230.5 1486.5,-230.5 1486.5,-230.5 1557.5,-230.5 1557.5,-230.5 1563.5,-230.5 1569.5,-236.5 1569.5,-242.5 1569.5,-242.5 1569.5,-286.5 1569.5,-286.5 1569.5,-292.5 1563.5,-298.5 1557.5,-298.5\"/>\n<text text-anchor=\"start\" x=\"1494\" y=\"-283.3\" font-family=\"Helvetica,sans-Serif\" font-size=\"14.00\">gini = 0.0</text>\n<text text-anchor=\"start\" x=\"1484.5\" y=\"-268.3\" font-family=\"Helvetica,sans-Serif\" font-size=\"14.00\">samples = 5</text>\n<text text-anchor=\"start\" x=\"1482.5\" y=\"-253.3\" font-family=\"Helvetica,sans-Serif\" font-size=\"14.00\">value = [0, 5]</text>\n<text text-anchor=\"start\" x=\"1494.5\" y=\"-238.3\" font-family=\"Helvetica,sans-Serif\" font-size=\"14.00\">class = 1</text>\n</g>\n<!-- 63&#45;&gt;65 -->\n<g id=\"edge65\" class=\"edge\">\n<title>63&#45;&gt;65</title>\n<path fill=\"none\" stroke=\"black\" d=\"M1454.08,-341.91C1464.28,-330.43 1475.39,-317.94 1485.61,-306.44\"/>\n<polygon fill=\"black\" stroke=\"black\" points=\"1488.49,-308.47 1492.52,-298.67 1483.26,-303.82 1488.49,-308.47\"/>\n</g>\n<!-- 69 -->\n<g id=\"node70\" class=\"node\">\n<title>69</title>\n<path fill=\"#efb083\" stroke=\"black\" d=\"M1600,-901C1600,-901 1400,-901 1400,-901 1394,-901 1388,-895 1388,-889 1388,-889 1388,-830 1388,-830 1388,-824 1394,-818 1400,-818 1400,-818 1600,-818 1600,-818 1606,-818 1612,-824 1612,-830 1612,-830 1612,-889 1612,-889 1612,-895 1606,-901 1600,-901\"/>\n<text text-anchor=\"start\" x=\"1396\" y=\"-885.8\" font-family=\"Helvetica,sans-Serif\" font-size=\"14.00\">DiabetesPedigreeFunction ≤ 0.909</text>\n<text text-anchor=\"start\" x=\"1464.5\" y=\"-870.8\" font-family=\"Helvetica,sans-Serif\" font-size=\"14.00\">gini = 0.397</text>\n<text text-anchor=\"start\" x=\"1459\" y=\"-855.8\" font-family=\"Helvetica,sans-Serif\" font-size=\"14.00\">samples = 11</text>\n<text text-anchor=\"start\" x=\"1460.5\" y=\"-840.8\" font-family=\"Helvetica,sans-Serif\" font-size=\"14.00\">value = [8, 3]</text>\n<text text-anchor=\"start\" x=\"1472.5\" y=\"-825.8\" font-family=\"Helvetica,sans-Serif\" font-size=\"14.00\">class = 0</text>\n</g>\n<!-- 68&#45;&gt;69 -->\n<g id=\"edge69\" class=\"edge\">\n<title>68&#45;&gt;69</title>\n<path fill=\"none\" stroke=\"black\" d=\"M1501.96,-936.91C1501.75,-928.56 1501.52,-919.67 1501.3,-911.02\"/>\n<polygon fill=\"black\" stroke=\"black\" points=\"1504.79,-910.93 1501.04,-901.02 1497.8,-911.11 1504.79,-910.93\"/>\n</g>\n<!-- 76 -->\n<g id=\"node77\" class=\"node\">\n<title>76</title>\n<path fill=\"#7bbeee\" stroke=\"black\" d=\"M1726,-901C1726,-901 1642,-901 1642,-901 1636,-901 1630,-895 1630,-889 1630,-889 1630,-830 1630,-830 1630,-824 1636,-818 1642,-818 1642,-818 1726,-818 1726,-818 1732,-818 1738,-824 1738,-830 1738,-830 1738,-889 1738,-889 1738,-895 1732,-901 1726,-901\"/>\n<text text-anchor=\"start\" x=\"1638\" y=\"-885.8\" font-family=\"Helvetica,sans-Serif\" font-size=\"14.00\">Glucose ≤ 96.5</text>\n<text text-anchor=\"start\" x=\"1648.5\" y=\"-870.8\" font-family=\"Helvetica,sans-Serif\" font-size=\"14.00\">gini = 0.375</text>\n<text text-anchor=\"start\" x=\"1643\" y=\"-855.8\" font-family=\"Helvetica,sans-Serif\" font-size=\"14.00\">samples = 20</text>\n<text text-anchor=\"start\" x=\"1641\" y=\"-840.8\" font-family=\"Helvetica,sans-Serif\" font-size=\"14.00\">value = [5, 15]</text>\n<text text-anchor=\"start\" x=\"1656.5\" y=\"-825.8\" font-family=\"Helvetica,sans-Serif\" font-size=\"14.00\">class = 1</text>\n</g>\n<!-- 68&#45;&gt;76 -->\n<g id=\"edge76\" class=\"edge\">\n<title>68&#45;&gt;76</title>\n<path fill=\"none\" stroke=\"black\" d=\"M1565.54,-937.07C1583.55,-925.43 1603.18,-912.74 1621.2,-901.09\"/>\n<polygon fill=\"black\" stroke=\"black\" points=\"1623.4,-903.84 1629.9,-895.47 1619.6,-897.96 1623.4,-903.84\"/>\n</g>\n<!-- 70 -->\n<g id=\"node71\" class=\"node\">\n<title>70</title>\n<path fill=\"#ffffff\" stroke=\"black\" d=\"M1425.5,-782C1425.5,-782 1304.5,-782 1304.5,-782 1298.5,-782 1292.5,-776 1292.5,-770 1292.5,-770 1292.5,-711 1292.5,-711 1292.5,-705 1298.5,-699 1304.5,-699 1304.5,-699 1425.5,-699 1425.5,-699 1431.5,-699 1437.5,-705 1437.5,-711 1437.5,-711 1437.5,-770 1437.5,-770 1437.5,-776 1431.5,-782 1425.5,-782\"/>\n<text text-anchor=\"start\" x=\"1300.5\" y=\"-766.8\" font-family=\"Helvetica,sans-Serif\" font-size=\"14.00\">SkinThickness ≤ 25.0</text>\n<text text-anchor=\"start\" x=\"1337\" y=\"-751.8\" font-family=\"Helvetica,sans-Serif\" font-size=\"14.00\">gini = 0.5</text>\n<text text-anchor=\"start\" x=\"1327.5\" y=\"-736.8\" font-family=\"Helvetica,sans-Serif\" font-size=\"14.00\">samples = 6</text>\n<text text-anchor=\"start\" x=\"1325.5\" y=\"-721.8\" font-family=\"Helvetica,sans-Serif\" font-size=\"14.00\">value = [3, 3]</text>\n<text text-anchor=\"start\" x=\"1337.5\" y=\"-706.8\" font-family=\"Helvetica,sans-Serif\" font-size=\"14.00\">class = 0</text>\n</g>\n<!-- 69&#45;&gt;70 -->\n<g id=\"edge70\" class=\"edge\">\n<title>69&#45;&gt;70</title>\n<path fill=\"none\" stroke=\"black\" d=\"M1453.16,-817.91C1442.27,-808.47 1430.59,-798.34 1419.4,-788.65\"/>\n<polygon fill=\"black\" stroke=\"black\" points=\"1421.6,-785.93 1411.75,-782.02 1417.02,-791.22 1421.6,-785.93\"/>\n</g>\n<!-- 75 -->\n<g id=\"node76\" class=\"node\">\n<title>75</title>\n<path fill=\"#e58139\" stroke=\"black\" d=\"M1538.5,-774.5C1538.5,-774.5 1467.5,-774.5 1467.5,-774.5 1461.5,-774.5 1455.5,-768.5 1455.5,-762.5 1455.5,-762.5 1455.5,-718.5 1455.5,-718.5 1455.5,-712.5 1461.5,-706.5 1467.5,-706.5 1467.5,-706.5 1538.5,-706.5 1538.5,-706.5 1544.5,-706.5 1550.5,-712.5 1550.5,-718.5 1550.5,-718.5 1550.5,-762.5 1550.5,-762.5 1550.5,-768.5 1544.5,-774.5 1538.5,-774.5\"/>\n<text text-anchor=\"start\" x=\"1475\" y=\"-759.3\" font-family=\"Helvetica,sans-Serif\" font-size=\"14.00\">gini = 0.0</text>\n<text text-anchor=\"start\" x=\"1465.5\" y=\"-744.3\" font-family=\"Helvetica,sans-Serif\" font-size=\"14.00\">samples = 5</text>\n<text text-anchor=\"start\" x=\"1463.5\" y=\"-729.3\" font-family=\"Helvetica,sans-Serif\" font-size=\"14.00\">value = [5, 0]</text>\n<text text-anchor=\"start\" x=\"1475.5\" y=\"-714.3\" font-family=\"Helvetica,sans-Serif\" font-size=\"14.00\">class = 0</text>\n</g>\n<!-- 69&#45;&gt;75 -->\n<g id=\"edge75\" class=\"edge\">\n<title>69&#45;&gt;75</title>\n<path fill=\"none\" stroke=\"black\" d=\"M1501.04,-817.91C1501.32,-807.2 1501.61,-795.62 1501.89,-784.78\"/>\n<polygon fill=\"black\" stroke=\"black\" points=\"1505.39,-784.75 1502.15,-774.67 1498.39,-784.57 1505.39,-784.75\"/>\n</g>\n<!-- 71 -->\n<g id=\"node72\" class=\"node\">\n<title>71</title>\n<path fill=\"#eeab7b\" stroke=\"black\" d=\"M1400.5,-663C1400.5,-663 1329.5,-663 1329.5,-663 1323.5,-663 1317.5,-657 1317.5,-651 1317.5,-651 1317.5,-592 1317.5,-592 1317.5,-586 1323.5,-580 1329.5,-580 1329.5,-580 1400.5,-580 1400.5,-580 1406.5,-580 1412.5,-586 1412.5,-592 1412.5,-592 1412.5,-651 1412.5,-651 1412.5,-657 1406.5,-663 1400.5,-663\"/>\n<text text-anchor=\"start\" x=\"1332\" y=\"-647.8\" font-family=\"Helvetica,sans-Serif\" font-size=\"14.00\">Age ≤ 58.0</text>\n<text text-anchor=\"start\" x=\"1329.5\" y=\"-632.8\" font-family=\"Helvetica,sans-Serif\" font-size=\"14.00\">gini = 0.375</text>\n<text text-anchor=\"start\" x=\"1327.5\" y=\"-617.8\" font-family=\"Helvetica,sans-Serif\" font-size=\"14.00\">samples = 4</text>\n<text text-anchor=\"start\" x=\"1325.5\" y=\"-602.8\" font-family=\"Helvetica,sans-Serif\" font-size=\"14.00\">value = [3, 1]</text>\n<text text-anchor=\"start\" x=\"1337.5\" y=\"-587.8\" font-family=\"Helvetica,sans-Serif\" font-size=\"14.00\">class = 0</text>\n</g>\n<!-- 70&#45;&gt;71 -->\n<g id=\"edge71\" class=\"edge\">\n<title>70&#45;&gt;71</title>\n<path fill=\"none\" stroke=\"black\" d=\"M1365,-698.91C1365,-690.65 1365,-681.86 1365,-673.3\"/>\n<polygon fill=\"black\" stroke=\"black\" points=\"1368.5,-673.02 1365,-663.02 1361.5,-673.02 1368.5,-673.02\"/>\n</g>\n<!-- 74 -->\n<g id=\"node75\" class=\"node\">\n<title>74</title>\n<path fill=\"#399de5\" stroke=\"black\" d=\"M1513.5,-655.5C1513.5,-655.5 1442.5,-655.5 1442.5,-655.5 1436.5,-655.5 1430.5,-649.5 1430.5,-643.5 1430.5,-643.5 1430.5,-599.5 1430.5,-599.5 1430.5,-593.5 1436.5,-587.5 1442.5,-587.5 1442.5,-587.5 1513.5,-587.5 1513.5,-587.5 1519.5,-587.5 1525.5,-593.5 1525.5,-599.5 1525.5,-599.5 1525.5,-643.5 1525.5,-643.5 1525.5,-649.5 1519.5,-655.5 1513.5,-655.5\"/>\n<text text-anchor=\"start\" x=\"1450\" y=\"-640.3\" font-family=\"Helvetica,sans-Serif\" font-size=\"14.00\">gini = 0.0</text>\n<text text-anchor=\"start\" x=\"1440.5\" y=\"-625.3\" font-family=\"Helvetica,sans-Serif\" font-size=\"14.00\">samples = 2</text>\n<text text-anchor=\"start\" x=\"1438.5\" y=\"-610.3\" font-family=\"Helvetica,sans-Serif\" font-size=\"14.00\">value = [0, 2]</text>\n<text text-anchor=\"start\" x=\"1450.5\" y=\"-595.3\" font-family=\"Helvetica,sans-Serif\" font-size=\"14.00\">class = 1</text>\n</g>\n<!-- 70&#45;&gt;74 -->\n<g id=\"edge74\" class=\"edge\">\n<title>70&#45;&gt;74</title>\n<path fill=\"none\" stroke=\"black\" d=\"M1404.2,-698.91C1415.39,-687.32 1427.59,-674.7 1438.78,-663.11\"/>\n<polygon fill=\"black\" stroke=\"black\" points=\"1441.54,-665.29 1445.97,-655.67 1436.5,-660.43 1441.54,-665.29\"/>\n</g>\n<!-- 72 -->\n<g id=\"node73\" class=\"node\">\n<title>72</title>\n<path fill=\"#e58139\" stroke=\"black\" d=\"M1400.5,-536.5C1400.5,-536.5 1329.5,-536.5 1329.5,-536.5 1323.5,-536.5 1317.5,-530.5 1317.5,-524.5 1317.5,-524.5 1317.5,-480.5 1317.5,-480.5 1317.5,-474.5 1323.5,-468.5 1329.5,-468.5 1329.5,-468.5 1400.5,-468.5 1400.5,-468.5 1406.5,-468.5 1412.5,-474.5 1412.5,-480.5 1412.5,-480.5 1412.5,-524.5 1412.5,-524.5 1412.5,-530.5 1406.5,-536.5 1400.5,-536.5\"/>\n<text text-anchor=\"start\" x=\"1337\" y=\"-521.3\" font-family=\"Helvetica,sans-Serif\" font-size=\"14.00\">gini = 0.0</text>\n<text text-anchor=\"start\" x=\"1327.5\" y=\"-506.3\" font-family=\"Helvetica,sans-Serif\" font-size=\"14.00\">samples = 3</text>\n<text text-anchor=\"start\" x=\"1325.5\" y=\"-491.3\" font-family=\"Helvetica,sans-Serif\" font-size=\"14.00\">value = [3, 0]</text>\n<text text-anchor=\"start\" x=\"1337.5\" y=\"-476.3\" font-family=\"Helvetica,sans-Serif\" font-size=\"14.00\">class = 0</text>\n</g>\n<!-- 71&#45;&gt;72 -->\n<g id=\"edge72\" class=\"edge\">\n<title>71&#45;&gt;72</title>\n<path fill=\"none\" stroke=\"black\" d=\"M1365,-579.91C1365,-569.2 1365,-557.62 1365,-546.78\"/>\n<polygon fill=\"black\" stroke=\"black\" points=\"1368.5,-546.67 1365,-536.67 1361.5,-546.67 1368.5,-546.67\"/>\n</g>\n<!-- 73 -->\n<g id=\"node74\" class=\"node\">\n<title>73</title>\n<path fill=\"#399de5\" stroke=\"black\" d=\"M1513.5,-536.5C1513.5,-536.5 1442.5,-536.5 1442.5,-536.5 1436.5,-536.5 1430.5,-530.5 1430.5,-524.5 1430.5,-524.5 1430.5,-480.5 1430.5,-480.5 1430.5,-474.5 1436.5,-468.5 1442.5,-468.5 1442.5,-468.5 1513.5,-468.5 1513.5,-468.5 1519.5,-468.5 1525.5,-474.5 1525.5,-480.5 1525.5,-480.5 1525.5,-524.5 1525.5,-524.5 1525.5,-530.5 1519.5,-536.5 1513.5,-536.5\"/>\n<text text-anchor=\"start\" x=\"1450\" y=\"-521.3\" font-family=\"Helvetica,sans-Serif\" font-size=\"14.00\">gini = 0.0</text>\n<text text-anchor=\"start\" x=\"1440.5\" y=\"-506.3\" font-family=\"Helvetica,sans-Serif\" font-size=\"14.00\">samples = 1</text>\n<text text-anchor=\"start\" x=\"1438.5\" y=\"-491.3\" font-family=\"Helvetica,sans-Serif\" font-size=\"14.00\">value = [0, 1]</text>\n<text text-anchor=\"start\" x=\"1450.5\" y=\"-476.3\" font-family=\"Helvetica,sans-Serif\" font-size=\"14.00\">class = 1</text>\n</g>\n<!-- 71&#45;&gt;73 -->\n<g id=\"edge73\" class=\"edge\">\n<title>71&#45;&gt;73</title>\n<path fill=\"none\" stroke=\"black\" d=\"M1404.2,-579.91C1415.39,-568.32 1427.59,-555.7 1438.78,-544.11\"/>\n<polygon fill=\"black\" stroke=\"black\" points=\"1441.54,-546.29 1445.97,-536.67 1436.5,-541.43 1441.54,-546.29\"/>\n</g>\n<!-- 77 -->\n<g id=\"node78\" class=\"node\">\n<title>77</title>\n<path fill=\"#f2c09c\" stroke=\"black\" d=\"M1781,-782C1781,-782 1581,-782 1581,-782 1575,-782 1569,-776 1569,-770 1569,-770 1569,-711 1569,-711 1569,-705 1575,-699 1581,-699 1581,-699 1781,-699 1781,-699 1787,-699 1793,-705 1793,-711 1793,-711 1793,-770 1793,-770 1793,-776 1787,-782 1781,-782\"/>\n<text text-anchor=\"start\" x=\"1577\" y=\"-766.8\" font-family=\"Helvetica,sans-Serif\" font-size=\"14.00\">DiabetesPedigreeFunction ≤ 0.781</text>\n<text text-anchor=\"start\" x=\"1645.5\" y=\"-751.8\" font-family=\"Helvetica,sans-Serif\" font-size=\"14.00\">gini = 0.444</text>\n<text text-anchor=\"start\" x=\"1643.5\" y=\"-736.8\" font-family=\"Helvetica,sans-Serif\" font-size=\"14.00\">samples = 6</text>\n<text text-anchor=\"start\" x=\"1641.5\" y=\"-721.8\" font-family=\"Helvetica,sans-Serif\" font-size=\"14.00\">value = [4, 2]</text>\n<text text-anchor=\"start\" x=\"1653.5\" y=\"-706.8\" font-family=\"Helvetica,sans-Serif\" font-size=\"14.00\">class = 0</text>\n</g>\n<!-- 76&#45;&gt;77 -->\n<g id=\"edge77\" class=\"edge\">\n<title>76&#45;&gt;77</title>\n<path fill=\"none\" stroke=\"black\" d=\"M1682.96,-817.91C1682.75,-809.56 1682.52,-800.67 1682.3,-792.02\"/>\n<polygon fill=\"black\" stroke=\"black\" points=\"1685.79,-791.93 1682.04,-782.02 1678.8,-792.11 1685.79,-791.93\"/>\n</g>\n<!-- 82 -->\n<g id=\"node83\" class=\"node\">\n<title>82</title>\n<path fill=\"#48a5e7\" stroke=\"black\" d=\"M1945,-782C1945,-782 1823,-782 1823,-782 1817,-782 1811,-776 1811,-770 1811,-770 1811,-711 1811,-711 1811,-705 1817,-699 1823,-699 1823,-699 1945,-699 1945,-699 1951,-699 1957,-705 1957,-711 1957,-711 1957,-770 1957,-770 1957,-776 1951,-782 1945,-782\"/>\n<text text-anchor=\"start\" x=\"1819\" y=\"-766.8\" font-family=\"Helvetica,sans-Serif\" font-size=\"14.00\">BloodPressure ≤ 87.0</text>\n<text text-anchor=\"start\" x=\"1848.5\" y=\"-751.8\" font-family=\"Helvetica,sans-Serif\" font-size=\"14.00\">gini = 0.133</text>\n<text text-anchor=\"start\" x=\"1843\" y=\"-736.8\" font-family=\"Helvetica,sans-Serif\" font-size=\"14.00\">samples = 14</text>\n<text text-anchor=\"start\" x=\"1841\" y=\"-721.8\" font-family=\"Helvetica,sans-Serif\" font-size=\"14.00\">value = [1, 13]</text>\n<text text-anchor=\"start\" x=\"1856.5\" y=\"-706.8\" font-family=\"Helvetica,sans-Serif\" font-size=\"14.00\">class = 1</text>\n</g>\n<!-- 76&#45;&gt;82 -->\n<g id=\"edge82\" class=\"edge\">\n<title>76&#45;&gt;82</title>\n<path fill=\"none\" stroke=\"black\" d=\"M1738.12,-826.84C1758.96,-814.65 1783.18,-800.48 1805.84,-787.23\"/>\n<polygon fill=\"black\" stroke=\"black\" points=\"1807.9,-790.07 1814.76,-782 1804.37,-784.03 1807.9,-790.07\"/>\n</g>\n<!-- 78 -->\n<g id=\"node79\" class=\"node\">\n<title>78</title>\n<path fill=\"#e58139\" stroke=\"black\" d=\"M1651.5,-655.5C1651.5,-655.5 1580.5,-655.5 1580.5,-655.5 1574.5,-655.5 1568.5,-649.5 1568.5,-643.5 1568.5,-643.5 1568.5,-599.5 1568.5,-599.5 1568.5,-593.5 1574.5,-587.5 1580.5,-587.5 1580.5,-587.5 1651.5,-587.5 1651.5,-587.5 1657.5,-587.5 1663.5,-593.5 1663.5,-599.5 1663.5,-599.5 1663.5,-643.5 1663.5,-643.5 1663.5,-649.5 1657.5,-655.5 1651.5,-655.5\"/>\n<text text-anchor=\"start\" x=\"1588\" y=\"-640.3\" font-family=\"Helvetica,sans-Serif\" font-size=\"14.00\">gini = 0.0</text>\n<text text-anchor=\"start\" x=\"1578.5\" y=\"-625.3\" font-family=\"Helvetica,sans-Serif\" font-size=\"14.00\">samples = 3</text>\n<text text-anchor=\"start\" x=\"1576.5\" y=\"-610.3\" font-family=\"Helvetica,sans-Serif\" font-size=\"14.00\">value = [3, 0]</text>\n<text text-anchor=\"start\" x=\"1588.5\" y=\"-595.3\" font-family=\"Helvetica,sans-Serif\" font-size=\"14.00\">class = 0</text>\n</g>\n<!-- 77&#45;&gt;78 -->\n<g id=\"edge78\" class=\"edge\">\n<title>77&#45;&gt;78</title>\n<path fill=\"none\" stroke=\"black\" d=\"M1658.45,-698.91C1652.26,-687.76 1645.53,-675.66 1639.3,-664.44\"/>\n<polygon fill=\"black\" stroke=\"black\" points=\"1642.34,-662.71 1634.43,-655.67 1636.22,-666.11 1642.34,-662.71\"/>\n</g>\n<!-- 79 -->\n<g id=\"node80\" class=\"node\">\n<title>79</title>\n<path fill=\"#9ccef2\" stroke=\"black\" d=\"M1778,-663C1778,-663 1694,-663 1694,-663 1688,-663 1682,-657 1682,-651 1682,-651 1682,-592 1682,-592 1682,-586 1688,-580 1694,-580 1694,-580 1778,-580 1778,-580 1784,-580 1790,-586 1790,-592 1790,-592 1790,-651 1790,-651 1790,-657 1784,-663 1778,-663\"/>\n<text text-anchor=\"start\" x=\"1690\" y=\"-647.8\" font-family=\"Helvetica,sans-Serif\" font-size=\"14.00\">Glucose ≤ 93.0</text>\n<text text-anchor=\"start\" x=\"1700.5\" y=\"-632.8\" font-family=\"Helvetica,sans-Serif\" font-size=\"14.00\">gini = 0.444</text>\n<text text-anchor=\"start\" x=\"1698.5\" y=\"-617.8\" font-family=\"Helvetica,sans-Serif\" font-size=\"14.00\">samples = 3</text>\n<text text-anchor=\"start\" x=\"1696.5\" y=\"-602.8\" font-family=\"Helvetica,sans-Serif\" font-size=\"14.00\">value = [1, 2]</text>\n<text text-anchor=\"start\" x=\"1708.5\" y=\"-587.8\" font-family=\"Helvetica,sans-Serif\" font-size=\"14.00\">class = 1</text>\n</g>\n<!-- 77&#45;&gt;79 -->\n<g id=\"edge79\" class=\"edge\">\n<title>77&#45;&gt;79</title>\n<path fill=\"none\" stroke=\"black\" d=\"M1700.08,-698.91C1704.13,-690.29 1708.46,-681.09 1712.65,-672.17\"/>\n<polygon fill=\"black\" stroke=\"black\" points=\"1715.86,-673.56 1716.95,-663.02 1709.53,-670.58 1715.86,-673.56\"/>\n</g>\n<!-- 80 -->\n<g id=\"node81\" class=\"node\">\n<title>80</title>\n<path fill=\"#399de5\" stroke=\"black\" d=\"M1728.5,-536.5C1728.5,-536.5 1657.5,-536.5 1657.5,-536.5 1651.5,-536.5 1645.5,-530.5 1645.5,-524.5 1645.5,-524.5 1645.5,-480.5 1645.5,-480.5 1645.5,-474.5 1651.5,-468.5 1657.5,-468.5 1657.5,-468.5 1728.5,-468.5 1728.5,-468.5 1734.5,-468.5 1740.5,-474.5 1740.5,-480.5 1740.5,-480.5 1740.5,-524.5 1740.5,-524.5 1740.5,-530.5 1734.5,-536.5 1728.5,-536.5\"/>\n<text text-anchor=\"start\" x=\"1665\" y=\"-521.3\" font-family=\"Helvetica,sans-Serif\" font-size=\"14.00\">gini = 0.0</text>\n<text text-anchor=\"start\" x=\"1655.5\" y=\"-506.3\" font-family=\"Helvetica,sans-Serif\" font-size=\"14.00\">samples = 2</text>\n<text text-anchor=\"start\" x=\"1653.5\" y=\"-491.3\" font-family=\"Helvetica,sans-Serif\" font-size=\"14.00\">value = [0, 2]</text>\n<text text-anchor=\"start\" x=\"1665.5\" y=\"-476.3\" font-family=\"Helvetica,sans-Serif\" font-size=\"14.00\">class = 1</text>\n</g>\n<!-- 79&#45;&gt;80 -->\n<g id=\"edge80\" class=\"edge\">\n<title>79&#45;&gt;80</title>\n<path fill=\"none\" stroke=\"black\" d=\"M1721.08,-579.91C1717.07,-568.98 1712.71,-557.14 1708.66,-546.11\"/>\n<polygon fill=\"black\" stroke=\"black\" points=\"1711.92,-544.85 1705.19,-536.67 1705.35,-547.26 1711.92,-544.85\"/>\n</g>\n<!-- 81 -->\n<g id=\"node82\" class=\"node\">\n<title>81</title>\n<path fill=\"#e58139\" stroke=\"black\" d=\"M1841.5,-536.5C1841.5,-536.5 1770.5,-536.5 1770.5,-536.5 1764.5,-536.5 1758.5,-530.5 1758.5,-524.5 1758.5,-524.5 1758.5,-480.5 1758.5,-480.5 1758.5,-474.5 1764.5,-468.5 1770.5,-468.5 1770.5,-468.5 1841.5,-468.5 1841.5,-468.5 1847.5,-468.5 1853.5,-474.5 1853.5,-480.5 1853.5,-480.5 1853.5,-524.5 1853.5,-524.5 1853.5,-530.5 1847.5,-536.5 1841.5,-536.5\"/>\n<text text-anchor=\"start\" x=\"1778\" y=\"-521.3\" font-family=\"Helvetica,sans-Serif\" font-size=\"14.00\">gini = 0.0</text>\n<text text-anchor=\"start\" x=\"1768.5\" y=\"-506.3\" font-family=\"Helvetica,sans-Serif\" font-size=\"14.00\">samples = 1</text>\n<text text-anchor=\"start\" x=\"1766.5\" y=\"-491.3\" font-family=\"Helvetica,sans-Serif\" font-size=\"14.00\">value = [1, 0]</text>\n<text text-anchor=\"start\" x=\"1778.5\" y=\"-476.3\" font-family=\"Helvetica,sans-Serif\" font-size=\"14.00\">class = 0</text>\n</g>\n<!-- 79&#45;&gt;81 -->\n<g id=\"edge81\" class=\"edge\">\n<title>79&#45;&gt;81</title>\n<path fill=\"none\" stroke=\"black\" d=\"M1760.29,-579.91C1766.95,-568.76 1774.2,-556.66 1780.91,-545.44\"/>\n<polygon fill=\"black\" stroke=\"black\" points=\"1784.03,-547.05 1786.16,-536.67 1778.02,-543.45 1784.03,-547.05\"/>\n</g>\n<!-- 83 -->\n<g id=\"node84\" class=\"node\">\n<title>83</title>\n<path fill=\"#399de5\" stroke=\"black\" d=\"M1910,-655.5C1910,-655.5 1832,-655.5 1832,-655.5 1826,-655.5 1820,-649.5 1820,-643.5 1820,-643.5 1820,-599.5 1820,-599.5 1820,-593.5 1826,-587.5 1832,-587.5 1832,-587.5 1910,-587.5 1910,-587.5 1916,-587.5 1922,-593.5 1922,-599.5 1922,-599.5 1922,-643.5 1922,-643.5 1922,-649.5 1916,-655.5 1910,-655.5\"/>\n<text text-anchor=\"start\" x=\"1843\" y=\"-640.3\" font-family=\"Helvetica,sans-Serif\" font-size=\"14.00\">gini = 0.0</text>\n<text text-anchor=\"start\" x=\"1830\" y=\"-625.3\" font-family=\"Helvetica,sans-Serif\" font-size=\"14.00\">samples = 12</text>\n<text text-anchor=\"start\" x=\"1828\" y=\"-610.3\" font-family=\"Helvetica,sans-Serif\" font-size=\"14.00\">value = [0, 12]</text>\n<text text-anchor=\"start\" x=\"1843.5\" y=\"-595.3\" font-family=\"Helvetica,sans-Serif\" font-size=\"14.00\">class = 1</text>\n</g>\n<!-- 82&#45;&gt;83 -->\n<g id=\"edge83\" class=\"edge\">\n<title>82&#45;&gt;83</title>\n<path fill=\"none\" stroke=\"black\" d=\"M1879.49,-698.91C1878.3,-688.2 1877.01,-676.62 1875.81,-665.78\"/>\n<polygon fill=\"black\" stroke=\"black\" points=\"1879.27,-665.22 1874.69,-655.67 1872.31,-665.99 1879.27,-665.22\"/>\n</g>\n<!-- 84 -->\n<g id=\"node85\" class=\"node\">\n<title>84</title>\n<path fill=\"#ffffff\" stroke=\"black\" d=\"M2053.5,-663C2053.5,-663 1952.5,-663 1952.5,-663 1946.5,-663 1940.5,-657 1940.5,-651 1940.5,-651 1940.5,-592 1940.5,-592 1940.5,-586 1946.5,-580 1952.5,-580 1952.5,-580 2053.5,-580 2053.5,-580 2059.5,-580 2065.5,-586 2065.5,-592 2065.5,-592 2065.5,-651 2065.5,-651 2065.5,-657 2059.5,-663 2053.5,-663\"/>\n<text text-anchor=\"start\" x=\"1948.5\" y=\"-647.8\" font-family=\"Helvetica,sans-Serif\" font-size=\"14.00\">Pregnancies ≤ 9.5</text>\n<text text-anchor=\"start\" x=\"1975\" y=\"-632.8\" font-family=\"Helvetica,sans-Serif\" font-size=\"14.00\">gini = 0.5</text>\n<text text-anchor=\"start\" x=\"1965.5\" y=\"-617.8\" font-family=\"Helvetica,sans-Serif\" font-size=\"14.00\">samples = 2</text>\n<text text-anchor=\"start\" x=\"1963.5\" y=\"-602.8\" font-family=\"Helvetica,sans-Serif\" font-size=\"14.00\">value = [1, 1]</text>\n<text text-anchor=\"start\" x=\"1975.5\" y=\"-587.8\" font-family=\"Helvetica,sans-Serif\" font-size=\"14.00\">class = 0</text>\n</g>\n<!-- 82&#45;&gt;84 -->\n<g id=\"edge84\" class=\"edge\">\n<title>82&#45;&gt;84</title>\n<path fill=\"none\" stroke=\"black\" d=\"M1925.29,-698.91C1934.7,-689.65 1944.79,-679.73 1954.48,-670.21\"/>\n<polygon fill=\"black\" stroke=\"black\" points=\"1957.11,-672.53 1961.79,-663.02 1952.2,-667.54 1957.11,-672.53\"/>\n</g>\n<!-- 85 -->\n<g id=\"node86\" class=\"node\">\n<title>85</title>\n<path fill=\"#e58139\" stroke=\"black\" d=\"M1968.5,-536.5C1968.5,-536.5 1897.5,-536.5 1897.5,-536.5 1891.5,-536.5 1885.5,-530.5 1885.5,-524.5 1885.5,-524.5 1885.5,-480.5 1885.5,-480.5 1885.5,-474.5 1891.5,-468.5 1897.5,-468.5 1897.5,-468.5 1968.5,-468.5 1968.5,-468.5 1974.5,-468.5 1980.5,-474.5 1980.5,-480.5 1980.5,-480.5 1980.5,-524.5 1980.5,-524.5 1980.5,-530.5 1974.5,-536.5 1968.5,-536.5\"/>\n<text text-anchor=\"start\" x=\"1905\" y=\"-521.3\" font-family=\"Helvetica,sans-Serif\" font-size=\"14.00\">gini = 0.0</text>\n<text text-anchor=\"start\" x=\"1895.5\" y=\"-506.3\" font-family=\"Helvetica,sans-Serif\" font-size=\"14.00\">samples = 1</text>\n<text text-anchor=\"start\" x=\"1893.5\" y=\"-491.3\" font-family=\"Helvetica,sans-Serif\" font-size=\"14.00\">value = [1, 0]</text>\n<text text-anchor=\"start\" x=\"1905.5\" y=\"-476.3\" font-family=\"Helvetica,sans-Serif\" font-size=\"14.00\">class = 0</text>\n</g>\n<!-- 84&#45;&gt;85 -->\n<g id=\"edge85\" class=\"edge\">\n<title>84&#45;&gt;85</title>\n<path fill=\"none\" stroke=\"black\" d=\"M1978.71,-579.91C1972.05,-568.76 1964.8,-556.66 1958.09,-545.44\"/>\n<polygon fill=\"black\" stroke=\"black\" points=\"1960.98,-543.45 1952.84,-536.67 1954.97,-547.05 1960.98,-543.45\"/>\n</g>\n<!-- 86 -->\n<g id=\"node87\" class=\"node\">\n<title>86</title>\n<path fill=\"#399de5\" stroke=\"black\" d=\"M2081.5,-536.5C2081.5,-536.5 2010.5,-536.5 2010.5,-536.5 2004.5,-536.5 1998.5,-530.5 1998.5,-524.5 1998.5,-524.5 1998.5,-480.5 1998.5,-480.5 1998.5,-474.5 2004.5,-468.5 2010.5,-468.5 2010.5,-468.5 2081.5,-468.5 2081.5,-468.5 2087.5,-468.5 2093.5,-474.5 2093.5,-480.5 2093.5,-480.5 2093.5,-524.5 2093.5,-524.5 2093.5,-530.5 2087.5,-536.5 2081.5,-536.5\"/>\n<text text-anchor=\"start\" x=\"2018\" y=\"-521.3\" font-family=\"Helvetica,sans-Serif\" font-size=\"14.00\">gini = 0.0</text>\n<text text-anchor=\"start\" x=\"2008.5\" y=\"-506.3\" font-family=\"Helvetica,sans-Serif\" font-size=\"14.00\">samples = 1</text>\n<text text-anchor=\"start\" x=\"2006.5\" y=\"-491.3\" font-family=\"Helvetica,sans-Serif\" font-size=\"14.00\">value = [0, 1]</text>\n<text text-anchor=\"start\" x=\"2018.5\" y=\"-476.3\" font-family=\"Helvetica,sans-Serif\" font-size=\"14.00\">class = 1</text>\n</g>\n<!-- 84&#45;&gt;86 -->\n<g id=\"edge86\" class=\"edge\">\n<title>84&#45;&gt;86</title>\n<path fill=\"none\" stroke=\"black\" d=\"M2017.92,-579.91C2021.93,-568.98 2026.29,-557.14 2030.34,-546.11\"/>\n<polygon fill=\"black\" stroke=\"black\" points=\"2033.65,-547.26 2033.81,-536.67 2027.08,-544.85 2033.65,-547.26\"/>\n</g>\n<!-- 89 -->\n<g id=\"node90\" class=\"node\">\n<title>89</title>\n<path fill=\"#f1bb94\" stroke=\"black\" d=\"M2041,-1377C2041,-1377 1955,-1377 1955,-1377 1949,-1377 1943,-1371 1943,-1365 1943,-1365 1943,-1306 1943,-1306 1943,-1300 1949,-1294 1955,-1294 1955,-1294 2041,-1294 2041,-1294 2047,-1294 2053,-1300 2053,-1306 2053,-1306 2053,-1365 2053,-1365 2053,-1371 2047,-1377 2041,-1377\"/>\n<text text-anchor=\"start\" x=\"1965\" y=\"-1361.8\" font-family=\"Helvetica,sans-Serif\" font-size=\"14.00\">Age ≤ 26.5</text>\n<text text-anchor=\"start\" x=\"1962.5\" y=\"-1346.8\" font-family=\"Helvetica,sans-Serif\" font-size=\"14.00\">gini = 0.432</text>\n<text text-anchor=\"start\" x=\"1957\" y=\"-1331.8\" font-family=\"Helvetica,sans-Serif\" font-size=\"14.00\">samples = 57</text>\n<text text-anchor=\"start\" x=\"1951\" y=\"-1316.8\" font-family=\"Helvetica,sans-Serif\" font-size=\"14.00\">value = [39, 18]</text>\n<text text-anchor=\"start\" x=\"1970.5\" y=\"-1301.8\" font-family=\"Helvetica,sans-Serif\" font-size=\"14.00\">class = 0</text>\n</g>\n<!-- 88&#45;&gt;89 -->\n<g id=\"edge89\" class=\"edge\">\n<title>88&#45;&gt;89</title>\n<path fill=\"none\" stroke=\"black\" d=\"M1998,-1412.91C1998,-1404.65 1998,-1395.86 1998,-1387.3\"/>\n<polygon fill=\"black\" stroke=\"black\" points=\"2001.5,-1387.02 1998,-1377.02 1994.5,-1387.02 2001.5,-1387.02\"/>\n</g>\n<!-- 116 -->\n<g id=\"node117\" class=\"node\">\n<title>116</title>\n<path fill=\"#85c3ef\" stroke=\"black\" d=\"M3076,-1377C3076,-1377 2990,-1377 2990,-1377 2984,-1377 2978,-1371 2978,-1365 2978,-1365 2978,-1306 2978,-1306 2978,-1300 2984,-1294 2990,-1294 2990,-1294 3076,-1294 3076,-1294 3082,-1294 3088,-1300 3088,-1306 3088,-1306 3088,-1365 3088,-1365 3088,-1371 3082,-1377 3076,-1377\"/>\n<text text-anchor=\"start\" x=\"3000\" y=\"-1361.8\" font-family=\"Helvetica,sans-Serif\" font-size=\"14.00\">Age ≤ 30.5</text>\n<text text-anchor=\"start\" x=\"2997.5\" y=\"-1346.8\" font-family=\"Helvetica,sans-Serif\" font-size=\"14.00\">gini = 0.401</text>\n<text text-anchor=\"start\" x=\"2988\" y=\"-1331.8\" font-family=\"Helvetica,sans-Serif\" font-size=\"14.00\">samples = 137</text>\n<text text-anchor=\"start\" x=\"2986\" y=\"-1316.8\" font-family=\"Helvetica,sans-Serif\" font-size=\"14.00\">value = [38, 99]</text>\n<text text-anchor=\"start\" x=\"3005.5\" y=\"-1301.8\" font-family=\"Helvetica,sans-Serif\" font-size=\"14.00\">class = 1</text>\n</g>\n<!-- 88&#45;&gt;116 -->\n<g id=\"edge116\" class=\"edge\">\n<title>88&#45;&gt;116</title>\n<path fill=\"none\" stroke=\"black\" d=\"M2056.61,-1446.87C2236.44,-1426.55 2779.51,-1365.16 2967.84,-1343.87\"/>\n<polygon fill=\"black\" stroke=\"black\" points=\"2968.33,-1347.33 2977.87,-1342.73 2967.54,-1340.38 2968.33,-1347.33\"/>\n</g>\n<!-- 90 -->\n<g id=\"node91\" class=\"node\">\n<title>90</title>\n<path fill=\"#e78945\" stroke=\"black\" d=\"M1971.5,-1258C1971.5,-1258 1870.5,-1258 1870.5,-1258 1864.5,-1258 1858.5,-1252 1858.5,-1246 1858.5,-1246 1858.5,-1187 1858.5,-1187 1858.5,-1181 1864.5,-1175 1870.5,-1175 1870.5,-1175 1971.5,-1175 1971.5,-1175 1977.5,-1175 1983.5,-1181 1983.5,-1187 1983.5,-1187 1983.5,-1246 1983.5,-1246 1983.5,-1252 1977.5,-1258 1971.5,-1258\"/>\n<text text-anchor=\"start\" x=\"1866.5\" y=\"-1242.8\" font-family=\"Helvetica,sans-Serif\" font-size=\"14.00\">Pregnancies ≤ 2.5</text>\n<text text-anchor=\"start\" x=\"1885.5\" y=\"-1227.8\" font-family=\"Helvetica,sans-Serif\" font-size=\"14.00\">gini = 0.111</text>\n<text text-anchor=\"start\" x=\"1880\" y=\"-1212.8\" font-family=\"Helvetica,sans-Serif\" font-size=\"14.00\">samples = 17</text>\n<text text-anchor=\"start\" x=\"1878\" y=\"-1197.8\" font-family=\"Helvetica,sans-Serif\" font-size=\"14.00\">value = [16, 1]</text>\n<text text-anchor=\"start\" x=\"1893.5\" y=\"-1182.8\" font-family=\"Helvetica,sans-Serif\" font-size=\"14.00\">class = 0</text>\n</g>\n<!-- 89&#45;&gt;90 -->\n<g id=\"edge90\" class=\"edge\">\n<title>89&#45;&gt;90</title>\n<path fill=\"none\" stroke=\"black\" d=\"M1971.29,-1293.91C1965.49,-1285.1 1959.3,-1275.7 1953.32,-1266.61\"/>\n<polygon fill=\"black\" stroke=\"black\" points=\"1956.09,-1264.45 1947.67,-1258.02 1950.24,-1268.3 1956.09,-1264.45\"/>\n</g>\n<!-- 95 -->\n<g id=\"node96\" class=\"node\">\n<title>95</title>\n<path fill=\"#f8decb\" stroke=\"black\" d=\"M2136,-1258C2136,-1258 2014,-1258 2014,-1258 2008,-1258 2002,-1252 2002,-1246 2002,-1246 2002,-1187 2002,-1187 2002,-1181 2008,-1175 2014,-1175 2014,-1175 2136,-1175 2136,-1175 2142,-1175 2148,-1181 2148,-1187 2148,-1187 2148,-1246 2148,-1246 2148,-1252 2142,-1258 2136,-1258\"/>\n<text text-anchor=\"start\" x=\"2010\" y=\"-1242.8\" font-family=\"Helvetica,sans-Serif\" font-size=\"14.00\">BloodPressure ≤ 62.5</text>\n<text text-anchor=\"start\" x=\"2039.5\" y=\"-1227.8\" font-family=\"Helvetica,sans-Serif\" font-size=\"14.00\">gini = 0.489</text>\n<text text-anchor=\"start\" x=\"2034\" y=\"-1212.8\" font-family=\"Helvetica,sans-Serif\" font-size=\"14.00\">samples = 40</text>\n<text text-anchor=\"start\" x=\"2028\" y=\"-1197.8\" font-family=\"Helvetica,sans-Serif\" font-size=\"14.00\">value = [23, 17]</text>\n<text text-anchor=\"start\" x=\"2047.5\" y=\"-1182.8\" font-family=\"Helvetica,sans-Serif\" font-size=\"14.00\">class = 0</text>\n</g>\n<!-- 89&#45;&gt;95 -->\n<g id=\"edge95\" class=\"edge\">\n<title>89&#45;&gt;95</title>\n<path fill=\"none\" stroke=\"black\" d=\"M2024.71,-1293.91C2030.51,-1285.1 2036.7,-1275.7 2042.68,-1266.61\"/>\n<polygon fill=\"black\" stroke=\"black\" points=\"2045.76,-1268.3 2048.33,-1258.02 2039.91,-1264.45 2045.76,-1268.3\"/>\n</g>\n<!-- 91 -->\n<g id=\"node92\" class=\"node\">\n<title>91</title>\n<path fill=\"#e58139\" stroke=\"black\" d=\"M1822,-1131.5C1822,-1131.5 1744,-1131.5 1744,-1131.5 1738,-1131.5 1732,-1125.5 1732,-1119.5 1732,-1119.5 1732,-1075.5 1732,-1075.5 1732,-1069.5 1738,-1063.5 1744,-1063.5 1744,-1063.5 1822,-1063.5 1822,-1063.5 1828,-1063.5 1834,-1069.5 1834,-1075.5 1834,-1075.5 1834,-1119.5 1834,-1119.5 1834,-1125.5 1828,-1131.5 1822,-1131.5\"/>\n<text text-anchor=\"start\" x=\"1755\" y=\"-1116.3\" font-family=\"Helvetica,sans-Serif\" font-size=\"14.00\">gini = 0.0</text>\n<text text-anchor=\"start\" x=\"1742\" y=\"-1101.3\" font-family=\"Helvetica,sans-Serif\" font-size=\"14.00\">samples = 14</text>\n<text text-anchor=\"start\" x=\"1740\" y=\"-1086.3\" font-family=\"Helvetica,sans-Serif\" font-size=\"14.00\">value = [14, 0]</text>\n<text text-anchor=\"start\" x=\"1755.5\" y=\"-1071.3\" font-family=\"Helvetica,sans-Serif\" font-size=\"14.00\">class = 0</text>\n</g>\n<!-- 90&#45;&gt;91 -->\n<g id=\"edge91\" class=\"edge\">\n<title>90&#45;&gt;91</title>\n<path fill=\"none\" stroke=\"black\" d=\"M1873.12,-1174.91C1859.2,-1163.1 1844,-1150.22 1830.12,-1138.45\"/>\n<polygon fill=\"black\" stroke=\"black\" points=\"1832.01,-1135.46 1822.12,-1131.67 1827.48,-1140.8 1832.01,-1135.46\"/>\n</g>\n<!-- 92 -->\n<g id=\"node93\" class=\"node\">\n<title>92</title>\n<path fill=\"#f2c09c\" stroke=\"black\" d=\"M1986,-1139C1986,-1139 1864,-1139 1864,-1139 1858,-1139 1852,-1133 1852,-1127 1852,-1127 1852,-1068 1852,-1068 1852,-1062 1858,-1056 1864,-1056 1864,-1056 1986,-1056 1986,-1056 1992,-1056 1998,-1062 1998,-1068 1998,-1068 1998,-1127 1998,-1127 1998,-1133 1992,-1139 1986,-1139\"/>\n<text text-anchor=\"start\" x=\"1860\" y=\"-1123.8\" font-family=\"Helvetica,sans-Serif\" font-size=\"14.00\">BloodPressure ≤ 59.0</text>\n<text text-anchor=\"start\" x=\"1889.5\" y=\"-1108.8\" font-family=\"Helvetica,sans-Serif\" font-size=\"14.00\">gini = 0.444</text>\n<text text-anchor=\"start\" x=\"1887.5\" y=\"-1093.8\" font-family=\"Helvetica,sans-Serif\" font-size=\"14.00\">samples = 3</text>\n<text text-anchor=\"start\" x=\"1885.5\" y=\"-1078.8\" font-family=\"Helvetica,sans-Serif\" font-size=\"14.00\">value = [2, 1]</text>\n<text text-anchor=\"start\" x=\"1897.5\" y=\"-1063.8\" font-family=\"Helvetica,sans-Serif\" font-size=\"14.00\">class = 0</text>\n</g>\n<!-- 90&#45;&gt;92 -->\n<g id=\"edge92\" class=\"edge\">\n<title>90&#45;&gt;92</title>\n<path fill=\"none\" stroke=\"black\" d=\"M1922.39,-1174.91C1922.67,-1166.56 1922.98,-1157.67 1923.27,-1149.02\"/>\n<polygon fill=\"black\" stroke=\"black\" points=\"1926.77,-1149.13 1923.61,-1139.02 1919.77,-1148.9 1926.77,-1149.13\"/>\n</g>\n<!-- 93 -->\n<g id=\"node94\" class=\"node\">\n<title>93</title>\n<path fill=\"#399de5\" stroke=\"black\" d=\"M1850.5,-1012.5C1850.5,-1012.5 1779.5,-1012.5 1779.5,-1012.5 1773.5,-1012.5 1767.5,-1006.5 1767.5,-1000.5 1767.5,-1000.5 1767.5,-956.5 1767.5,-956.5 1767.5,-950.5 1773.5,-944.5 1779.5,-944.5 1779.5,-944.5 1850.5,-944.5 1850.5,-944.5 1856.5,-944.5 1862.5,-950.5 1862.5,-956.5 1862.5,-956.5 1862.5,-1000.5 1862.5,-1000.5 1862.5,-1006.5 1856.5,-1012.5 1850.5,-1012.5\"/>\n<text text-anchor=\"start\" x=\"1787\" y=\"-997.3\" font-family=\"Helvetica,sans-Serif\" font-size=\"14.00\">gini = 0.0</text>\n<text text-anchor=\"start\" x=\"1777.5\" y=\"-982.3\" font-family=\"Helvetica,sans-Serif\" font-size=\"14.00\">samples = 1</text>\n<text text-anchor=\"start\" x=\"1775.5\" y=\"-967.3\" font-family=\"Helvetica,sans-Serif\" font-size=\"14.00\">value = [0, 1]</text>\n<text text-anchor=\"start\" x=\"1787.5\" y=\"-952.3\" font-family=\"Helvetica,sans-Serif\" font-size=\"14.00\">class = 1</text>\n</g>\n<!-- 92&#45;&gt;93 -->\n<g id=\"edge93\" class=\"edge\">\n<title>92&#45;&gt;93</title>\n<path fill=\"none\" stroke=\"black\" d=\"M1886.84,-1055.91C1875.94,-1044.32 1864.07,-1031.7 1853.18,-1020.11\"/>\n<polygon fill=\"black\" stroke=\"black\" points=\"1855.58,-1017.56 1846.18,-1012.67 1850.48,-1022.35 1855.58,-1017.56\"/>\n</g>\n<!-- 94 -->\n<g id=\"node95\" class=\"node\">\n<title>94</title>\n<path fill=\"#e58139\" stroke=\"black\" d=\"M1963.5,-1012.5C1963.5,-1012.5 1892.5,-1012.5 1892.5,-1012.5 1886.5,-1012.5 1880.5,-1006.5 1880.5,-1000.5 1880.5,-1000.5 1880.5,-956.5 1880.5,-956.5 1880.5,-950.5 1886.5,-944.5 1892.5,-944.5 1892.5,-944.5 1963.5,-944.5 1963.5,-944.5 1969.5,-944.5 1975.5,-950.5 1975.5,-956.5 1975.5,-956.5 1975.5,-1000.5 1975.5,-1000.5 1975.5,-1006.5 1969.5,-1012.5 1963.5,-1012.5\"/>\n<text text-anchor=\"start\" x=\"1900\" y=\"-997.3\" font-family=\"Helvetica,sans-Serif\" font-size=\"14.00\">gini = 0.0</text>\n<text text-anchor=\"start\" x=\"1890.5\" y=\"-982.3\" font-family=\"Helvetica,sans-Serif\" font-size=\"14.00\">samples = 2</text>\n<text text-anchor=\"start\" x=\"1888.5\" y=\"-967.3\" font-family=\"Helvetica,sans-Serif\" font-size=\"14.00\">value = [2, 0]</text>\n<text text-anchor=\"start\" x=\"1900.5\" y=\"-952.3\" font-family=\"Helvetica,sans-Serif\" font-size=\"14.00\">class = 0</text>\n</g>\n<!-- 92&#45;&gt;94 -->\n<g id=\"edge94\" class=\"edge\">\n<title>92&#45;&gt;94</title>\n<path fill=\"none\" stroke=\"black\" d=\"M1926.04,-1055.91C1926.32,-1045.2 1926.61,-1033.62 1926.89,-1022.78\"/>\n<polygon fill=\"black\" stroke=\"black\" points=\"1930.39,-1022.75 1927.15,-1012.67 1923.39,-1022.57 1930.39,-1022.75\"/>\n</g>\n<!-- 96 -->\n<g id=\"node97\" class=\"node\">\n<title>96</title>\n<path fill=\"#e58139\" stroke=\"black\" d=\"M2106.5,-1131.5C2106.5,-1131.5 2035.5,-1131.5 2035.5,-1131.5 2029.5,-1131.5 2023.5,-1125.5 2023.5,-1119.5 2023.5,-1119.5 2023.5,-1075.5 2023.5,-1075.5 2023.5,-1069.5 2029.5,-1063.5 2035.5,-1063.5 2035.5,-1063.5 2106.5,-1063.5 2106.5,-1063.5 2112.5,-1063.5 2118.5,-1069.5 2118.5,-1075.5 2118.5,-1075.5 2118.5,-1119.5 2118.5,-1119.5 2118.5,-1125.5 2112.5,-1131.5 2106.5,-1131.5\"/>\n<text text-anchor=\"start\" x=\"2043\" y=\"-1116.3\" font-family=\"Helvetica,sans-Serif\" font-size=\"14.00\">gini = 0.0</text>\n<text text-anchor=\"start\" x=\"2033.5\" y=\"-1101.3\" font-family=\"Helvetica,sans-Serif\" font-size=\"14.00\">samples = 7</text>\n<text text-anchor=\"start\" x=\"2031.5\" y=\"-1086.3\" font-family=\"Helvetica,sans-Serif\" font-size=\"14.00\">value = [7, 0]</text>\n<text text-anchor=\"start\" x=\"2043.5\" y=\"-1071.3\" font-family=\"Helvetica,sans-Serif\" font-size=\"14.00\">class = 0</text>\n</g>\n<!-- 95&#45;&gt;96 -->\n<g id=\"edge96\" class=\"edge\">\n<title>95&#45;&gt;96</title>\n<path fill=\"none\" stroke=\"black\" d=\"M2073.61,-1174.91C2073.25,-1164.2 2072.85,-1152.62 2072.48,-1141.78\"/>\n<polygon fill=\"black\" stroke=\"black\" points=\"2075.97,-1141.54 2072.13,-1131.67 2068.98,-1141.78 2075.97,-1141.54\"/>\n</g>\n<!-- 97 -->\n<g id=\"node98\" class=\"node\">\n<title>97</title>\n<path fill=\"#f3f9fd\" stroke=\"black\" d=\"M2271,-1139C2271,-1139 2149,-1139 2149,-1139 2143,-1139 2137,-1133 2137,-1127 2137,-1127 2137,-1068 2137,-1068 2137,-1062 2143,-1056 2149,-1056 2149,-1056 2271,-1056 2271,-1056 2277,-1056 2283,-1062 2283,-1068 2283,-1068 2283,-1127 2283,-1127 2283,-1133 2277,-1139 2271,-1139\"/>\n<text text-anchor=\"start\" x=\"2145\" y=\"-1123.8\" font-family=\"Helvetica,sans-Serif\" font-size=\"14.00\">BloodPressure ≤ 73.0</text>\n<text text-anchor=\"start\" x=\"2182\" y=\"-1108.8\" font-family=\"Helvetica,sans-Serif\" font-size=\"14.00\">gini = 0.5</text>\n<text text-anchor=\"start\" x=\"2169\" y=\"-1093.8\" font-family=\"Helvetica,sans-Serif\" font-size=\"14.00\">samples = 33</text>\n<text text-anchor=\"start\" x=\"2163\" y=\"-1078.8\" font-family=\"Helvetica,sans-Serif\" font-size=\"14.00\">value = [16, 17]</text>\n<text text-anchor=\"start\" x=\"2182.5\" y=\"-1063.8\" font-family=\"Helvetica,sans-Serif\" font-size=\"14.00\">class = 1</text>\n</g>\n<!-- 95&#45;&gt;97 -->\n<g id=\"edge97\" class=\"edge\">\n<title>95&#45;&gt;97</title>\n<path fill=\"none\" stroke=\"black\" d=\"M2121.84,-1174.91C2132.73,-1165.47 2144.41,-1155.34 2155.6,-1145.65\"/>\n<polygon fill=\"black\" stroke=\"black\" points=\"2157.98,-1148.22 2163.25,-1139.02 2153.4,-1142.93 2157.98,-1148.22\"/>\n</g>\n<!-- 98 -->\n<g id=\"node99\" class=\"node\">\n<title>98</title>\n<path fill=\"#4fa8e8\" stroke=\"black\" d=\"M2197.5,-1020C2197.5,-1020 2084.5,-1020 2084.5,-1020 2078.5,-1020 2072.5,-1014 2072.5,-1008 2072.5,-1008 2072.5,-949 2072.5,-949 2072.5,-943 2078.5,-937 2084.5,-937 2084.5,-937 2197.5,-937 2197.5,-937 2203.5,-937 2209.5,-943 2209.5,-949 2209.5,-949 2209.5,-1008 2209.5,-1008 2209.5,-1014 2203.5,-1020 2197.5,-1020\"/>\n<text text-anchor=\"start\" x=\"2080.5\" y=\"-1004.8\" font-family=\"Helvetica,sans-Serif\" font-size=\"14.00\">SkinThickness ≤ 7.0</text>\n<text text-anchor=\"start\" x=\"2109\" y=\"-989.8\" font-family=\"Helvetica,sans-Serif\" font-size=\"14.00\">gini = 0.18</text>\n<text text-anchor=\"start\" x=\"2100\" y=\"-974.8\" font-family=\"Helvetica,sans-Serif\" font-size=\"14.00\">samples = 10</text>\n<text text-anchor=\"start\" x=\"2101.5\" y=\"-959.8\" font-family=\"Helvetica,sans-Serif\" font-size=\"14.00\">value = [1, 9]</text>\n<text text-anchor=\"start\" x=\"2113.5\" y=\"-944.8\" font-family=\"Helvetica,sans-Serif\" font-size=\"14.00\">class = 1</text>\n</g>\n<!-- 97&#45;&gt;98 -->\n<g id=\"edge98\" class=\"edge\">\n<title>97&#45;&gt;98</title>\n<path fill=\"none\" stroke=\"black\" d=\"M2186.06,-1055.91C2180.92,-1047.2 2175.44,-1037.9 2170.13,-1028.89\"/>\n<polygon fill=\"black\" stroke=\"black\" points=\"2172.99,-1026.86 2164.9,-1020.02 2166.96,-1030.41 2172.99,-1026.86\"/>\n</g>\n<!-- 103 -->\n<g id=\"node104\" class=\"node\">\n<title>103</title>\n<path fill=\"#f3c4a3\" stroke=\"black\" d=\"M2318,-1020C2318,-1020 2240,-1020 2240,-1020 2234,-1020 2228,-1014 2228,-1008 2228,-1008 2228,-949 2228,-949 2228,-943 2234,-937 2240,-937 2240,-937 2318,-937 2318,-937 2324,-937 2330,-943 2330,-949 2330,-949 2330,-1008 2330,-1008 2330,-1014 2324,-1020 2318,-1020\"/>\n<text text-anchor=\"start\" x=\"2246\" y=\"-1004.8\" font-family=\"Helvetica,sans-Serif\" font-size=\"14.00\">Age ≤ 53.5</text>\n<text text-anchor=\"start\" x=\"2243.5\" y=\"-989.8\" font-family=\"Helvetica,sans-Serif\" font-size=\"14.00\">gini = 0.454</text>\n<text text-anchor=\"start\" x=\"2238\" y=\"-974.8\" font-family=\"Helvetica,sans-Serif\" font-size=\"14.00\">samples = 23</text>\n<text text-anchor=\"start\" x=\"2236\" y=\"-959.8\" font-family=\"Helvetica,sans-Serif\" font-size=\"14.00\">value = [15, 8]</text>\n<text text-anchor=\"start\" x=\"2251.5\" y=\"-944.8\" font-family=\"Helvetica,sans-Serif\" font-size=\"14.00\">class = 0</text>\n</g>\n<!-- 97&#45;&gt;103 -->\n<g id=\"edge103\" class=\"edge\">\n<title>97&#45;&gt;103</title>\n<path fill=\"none\" stroke=\"black\" d=\"M2233.94,-1055.91C2239.08,-1047.2 2244.56,-1037.9 2249.87,-1028.89\"/>\n<polygon fill=\"black\" stroke=\"black\" points=\"2253.04,-1030.41 2255.1,-1020.02 2247.01,-1026.86 2253.04,-1030.41\"/>\n</g>\n<!-- 99 -->\n<g id=\"node100\" class=\"node\">\n<title>99</title>\n<path fill=\"#9ccef2\" stroke=\"black\" d=\"M2066.5,-901C2066.5,-901 1995.5,-901 1995.5,-901 1989.5,-901 1983.5,-895 1983.5,-889 1983.5,-889 1983.5,-830 1983.5,-830 1983.5,-824 1989.5,-818 1995.5,-818 1995.5,-818 2066.5,-818 2066.5,-818 2072.5,-818 2078.5,-824 2078.5,-830 2078.5,-830 2078.5,-889 2078.5,-889 2078.5,-895 2072.5,-901 2066.5,-901\"/>\n<text text-anchor=\"start\" x=\"1997.5\" y=\"-885.8\" font-family=\"Helvetica,sans-Serif\" font-size=\"14.00\">BMI ≤ 25.6</text>\n<text text-anchor=\"start\" x=\"1995.5\" y=\"-870.8\" font-family=\"Helvetica,sans-Serif\" font-size=\"14.00\">gini = 0.444</text>\n<text text-anchor=\"start\" x=\"1993.5\" y=\"-855.8\" font-family=\"Helvetica,sans-Serif\" font-size=\"14.00\">samples = 3</text>\n<text text-anchor=\"start\" x=\"1991.5\" y=\"-840.8\" font-family=\"Helvetica,sans-Serif\" font-size=\"14.00\">value = [1, 2]</text>\n<text text-anchor=\"start\" x=\"2003.5\" y=\"-825.8\" font-family=\"Helvetica,sans-Serif\" font-size=\"14.00\">class = 1</text>\n</g>\n<!-- 98&#45;&gt;99 -->\n<g id=\"edge99\" class=\"edge\">\n<title>98&#45;&gt;99</title>\n<path fill=\"none\" stroke=\"black\" d=\"M2102.84,-936.91C2094.22,-927.74 2084.99,-917.93 2076.12,-908.49\"/>\n<polygon fill=\"black\" stroke=\"black\" points=\"2078.5,-905.91 2069.1,-901.02 2073.4,-910.7 2078.5,-905.91\"/>\n</g>\n<!-- 102 -->\n<g id=\"node103\" class=\"node\">\n<title>102</title>\n<path fill=\"#399de5\" stroke=\"black\" d=\"M2179.5,-893.5C2179.5,-893.5 2108.5,-893.5 2108.5,-893.5 2102.5,-893.5 2096.5,-887.5 2096.5,-881.5 2096.5,-881.5 2096.5,-837.5 2096.5,-837.5 2096.5,-831.5 2102.5,-825.5 2108.5,-825.5 2108.5,-825.5 2179.5,-825.5 2179.5,-825.5 2185.5,-825.5 2191.5,-831.5 2191.5,-837.5 2191.5,-837.5 2191.5,-881.5 2191.5,-881.5 2191.5,-887.5 2185.5,-893.5 2179.5,-893.5\"/>\n<text text-anchor=\"start\" x=\"2116\" y=\"-878.3\" font-family=\"Helvetica,sans-Serif\" font-size=\"14.00\">gini = 0.0</text>\n<text text-anchor=\"start\" x=\"2106.5\" y=\"-863.3\" font-family=\"Helvetica,sans-Serif\" font-size=\"14.00\">samples = 7</text>\n<text text-anchor=\"start\" x=\"2104.5\" y=\"-848.3\" font-family=\"Helvetica,sans-Serif\" font-size=\"14.00\">value = [0, 7]</text>\n<text text-anchor=\"start\" x=\"2116.5\" y=\"-833.3\" font-family=\"Helvetica,sans-Serif\" font-size=\"14.00\">class = 1</text>\n</g>\n<!-- 98&#45;&gt;102 -->\n<g id=\"edge102\" class=\"edge\">\n<title>98&#45;&gt;102</title>\n<path fill=\"none\" stroke=\"black\" d=\"M2142.04,-936.91C2142.32,-926.2 2142.61,-914.62 2142.89,-903.78\"/>\n<polygon fill=\"black\" stroke=\"black\" points=\"2146.39,-903.75 2143.15,-893.67 2139.39,-903.57 2146.39,-903.75\"/>\n</g>\n<!-- 100 -->\n<g id=\"node101\" class=\"node\">\n<title>100</title>\n<path fill=\"#399de5\" stroke=\"black\" d=\"M2058.5,-774.5C2058.5,-774.5 1987.5,-774.5 1987.5,-774.5 1981.5,-774.5 1975.5,-768.5 1975.5,-762.5 1975.5,-762.5 1975.5,-718.5 1975.5,-718.5 1975.5,-712.5 1981.5,-706.5 1987.5,-706.5 1987.5,-706.5 2058.5,-706.5 2058.5,-706.5 2064.5,-706.5 2070.5,-712.5 2070.5,-718.5 2070.5,-718.5 2070.5,-762.5 2070.5,-762.5 2070.5,-768.5 2064.5,-774.5 2058.5,-774.5\"/>\n<text text-anchor=\"start\" x=\"1995\" y=\"-759.3\" font-family=\"Helvetica,sans-Serif\" font-size=\"14.00\">gini = 0.0</text>\n<text text-anchor=\"start\" x=\"1985.5\" y=\"-744.3\" font-family=\"Helvetica,sans-Serif\" font-size=\"14.00\">samples = 2</text>\n<text text-anchor=\"start\" x=\"1983.5\" y=\"-729.3\" font-family=\"Helvetica,sans-Serif\" font-size=\"14.00\">value = [0, 2]</text>\n<text text-anchor=\"start\" x=\"1995.5\" y=\"-714.3\" font-family=\"Helvetica,sans-Serif\" font-size=\"14.00\">class = 1</text>\n</g>\n<!-- 99&#45;&gt;100 -->\n<g id=\"edge100\" class=\"edge\">\n<title>99&#45;&gt;100</title>\n<path fill=\"none\" stroke=\"black\" d=\"M2028.22,-817.91C2027.49,-807.2 2026.7,-795.62 2025.96,-784.78\"/>\n<polygon fill=\"black\" stroke=\"black\" points=\"2029.44,-784.4 2025.27,-774.67 2022.46,-784.88 2029.44,-784.4\"/>\n</g>\n<!-- 101 -->\n<g id=\"node102\" class=\"node\">\n<title>101</title>\n<path fill=\"#e58139\" stroke=\"black\" d=\"M2171.5,-774.5C2171.5,-774.5 2100.5,-774.5 2100.5,-774.5 2094.5,-774.5 2088.5,-768.5 2088.5,-762.5 2088.5,-762.5 2088.5,-718.5 2088.5,-718.5 2088.5,-712.5 2094.5,-706.5 2100.5,-706.5 2100.5,-706.5 2171.5,-706.5 2171.5,-706.5 2177.5,-706.5 2183.5,-712.5 2183.5,-718.5 2183.5,-718.5 2183.5,-762.5 2183.5,-762.5 2183.5,-768.5 2177.5,-774.5 2171.5,-774.5\"/>\n<text text-anchor=\"start\" x=\"2108\" y=\"-759.3\" font-family=\"Helvetica,sans-Serif\" font-size=\"14.00\">gini = 0.0</text>\n<text text-anchor=\"start\" x=\"2098.5\" y=\"-744.3\" font-family=\"Helvetica,sans-Serif\" font-size=\"14.00\">samples = 1</text>\n<text text-anchor=\"start\" x=\"2096.5\" y=\"-729.3\" font-family=\"Helvetica,sans-Serif\" font-size=\"14.00\">value = [1, 0]</text>\n<text text-anchor=\"start\" x=\"2108.5\" y=\"-714.3\" font-family=\"Helvetica,sans-Serif\" font-size=\"14.00\">class = 0</text>\n</g>\n<!-- 99&#45;&gt;101 -->\n<g id=\"edge101\" class=\"edge\">\n<title>99&#45;&gt;101</title>\n<path fill=\"none\" stroke=\"black\" d=\"M2067.43,-817.91C2077.83,-806.32 2089.16,-793.7 2099.55,-782.11\"/>\n<polygon fill=\"black\" stroke=\"black\" points=\"2102.16,-784.45 2106.23,-774.67 2096.95,-779.77 2102.16,-784.45\"/>\n</g>\n<!-- 104 -->\n<g id=\"node105\" class=\"node\">\n<title>104</title>\n<path fill=\"#ffffff\" stroke=\"black\" d=\"M2321,-901C2321,-901 2229,-901 2229,-901 2223,-901 2217,-895 2217,-889 2217,-889 2217,-830 2217,-830 2217,-824 2223,-818 2229,-818 2229,-818 2321,-818 2321,-818 2327,-818 2333,-824 2333,-830 2333,-830 2333,-889 2333,-889 2333,-895 2327,-901 2321,-901\"/>\n<text text-anchor=\"start\" x=\"2225\" y=\"-885.8\" font-family=\"Helvetica,sans-Serif\" font-size=\"14.00\">Glucose ≤ 154.5</text>\n<text text-anchor=\"start\" x=\"2247\" y=\"-870.8\" font-family=\"Helvetica,sans-Serif\" font-size=\"14.00\">gini = 0.5</text>\n<text text-anchor=\"start\" x=\"2234\" y=\"-855.8\" font-family=\"Helvetica,sans-Serif\" font-size=\"14.00\">samples = 16</text>\n<text text-anchor=\"start\" x=\"2235.5\" y=\"-840.8\" font-family=\"Helvetica,sans-Serif\" font-size=\"14.00\">value = [8, 8]</text>\n<text text-anchor=\"start\" x=\"2247.5\" y=\"-825.8\" font-family=\"Helvetica,sans-Serif\" font-size=\"14.00\">class = 0</text>\n</g>\n<!-- 103&#45;&gt;104 -->\n<g id=\"edge104\" class=\"edge\">\n<title>103&#45;&gt;104</title>\n<path fill=\"none\" stroke=\"black\" d=\"M2277.61,-936.91C2277.33,-928.56 2277.02,-919.67 2276.73,-911.02\"/>\n<polygon fill=\"black\" stroke=\"black\" points=\"2280.23,-910.9 2276.39,-901.02 2273.23,-911.13 2280.23,-910.9\"/>\n</g>\n<!-- 115 -->\n<g id=\"node116\" class=\"node\">\n<title>115</title>\n<path fill=\"#e58139\" stroke=\"black\" d=\"M2434.5,-893.5C2434.5,-893.5 2363.5,-893.5 2363.5,-893.5 2357.5,-893.5 2351.5,-887.5 2351.5,-881.5 2351.5,-881.5 2351.5,-837.5 2351.5,-837.5 2351.5,-831.5 2357.5,-825.5 2363.5,-825.5 2363.5,-825.5 2434.5,-825.5 2434.5,-825.5 2440.5,-825.5 2446.5,-831.5 2446.5,-837.5 2446.5,-837.5 2446.5,-881.5 2446.5,-881.5 2446.5,-887.5 2440.5,-893.5 2434.5,-893.5\"/>\n<text text-anchor=\"start\" x=\"2371\" y=\"-878.3\" font-family=\"Helvetica,sans-Serif\" font-size=\"14.00\">gini = 0.0</text>\n<text text-anchor=\"start\" x=\"2361.5\" y=\"-863.3\" font-family=\"Helvetica,sans-Serif\" font-size=\"14.00\">samples = 7</text>\n<text text-anchor=\"start\" x=\"2359.5\" y=\"-848.3\" font-family=\"Helvetica,sans-Serif\" font-size=\"14.00\">value = [7, 0]</text>\n<text text-anchor=\"start\" x=\"2371.5\" y=\"-833.3\" font-family=\"Helvetica,sans-Serif\" font-size=\"14.00\">class = 0</text>\n</g>\n<!-- 103&#45;&gt;115 -->\n<g id=\"edge115\" class=\"edge\">\n<title>103&#45;&gt;115</title>\n<path fill=\"none\" stroke=\"black\" d=\"M2320.63,-936.91C2332.63,-925.21 2345.71,-912.46 2357.69,-900.78\"/>\n<polygon fill=\"black\" stroke=\"black\" points=\"2360.27,-903.15 2364.98,-893.67 2355.38,-898.14 2360.27,-903.15\"/>\n</g>\n<!-- 105 -->\n<g id=\"node106\" class=\"node\">\n<title>105</title>\n<path fill=\"#f0b78e\" stroke=\"black\" d=\"M2336,-782C2336,-782 2214,-782 2214,-782 2208,-782 2202,-776 2202,-770 2202,-770 2202,-711 2202,-711 2202,-705 2208,-699 2214,-699 2214,-699 2336,-699 2336,-699 2342,-699 2348,-705 2348,-711 2348,-711 2348,-770 2348,-770 2348,-776 2342,-782 2336,-782\"/>\n<text text-anchor=\"start\" x=\"2210\" y=\"-766.8\" font-family=\"Helvetica,sans-Serif\" font-size=\"14.00\">BloodPressure ≤ 77.0</text>\n<text text-anchor=\"start\" x=\"2243\" y=\"-751.8\" font-family=\"Helvetica,sans-Serif\" font-size=\"14.00\">gini = 0.42</text>\n<text text-anchor=\"start\" x=\"2234\" y=\"-736.8\" font-family=\"Helvetica,sans-Serif\" font-size=\"14.00\">samples = 10</text>\n<text text-anchor=\"start\" x=\"2235.5\" y=\"-721.8\" font-family=\"Helvetica,sans-Serif\" font-size=\"14.00\">value = [7, 3]</text>\n<text text-anchor=\"start\" x=\"2247.5\" y=\"-706.8\" font-family=\"Helvetica,sans-Serif\" font-size=\"14.00\">class = 0</text>\n</g>\n<!-- 104&#45;&gt;105 -->\n<g id=\"edge105\" class=\"edge\">\n<title>104&#45;&gt;105</title>\n<path fill=\"none\" stroke=\"black\" d=\"M2275,-817.91C2275,-809.65 2275,-800.86 2275,-792.3\"/>\n<polygon fill=\"black\" stroke=\"black\" points=\"2278.5,-792.02 2275,-782.02 2271.5,-792.02 2278.5,-792.02\"/>\n</g>\n<!-- 112 -->\n<g id=\"node113\" class=\"node\">\n<title>112</title>\n<path fill=\"#61b1ea\" stroke=\"black\" d=\"M2499.5,-782C2499.5,-782 2378.5,-782 2378.5,-782 2372.5,-782 2366.5,-776 2366.5,-770 2366.5,-770 2366.5,-711 2366.5,-711 2366.5,-705 2372.5,-699 2378.5,-699 2378.5,-699 2499.5,-699 2499.5,-699 2505.5,-699 2511.5,-705 2511.5,-711 2511.5,-711 2511.5,-770 2511.5,-770 2511.5,-776 2505.5,-782 2499.5,-782\"/>\n<text text-anchor=\"start\" x=\"2374.5\" y=\"-766.8\" font-family=\"Helvetica,sans-Serif\" font-size=\"14.00\">SkinThickness ≤ 25.0</text>\n<text text-anchor=\"start\" x=\"2403.5\" y=\"-751.8\" font-family=\"Helvetica,sans-Serif\" font-size=\"14.00\">gini = 0.278</text>\n<text text-anchor=\"start\" x=\"2401.5\" y=\"-736.8\" font-family=\"Helvetica,sans-Serif\" font-size=\"14.00\">samples = 6</text>\n<text text-anchor=\"start\" x=\"2399.5\" y=\"-721.8\" font-family=\"Helvetica,sans-Serif\" font-size=\"14.00\">value = [1, 5]</text>\n<text text-anchor=\"start\" x=\"2411.5\" y=\"-706.8\" font-family=\"Helvetica,sans-Serif\" font-size=\"14.00\">class = 1</text>\n</g>\n<!-- 104&#45;&gt;112 -->\n<g id=\"edge112\" class=\"edge\">\n<title>104&#45;&gt;112</title>\n<path fill=\"none\" stroke=\"black\" d=\"M2331.9,-817.91C2345.38,-808.29 2359.87,-797.95 2373.69,-788.09\"/>\n<polygon fill=\"black\" stroke=\"black\" points=\"2376.09,-790.68 2382.2,-782.02 2372.03,-784.98 2376.09,-790.68\"/>\n</g>\n<!-- 106 -->\n<g id=\"node107\" class=\"node\">\n<title>106</title>\n<path fill=\"#e58139\" stroke=\"black\" d=\"M2210.5,-655.5C2210.5,-655.5 2139.5,-655.5 2139.5,-655.5 2133.5,-655.5 2127.5,-649.5 2127.5,-643.5 2127.5,-643.5 2127.5,-599.5 2127.5,-599.5 2127.5,-593.5 2133.5,-587.5 2139.5,-587.5 2139.5,-587.5 2210.5,-587.5 2210.5,-587.5 2216.5,-587.5 2222.5,-593.5 2222.5,-599.5 2222.5,-599.5 2222.5,-643.5 2222.5,-643.5 2222.5,-649.5 2216.5,-655.5 2210.5,-655.5\"/>\n<text text-anchor=\"start\" x=\"2147\" y=\"-640.3\" font-family=\"Helvetica,sans-Serif\" font-size=\"14.00\">gini = 0.0</text>\n<text text-anchor=\"start\" x=\"2137.5\" y=\"-625.3\" font-family=\"Helvetica,sans-Serif\" font-size=\"14.00\">samples = 5</text>\n<text text-anchor=\"start\" x=\"2135.5\" y=\"-610.3\" font-family=\"Helvetica,sans-Serif\" font-size=\"14.00\">value = [5, 0]</text>\n<text text-anchor=\"start\" x=\"2147.5\" y=\"-595.3\" font-family=\"Helvetica,sans-Serif\" font-size=\"14.00\">class = 0</text>\n</g>\n<!-- 105&#45;&gt;106 -->\n<g id=\"edge106\" class=\"edge\">\n<title>105&#45;&gt;106</title>\n<path fill=\"none\" stroke=\"black\" d=\"M2240.31,-698.91C2230.5,-687.43 2219.82,-674.94 2209.99,-663.44\"/>\n<polygon fill=\"black\" stroke=\"black\" points=\"2212.51,-660.99 2203.35,-655.67 2207.18,-665.54 2212.51,-660.99\"/>\n</g>\n<!-- 107 -->\n<g id=\"node108\" class=\"node\">\n<title>107</title>\n<path fill=\"#bddef6\" stroke=\"black\" d=\"M2323.5,-663C2323.5,-663 2252.5,-663 2252.5,-663 2246.5,-663 2240.5,-657 2240.5,-651 2240.5,-651 2240.5,-592 2240.5,-592 2240.5,-586 2246.5,-580 2252.5,-580 2252.5,-580 2323.5,-580 2323.5,-580 2329.5,-580 2335.5,-586 2335.5,-592 2335.5,-592 2335.5,-651 2335.5,-651 2335.5,-657 2329.5,-663 2323.5,-663\"/>\n<text text-anchor=\"start\" x=\"2251\" y=\"-647.8\" font-family=\"Helvetica,sans-Serif\" font-size=\"14.00\">BMI ≤ 28.65</text>\n<text text-anchor=\"start\" x=\"2256\" y=\"-632.8\" font-family=\"Helvetica,sans-Serif\" font-size=\"14.00\">gini = 0.48</text>\n<text text-anchor=\"start\" x=\"2250.5\" y=\"-617.8\" font-family=\"Helvetica,sans-Serif\" font-size=\"14.00\">samples = 5</text>\n<text text-anchor=\"start\" x=\"2248.5\" y=\"-602.8\" font-family=\"Helvetica,sans-Serif\" font-size=\"14.00\">value = [2, 3]</text>\n<text text-anchor=\"start\" x=\"2260.5\" y=\"-587.8\" font-family=\"Helvetica,sans-Serif\" font-size=\"14.00\">class = 1</text>\n</g>\n<!-- 105&#45;&gt;107 -->\n<g id=\"edge107\" class=\"edge\">\n<title>105&#45;&gt;107</title>\n<path fill=\"none\" stroke=\"black\" d=\"M2279.51,-698.91C2280.44,-690.56 2281.43,-681.67 2282.39,-673.02\"/>\n<polygon fill=\"black\" stroke=\"black\" points=\"2285.87,-673.35 2283.5,-663.02 2278.91,-672.57 2285.87,-673.35\"/>\n</g>\n<!-- 108 -->\n<g id=\"node109\" class=\"node\">\n<title>108</title>\n<path fill=\"#399de5\" stroke=\"black\" d=\"M2259.5,-536.5C2259.5,-536.5 2188.5,-536.5 2188.5,-536.5 2182.5,-536.5 2176.5,-530.5 2176.5,-524.5 2176.5,-524.5 2176.5,-480.5 2176.5,-480.5 2176.5,-474.5 2182.5,-468.5 2188.5,-468.5 2188.5,-468.5 2259.5,-468.5 2259.5,-468.5 2265.5,-468.5 2271.5,-474.5 2271.5,-480.5 2271.5,-480.5 2271.5,-524.5 2271.5,-524.5 2271.5,-530.5 2265.5,-536.5 2259.5,-536.5\"/>\n<text text-anchor=\"start\" x=\"2196\" y=\"-521.3\" font-family=\"Helvetica,sans-Serif\" font-size=\"14.00\">gini = 0.0</text>\n<text text-anchor=\"start\" x=\"2186.5\" y=\"-506.3\" font-family=\"Helvetica,sans-Serif\" font-size=\"14.00\">samples = 2</text>\n<text text-anchor=\"start\" x=\"2184.5\" y=\"-491.3\" font-family=\"Helvetica,sans-Serif\" font-size=\"14.00\">value = [0, 2]</text>\n<text text-anchor=\"start\" x=\"2196.5\" y=\"-476.3\" font-family=\"Helvetica,sans-Serif\" font-size=\"14.00\">class = 1</text>\n</g>\n<!-- 107&#45;&gt;108 -->\n<g id=\"edge108\" class=\"edge\">\n<title>107&#45;&gt;108</title>\n<path fill=\"none\" stroke=\"black\" d=\"M2265.8,-579.91C2259.76,-568.87 2253.21,-556.9 2247.12,-545.77\"/>\n<polygon fill=\"black\" stroke=\"black\" points=\"2250.01,-543.76 2242.14,-536.67 2243.87,-547.12 2250.01,-543.76\"/>\n</g>\n<!-- 109 -->\n<g id=\"node110\" class=\"node\">\n<title>109</title>\n<path fill=\"#f2c09c\" stroke=\"black\" d=\"M2424,-544C2424,-544 2302,-544 2302,-544 2296,-544 2290,-538 2290,-532 2290,-532 2290,-473 2290,-473 2290,-467 2296,-461 2302,-461 2302,-461 2424,-461 2424,-461 2430,-461 2436,-467 2436,-473 2436,-473 2436,-532 2436,-532 2436,-538 2430,-544 2424,-544\"/>\n<text text-anchor=\"start\" x=\"2298\" y=\"-528.8\" font-family=\"Helvetica,sans-Serif\" font-size=\"14.00\">BloodPressure ≤ 82.5</text>\n<text text-anchor=\"start\" x=\"2327.5\" y=\"-513.8\" font-family=\"Helvetica,sans-Serif\" font-size=\"14.00\">gini = 0.444</text>\n<text text-anchor=\"start\" x=\"2325.5\" y=\"-498.8\" font-family=\"Helvetica,sans-Serif\" font-size=\"14.00\">samples = 3</text>\n<text text-anchor=\"start\" x=\"2323.5\" y=\"-483.8\" font-family=\"Helvetica,sans-Serif\" font-size=\"14.00\">value = [2, 1]</text>\n<text text-anchor=\"start\" x=\"2335.5\" y=\"-468.8\" font-family=\"Helvetica,sans-Serif\" font-size=\"14.00\">class = 0</text>\n</g>\n<!-- 107&#45;&gt;109 -->\n<g id=\"edge109\" class=\"edge\">\n<title>107&#45;&gt;109</title>\n<path fill=\"none\" stroke=\"black\" d=\"M2314.02,-579.91C2319.66,-571.1 2325.69,-561.7 2331.52,-552.61\"/>\n<polygon fill=\"black\" stroke=\"black\" points=\"2334.57,-554.33 2337.03,-544.02 2328.68,-550.55 2334.57,-554.33\"/>\n</g>\n<!-- 110 -->\n<g id=\"node111\" class=\"node\">\n<title>110</title>\n<path fill=\"#399de5\" stroke=\"black\" d=\"M2342.5,-417.5C2342.5,-417.5 2271.5,-417.5 2271.5,-417.5 2265.5,-417.5 2259.5,-411.5 2259.5,-405.5 2259.5,-405.5 2259.5,-361.5 2259.5,-361.5 2259.5,-355.5 2265.5,-349.5 2271.5,-349.5 2271.5,-349.5 2342.5,-349.5 2342.5,-349.5 2348.5,-349.5 2354.5,-355.5 2354.5,-361.5 2354.5,-361.5 2354.5,-405.5 2354.5,-405.5 2354.5,-411.5 2348.5,-417.5 2342.5,-417.5\"/>\n<text text-anchor=\"start\" x=\"2279\" y=\"-402.3\" font-family=\"Helvetica,sans-Serif\" font-size=\"14.00\">gini = 0.0</text>\n<text text-anchor=\"start\" x=\"2269.5\" y=\"-387.3\" font-family=\"Helvetica,sans-Serif\" font-size=\"14.00\">samples = 1</text>\n<text text-anchor=\"start\" x=\"2267.5\" y=\"-372.3\" font-family=\"Helvetica,sans-Serif\" font-size=\"14.00\">value = [0, 1]</text>\n<text text-anchor=\"start\" x=\"2279.5\" y=\"-357.3\" font-family=\"Helvetica,sans-Serif\" font-size=\"14.00\">class = 1</text>\n</g>\n<!-- 109&#45;&gt;110 -->\n<g id=\"edge110\" class=\"edge\">\n<title>109&#45;&gt;110</title>\n<path fill=\"none\" stroke=\"black\" d=\"M2343.57,-460.91C2338.29,-449.87 2332.56,-437.9 2327.23,-426.77\"/>\n<polygon fill=\"black\" stroke=\"black\" points=\"2330.35,-425.18 2322.87,-417.67 2324.04,-428.2 2330.35,-425.18\"/>\n</g>\n<!-- 111 -->\n<g id=\"node112\" class=\"node\">\n<title>111</title>\n<path fill=\"#e58139\" stroke=\"black\" d=\"M2455.5,-417.5C2455.5,-417.5 2384.5,-417.5 2384.5,-417.5 2378.5,-417.5 2372.5,-411.5 2372.5,-405.5 2372.5,-405.5 2372.5,-361.5 2372.5,-361.5 2372.5,-355.5 2378.5,-349.5 2384.5,-349.5 2384.5,-349.5 2455.5,-349.5 2455.5,-349.5 2461.5,-349.5 2467.5,-355.5 2467.5,-361.5 2467.5,-361.5 2467.5,-405.5 2467.5,-405.5 2467.5,-411.5 2461.5,-417.5 2455.5,-417.5\"/>\n<text text-anchor=\"start\" x=\"2392\" y=\"-402.3\" font-family=\"Helvetica,sans-Serif\" font-size=\"14.00\">gini = 0.0</text>\n<text text-anchor=\"start\" x=\"2382.5\" y=\"-387.3\" font-family=\"Helvetica,sans-Serif\" font-size=\"14.00\">samples = 2</text>\n<text text-anchor=\"start\" x=\"2380.5\" y=\"-372.3\" font-family=\"Helvetica,sans-Serif\" font-size=\"14.00\">value = [2, 0]</text>\n<text text-anchor=\"start\" x=\"2392.5\" y=\"-357.3\" font-family=\"Helvetica,sans-Serif\" font-size=\"14.00\">class = 0</text>\n</g>\n<!-- 109&#45;&gt;111 -->\n<g id=\"edge111\" class=\"edge\">\n<title>109&#45;&gt;111</title>\n<path fill=\"none\" stroke=\"black\" d=\"M2382.78,-460.91C2388.15,-449.87 2393.99,-437.9 2399.41,-426.77\"/>\n<polygon fill=\"black\" stroke=\"black\" points=\"2402.61,-428.19 2403.84,-417.67 2396.32,-425.12 2402.61,-428.19\"/>\n</g>\n<!-- 113 -->\n<g id=\"node114\" class=\"node\">\n<title>113</title>\n<path fill=\"#399de5\" stroke=\"black\" d=\"M2449.5,-655.5C2449.5,-655.5 2378.5,-655.5 2378.5,-655.5 2372.5,-655.5 2366.5,-649.5 2366.5,-643.5 2366.5,-643.5 2366.5,-599.5 2366.5,-599.5 2366.5,-593.5 2372.5,-587.5 2378.5,-587.5 2378.5,-587.5 2449.5,-587.5 2449.5,-587.5 2455.5,-587.5 2461.5,-593.5 2461.5,-599.5 2461.5,-599.5 2461.5,-643.5 2461.5,-643.5 2461.5,-649.5 2455.5,-655.5 2449.5,-655.5\"/>\n<text text-anchor=\"start\" x=\"2386\" y=\"-640.3\" font-family=\"Helvetica,sans-Serif\" font-size=\"14.00\">gini = 0.0</text>\n<text text-anchor=\"start\" x=\"2376.5\" y=\"-625.3\" font-family=\"Helvetica,sans-Serif\" font-size=\"14.00\">samples = 5</text>\n<text text-anchor=\"start\" x=\"2374.5\" y=\"-610.3\" font-family=\"Helvetica,sans-Serif\" font-size=\"14.00\">value = [0, 5]</text>\n<text text-anchor=\"start\" x=\"2386.5\" y=\"-595.3\" font-family=\"Helvetica,sans-Serif\" font-size=\"14.00\">class = 1</text>\n</g>\n<!-- 112&#45;&gt;113 -->\n<g id=\"edge113\" class=\"edge\">\n<title>112&#45;&gt;113</title>\n<path fill=\"none\" stroke=\"black\" d=\"M2430.33,-698.91C2428.04,-688.2 2425.56,-676.62 2423.25,-665.78\"/>\n<polygon fill=\"black\" stroke=\"black\" points=\"2426.6,-664.71 2421.09,-655.67 2419.75,-666.18 2426.6,-664.71\"/>\n</g>\n<!-- 114 -->\n<g id=\"node115\" class=\"node\">\n<title>114</title>\n<path fill=\"#e58139\" stroke=\"black\" d=\"M2562.5,-655.5C2562.5,-655.5 2491.5,-655.5 2491.5,-655.5 2485.5,-655.5 2479.5,-649.5 2479.5,-643.5 2479.5,-643.5 2479.5,-599.5 2479.5,-599.5 2479.5,-593.5 2485.5,-587.5 2491.5,-587.5 2491.5,-587.5 2562.5,-587.5 2562.5,-587.5 2568.5,-587.5 2574.5,-593.5 2574.5,-599.5 2574.5,-599.5 2574.5,-643.5 2574.5,-643.5 2574.5,-649.5 2568.5,-655.5 2562.5,-655.5\"/>\n<text text-anchor=\"start\" x=\"2499\" y=\"-640.3\" font-family=\"Helvetica,sans-Serif\" font-size=\"14.00\">gini = 0.0</text>\n<text text-anchor=\"start\" x=\"2489.5\" y=\"-625.3\" font-family=\"Helvetica,sans-Serif\" font-size=\"14.00\">samples = 1</text>\n<text text-anchor=\"start\" x=\"2487.5\" y=\"-610.3\" font-family=\"Helvetica,sans-Serif\" font-size=\"14.00\">value = [1, 0]</text>\n<text text-anchor=\"start\" x=\"2499.5\" y=\"-595.3\" font-family=\"Helvetica,sans-Serif\" font-size=\"14.00\">class = 0</text>\n</g>\n<!-- 112&#45;&gt;114 -->\n<g id=\"edge114\" class=\"edge\">\n<title>112&#45;&gt;114</title>\n<path fill=\"none\" stroke=\"black\" d=\"M2469.53,-698.91C2478.08,-687.54 2487.38,-675.18 2495.96,-663.77\"/>\n<polygon fill=\"black\" stroke=\"black\" points=\"2498.84,-665.76 2502.05,-655.67 2493.25,-661.55 2498.84,-665.76\"/>\n</g>\n<!-- 117 -->\n<g id=\"node118\" class=\"node\">\n<title>117</title>\n<path fill=\"#dceefa\" stroke=\"black\" d=\"M3133,-1258C3133,-1258 2933,-1258 2933,-1258 2927,-1258 2921,-1252 2921,-1246 2921,-1246 2921,-1187 2921,-1187 2921,-1181 2927,-1175 2933,-1175 2933,-1175 3133,-1175 3133,-1175 3139,-1175 3145,-1181 3145,-1187 3145,-1187 3145,-1246 3145,-1246 3145,-1252 3139,-1258 3133,-1258\"/>\n<text text-anchor=\"start\" x=\"2929\" y=\"-1242.8\" font-family=\"Helvetica,sans-Serif\" font-size=\"14.00\">DiabetesPedigreeFunction ≤ 0.318</text>\n<text text-anchor=\"start\" x=\"2997.5\" y=\"-1227.8\" font-family=\"Helvetica,sans-Serif\" font-size=\"14.00\">gini = 0.495</text>\n<text text-anchor=\"start\" x=\"2992\" y=\"-1212.8\" font-family=\"Helvetica,sans-Serif\" font-size=\"14.00\">samples = 51</text>\n<text text-anchor=\"start\" x=\"2986\" y=\"-1197.8\" font-family=\"Helvetica,sans-Serif\" font-size=\"14.00\">value = [23, 28]</text>\n<text text-anchor=\"start\" x=\"3005.5\" y=\"-1182.8\" font-family=\"Helvetica,sans-Serif\" font-size=\"14.00\">class = 1</text>\n</g>\n<!-- 116&#45;&gt;117 -->\n<g id=\"edge117\" class=\"edge\">\n<title>116&#45;&gt;117</title>\n<path fill=\"none\" stroke=\"black\" d=\"M3033,-1293.91C3033,-1285.65 3033,-1276.86 3033,-1268.3\"/>\n<polygon fill=\"black\" stroke=\"black\" points=\"3036.5,-1268.02 3033,-1258.02 3029.5,-1268.02 3036.5,-1268.02\"/>\n</g>\n<!-- 142 -->\n<g id=\"node143\" class=\"node\">\n<title>142</title>\n<path fill=\"#63b2ea\" stroke=\"black\" d=\"M3652,-1258C3652,-1258 3452,-1258 3452,-1258 3446,-1258 3440,-1252 3440,-1246 3440,-1246 3440,-1187 3440,-1187 3440,-1181 3446,-1175 3452,-1175 3452,-1175 3652,-1175 3652,-1175 3658,-1175 3664,-1181 3664,-1187 3664,-1187 3664,-1246 3664,-1246 3664,-1252 3658,-1258 3652,-1258\"/>\n<text text-anchor=\"start\" x=\"3448\" y=\"-1242.8\" font-family=\"Helvetica,sans-Serif\" font-size=\"14.00\">DiabetesPedigreeFunction ≤ 0.343</text>\n<text text-anchor=\"start\" x=\"3516.5\" y=\"-1227.8\" font-family=\"Helvetica,sans-Serif\" font-size=\"14.00\">gini = 0.288</text>\n<text text-anchor=\"start\" x=\"3511\" y=\"-1212.8\" font-family=\"Helvetica,sans-Serif\" font-size=\"14.00\">samples = 86</text>\n<text text-anchor=\"start\" x=\"3505\" y=\"-1197.8\" font-family=\"Helvetica,sans-Serif\" font-size=\"14.00\">value = [15, 71]</text>\n<text text-anchor=\"start\" x=\"3524.5\" y=\"-1182.8\" font-family=\"Helvetica,sans-Serif\" font-size=\"14.00\">class = 1</text>\n</g>\n<!-- 116&#45;&gt;142 -->\n<g id=\"edge142\" class=\"edge\">\n<title>116&#45;&gt;142</title>\n<path fill=\"none\" stroke=\"black\" d=\"M3088.05,-1322.09C3168.88,-1303.87 3321.77,-1269.4 3429.92,-1245.02\"/>\n<polygon fill=\"black\" stroke=\"black\" points=\"3430.93,-1248.38 3439.91,-1242.77 3429.39,-1241.55 3430.93,-1248.38\"/>\n</g>\n<!-- 118 -->\n<g id=\"node119\" class=\"node\">\n<title>118</title>\n<path fill=\"#eda876\" stroke=\"black\" d=\"M3022,-1139C3022,-1139 2822,-1139 2822,-1139 2816,-1139 2810,-1133 2810,-1127 2810,-1127 2810,-1068 2810,-1068 2810,-1062 2816,-1056 2822,-1056 2822,-1056 3022,-1056 3022,-1056 3028,-1056 3034,-1062 3034,-1068 3034,-1068 3034,-1127 3034,-1127 3034,-1133 3028,-1139 3022,-1139\"/>\n<text text-anchor=\"start\" x=\"2818\" y=\"-1123.8\" font-family=\"Helvetica,sans-Serif\" font-size=\"14.00\">DiabetesPedigreeFunction ≤ 0.215</text>\n<text text-anchor=\"start\" x=\"2890\" y=\"-1108.8\" font-family=\"Helvetica,sans-Serif\" font-size=\"14.00\">gini = 0.36</text>\n<text text-anchor=\"start\" x=\"2881\" y=\"-1093.8\" font-family=\"Helvetica,sans-Serif\" font-size=\"14.00\">samples = 17</text>\n<text text-anchor=\"start\" x=\"2879\" y=\"-1078.8\" font-family=\"Helvetica,sans-Serif\" font-size=\"14.00\">value = [13, 4]</text>\n<text text-anchor=\"start\" x=\"2894.5\" y=\"-1063.8\" font-family=\"Helvetica,sans-Serif\" font-size=\"14.00\">class = 0</text>\n</g>\n<!-- 117&#45;&gt;118 -->\n<g id=\"edge118\" class=\"edge\">\n<title>117&#45;&gt;118</title>\n<path fill=\"none\" stroke=\"black\" d=\"M2994.49,-1174.91C2985.79,-1165.74 2976.48,-1155.93 2967.53,-1146.49\"/>\n<polygon fill=\"black\" stroke=\"black\" points=\"2969.86,-1143.87 2960.44,-1139.02 2964.79,-1148.68 2969.86,-1143.87\"/>\n</g>\n<!-- 129 -->\n<g id=\"node130\" class=\"node\">\n<title>129</title>\n<path fill=\"#8bc6f0\" stroke=\"black\" d=\"M3190,-1139C3190,-1139 3098,-1139 3098,-1139 3092,-1139 3086,-1133 3086,-1127 3086,-1127 3086,-1068 3086,-1068 3086,-1062 3092,-1056 3098,-1056 3098,-1056 3190,-1056 3190,-1056 3196,-1056 3202,-1062 3202,-1068 3202,-1068 3202,-1127 3202,-1127 3202,-1133 3196,-1139 3190,-1139\"/>\n<text text-anchor=\"start\" x=\"3094\" y=\"-1123.8\" font-family=\"Helvetica,sans-Serif\" font-size=\"14.00\">Glucose ≤ 156.0</text>\n<text text-anchor=\"start\" x=\"3108.5\" y=\"-1108.8\" font-family=\"Helvetica,sans-Serif\" font-size=\"14.00\">gini = 0.415</text>\n<text text-anchor=\"start\" x=\"3103\" y=\"-1093.8\" font-family=\"Helvetica,sans-Serif\" font-size=\"14.00\">samples = 34</text>\n<text text-anchor=\"start\" x=\"3097\" y=\"-1078.8\" font-family=\"Helvetica,sans-Serif\" font-size=\"14.00\">value = [10, 24]</text>\n<text text-anchor=\"start\" x=\"3116.5\" y=\"-1063.8\" font-family=\"Helvetica,sans-Serif\" font-size=\"14.00\">class = 1</text>\n</g>\n<!-- 117&#45;&gt;129 -->\n<g id=\"edge129\" class=\"edge\">\n<title>117&#45;&gt;129</title>\n<path fill=\"none\" stroke=\"black\" d=\"M3071.51,-1174.91C3080.21,-1165.74 3089.52,-1155.93 3098.47,-1146.49\"/>\n<polygon fill=\"black\" stroke=\"black\" points=\"3101.21,-1148.68 3105.56,-1139.02 3096.14,-1143.87 3101.21,-1148.68\"/>\n</g>\n<!-- 119 -->\n<g id=\"node120\" class=\"node\">\n<title>119</title>\n<path fill=\"#bddef6\" stroke=\"black\" d=\"M2801,-1020C2801,-1020 2709,-1020 2709,-1020 2703,-1020 2697,-1014 2697,-1008 2697,-1008 2697,-949 2697,-949 2697,-943 2703,-937 2709,-937 2709,-937 2801,-937 2801,-937 2807,-937 2813,-943 2813,-949 2813,-949 2813,-1008 2813,-1008 2813,-1014 2807,-1020 2801,-1020\"/>\n<text text-anchor=\"start\" x=\"2705\" y=\"-1004.8\" font-family=\"Helvetica,sans-Serif\" font-size=\"14.00\">Glucose ≤ 142.5</text>\n<text text-anchor=\"start\" x=\"2723\" y=\"-989.8\" font-family=\"Helvetica,sans-Serif\" font-size=\"14.00\">gini = 0.48</text>\n<text text-anchor=\"start\" x=\"2717.5\" y=\"-974.8\" font-family=\"Helvetica,sans-Serif\" font-size=\"14.00\">samples = 5</text>\n<text text-anchor=\"start\" x=\"2715.5\" y=\"-959.8\" font-family=\"Helvetica,sans-Serif\" font-size=\"14.00\">value = [2, 3]</text>\n<text text-anchor=\"start\" x=\"2727.5\" y=\"-944.8\" font-family=\"Helvetica,sans-Serif\" font-size=\"14.00\">class = 1</text>\n</g>\n<!-- 118&#45;&gt;119 -->\n<g id=\"edge119\" class=\"edge\">\n<title>118&#45;&gt;119</title>\n<path fill=\"none\" stroke=\"black\" d=\"M2864.06,-1055.91C2850.2,-1046.2 2835.3,-1035.76 2821.1,-1025.81\"/>\n<polygon fill=\"black\" stroke=\"black\" points=\"2823.04,-1022.89 2812.84,-1020.02 2819.02,-1028.63 2823.04,-1022.89\"/>\n</g>\n<!-- 124 -->\n<g id=\"node125\" class=\"node\">\n<title>124</title>\n<path fill=\"#e78c4b\" stroke=\"black\" d=\"M2968,-1020C2968,-1020 2876,-1020 2876,-1020 2870,-1020 2864,-1014 2864,-1008 2864,-1008 2864,-949 2864,-949 2864,-943 2870,-937 2876,-937 2876,-937 2968,-937 2968,-937 2974,-937 2980,-943 2980,-949 2980,-949 2980,-1008 2980,-1008 2980,-1014 2974,-1020 2968,-1020\"/>\n<text text-anchor=\"start\" x=\"2872\" y=\"-1004.8\" font-family=\"Helvetica,sans-Serif\" font-size=\"14.00\">Glucose ≤ 160.5</text>\n<text text-anchor=\"start\" x=\"2886.5\" y=\"-989.8\" font-family=\"Helvetica,sans-Serif\" font-size=\"14.00\">gini = 0.153</text>\n<text text-anchor=\"start\" x=\"2881\" y=\"-974.8\" font-family=\"Helvetica,sans-Serif\" font-size=\"14.00\">samples = 12</text>\n<text text-anchor=\"start\" x=\"2879\" y=\"-959.8\" font-family=\"Helvetica,sans-Serif\" font-size=\"14.00\">value = [11, 1]</text>\n<text text-anchor=\"start\" x=\"2894.5\" y=\"-944.8\" font-family=\"Helvetica,sans-Serif\" font-size=\"14.00\">class = 0</text>\n</g>\n<!-- 118&#45;&gt;124 -->\n<g id=\"edge124\" class=\"edge\">\n<title>118&#45;&gt;124</title>\n<path fill=\"none\" stroke=\"black\" d=\"M2922,-1055.91C2922,-1047.65 2922,-1038.86 2922,-1030.3\"/>\n<polygon fill=\"black\" stroke=\"black\" points=\"2925.5,-1030.02 2922,-1020.02 2918.5,-1030.02 2925.5,-1030.02\"/>\n</g>\n<!-- 120 -->\n<g id=\"node121\" class=\"node\">\n<title>120</title>\n<path fill=\"#f2c09c\" stroke=\"black\" d=\"M2677,-901C2677,-901 2477,-901 2477,-901 2471,-901 2465,-895 2465,-889 2465,-889 2465,-830 2465,-830 2465,-824 2471,-818 2477,-818 2477,-818 2677,-818 2677,-818 2683,-818 2689,-824 2689,-830 2689,-830 2689,-889 2689,-889 2689,-895 2683,-901 2677,-901\"/>\n<text text-anchor=\"start\" x=\"2473\" y=\"-885.8\" font-family=\"Helvetica,sans-Serif\" font-size=\"14.00\">DiabetesPedigreeFunction ≤ 0.183</text>\n<text text-anchor=\"start\" x=\"2541.5\" y=\"-870.8\" font-family=\"Helvetica,sans-Serif\" font-size=\"14.00\">gini = 0.444</text>\n<text text-anchor=\"start\" x=\"2539.5\" y=\"-855.8\" font-family=\"Helvetica,sans-Serif\" font-size=\"14.00\">samples = 3</text>\n<text text-anchor=\"start\" x=\"2537.5\" y=\"-840.8\" font-family=\"Helvetica,sans-Serif\" font-size=\"14.00\">value = [2, 1]</text>\n<text text-anchor=\"start\" x=\"2549.5\" y=\"-825.8\" font-family=\"Helvetica,sans-Serif\" font-size=\"14.00\">class = 0</text>\n</g>\n<!-- 119&#45;&gt;120 -->\n<g id=\"edge120\" class=\"edge\">\n<title>119&#45;&gt;120</title>\n<path fill=\"none\" stroke=\"black\" d=\"M2696.72,-939.19C2680.92,-928.8 2663.64,-917.45 2647.26,-906.68\"/>\n<polygon fill=\"black\" stroke=\"black\" points=\"2649.06,-903.68 2638.78,-901.11 2645.22,-909.53 2649.06,-903.68\"/>\n</g>\n<!-- 123 -->\n<g id=\"node124\" class=\"node\">\n<title>123</title>\n<path fill=\"#399de5\" stroke=\"black\" d=\"M2790.5,-893.5C2790.5,-893.5 2719.5,-893.5 2719.5,-893.5 2713.5,-893.5 2707.5,-887.5 2707.5,-881.5 2707.5,-881.5 2707.5,-837.5 2707.5,-837.5 2707.5,-831.5 2713.5,-825.5 2719.5,-825.5 2719.5,-825.5 2790.5,-825.5 2790.5,-825.5 2796.5,-825.5 2802.5,-831.5 2802.5,-837.5 2802.5,-837.5 2802.5,-881.5 2802.5,-881.5 2802.5,-887.5 2796.5,-893.5 2790.5,-893.5\"/>\n<text text-anchor=\"start\" x=\"2727\" y=\"-878.3\" font-family=\"Helvetica,sans-Serif\" font-size=\"14.00\">gini = 0.0</text>\n<text text-anchor=\"start\" x=\"2717.5\" y=\"-863.3\" font-family=\"Helvetica,sans-Serif\" font-size=\"14.00\">samples = 2</text>\n<text text-anchor=\"start\" x=\"2715.5\" y=\"-848.3\" font-family=\"Helvetica,sans-Serif\" font-size=\"14.00\">value = [0, 2]</text>\n<text text-anchor=\"start\" x=\"2727.5\" y=\"-833.3\" font-family=\"Helvetica,sans-Serif\" font-size=\"14.00\">class = 1</text>\n</g>\n<!-- 119&#45;&gt;123 -->\n<g id=\"edge123\" class=\"edge\">\n<title>119&#45;&gt;123</title>\n<path fill=\"none\" stroke=\"black\" d=\"M2755,-936.91C2755,-926.2 2755,-914.62 2755,-903.78\"/>\n<polygon fill=\"black\" stroke=\"black\" points=\"2758.5,-903.67 2755,-893.67 2751.5,-903.67 2758.5,-903.67\"/>\n</g>\n<!-- 121 -->\n<g id=\"node122\" class=\"node\">\n<title>121</title>\n<path fill=\"#e58139\" stroke=\"black\" d=\"M2612.5,-774.5C2612.5,-774.5 2541.5,-774.5 2541.5,-774.5 2535.5,-774.5 2529.5,-768.5 2529.5,-762.5 2529.5,-762.5 2529.5,-718.5 2529.5,-718.5 2529.5,-712.5 2535.5,-706.5 2541.5,-706.5 2541.5,-706.5 2612.5,-706.5 2612.5,-706.5 2618.5,-706.5 2624.5,-712.5 2624.5,-718.5 2624.5,-718.5 2624.5,-762.5 2624.5,-762.5 2624.5,-768.5 2618.5,-774.5 2612.5,-774.5\"/>\n<text text-anchor=\"start\" x=\"2549\" y=\"-759.3\" font-family=\"Helvetica,sans-Serif\" font-size=\"14.00\">gini = 0.0</text>\n<text text-anchor=\"start\" x=\"2539.5\" y=\"-744.3\" font-family=\"Helvetica,sans-Serif\" font-size=\"14.00\">samples = 2</text>\n<text text-anchor=\"start\" x=\"2537.5\" y=\"-729.3\" font-family=\"Helvetica,sans-Serif\" font-size=\"14.00\">value = [2, 0]</text>\n<text text-anchor=\"start\" x=\"2549.5\" y=\"-714.3\" font-family=\"Helvetica,sans-Serif\" font-size=\"14.00\">class = 0</text>\n</g>\n<!-- 120&#45;&gt;121 -->\n<g id=\"edge121\" class=\"edge\">\n<title>120&#45;&gt;121</title>\n<path fill=\"none\" stroke=\"black\" d=\"M2577,-817.91C2577,-807.2 2577,-795.62 2577,-784.78\"/>\n<polygon fill=\"black\" stroke=\"black\" points=\"2580.5,-784.67 2577,-774.67 2573.5,-784.67 2580.5,-784.67\"/>\n</g>\n<!-- 122 -->\n<g id=\"node123\" class=\"node\">\n<title>122</title>\n<path fill=\"#399de5\" stroke=\"black\" d=\"M2725.5,-774.5C2725.5,-774.5 2654.5,-774.5 2654.5,-774.5 2648.5,-774.5 2642.5,-768.5 2642.5,-762.5 2642.5,-762.5 2642.5,-718.5 2642.5,-718.5 2642.5,-712.5 2648.5,-706.5 2654.5,-706.5 2654.5,-706.5 2725.5,-706.5 2725.5,-706.5 2731.5,-706.5 2737.5,-712.5 2737.5,-718.5 2737.5,-718.5 2737.5,-762.5 2737.5,-762.5 2737.5,-768.5 2731.5,-774.5 2725.5,-774.5\"/>\n<text text-anchor=\"start\" x=\"2662\" y=\"-759.3\" font-family=\"Helvetica,sans-Serif\" font-size=\"14.00\">gini = 0.0</text>\n<text text-anchor=\"start\" x=\"2652.5\" y=\"-744.3\" font-family=\"Helvetica,sans-Serif\" font-size=\"14.00\">samples = 1</text>\n<text text-anchor=\"start\" x=\"2650.5\" y=\"-729.3\" font-family=\"Helvetica,sans-Serif\" font-size=\"14.00\">value = [0, 1]</text>\n<text text-anchor=\"start\" x=\"2662.5\" y=\"-714.3\" font-family=\"Helvetica,sans-Serif\" font-size=\"14.00\">class = 1</text>\n</g>\n<!-- 120&#45;&gt;122 -->\n<g id=\"edge122\" class=\"edge\">\n<title>120&#45;&gt;122</title>\n<path fill=\"none\" stroke=\"black\" d=\"M2616.2,-817.91C2627.39,-806.32 2639.59,-793.7 2650.78,-782.11\"/>\n<polygon fill=\"black\" stroke=\"black\" points=\"2653.54,-784.29 2657.97,-774.67 2648.5,-779.43 2653.54,-784.29\"/>\n</g>\n<!-- 125 -->\n<g id=\"node126\" class=\"node\">\n<title>125</title>\n<path fill=\"#e58139\" stroke=\"black\" d=\"M2903.5,-893.5C2903.5,-893.5 2832.5,-893.5 2832.5,-893.5 2826.5,-893.5 2820.5,-887.5 2820.5,-881.5 2820.5,-881.5 2820.5,-837.5 2820.5,-837.5 2820.5,-831.5 2826.5,-825.5 2832.5,-825.5 2832.5,-825.5 2903.5,-825.5 2903.5,-825.5 2909.5,-825.5 2915.5,-831.5 2915.5,-837.5 2915.5,-837.5 2915.5,-881.5 2915.5,-881.5 2915.5,-887.5 2909.5,-893.5 2903.5,-893.5\"/>\n<text text-anchor=\"start\" x=\"2840\" y=\"-878.3\" font-family=\"Helvetica,sans-Serif\" font-size=\"14.00\">gini = 0.0</text>\n<text text-anchor=\"start\" x=\"2830.5\" y=\"-863.3\" font-family=\"Helvetica,sans-Serif\" font-size=\"14.00\">samples = 9</text>\n<text text-anchor=\"start\" x=\"2828.5\" y=\"-848.3\" font-family=\"Helvetica,sans-Serif\" font-size=\"14.00\">value = [9, 0]</text>\n<text text-anchor=\"start\" x=\"2840.5\" y=\"-833.3\" font-family=\"Helvetica,sans-Serif\" font-size=\"14.00\">class = 0</text>\n</g>\n<!-- 124&#45;&gt;125 -->\n<g id=\"edge125\" class=\"edge\">\n<title>124&#45;&gt;125</title>\n<path fill=\"none\" stroke=\"black\" d=\"M2903.26,-936.91C2898.17,-925.87 2892.65,-913.9 2887.51,-902.77\"/>\n<polygon fill=\"black\" stroke=\"black\" points=\"2890.68,-901.28 2883.31,-893.67 2884.32,-904.21 2890.68,-901.28\"/>\n</g>\n<!-- 126 -->\n<g id=\"node127\" class=\"node\">\n<title>126</title>\n<path fill=\"#f2c09c\" stroke=\"black\" d=\"M3066.5,-901C3066.5,-901 2945.5,-901 2945.5,-901 2939.5,-901 2933.5,-895 2933.5,-889 2933.5,-889 2933.5,-830 2933.5,-830 2933.5,-824 2939.5,-818 2945.5,-818 2945.5,-818 3066.5,-818 3066.5,-818 3072.5,-818 3078.5,-824 3078.5,-830 3078.5,-830 3078.5,-889 3078.5,-889 3078.5,-895 3072.5,-901 3066.5,-901\"/>\n<text text-anchor=\"start\" x=\"2941.5\" y=\"-885.8\" font-family=\"Helvetica,sans-Serif\" font-size=\"14.00\">SkinThickness ≤ 21.5</text>\n<text text-anchor=\"start\" x=\"2970.5\" y=\"-870.8\" font-family=\"Helvetica,sans-Serif\" font-size=\"14.00\">gini = 0.444</text>\n<text text-anchor=\"start\" x=\"2968.5\" y=\"-855.8\" font-family=\"Helvetica,sans-Serif\" font-size=\"14.00\">samples = 3</text>\n<text text-anchor=\"start\" x=\"2966.5\" y=\"-840.8\" font-family=\"Helvetica,sans-Serif\" font-size=\"14.00\">value = [2, 1]</text>\n<text text-anchor=\"start\" x=\"2978.5\" y=\"-825.8\" font-family=\"Helvetica,sans-Serif\" font-size=\"14.00\">class = 0</text>\n</g>\n<!-- 124&#45;&gt;126 -->\n<g id=\"edge126\" class=\"edge\">\n<title>124&#45;&gt;126</title>\n<path fill=\"none\" stroke=\"black\" d=\"M2951.14,-936.91C2957.53,-928.01 2964.35,-918.51 2970.94,-909.33\"/>\n<polygon fill=\"black\" stroke=\"black\" points=\"2973.92,-911.19 2976.91,-901.02 2968.23,-907.1 2973.92,-911.19\"/>\n</g>\n<!-- 127 -->\n<g id=\"node128\" class=\"node\">\n<title>127</title>\n<path fill=\"#399de5\" stroke=\"black\" d=\"M2941.5,-774.5C2941.5,-774.5 2870.5,-774.5 2870.5,-774.5 2864.5,-774.5 2858.5,-768.5 2858.5,-762.5 2858.5,-762.5 2858.5,-718.5 2858.5,-718.5 2858.5,-712.5 2864.5,-706.5 2870.5,-706.5 2870.5,-706.5 2941.5,-706.5 2941.5,-706.5 2947.5,-706.5 2953.5,-712.5 2953.5,-718.5 2953.5,-718.5 2953.5,-762.5 2953.5,-762.5 2953.5,-768.5 2947.5,-774.5 2941.5,-774.5\"/>\n<text text-anchor=\"start\" x=\"2878\" y=\"-759.3\" font-family=\"Helvetica,sans-Serif\" font-size=\"14.00\">gini = 0.0</text>\n<text text-anchor=\"start\" x=\"2868.5\" y=\"-744.3\" font-family=\"Helvetica,sans-Serif\" font-size=\"14.00\">samples = 1</text>\n<text text-anchor=\"start\" x=\"2866.5\" y=\"-729.3\" font-family=\"Helvetica,sans-Serif\" font-size=\"14.00\">value = [0, 1]</text>\n<text text-anchor=\"start\" x=\"2878.5\" y=\"-714.3\" font-family=\"Helvetica,sans-Serif\" font-size=\"14.00\">class = 1</text>\n</g>\n<!-- 126&#45;&gt;127 -->\n<g id=\"edge127\" class=\"edge\">\n<title>126&#45;&gt;127</title>\n<path fill=\"none\" stroke=\"black\" d=\"M2971.31,-817.91C2961.5,-806.43 2950.82,-793.94 2940.99,-782.44\"/>\n<polygon fill=\"black\" stroke=\"black\" points=\"2943.51,-779.99 2934.35,-774.67 2938.18,-784.54 2943.51,-779.99\"/>\n</g>\n<!-- 128 -->\n<g id=\"node129\" class=\"node\">\n<title>128</title>\n<path fill=\"#e58139\" stroke=\"black\" d=\"M3054.5,-774.5C3054.5,-774.5 2983.5,-774.5 2983.5,-774.5 2977.5,-774.5 2971.5,-768.5 2971.5,-762.5 2971.5,-762.5 2971.5,-718.5 2971.5,-718.5 2971.5,-712.5 2977.5,-706.5 2983.5,-706.5 2983.5,-706.5 3054.5,-706.5 3054.5,-706.5 3060.5,-706.5 3066.5,-712.5 3066.5,-718.5 3066.5,-718.5 3066.5,-762.5 3066.5,-762.5 3066.5,-768.5 3060.5,-774.5 3054.5,-774.5\"/>\n<text text-anchor=\"start\" x=\"2991\" y=\"-759.3\" font-family=\"Helvetica,sans-Serif\" font-size=\"14.00\">gini = 0.0</text>\n<text text-anchor=\"start\" x=\"2981.5\" y=\"-744.3\" font-family=\"Helvetica,sans-Serif\" font-size=\"14.00\">samples = 2</text>\n<text text-anchor=\"start\" x=\"2979.5\" y=\"-729.3\" font-family=\"Helvetica,sans-Serif\" font-size=\"14.00\">value = [2, 0]</text>\n<text text-anchor=\"start\" x=\"2991.5\" y=\"-714.3\" font-family=\"Helvetica,sans-Serif\" font-size=\"14.00\">class = 0</text>\n</g>\n<!-- 126&#45;&gt;128 -->\n<g id=\"edge128\" class=\"edge\">\n<title>126&#45;&gt;128</title>\n<path fill=\"none\" stroke=\"black\" d=\"M3010.51,-817.91C3011.7,-807.2 3012.99,-795.62 3014.19,-784.78\"/>\n<polygon fill=\"black\" stroke=\"black\" points=\"3017.69,-784.99 3015.31,-774.67 3010.73,-784.22 3017.69,-784.99\"/>\n</g>\n<!-- 130 -->\n<g id=\"node131\" class=\"node\">\n<title>130</title>\n<path fill=\"#edf6fd\" stroke=\"black\" d=\"M3244,-1020C3244,-1020 3044,-1020 3044,-1020 3038,-1020 3032,-1014 3032,-1008 3032,-1008 3032,-949 3032,-949 3032,-943 3038,-937 3044,-937 3044,-937 3244,-937 3244,-937 3250,-937 3256,-943 3256,-949 3256,-949 3256,-1008 3256,-1008 3256,-1014 3250,-1020 3244,-1020\"/>\n<text text-anchor=\"start\" x=\"3040\" y=\"-1004.8\" font-family=\"Helvetica,sans-Serif\" font-size=\"14.00\">DiabetesPedigreeFunction ≤ 0.373</text>\n<text text-anchor=\"start\" x=\"3108.5\" y=\"-989.8\" font-family=\"Helvetica,sans-Serif\" font-size=\"14.00\">gini = 0.499</text>\n<text text-anchor=\"start\" x=\"3103\" y=\"-974.8\" font-family=\"Helvetica,sans-Serif\" font-size=\"14.00\">samples = 21</text>\n<text text-anchor=\"start\" x=\"3097\" y=\"-959.8\" font-family=\"Helvetica,sans-Serif\" font-size=\"14.00\">value = [10, 11]</text>\n<text text-anchor=\"start\" x=\"3116.5\" y=\"-944.8\" font-family=\"Helvetica,sans-Serif\" font-size=\"14.00\">class = 1</text>\n</g>\n<!-- 129&#45;&gt;130 -->\n<g id=\"edge130\" class=\"edge\">\n<title>129&#45;&gt;130</title>\n<path fill=\"none\" stroke=\"black\" d=\"M3144,-1055.91C3144,-1047.65 3144,-1038.86 3144,-1030.3\"/>\n<polygon fill=\"black\" stroke=\"black\" points=\"3147.5,-1030.02 3144,-1020.02 3140.5,-1030.02 3147.5,-1030.02\"/>\n</g>\n<!-- 141 -->\n<g id=\"node142\" class=\"node\">\n<title>141</title>\n<path fill=\"#399de5\" stroke=\"black\" d=\"M3364,-1012.5C3364,-1012.5 3286,-1012.5 3286,-1012.5 3280,-1012.5 3274,-1006.5 3274,-1000.5 3274,-1000.5 3274,-956.5 3274,-956.5 3274,-950.5 3280,-944.5 3286,-944.5 3286,-944.5 3364,-944.5 3364,-944.5 3370,-944.5 3376,-950.5 3376,-956.5 3376,-956.5 3376,-1000.5 3376,-1000.5 3376,-1006.5 3370,-1012.5 3364,-1012.5\"/>\n<text text-anchor=\"start\" x=\"3297\" y=\"-997.3\" font-family=\"Helvetica,sans-Serif\" font-size=\"14.00\">gini = 0.0</text>\n<text text-anchor=\"start\" x=\"3284\" y=\"-982.3\" font-family=\"Helvetica,sans-Serif\" font-size=\"14.00\">samples = 13</text>\n<text text-anchor=\"start\" x=\"3282\" y=\"-967.3\" font-family=\"Helvetica,sans-Serif\" font-size=\"14.00\">value = [0, 13]</text>\n<text text-anchor=\"start\" x=\"3297.5\" y=\"-952.3\" font-family=\"Helvetica,sans-Serif\" font-size=\"14.00\">class = 1</text>\n</g>\n<!-- 129&#45;&gt;141 -->\n<g id=\"edge141\" class=\"edge\">\n<title>129&#45;&gt;141</title>\n<path fill=\"none\" stroke=\"black\" d=\"M3202.08,-1060.27C3222.1,-1047.66 3244.61,-1033.32 3265,-1020 3265.92,-1019.4 3266.85,-1018.79 3267.78,-1018.18\"/>\n<polygon fill=\"black\" stroke=\"black\" points=\"3269.88,-1020.99 3276.29,-1012.56 3266.02,-1015.15 3269.88,-1020.99\"/>\n</g>\n<!-- 131 -->\n<g id=\"node132\" class=\"node\">\n<title>131</title>\n<path fill=\"#399de5\" stroke=\"black\" d=\"M3179.5,-893.5C3179.5,-893.5 3108.5,-893.5 3108.5,-893.5 3102.5,-893.5 3096.5,-887.5 3096.5,-881.5 3096.5,-881.5 3096.5,-837.5 3096.5,-837.5 3096.5,-831.5 3102.5,-825.5 3108.5,-825.5 3108.5,-825.5 3179.5,-825.5 3179.5,-825.5 3185.5,-825.5 3191.5,-831.5 3191.5,-837.5 3191.5,-837.5 3191.5,-881.5 3191.5,-881.5 3191.5,-887.5 3185.5,-893.5 3179.5,-893.5\"/>\n<text text-anchor=\"start\" x=\"3116\" y=\"-878.3\" font-family=\"Helvetica,sans-Serif\" font-size=\"14.00\">gini = 0.0</text>\n<text text-anchor=\"start\" x=\"3106.5\" y=\"-863.3\" font-family=\"Helvetica,sans-Serif\" font-size=\"14.00\">samples = 5</text>\n<text text-anchor=\"start\" x=\"3104.5\" y=\"-848.3\" font-family=\"Helvetica,sans-Serif\" font-size=\"14.00\">value = [0, 5]</text>\n<text text-anchor=\"start\" x=\"3116.5\" y=\"-833.3\" font-family=\"Helvetica,sans-Serif\" font-size=\"14.00\">class = 1</text>\n</g>\n<!-- 130&#45;&gt;131 -->\n<g id=\"edge131\" class=\"edge\">\n<title>130&#45;&gt;131</title>\n<path fill=\"none\" stroke=\"black\" d=\"M3144,-936.91C3144,-926.2 3144,-914.62 3144,-903.78\"/>\n<polygon fill=\"black\" stroke=\"black\" points=\"3147.5,-903.67 3144,-893.67 3140.5,-903.67 3147.5,-903.67\"/>\n</g>\n<!-- 132 -->\n<g id=\"node133\" class=\"node\">\n<title>132</title>\n<path fill=\"#f5cdb0\" stroke=\"black\" d=\"M3344,-901C3344,-901 3222,-901 3222,-901 3216,-901 3210,-895 3210,-889 3210,-889 3210,-830 3210,-830 3210,-824 3216,-818 3222,-818 3222,-818 3344,-818 3344,-818 3350,-818 3356,-824 3356,-830 3356,-830 3356,-889 3356,-889 3356,-895 3350,-901 3344,-901\"/>\n<text text-anchor=\"start\" x=\"3218\" y=\"-885.8\" font-family=\"Helvetica,sans-Serif\" font-size=\"14.00\">BloodPressure ≤ 61.0</text>\n<text text-anchor=\"start\" x=\"3247.5\" y=\"-870.8\" font-family=\"Helvetica,sans-Serif\" font-size=\"14.00\">gini = 0.469</text>\n<text text-anchor=\"start\" x=\"3242\" y=\"-855.8\" font-family=\"Helvetica,sans-Serif\" font-size=\"14.00\">samples = 16</text>\n<text text-anchor=\"start\" x=\"3240\" y=\"-840.8\" font-family=\"Helvetica,sans-Serif\" font-size=\"14.00\">value = [10, 6]</text>\n<text text-anchor=\"start\" x=\"3255.5\" y=\"-825.8\" font-family=\"Helvetica,sans-Serif\" font-size=\"14.00\">class = 0</text>\n</g>\n<!-- 130&#45;&gt;132 -->\n<g id=\"edge132\" class=\"edge\">\n<title>130&#45;&gt;132</title>\n<path fill=\"none\" stroke=\"black\" d=\"M3192.23,-936.91C3203.44,-927.47 3215.47,-917.34 3226.99,-907.65\"/>\n<polygon fill=\"black\" stroke=\"black\" points=\"3229.46,-910.14 3234.86,-901.02 3224.96,-904.78 3229.46,-910.14\"/>\n</g>\n<!-- 133 -->\n<g id=\"node134\" class=\"node\">\n<title>133</title>\n<path fill=\"#399de5\" stroke=\"black\" d=\"M3186.5,-774.5C3186.5,-774.5 3115.5,-774.5 3115.5,-774.5 3109.5,-774.5 3103.5,-768.5 3103.5,-762.5 3103.5,-762.5 3103.5,-718.5 3103.5,-718.5 3103.5,-712.5 3109.5,-706.5 3115.5,-706.5 3115.5,-706.5 3186.5,-706.5 3186.5,-706.5 3192.5,-706.5 3198.5,-712.5 3198.5,-718.5 3198.5,-718.5 3198.5,-762.5 3198.5,-762.5 3198.5,-768.5 3192.5,-774.5 3186.5,-774.5\"/>\n<text text-anchor=\"start\" x=\"3123\" y=\"-759.3\" font-family=\"Helvetica,sans-Serif\" font-size=\"14.00\">gini = 0.0</text>\n<text text-anchor=\"start\" x=\"3113.5\" y=\"-744.3\" font-family=\"Helvetica,sans-Serif\" font-size=\"14.00\">samples = 3</text>\n<text text-anchor=\"start\" x=\"3111.5\" y=\"-729.3\" font-family=\"Helvetica,sans-Serif\" font-size=\"14.00\">value = [0, 3]</text>\n<text text-anchor=\"start\" x=\"3123.5\" y=\"-714.3\" font-family=\"Helvetica,sans-Serif\" font-size=\"14.00\">class = 1</text>\n</g>\n<!-- 132&#45;&gt;133 -->\n<g id=\"edge133\" class=\"edge\">\n<title>132&#45;&gt;133</title>\n<path fill=\"none\" stroke=\"black\" d=\"M3237.2,-817.91C3223.88,-806.1 3209.35,-793.22 3196.07,-781.45\"/>\n<polygon fill=\"black\" stroke=\"black\" points=\"3198.22,-778.68 3188.42,-774.67 3193.58,-783.92 3198.22,-778.68\"/>\n</g>\n<!-- 134 -->\n<g id=\"node135\" class=\"node\">\n<title>134</title>\n<path fill=\"#eda774\" stroke=\"black\" d=\"M3349.5,-782C3349.5,-782 3228.5,-782 3228.5,-782 3222.5,-782 3216.5,-776 3216.5,-770 3216.5,-770 3216.5,-711 3216.5,-711 3216.5,-705 3222.5,-699 3228.5,-699 3228.5,-699 3349.5,-699 3349.5,-699 3355.5,-699 3361.5,-705 3361.5,-711 3361.5,-711 3361.5,-770 3361.5,-770 3361.5,-776 3355.5,-782 3349.5,-782\"/>\n<text text-anchor=\"start\" x=\"3224.5\" y=\"-766.8\" font-family=\"Helvetica,sans-Serif\" font-size=\"14.00\">SkinThickness ≤ 25.5</text>\n<text text-anchor=\"start\" x=\"3253.5\" y=\"-751.8\" font-family=\"Helvetica,sans-Serif\" font-size=\"14.00\">gini = 0.355</text>\n<text text-anchor=\"start\" x=\"3248\" y=\"-736.8\" font-family=\"Helvetica,sans-Serif\" font-size=\"14.00\">samples = 13</text>\n<text text-anchor=\"start\" x=\"3246\" y=\"-721.8\" font-family=\"Helvetica,sans-Serif\" font-size=\"14.00\">value = [10, 3]</text>\n<text text-anchor=\"start\" x=\"3261.5\" y=\"-706.8\" font-family=\"Helvetica,sans-Serif\" font-size=\"14.00\">class = 0</text>\n</g>\n<!-- 132&#45;&gt;134 -->\n<g id=\"edge134\" class=\"edge\">\n<title>132&#45;&gt;134</title>\n<path fill=\"none\" stroke=\"black\" d=\"M3285.08,-817.91C3285.51,-809.56 3285.97,-800.67 3286.41,-792.02\"/>\n<polygon fill=\"black\" stroke=\"black\" points=\"3289.91,-792.19 3286.92,-782.02 3282.91,-791.83 3289.91,-792.19\"/>\n</g>\n<!-- 135 -->\n<g id=\"node136\" class=\"node\">\n<title>135</title>\n<path fill=\"#ffffff\" stroke=\"black\" d=\"M3239,-663C3239,-663 3117,-663 3117,-663 3111,-663 3105,-657 3105,-651 3105,-651 3105,-592 3105,-592 3105,-586 3111,-580 3117,-580 3117,-580 3239,-580 3239,-580 3245,-580 3251,-586 3251,-592 3251,-592 3251,-651 3251,-651 3251,-657 3245,-663 3239,-663\"/>\n<text text-anchor=\"start\" x=\"3113\" y=\"-647.8\" font-family=\"Helvetica,sans-Serif\" font-size=\"14.00\">BloodPressure ≤ 73.0</text>\n<text text-anchor=\"start\" x=\"3150\" y=\"-632.8\" font-family=\"Helvetica,sans-Serif\" font-size=\"14.00\">gini = 0.5</text>\n<text text-anchor=\"start\" x=\"3140.5\" y=\"-617.8\" font-family=\"Helvetica,sans-Serif\" font-size=\"14.00\">samples = 6</text>\n<text text-anchor=\"start\" x=\"3138.5\" y=\"-602.8\" font-family=\"Helvetica,sans-Serif\" font-size=\"14.00\">value = [3, 3]</text>\n<text text-anchor=\"start\" x=\"3150.5\" y=\"-587.8\" font-family=\"Helvetica,sans-Serif\" font-size=\"14.00\">class = 0</text>\n</g>\n<!-- 134&#45;&gt;135 -->\n<g id=\"edge135\" class=\"edge\">\n<title>134&#45;&gt;135</title>\n<path fill=\"none\" stroke=\"black\" d=\"M3250.49,-698.91C3241.79,-689.74 3232.48,-679.93 3223.53,-670.49\"/>\n<polygon fill=\"black\" stroke=\"black\" points=\"3225.86,-667.87 3216.44,-663.02 3220.79,-672.68 3225.86,-667.87\"/>\n</g>\n<!-- 140 -->\n<g id=\"node141\" class=\"node\">\n<title>140</title>\n<path fill=\"#e58139\" stroke=\"black\" d=\"M3352.5,-655.5C3352.5,-655.5 3281.5,-655.5 3281.5,-655.5 3275.5,-655.5 3269.5,-649.5 3269.5,-643.5 3269.5,-643.5 3269.5,-599.5 3269.5,-599.5 3269.5,-593.5 3275.5,-587.5 3281.5,-587.5 3281.5,-587.5 3352.5,-587.5 3352.5,-587.5 3358.5,-587.5 3364.5,-593.5 3364.5,-599.5 3364.5,-599.5 3364.5,-643.5 3364.5,-643.5 3364.5,-649.5 3358.5,-655.5 3352.5,-655.5\"/>\n<text text-anchor=\"start\" x=\"3289\" y=\"-640.3\" font-family=\"Helvetica,sans-Serif\" font-size=\"14.00\">gini = 0.0</text>\n<text text-anchor=\"start\" x=\"3279.5\" y=\"-625.3\" font-family=\"Helvetica,sans-Serif\" font-size=\"14.00\">samples = 7</text>\n<text text-anchor=\"start\" x=\"3277.5\" y=\"-610.3\" font-family=\"Helvetica,sans-Serif\" font-size=\"14.00\">value = [7, 0]</text>\n<text text-anchor=\"start\" x=\"3289.5\" y=\"-595.3\" font-family=\"Helvetica,sans-Serif\" font-size=\"14.00\">class = 0</text>\n</g>\n<!-- 134&#45;&gt;140 -->\n<g id=\"edge140\" class=\"edge\">\n<title>134&#45;&gt;140</title>\n<path fill=\"none\" stroke=\"black\" d=\"M3298.71,-698.91C3301.3,-688.09 3304.11,-676.38 3306.72,-665.44\"/>\n<polygon fill=\"black\" stroke=\"black\" points=\"3310.14,-666.21 3309.06,-655.67 3303.33,-664.58 3310.14,-666.21\"/>\n</g>\n<!-- 136 -->\n<g id=\"node137\" class=\"node\">\n<title>136</title>\n<path fill=\"#399de5\" stroke=\"black\" d=\"M3156.5,-536.5C3156.5,-536.5 3085.5,-536.5 3085.5,-536.5 3079.5,-536.5 3073.5,-530.5 3073.5,-524.5 3073.5,-524.5 3073.5,-480.5 3073.5,-480.5 3073.5,-474.5 3079.5,-468.5 3085.5,-468.5 3085.5,-468.5 3156.5,-468.5 3156.5,-468.5 3162.5,-468.5 3168.5,-474.5 3168.5,-480.5 3168.5,-480.5 3168.5,-524.5 3168.5,-524.5 3168.5,-530.5 3162.5,-536.5 3156.5,-536.5\"/>\n<text text-anchor=\"start\" x=\"3093\" y=\"-521.3\" font-family=\"Helvetica,sans-Serif\" font-size=\"14.00\">gini = 0.0</text>\n<text text-anchor=\"start\" x=\"3083.5\" y=\"-506.3\" font-family=\"Helvetica,sans-Serif\" font-size=\"14.00\">samples = 2</text>\n<text text-anchor=\"start\" x=\"3081.5\" y=\"-491.3\" font-family=\"Helvetica,sans-Serif\" font-size=\"14.00\">value = [0, 2]</text>\n<text text-anchor=\"start\" x=\"3093.5\" y=\"-476.3\" font-family=\"Helvetica,sans-Serif\" font-size=\"14.00\">class = 1</text>\n</g>\n<!-- 135&#45;&gt;136 -->\n<g id=\"edge136\" class=\"edge\">\n<title>135&#45;&gt;136</title>\n<path fill=\"none\" stroke=\"black\" d=\"M3158.22,-579.91C3152.85,-568.87 3147.01,-556.9 3141.59,-545.77\"/>\n<polygon fill=\"black\" stroke=\"black\" points=\"3144.68,-544.12 3137.16,-536.67 3138.39,-547.19 3144.68,-544.12\"/>\n</g>\n<!-- 137 -->\n<g id=\"node138\" class=\"node\">\n<title>137</title>\n<path fill=\"#eeab7b\" stroke=\"black\" d=\"M3269.5,-544C3269.5,-544 3198.5,-544 3198.5,-544 3192.5,-544 3186.5,-538 3186.5,-532 3186.5,-532 3186.5,-473 3186.5,-473 3186.5,-467 3192.5,-461 3198.5,-461 3198.5,-461 3269.5,-461 3269.5,-461 3275.5,-461 3281.5,-467 3281.5,-473 3281.5,-473 3281.5,-532 3281.5,-532 3281.5,-538 3275.5,-544 3269.5,-544\"/>\n<text text-anchor=\"start\" x=\"3200.5\" y=\"-528.8\" font-family=\"Helvetica,sans-Serif\" font-size=\"14.00\">BMI ≤ 43.2</text>\n<text text-anchor=\"start\" x=\"3198.5\" y=\"-513.8\" font-family=\"Helvetica,sans-Serif\" font-size=\"14.00\">gini = 0.375</text>\n<text text-anchor=\"start\" x=\"3196.5\" y=\"-498.8\" font-family=\"Helvetica,sans-Serif\" font-size=\"14.00\">samples = 4</text>\n<text text-anchor=\"start\" x=\"3194.5\" y=\"-483.8\" font-family=\"Helvetica,sans-Serif\" font-size=\"14.00\">value = [3, 1]</text>\n<text text-anchor=\"start\" x=\"3206.5\" y=\"-468.8\" font-family=\"Helvetica,sans-Serif\" font-size=\"14.00\">class = 0</text>\n</g>\n<!-- 135&#45;&gt;137 -->\n<g id=\"edge137\" class=\"edge\">\n<title>135&#45;&gt;137</title>\n<path fill=\"none\" stroke=\"black\" d=\"M3197.43,-579.91C3201.56,-571.29 3205.96,-562.09 3210.22,-553.17\"/>\n<polygon fill=\"black\" stroke=\"black\" points=\"3213.45,-554.55 3214.61,-544.02 3207.13,-551.53 3213.45,-554.55\"/>\n</g>\n<!-- 138 -->\n<g id=\"node139\" class=\"node\">\n<title>138</title>\n<path fill=\"#e58139\" stroke=\"black\" d=\"M3212.5,-417.5C3212.5,-417.5 3141.5,-417.5 3141.5,-417.5 3135.5,-417.5 3129.5,-411.5 3129.5,-405.5 3129.5,-405.5 3129.5,-361.5 3129.5,-361.5 3129.5,-355.5 3135.5,-349.5 3141.5,-349.5 3141.5,-349.5 3212.5,-349.5 3212.5,-349.5 3218.5,-349.5 3224.5,-355.5 3224.5,-361.5 3224.5,-361.5 3224.5,-405.5 3224.5,-405.5 3224.5,-411.5 3218.5,-417.5 3212.5,-417.5\"/>\n<text text-anchor=\"start\" x=\"3149\" y=\"-402.3\" font-family=\"Helvetica,sans-Serif\" font-size=\"14.00\">gini = 0.0</text>\n<text text-anchor=\"start\" x=\"3139.5\" y=\"-387.3\" font-family=\"Helvetica,sans-Serif\" font-size=\"14.00\">samples = 3</text>\n<text text-anchor=\"start\" x=\"3137.5\" y=\"-372.3\" font-family=\"Helvetica,sans-Serif\" font-size=\"14.00\">value = [3, 0]</text>\n<text text-anchor=\"start\" x=\"3149.5\" y=\"-357.3\" font-family=\"Helvetica,sans-Serif\" font-size=\"14.00\">class = 0</text>\n</g>\n<!-- 137&#45;&gt;138 -->\n<g id=\"edge138\" class=\"edge\">\n<title>137&#45;&gt;138</title>\n<path fill=\"none\" stroke=\"black\" d=\"M3214.22,-460.91C3208.85,-449.87 3203.01,-437.9 3197.59,-426.77\"/>\n<polygon fill=\"black\" stroke=\"black\" points=\"3200.68,-425.12 3193.16,-417.67 3194.39,-428.19 3200.68,-425.12\"/>\n</g>\n<!-- 139 -->\n<g id=\"node140\" class=\"node\">\n<title>139</title>\n<path fill=\"#399de5\" stroke=\"black\" d=\"M3325.5,-417.5C3325.5,-417.5 3254.5,-417.5 3254.5,-417.5 3248.5,-417.5 3242.5,-411.5 3242.5,-405.5 3242.5,-405.5 3242.5,-361.5 3242.5,-361.5 3242.5,-355.5 3248.5,-349.5 3254.5,-349.5 3254.5,-349.5 3325.5,-349.5 3325.5,-349.5 3331.5,-349.5 3337.5,-355.5 3337.5,-361.5 3337.5,-361.5 3337.5,-405.5 3337.5,-405.5 3337.5,-411.5 3331.5,-417.5 3325.5,-417.5\"/>\n<text text-anchor=\"start\" x=\"3262\" y=\"-402.3\" font-family=\"Helvetica,sans-Serif\" font-size=\"14.00\">gini = 0.0</text>\n<text text-anchor=\"start\" x=\"3252.5\" y=\"-387.3\" font-family=\"Helvetica,sans-Serif\" font-size=\"14.00\">samples = 1</text>\n<text text-anchor=\"start\" x=\"3250.5\" y=\"-372.3\" font-family=\"Helvetica,sans-Serif\" font-size=\"14.00\">value = [0, 1]</text>\n<text text-anchor=\"start\" x=\"3262.5\" y=\"-357.3\" font-family=\"Helvetica,sans-Serif\" font-size=\"14.00\">class = 1</text>\n</g>\n<!-- 137&#45;&gt;139 -->\n<g id=\"edge139\" class=\"edge\">\n<title>137&#45;&gt;139</title>\n<path fill=\"none\" stroke=\"black\" d=\"M3253.43,-460.91C3258.71,-449.87 3264.44,-437.9 3269.77,-426.77\"/>\n<polygon fill=\"black\" stroke=\"black\" points=\"3272.96,-428.2 3274.13,-417.67 3266.65,-425.18 3272.96,-428.2\"/>\n</g>\n<!-- 143 -->\n<g id=\"node144\" class=\"node\">\n<title>143</title>\n<path fill=\"#8bc6f0\" stroke=\"black\" d=\"M3595,-1139C3595,-1139 3509,-1139 3509,-1139 3503,-1139 3497,-1133 3497,-1127 3497,-1127 3497,-1068 3497,-1068 3497,-1062 3503,-1056 3509,-1056 3509,-1056 3595,-1056 3595,-1056 3601,-1056 3607,-1062 3607,-1068 3607,-1068 3607,-1127 3607,-1127 3607,-1133 3601,-1139 3595,-1139\"/>\n<text text-anchor=\"start\" x=\"3515\" y=\"-1123.8\" font-family=\"Helvetica,sans-Serif\" font-size=\"14.00\">BMI ≤ 36.25</text>\n<text text-anchor=\"start\" x=\"3516.5\" y=\"-1108.8\" font-family=\"Helvetica,sans-Serif\" font-size=\"14.00\">gini = 0.415</text>\n<text text-anchor=\"start\" x=\"3511\" y=\"-1093.8\" font-family=\"Helvetica,sans-Serif\" font-size=\"14.00\">samples = 34</text>\n<text text-anchor=\"start\" x=\"3505\" y=\"-1078.8\" font-family=\"Helvetica,sans-Serif\" font-size=\"14.00\">value = [10, 24]</text>\n<text text-anchor=\"start\" x=\"3524.5\" y=\"-1063.8\" font-family=\"Helvetica,sans-Serif\" font-size=\"14.00\">class = 1</text>\n</g>\n<!-- 142&#45;&gt;143 -->\n<g id=\"edge143\" class=\"edge\">\n<title>142&#45;&gt;143</title>\n<path fill=\"none\" stroke=\"black\" d=\"M3552,-1174.91C3552,-1166.65 3552,-1157.86 3552,-1149.3\"/>\n<polygon fill=\"black\" stroke=\"black\" points=\"3555.5,-1149.02 3552,-1139.02 3548.5,-1149.02 3555.5,-1149.02\"/>\n</g>\n<!-- 154 -->\n<g id=\"node155\" class=\"node\">\n<title>154</title>\n<path fill=\"#4ea7e8\" stroke=\"black\" d=\"M3825,-1139C3825,-1139 3747,-1139 3747,-1139 3741,-1139 3735,-1133 3735,-1127 3735,-1127 3735,-1068 3735,-1068 3735,-1062 3741,-1056 3747,-1056 3747,-1056 3825,-1056 3825,-1056 3831,-1056 3837,-1062 3837,-1068 3837,-1068 3837,-1127 3837,-1127 3837,-1133 3831,-1139 3825,-1139\"/>\n<text text-anchor=\"start\" x=\"3752.5\" y=\"-1123.8\" font-family=\"Helvetica,sans-Serif\" font-size=\"14.00\">BMI ≤ 39.7</text>\n<text text-anchor=\"start\" x=\"3750.5\" y=\"-1108.8\" font-family=\"Helvetica,sans-Serif\" font-size=\"14.00\">gini = 0.174</text>\n<text text-anchor=\"start\" x=\"3745\" y=\"-1093.8\" font-family=\"Helvetica,sans-Serif\" font-size=\"14.00\">samples = 52</text>\n<text text-anchor=\"start\" x=\"3743\" y=\"-1078.8\" font-family=\"Helvetica,sans-Serif\" font-size=\"14.00\">value = [5, 47]</text>\n<text text-anchor=\"start\" x=\"3758.5\" y=\"-1063.8\" font-family=\"Helvetica,sans-Serif\" font-size=\"14.00\">class = 1</text>\n</g>\n<!-- 142&#45;&gt;154 -->\n<g id=\"edge154\" class=\"edge\">\n<title>142&#45;&gt;154</title>\n<path fill=\"none\" stroke=\"black\" d=\"M3633.19,-1174.91C3663.68,-1159.66 3697.76,-1142.62 3725.99,-1128.51\"/>\n<polygon fill=\"black\" stroke=\"black\" points=\"3727.56,-1131.63 3734.94,-1124.03 3724.43,-1125.37 3727.56,-1131.63\"/>\n</g>\n<!-- 144 -->\n<g id=\"node145\" class=\"node\">\n<title>144</title>\n<path fill=\"#ffffff\" stroke=\"black\" d=\"M3542,-1020C3542,-1020 3420,-1020 3420,-1020 3414,-1020 3408,-1014 3408,-1008 3408,-1008 3408,-949 3408,-949 3408,-943 3414,-937 3420,-937 3420,-937 3542,-937 3542,-937 3548,-937 3554,-943 3554,-949 3554,-949 3554,-1008 3554,-1008 3554,-1014 3548,-1020 3542,-1020\"/>\n<text text-anchor=\"start\" x=\"3416\" y=\"-1004.8\" font-family=\"Helvetica,sans-Serif\" font-size=\"14.00\">BloodPressure ≤ 83.0</text>\n<text text-anchor=\"start\" x=\"3453\" y=\"-989.8\" font-family=\"Helvetica,sans-Serif\" font-size=\"14.00\">gini = 0.5</text>\n<text text-anchor=\"start\" x=\"3440\" y=\"-974.8\" font-family=\"Helvetica,sans-Serif\" font-size=\"14.00\">samples = 20</text>\n<text text-anchor=\"start\" x=\"3434\" y=\"-959.8\" font-family=\"Helvetica,sans-Serif\" font-size=\"14.00\">value = [10, 10]</text>\n<text text-anchor=\"start\" x=\"3453.5\" y=\"-944.8\" font-family=\"Helvetica,sans-Serif\" font-size=\"14.00\">class = 0</text>\n</g>\n<!-- 143&#45;&gt;144 -->\n<g id=\"edge144\" class=\"edge\">\n<title>143&#45;&gt;144</title>\n<path fill=\"none\" stroke=\"black\" d=\"M3527.37,-1055.91C3522.03,-1047.1 3516.32,-1037.7 3510.8,-1028.61\"/>\n<polygon fill=\"black\" stroke=\"black\" points=\"3513.77,-1026.75 3505.59,-1020.02 3507.79,-1030.39 3513.77,-1026.75\"/>\n</g>\n<!-- 153 -->\n<g id=\"node154\" class=\"node\">\n<title>153</title>\n<path fill=\"#399de5\" stroke=\"black\" d=\"M3662,-1012.5C3662,-1012.5 3584,-1012.5 3584,-1012.5 3578,-1012.5 3572,-1006.5 3572,-1000.5 3572,-1000.5 3572,-956.5 3572,-956.5 3572,-950.5 3578,-944.5 3584,-944.5 3584,-944.5 3662,-944.5 3662,-944.5 3668,-944.5 3674,-950.5 3674,-956.5 3674,-956.5 3674,-1000.5 3674,-1000.5 3674,-1006.5 3668,-1012.5 3662,-1012.5\"/>\n<text text-anchor=\"start\" x=\"3595\" y=\"-997.3\" font-family=\"Helvetica,sans-Serif\" font-size=\"14.00\">gini = 0.0</text>\n<text text-anchor=\"start\" x=\"3582\" y=\"-982.3\" font-family=\"Helvetica,sans-Serif\" font-size=\"14.00\">samples = 14</text>\n<text text-anchor=\"start\" x=\"3580\" y=\"-967.3\" font-family=\"Helvetica,sans-Serif\" font-size=\"14.00\">value = [0, 14]</text>\n<text text-anchor=\"start\" x=\"3595.5\" y=\"-952.3\" font-family=\"Helvetica,sans-Serif\" font-size=\"14.00\">class = 1</text>\n</g>\n<!-- 143&#45;&gt;153 -->\n<g id=\"edge153\" class=\"edge\">\n<title>143&#45;&gt;153</title>\n<path fill=\"none\" stroke=\"black\" d=\"M3576.63,-1055.91C3583.4,-1044.76 3590.74,-1032.66 3597.55,-1021.44\"/>\n<polygon fill=\"black\" stroke=\"black\" points=\"3600.68,-1023.03 3602.87,-1012.67 3594.69,-1019.4 3600.68,-1023.03\"/>\n</g>\n<!-- 145 -->\n<g id=\"node146\" class=\"node\">\n<title>145</title>\n<path fill=\"#f5cdb0\" stroke=\"black\" d=\"M3508,-901C3508,-901 3386,-901 3386,-901 3380,-901 3374,-895 3374,-889 3374,-889 3374,-830 3374,-830 3374,-824 3380,-818 3386,-818 3386,-818 3508,-818 3508,-818 3514,-818 3520,-824 3520,-830 3520,-830 3520,-889 3520,-889 3520,-895 3514,-901 3508,-901\"/>\n<text text-anchor=\"start\" x=\"3382\" y=\"-885.8\" font-family=\"Helvetica,sans-Serif\" font-size=\"14.00\">BloodPressure ≤ 67.0</text>\n<text text-anchor=\"start\" x=\"3411.5\" y=\"-870.8\" font-family=\"Helvetica,sans-Serif\" font-size=\"14.00\">gini = 0.469</text>\n<text text-anchor=\"start\" x=\"3406\" y=\"-855.8\" font-family=\"Helvetica,sans-Serif\" font-size=\"14.00\">samples = 16</text>\n<text text-anchor=\"start\" x=\"3404\" y=\"-840.8\" font-family=\"Helvetica,sans-Serif\" font-size=\"14.00\">value = [10, 6]</text>\n<text text-anchor=\"start\" x=\"3419.5\" y=\"-825.8\" font-family=\"Helvetica,sans-Serif\" font-size=\"14.00\">class = 0</text>\n</g>\n<!-- 144&#45;&gt;145 -->\n<g id=\"edge145\" class=\"edge\">\n<title>144&#45;&gt;145</title>\n<path fill=\"none\" stroke=\"black\" d=\"M3469.2,-936.91C3466.75,-928.47 3464.14,-919.48 3461.6,-910.74\"/>\n<polygon fill=\"black\" stroke=\"black\" points=\"3464.93,-909.65 3458.78,-901.02 3458.2,-911.6 3464.93,-909.65\"/>\n</g>\n<!-- 152 -->\n<g id=\"node153\" class=\"node\">\n<title>152</title>\n<path fill=\"#399de5\" stroke=\"black\" d=\"M3621.5,-893.5C3621.5,-893.5 3550.5,-893.5 3550.5,-893.5 3544.5,-893.5 3538.5,-887.5 3538.5,-881.5 3538.5,-881.5 3538.5,-837.5 3538.5,-837.5 3538.5,-831.5 3544.5,-825.5 3550.5,-825.5 3550.5,-825.5 3621.5,-825.5 3621.5,-825.5 3627.5,-825.5 3633.5,-831.5 3633.5,-837.5 3633.5,-837.5 3633.5,-881.5 3633.5,-881.5 3633.5,-887.5 3627.5,-893.5 3621.5,-893.5\"/>\n<text text-anchor=\"start\" x=\"3558\" y=\"-878.3\" font-family=\"Helvetica,sans-Serif\" font-size=\"14.00\">gini = 0.0</text>\n<text text-anchor=\"start\" x=\"3548.5\" y=\"-863.3\" font-family=\"Helvetica,sans-Serif\" font-size=\"14.00\">samples = 4</text>\n<text text-anchor=\"start\" x=\"3546.5\" y=\"-848.3\" font-family=\"Helvetica,sans-Serif\" font-size=\"14.00\">value = [0, 4]</text>\n<text text-anchor=\"start\" x=\"3558.5\" y=\"-833.3\" font-family=\"Helvetica,sans-Serif\" font-size=\"14.00\">class = 1</text>\n</g>\n<!-- 144&#45;&gt;152 -->\n<g id=\"edge152\" class=\"edge\">\n<title>144&#45;&gt;152</title>\n<path fill=\"none\" stroke=\"black\" d=\"M3517.43,-936.91C3527.83,-925.32 3539.16,-912.7 3549.55,-901.11\"/>\n<polygon fill=\"black\" stroke=\"black\" points=\"3552.16,-903.45 3556.23,-893.67 3546.95,-898.77 3552.16,-903.45\"/>\n</g>\n<!-- 146 -->\n<g id=\"node147\" class=\"node\">\n<title>146</title>\n<path fill=\"#399de5\" stroke=\"black\" d=\"M3473.5,-774.5C3473.5,-774.5 3402.5,-774.5 3402.5,-774.5 3396.5,-774.5 3390.5,-768.5 3390.5,-762.5 3390.5,-762.5 3390.5,-718.5 3390.5,-718.5 3390.5,-712.5 3396.5,-706.5 3402.5,-706.5 3402.5,-706.5 3473.5,-706.5 3473.5,-706.5 3479.5,-706.5 3485.5,-712.5 3485.5,-718.5 3485.5,-718.5 3485.5,-762.5 3485.5,-762.5 3485.5,-768.5 3479.5,-774.5 3473.5,-774.5\"/>\n<text text-anchor=\"start\" x=\"3410\" y=\"-759.3\" font-family=\"Helvetica,sans-Serif\" font-size=\"14.00\">gini = 0.0</text>\n<text text-anchor=\"start\" x=\"3400.5\" y=\"-744.3\" font-family=\"Helvetica,sans-Serif\" font-size=\"14.00\">samples = 3</text>\n<text text-anchor=\"start\" x=\"3398.5\" y=\"-729.3\" font-family=\"Helvetica,sans-Serif\" font-size=\"14.00\">value = [0, 3]</text>\n<text text-anchor=\"start\" x=\"3410.5\" y=\"-714.3\" font-family=\"Helvetica,sans-Serif\" font-size=\"14.00\">class = 1</text>\n</g>\n<!-- 145&#45;&gt;146 -->\n<g id=\"edge146\" class=\"edge\">\n<title>145&#45;&gt;146</title>\n<path fill=\"none\" stroke=\"black\" d=\"M3443.88,-817.91C3443.05,-807.2 3442.16,-795.62 3441.33,-784.78\"/>\n<polygon fill=\"black\" stroke=\"black\" points=\"3444.81,-784.37 3440.55,-774.67 3437.83,-784.91 3444.81,-784.37\"/>\n</g>\n<!-- 147 -->\n<g id=\"node148\" class=\"node\">\n<title>147</title>\n<path fill=\"#eda774\" stroke=\"black\" d=\"M3628.5,-782C3628.5,-782 3515.5,-782 3515.5,-782 3509.5,-782 3503.5,-776 3503.5,-770 3503.5,-770 3503.5,-711 3503.5,-711 3503.5,-705 3509.5,-699 3515.5,-699 3515.5,-699 3628.5,-699 3628.5,-699 3634.5,-699 3640.5,-705 3640.5,-711 3640.5,-711 3640.5,-770 3640.5,-770 3640.5,-776 3634.5,-782 3628.5,-782\"/>\n<text text-anchor=\"start\" x=\"3511.5\" y=\"-766.8\" font-family=\"Helvetica,sans-Serif\" font-size=\"14.00\">SkinThickness ≤ 7.5</text>\n<text text-anchor=\"start\" x=\"3536.5\" y=\"-751.8\" font-family=\"Helvetica,sans-Serif\" font-size=\"14.00\">gini = 0.355</text>\n<text text-anchor=\"start\" x=\"3531\" y=\"-736.8\" font-family=\"Helvetica,sans-Serif\" font-size=\"14.00\">samples = 13</text>\n<text text-anchor=\"start\" x=\"3529\" y=\"-721.8\" font-family=\"Helvetica,sans-Serif\" font-size=\"14.00\">value = [10, 3]</text>\n<text text-anchor=\"start\" x=\"3544.5\" y=\"-706.8\" font-family=\"Helvetica,sans-Serif\" font-size=\"14.00\">class = 0</text>\n</g>\n<!-- 145&#45;&gt;147 -->\n<g id=\"edge147\" class=\"edge\">\n<title>145&#45;&gt;147</title>\n<path fill=\"none\" stroke=\"black\" d=\"M3490.37,-817.91C3500.35,-808.56 3511.06,-798.54 3521.33,-788.93\"/>\n<polygon fill=\"black\" stroke=\"black\" points=\"3523.8,-791.41 3528.71,-782.02 3519.02,-786.3 3523.8,-791.41\"/>\n</g>\n<!-- 148 -->\n<g id=\"node149\" class=\"node\">\n<title>148</title>\n<path fill=\"#ffffff\" stroke=\"black\" d=\"M3550.5,-663C3550.5,-663 3479.5,-663 3479.5,-663 3473.5,-663 3467.5,-657 3467.5,-651 3467.5,-651 3467.5,-592 3467.5,-592 3467.5,-586 3473.5,-580 3479.5,-580 3479.5,-580 3550.5,-580 3550.5,-580 3556.5,-580 3562.5,-586 3562.5,-592 3562.5,-592 3562.5,-651 3562.5,-651 3562.5,-657 3556.5,-663 3550.5,-663\"/>\n<text text-anchor=\"start\" x=\"3481.5\" y=\"-647.8\" font-family=\"Helvetica,sans-Serif\" font-size=\"14.00\">BMI ≤ 33.3</text>\n<text text-anchor=\"start\" x=\"3487\" y=\"-632.8\" font-family=\"Helvetica,sans-Serif\" font-size=\"14.00\">gini = 0.5</text>\n<text text-anchor=\"start\" x=\"3477.5\" y=\"-617.8\" font-family=\"Helvetica,sans-Serif\" font-size=\"14.00\">samples = 6</text>\n<text text-anchor=\"start\" x=\"3475.5\" y=\"-602.8\" font-family=\"Helvetica,sans-Serif\" font-size=\"14.00\">value = [3, 3]</text>\n<text text-anchor=\"start\" x=\"3487.5\" y=\"-587.8\" font-family=\"Helvetica,sans-Serif\" font-size=\"14.00\">class = 0</text>\n</g>\n<!-- 147&#45;&gt;148 -->\n<g id=\"edge148\" class=\"edge\">\n<title>147&#45;&gt;148</title>\n<path fill=\"none\" stroke=\"black\" d=\"M3552.22,-698.91C3548.02,-690.29 3543.54,-681.09 3539.2,-672.17\"/>\n<polygon fill=\"black\" stroke=\"black\" points=\"3542.27,-670.48 3534.74,-663.02 3535.97,-673.54 3542.27,-670.48\"/>\n</g>\n<!-- 151 -->\n<g id=\"node152\" class=\"node\">\n<title>151</title>\n<path fill=\"#e58139\" stroke=\"black\" d=\"M3663.5,-655.5C3663.5,-655.5 3592.5,-655.5 3592.5,-655.5 3586.5,-655.5 3580.5,-649.5 3580.5,-643.5 3580.5,-643.5 3580.5,-599.5 3580.5,-599.5 3580.5,-593.5 3586.5,-587.5 3592.5,-587.5 3592.5,-587.5 3663.5,-587.5 3663.5,-587.5 3669.5,-587.5 3675.5,-593.5 3675.5,-599.5 3675.5,-599.5 3675.5,-643.5 3675.5,-643.5 3675.5,-649.5 3669.5,-655.5 3663.5,-655.5\"/>\n<text text-anchor=\"start\" x=\"3600\" y=\"-640.3\" font-family=\"Helvetica,sans-Serif\" font-size=\"14.00\">gini = 0.0</text>\n<text text-anchor=\"start\" x=\"3590.5\" y=\"-625.3\" font-family=\"Helvetica,sans-Serif\" font-size=\"14.00\">samples = 7</text>\n<text text-anchor=\"start\" x=\"3588.5\" y=\"-610.3\" font-family=\"Helvetica,sans-Serif\" font-size=\"14.00\">value = [7, 0]</text>\n<text text-anchor=\"start\" x=\"3600.5\" y=\"-595.3\" font-family=\"Helvetica,sans-Serif\" font-size=\"14.00\">class = 0</text>\n</g>\n<!-- 147&#45;&gt;151 -->\n<g id=\"edge151\" class=\"edge\">\n<title>147&#45;&gt;151</title>\n<path fill=\"none\" stroke=\"black\" d=\"M3591.43,-698.91C3596.71,-687.87 3602.44,-675.9 3607.77,-664.77\"/>\n<polygon fill=\"black\" stroke=\"black\" points=\"3610.96,-666.2 3612.13,-655.67 3604.65,-663.18 3610.96,-666.2\"/>\n</g>\n<!-- 149 -->\n<g id=\"node150\" class=\"node\">\n<title>149</title>\n<path fill=\"#399de5\" stroke=\"black\" d=\"M3494.5,-536.5C3494.5,-536.5 3423.5,-536.5 3423.5,-536.5 3417.5,-536.5 3411.5,-530.5 3411.5,-524.5 3411.5,-524.5 3411.5,-480.5 3411.5,-480.5 3411.5,-474.5 3417.5,-468.5 3423.5,-468.5 3423.5,-468.5 3494.5,-468.5 3494.5,-468.5 3500.5,-468.5 3506.5,-474.5 3506.5,-480.5 3506.5,-480.5 3506.5,-524.5 3506.5,-524.5 3506.5,-530.5 3500.5,-536.5 3494.5,-536.5\"/>\n<text text-anchor=\"start\" x=\"3431\" y=\"-521.3\" font-family=\"Helvetica,sans-Serif\" font-size=\"14.00\">gini = 0.0</text>\n<text text-anchor=\"start\" x=\"3421.5\" y=\"-506.3\" font-family=\"Helvetica,sans-Serif\" font-size=\"14.00\">samples = 3</text>\n<text text-anchor=\"start\" x=\"3419.5\" y=\"-491.3\" font-family=\"Helvetica,sans-Serif\" font-size=\"14.00\">value = [0, 3]</text>\n<text text-anchor=\"start\" x=\"3431.5\" y=\"-476.3\" font-family=\"Helvetica,sans-Serif\" font-size=\"14.00\">class = 1</text>\n</g>\n<!-- 148&#45;&gt;149 -->\n<g id=\"edge149\" class=\"edge\">\n<title>148&#45;&gt;149</title>\n<path fill=\"none\" stroke=\"black\" d=\"M3495.57,-579.91C3490.29,-568.87 3484.56,-556.9 3479.23,-545.77\"/>\n<polygon fill=\"black\" stroke=\"black\" points=\"3482.35,-544.18 3474.87,-536.67 3476.04,-547.2 3482.35,-544.18\"/>\n</g>\n<!-- 150 -->\n<g id=\"node151\" class=\"node\">\n<title>150</title>\n<path fill=\"#e58139\" stroke=\"black\" d=\"M3607.5,-536.5C3607.5,-536.5 3536.5,-536.5 3536.5,-536.5 3530.5,-536.5 3524.5,-530.5 3524.5,-524.5 3524.5,-524.5 3524.5,-480.5 3524.5,-480.5 3524.5,-474.5 3530.5,-468.5 3536.5,-468.5 3536.5,-468.5 3607.5,-468.5 3607.5,-468.5 3613.5,-468.5 3619.5,-474.5 3619.5,-480.5 3619.5,-480.5 3619.5,-524.5 3619.5,-524.5 3619.5,-530.5 3613.5,-536.5 3607.5,-536.5\"/>\n<text text-anchor=\"start\" x=\"3544\" y=\"-521.3\" font-family=\"Helvetica,sans-Serif\" font-size=\"14.00\">gini = 0.0</text>\n<text text-anchor=\"start\" x=\"3534.5\" y=\"-506.3\" font-family=\"Helvetica,sans-Serif\" font-size=\"14.00\">samples = 3</text>\n<text text-anchor=\"start\" x=\"3532.5\" y=\"-491.3\" font-family=\"Helvetica,sans-Serif\" font-size=\"14.00\">value = [3, 0]</text>\n<text text-anchor=\"start\" x=\"3544.5\" y=\"-476.3\" font-family=\"Helvetica,sans-Serif\" font-size=\"14.00\">class = 0</text>\n</g>\n<!-- 148&#45;&gt;150 -->\n<g id=\"edge150\" class=\"edge\">\n<title>148&#45;&gt;150</title>\n<path fill=\"none\" stroke=\"black\" d=\"M3534.78,-579.91C3540.15,-568.87 3545.99,-556.9 3551.41,-545.77\"/>\n<polygon fill=\"black\" stroke=\"black\" points=\"3554.61,-547.19 3555.84,-536.67 3548.32,-544.12 3554.61,-547.19\"/>\n</g>\n<!-- 155 -->\n<g id=\"node156\" class=\"node\">\n<title>155</title>\n<path fill=\"#3e9fe6\" stroke=\"black\" d=\"M3840.5,-1020C3840.5,-1020 3731.5,-1020 3731.5,-1020 3725.5,-1020 3719.5,-1014 3719.5,-1008 3719.5,-1008 3719.5,-949 3719.5,-949 3719.5,-943 3725.5,-937 3731.5,-937 3731.5,-937 3840.5,-937 3840.5,-937 3846.5,-937 3852.5,-943 3852.5,-949 3852.5,-949 3852.5,-1008 3852.5,-1008 3852.5,-1014 3846.5,-1020 3840.5,-1020\"/>\n<text text-anchor=\"start\" x=\"3727.5\" y=\"-1004.8\" font-family=\"Helvetica,sans-Serif\" font-size=\"14.00\">Pregnancies ≤ 10.5</text>\n<text text-anchor=\"start\" x=\"3750.5\" y=\"-989.8\" font-family=\"Helvetica,sans-Serif\" font-size=\"14.00\">gini = 0.046</text>\n<text text-anchor=\"start\" x=\"3745\" y=\"-974.8\" font-family=\"Helvetica,sans-Serif\" font-size=\"14.00\">samples = 42</text>\n<text text-anchor=\"start\" x=\"3743\" y=\"-959.8\" font-family=\"Helvetica,sans-Serif\" font-size=\"14.00\">value = [1, 41]</text>\n<text text-anchor=\"start\" x=\"3758.5\" y=\"-944.8\" font-family=\"Helvetica,sans-Serif\" font-size=\"14.00\">class = 1</text>\n</g>\n<!-- 154&#45;&gt;155 -->\n<g id=\"edge155\" class=\"edge\">\n<title>154&#45;&gt;155</title>\n<path fill=\"none\" stroke=\"black\" d=\"M3786,-1055.91C3786,-1047.65 3786,-1038.86 3786,-1030.3\"/>\n<polygon fill=\"black\" stroke=\"black\" points=\"3789.5,-1030.02 3786,-1020.02 3782.5,-1030.02 3789.5,-1030.02\"/>\n</g>\n<!-- 160 -->\n<g id=\"node161\" class=\"node\">\n<title>160</title>\n<path fill=\"#bddef6\" stroke=\"black\" d=\"M3970,-1020C3970,-1020 3896,-1020 3896,-1020 3890,-1020 3884,-1014 3884,-1008 3884,-1008 3884,-949 3884,-949 3884,-943 3890,-937 3896,-937 3896,-937 3970,-937 3970,-937 3976,-937 3982,-943 3982,-949 3982,-949 3982,-1008 3982,-1008 3982,-1014 3976,-1020 3970,-1020\"/>\n<text text-anchor=\"start\" x=\"3899.5\" y=\"-1004.8\" font-family=\"Helvetica,sans-Serif\" font-size=\"14.00\">BMI ≤ 41.0</text>\n<text text-anchor=\"start\" x=\"3901\" y=\"-989.8\" font-family=\"Helvetica,sans-Serif\" font-size=\"14.00\">gini = 0.48</text>\n<text text-anchor=\"start\" x=\"3892\" y=\"-974.8\" font-family=\"Helvetica,sans-Serif\" font-size=\"14.00\">samples = 10</text>\n<text text-anchor=\"start\" x=\"3893.5\" y=\"-959.8\" font-family=\"Helvetica,sans-Serif\" font-size=\"14.00\">value = [4, 6]</text>\n<text text-anchor=\"start\" x=\"3905.5\" y=\"-944.8\" font-family=\"Helvetica,sans-Serif\" font-size=\"14.00\">class = 1</text>\n</g>\n<!-- 154&#45;&gt;160 -->\n<g id=\"edge160\" class=\"edge\">\n<title>154&#45;&gt;160</title>\n<path fill=\"none\" stroke=\"black\" d=\"M3837,-1055.91C3849.5,-1045.96 3862.96,-1035.25 3875.73,-1025.08\"/>\n<polygon fill=\"black\" stroke=\"black\" points=\"3877.93,-1027.8 3883.58,-1018.84 3873.57,-1022.33 3877.93,-1027.8\"/>\n</g>\n<!-- 156 -->\n<g id=\"node157\" class=\"node\">\n<title>156</title>\n<path fill=\"#399de5\" stroke=\"black\" d=\"M3742,-893.5C3742,-893.5 3664,-893.5 3664,-893.5 3658,-893.5 3652,-887.5 3652,-881.5 3652,-881.5 3652,-837.5 3652,-837.5 3652,-831.5 3658,-825.5 3664,-825.5 3664,-825.5 3742,-825.5 3742,-825.5 3748,-825.5 3754,-831.5 3754,-837.5 3754,-837.5 3754,-881.5 3754,-881.5 3754,-887.5 3748,-893.5 3742,-893.5\"/>\n<text text-anchor=\"start\" x=\"3675\" y=\"-878.3\" font-family=\"Helvetica,sans-Serif\" font-size=\"14.00\">gini = 0.0</text>\n<text text-anchor=\"start\" x=\"3662\" y=\"-863.3\" font-family=\"Helvetica,sans-Serif\" font-size=\"14.00\">samples = 38</text>\n<text text-anchor=\"start\" x=\"3660\" y=\"-848.3\" font-family=\"Helvetica,sans-Serif\" font-size=\"14.00\">value = [0, 38]</text>\n<text text-anchor=\"start\" x=\"3675.5\" y=\"-833.3\" font-family=\"Helvetica,sans-Serif\" font-size=\"14.00\">class = 1</text>\n</g>\n<!-- 155&#45;&gt;156 -->\n<g id=\"edge156\" class=\"edge\">\n<title>155&#45;&gt;156</title>\n<path fill=\"none\" stroke=\"black\" d=\"M3757.2,-936.91C3749.22,-925.65 3740.54,-913.42 3732.52,-902.11\"/>\n<polygon fill=\"black\" stroke=\"black\" points=\"3735.17,-899.8 3726.53,-893.67 3729.46,-903.85 3735.17,-899.8\"/>\n</g>\n<!-- 157 -->\n<g id=\"node158\" class=\"node\">\n<title>157</title>\n<path fill=\"#7bbeee\" stroke=\"black\" d=\"M3855.5,-901C3855.5,-901 3784.5,-901 3784.5,-901 3778.5,-901 3772.5,-895 3772.5,-889 3772.5,-889 3772.5,-830 3772.5,-830 3772.5,-824 3778.5,-818 3784.5,-818 3784.5,-818 3855.5,-818 3855.5,-818 3861.5,-818 3867.5,-824 3867.5,-830 3867.5,-830 3867.5,-889 3867.5,-889 3867.5,-895 3861.5,-901 3855.5,-901\"/>\n<text text-anchor=\"start\" x=\"3787\" y=\"-885.8\" font-family=\"Helvetica,sans-Serif\" font-size=\"14.00\">Age ≤ 42.5</text>\n<text text-anchor=\"start\" x=\"3784.5\" y=\"-870.8\" font-family=\"Helvetica,sans-Serif\" font-size=\"14.00\">gini = 0.375</text>\n<text text-anchor=\"start\" x=\"3782.5\" y=\"-855.8\" font-family=\"Helvetica,sans-Serif\" font-size=\"14.00\">samples = 4</text>\n<text text-anchor=\"start\" x=\"3780.5\" y=\"-840.8\" font-family=\"Helvetica,sans-Serif\" font-size=\"14.00\">value = [1, 3]</text>\n<text text-anchor=\"start\" x=\"3792.5\" y=\"-825.8\" font-family=\"Helvetica,sans-Serif\" font-size=\"14.00\">class = 1</text>\n</g>\n<!-- 155&#45;&gt;157 -->\n<g id=\"edge157\" class=\"edge\">\n<title>155&#45;&gt;157</title>\n<path fill=\"none\" stroke=\"black\" d=\"M3797.8,-936.91C3800.25,-928.47 3802.86,-919.48 3805.4,-910.74\"/>\n<polygon fill=\"black\" stroke=\"black\" points=\"3808.8,-911.6 3808.22,-901.02 3802.07,-909.65 3808.8,-911.6\"/>\n</g>\n<!-- 158 -->\n<g id=\"node159\" class=\"node\">\n<title>158</title>\n<path fill=\"#e58139\" stroke=\"black\" d=\"M3800.5,-774.5C3800.5,-774.5 3729.5,-774.5 3729.5,-774.5 3723.5,-774.5 3717.5,-768.5 3717.5,-762.5 3717.5,-762.5 3717.5,-718.5 3717.5,-718.5 3717.5,-712.5 3723.5,-706.5 3729.5,-706.5 3729.5,-706.5 3800.5,-706.5 3800.5,-706.5 3806.5,-706.5 3812.5,-712.5 3812.5,-718.5 3812.5,-718.5 3812.5,-762.5 3812.5,-762.5 3812.5,-768.5 3806.5,-774.5 3800.5,-774.5\"/>\n<text text-anchor=\"start\" x=\"3737\" y=\"-759.3\" font-family=\"Helvetica,sans-Serif\" font-size=\"14.00\">gini = 0.0</text>\n<text text-anchor=\"start\" x=\"3727.5\" y=\"-744.3\" font-family=\"Helvetica,sans-Serif\" font-size=\"14.00\">samples = 1</text>\n<text text-anchor=\"start\" x=\"3725.5\" y=\"-729.3\" font-family=\"Helvetica,sans-Serif\" font-size=\"14.00\">value = [1, 0]</text>\n<text text-anchor=\"start\" x=\"3737.5\" y=\"-714.3\" font-family=\"Helvetica,sans-Serif\" font-size=\"14.00\">class = 0</text>\n</g>\n<!-- 157&#45;&gt;158 -->\n<g id=\"edge158\" class=\"edge\">\n<title>157&#45;&gt;158</title>\n<path fill=\"none\" stroke=\"black\" d=\"M3800.92,-817.91C3795.73,-806.87 3790.1,-794.9 3784.87,-783.77\"/>\n<polygon fill=\"black\" stroke=\"black\" points=\"3788.01,-782.23 3780.59,-774.67 3781.68,-785.21 3788.01,-782.23\"/>\n</g>\n<!-- 159 -->\n<g id=\"node160\" class=\"node\">\n<title>159</title>\n<path fill=\"#399de5\" stroke=\"black\" d=\"M3913.5,-774.5C3913.5,-774.5 3842.5,-774.5 3842.5,-774.5 3836.5,-774.5 3830.5,-768.5 3830.5,-762.5 3830.5,-762.5 3830.5,-718.5 3830.5,-718.5 3830.5,-712.5 3836.5,-706.5 3842.5,-706.5 3842.5,-706.5 3913.5,-706.5 3913.5,-706.5 3919.5,-706.5 3925.5,-712.5 3925.5,-718.5 3925.5,-718.5 3925.5,-762.5 3925.5,-762.5 3925.5,-768.5 3919.5,-774.5 3913.5,-774.5\"/>\n<text text-anchor=\"start\" x=\"3850\" y=\"-759.3\" font-family=\"Helvetica,sans-Serif\" font-size=\"14.00\">gini = 0.0</text>\n<text text-anchor=\"start\" x=\"3840.5\" y=\"-744.3\" font-family=\"Helvetica,sans-Serif\" font-size=\"14.00\">samples = 3</text>\n<text text-anchor=\"start\" x=\"3838.5\" y=\"-729.3\" font-family=\"Helvetica,sans-Serif\" font-size=\"14.00\">value = [0, 3]</text>\n<text text-anchor=\"start\" x=\"3850.5\" y=\"-714.3\" font-family=\"Helvetica,sans-Serif\" font-size=\"14.00\">class = 1</text>\n</g>\n<!-- 157&#45;&gt;159 -->\n<g id=\"edge159\" class=\"edge\">\n<title>157&#45;&gt;159</title>\n<path fill=\"none\" stroke=\"black\" d=\"M3840.12,-817.91C3845.59,-806.87 3851.53,-794.9 3857.04,-783.77\"/>\n<polygon fill=\"black\" stroke=\"black\" points=\"3860.25,-785.18 3861.56,-774.67 3853.98,-782.07 3860.25,-785.18\"/>\n</g>\n<!-- 161 -->\n<g id=\"node162\" class=\"node\">\n<title>161</title>\n<path fill=\"#e58139\" stroke=\"black\" d=\"M3968.5,-893.5C3968.5,-893.5 3897.5,-893.5 3897.5,-893.5 3891.5,-893.5 3885.5,-887.5 3885.5,-881.5 3885.5,-881.5 3885.5,-837.5 3885.5,-837.5 3885.5,-831.5 3891.5,-825.5 3897.5,-825.5 3897.5,-825.5 3968.5,-825.5 3968.5,-825.5 3974.5,-825.5 3980.5,-831.5 3980.5,-837.5 3980.5,-837.5 3980.5,-881.5 3980.5,-881.5 3980.5,-887.5 3974.5,-893.5 3968.5,-893.5\"/>\n<text text-anchor=\"start\" x=\"3905\" y=\"-878.3\" font-family=\"Helvetica,sans-Serif\" font-size=\"14.00\">gini = 0.0</text>\n<text text-anchor=\"start\" x=\"3895.5\" y=\"-863.3\" font-family=\"Helvetica,sans-Serif\" font-size=\"14.00\">samples = 3</text>\n<text text-anchor=\"start\" x=\"3893.5\" y=\"-848.3\" font-family=\"Helvetica,sans-Serif\" font-size=\"14.00\">value = [3, 0]</text>\n<text text-anchor=\"start\" x=\"3905.5\" y=\"-833.3\" font-family=\"Helvetica,sans-Serif\" font-size=\"14.00\">class = 0</text>\n</g>\n<!-- 160&#45;&gt;161 -->\n<g id=\"edge161\" class=\"edge\">\n<title>160&#45;&gt;161</title>\n<path fill=\"none\" stroke=\"black\" d=\"M3933,-936.91C3933,-926.2 3933,-914.62 3933,-903.78\"/>\n<polygon fill=\"black\" stroke=\"black\" points=\"3936.5,-903.67 3933,-893.67 3929.5,-903.67 3936.5,-903.67\"/>\n</g>\n<!-- 162 -->\n<g id=\"node163\" class=\"node\">\n<title>162</title>\n<path fill=\"#5aade9\" stroke=\"black\" d=\"M4091,-901C4091,-901 4011,-901 4011,-901 4005,-901 3999,-895 3999,-889 3999,-889 3999,-830 3999,-830 3999,-824 4005,-818 4011,-818 4011,-818 4091,-818 4091,-818 4097,-818 4103,-824 4103,-830 4103,-830 4103,-889 4103,-889 4103,-895 4097,-901 4091,-901\"/>\n<text text-anchor=\"start\" x=\"4007\" y=\"-885.8\" font-family=\"Helvetica,sans-Serif\" font-size=\"14.00\">Insulin ≤ 252.5</text>\n<text text-anchor=\"start\" x=\"4015.5\" y=\"-870.8\" font-family=\"Helvetica,sans-Serif\" font-size=\"14.00\">gini = 0.245</text>\n<text text-anchor=\"start\" x=\"4013.5\" y=\"-855.8\" font-family=\"Helvetica,sans-Serif\" font-size=\"14.00\">samples = 7</text>\n<text text-anchor=\"start\" x=\"4011.5\" y=\"-840.8\" font-family=\"Helvetica,sans-Serif\" font-size=\"14.00\">value = [1, 6]</text>\n<text text-anchor=\"start\" x=\"4023.5\" y=\"-825.8\" font-family=\"Helvetica,sans-Serif\" font-size=\"14.00\">class = 1</text>\n</g>\n<!-- 160&#45;&gt;162 -->\n<g id=\"edge162\" class=\"edge\">\n<title>160&#45;&gt;162</title>\n<path fill=\"none\" stroke=\"black\" d=\"M3973.94,-936.91C3983.28,-927.65 3993.28,-917.73 4002.88,-908.21\"/>\n<polygon fill=\"black\" stroke=\"black\" points=\"4005.5,-910.55 4010.13,-901.02 4000.57,-905.58 4005.5,-910.55\"/>\n</g>\n<!-- 163 -->\n<g id=\"node164\" class=\"node\">\n<title>163</title>\n<path fill=\"#399de5\" stroke=\"black\" d=\"M4028.5,-774.5C4028.5,-774.5 3957.5,-774.5 3957.5,-774.5 3951.5,-774.5 3945.5,-768.5 3945.5,-762.5 3945.5,-762.5 3945.5,-718.5 3945.5,-718.5 3945.5,-712.5 3951.5,-706.5 3957.5,-706.5 3957.5,-706.5 4028.5,-706.5 4028.5,-706.5 4034.5,-706.5 4040.5,-712.5 4040.5,-718.5 4040.5,-718.5 4040.5,-762.5 4040.5,-762.5 4040.5,-768.5 4034.5,-774.5 4028.5,-774.5\"/>\n<text text-anchor=\"start\" x=\"3965\" y=\"-759.3\" font-family=\"Helvetica,sans-Serif\" font-size=\"14.00\">gini = 0.0</text>\n<text text-anchor=\"start\" x=\"3955.5\" y=\"-744.3\" font-family=\"Helvetica,sans-Serif\" font-size=\"14.00\">samples = 6</text>\n<text text-anchor=\"start\" x=\"3953.5\" y=\"-729.3\" font-family=\"Helvetica,sans-Serif\" font-size=\"14.00\">value = [0, 6]</text>\n<text text-anchor=\"start\" x=\"3965.5\" y=\"-714.3\" font-family=\"Helvetica,sans-Serif\" font-size=\"14.00\">class = 1</text>\n</g>\n<!-- 162&#45;&gt;163 -->\n<g id=\"edge163\" class=\"edge\">\n<title>162&#45;&gt;163</title>\n<path fill=\"none\" stroke=\"black\" d=\"M4030.88,-817.91C4025.41,-806.87 4019.47,-794.9 4013.96,-783.77\"/>\n<polygon fill=\"black\" stroke=\"black\" points=\"4017.02,-782.07 4009.44,-774.67 4010.75,-785.18 4017.02,-782.07\"/>\n</g>\n<!-- 164 -->\n<g id=\"node165\" class=\"node\">\n<title>164</title>\n<path fill=\"#e58139\" stroke=\"black\" d=\"M4141.5,-774.5C4141.5,-774.5 4070.5,-774.5 4070.5,-774.5 4064.5,-774.5 4058.5,-768.5 4058.5,-762.5 4058.5,-762.5 4058.5,-718.5 4058.5,-718.5 4058.5,-712.5 4064.5,-706.5 4070.5,-706.5 4070.5,-706.5 4141.5,-706.5 4141.5,-706.5 4147.5,-706.5 4153.5,-712.5 4153.5,-718.5 4153.5,-718.5 4153.5,-762.5 4153.5,-762.5 4153.5,-768.5 4147.5,-774.5 4141.5,-774.5\"/>\n<text text-anchor=\"start\" x=\"4078\" y=\"-759.3\" font-family=\"Helvetica,sans-Serif\" font-size=\"14.00\">gini = 0.0</text>\n<text text-anchor=\"start\" x=\"4068.5\" y=\"-744.3\" font-family=\"Helvetica,sans-Serif\" font-size=\"14.00\">samples = 1</text>\n<text text-anchor=\"start\" x=\"4066.5\" y=\"-729.3\" font-family=\"Helvetica,sans-Serif\" font-size=\"14.00\">value = [1, 0]</text>\n<text text-anchor=\"start\" x=\"4078.5\" y=\"-714.3\" font-family=\"Helvetica,sans-Serif\" font-size=\"14.00\">class = 0</text>\n</g>\n<!-- 162&#45;&gt;164 -->\n<g id=\"edge164\" class=\"edge\">\n<title>162&#45;&gt;164</title>\n<path fill=\"none\" stroke=\"black\" d=\"M4070.08,-817.91C4075.27,-806.87 4080.9,-794.9 4086.13,-783.77\"/>\n<polygon fill=\"black\" stroke=\"black\" points=\"4089.32,-785.21 4090.41,-774.67 4082.99,-782.23 4089.32,-785.21\"/>\n</g>\n</g>\n</svg>\n",
            "text/plain": [
              "<graphviz.sources.Source at 0x795e04f2b0d0>"
            ]
          },
          "metadata": {},
          "execution_count": 34
        }
      ]
    },
    {
      "cell_type": "code",
      "source": [
        "# input data\n",
        "scaler = StandardScaler()\n",
        "scaler.fit(X)\n",
        "\n",
        "input_data  =(6,48,62,35,0,33.6,0.627,50)\n",
        "\n",
        "array_data = np.array(input_data)\n",
        "shape_data = array_data.reshape(1, -1)\n",
        "data_std = scaler.transform(shape_data)\n",
        "print(data_std)\n",
        "\n",
        "prediction = dt.predict(data_std)\n",
        "if(prediction[0] == 0):\n",
        "   print('Tidak terdeteksi diabetes')\n",
        "else :\n",
        "   print('Terdeteksi Diabetes')"
      ],
      "metadata": {
        "colab": {
          "base_uri": "https://localhost:8080/"
        },
        "id": "WMSqqsxxtj8j",
        "outputId": "2856c144-1f94-4bf5-93e6-9880b4394ad1"
      },
      "execution_count": null,
      "outputs": [
        {
          "output_type": "stream",
          "name": "stdout",
          "text": [
            "[[ 0.65735547 -2.41107468 -0.84086539  0.92321895 -0.80526561  0.21028523\n",
            "   0.60651604  1.47921983]]\n",
            "Tidak terdeteksi diabetes\n"
          ]
        },
        {
          "output_type": "stream",
          "name": "stderr",
          "text": [
            "/usr/local/lib/python3.10/dist-packages/sklearn/base.py:439: UserWarning: X does not have valid feature names, but StandardScaler was fitted with feature names\n",
            "  warnings.warn(\n",
            "/usr/local/lib/python3.10/dist-packages/sklearn/base.py:439: UserWarning: X does not have valid feature names, but DecisionTreeClassifier was fitted with feature names\n",
            "  warnings.warn(\n"
          ]
        }
      ]
    },
    {
      "cell_type": "code",
      "source": [
        "# tree_rules = tree.export_text(dt, feature_names=list(X_train.columns))\n",
        "# print(tree_rules)"
      ],
      "metadata": {
        "id": "HYO1zCMGB9gK"
      },
      "execution_count": null,
      "outputs": []
    },
    {
      "cell_type": "code",
      "source": [
        "# def parse_decision_tree(tree_text):\n",
        "#     lines = tree_text.split(\"\\n\")\n",
        "#     for line in lines:\n",
        "#         if \"class\" in line:\n",
        "#             print(\"    \" * line.count(\"|\") + line.split(\"|--- class: \")[-1])\n",
        "#             continue\n",
        "#         indent_level = line.count(\"|\")\n",
        "#         condition = line.split(\"|---\")[-1].strip()\n",
        "#         if \" \" in condition:\n",
        "#             print(\"    \" * indent_level + f\"if {condition}:\")\n",
        "#         else:\n",
        "#             print(\"    \" * indent_level + f\"else:\")\n",
        "#     print(\"    \" * (indent_level + 1) + \"return prediction\")\n",
        "\n",
        "# # Mengonversi dan mencetak struktur if-else\n",
        "# parse_decision_tree(tree_rules)"
      ],
      "metadata": {
        "id": "5QeOj4ycFq7q"
      },
      "execution_count": null,
      "outputs": []
    },
    {
      "cell_type": "code",
      "source": [
        "import pickle"
      ],
      "metadata": {
        "id": "5SsVgNFPvy-S"
      },
      "execution_count": null,
      "outputs": []
    },
    {
      "cell_type": "code",
      "source": [
        "filename = 'diabetes_model.sav'\n",
        "pickle.dump(dt, open(filename, 'wb'))"
      ],
      "metadata": {
        "id": "q6FYTIRiv2OB"
      },
      "execution_count": null,
      "outputs": []
    }
  ]
}